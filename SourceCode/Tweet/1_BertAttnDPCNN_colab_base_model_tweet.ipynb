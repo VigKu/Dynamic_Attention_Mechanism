{
  "nbformat": 4,
  "nbformat_minor": 5,
  "metadata": {
    "kernelspec": {
      "display_name": "Pytorch",
      "language": "python",
      "name": "pytorch"
    },
    "language_info": {
      "codemirror_mode": {
        "name": "ipython",
        "version": 3
      },
      "file_extension": ".py",
      "mimetype": "text/x-python",
      "name": "python",
      "nbconvert_exporter": "python",
      "pygments_lexer": "ipython3",
      "version": "3.7.8"
    },
    "colab": {
      "name": "1_BertAttnDPCNN4_colab_Noattention_False_tweets Exp3.ipynb",
      "provenance": [],
      "collapsed_sections": []
    },
    "accelerator": "GPU",
    "widgets": {
      "application/vnd.jupyter.widget-state+json": {
        "f28d051e08654dbe84cd8ada9fcaf01c": {
          "model_module": "@jupyter-widgets/controls",
          "model_name": "HBoxModel",
          "state": {
            "_view_name": "HBoxView",
            "_dom_classes": [],
            "_model_name": "HBoxModel",
            "_view_module": "@jupyter-widgets/controls",
            "_model_module_version": "1.5.0",
            "_view_count": null,
            "_view_module_version": "1.5.0",
            "box_style": "",
            "layout": "IPY_MODEL_ed9ec4cc0cec4f4097c49fb2a48f5ff5",
            "_model_module": "@jupyter-widgets/controls",
            "children": [
              "IPY_MODEL_b0ed1aa4c0064de08f53f8f7ac5083a4",
              "IPY_MODEL_f1711b1251e9462391c166110fd8acdd"
            ]
          }
        },
        "ed9ec4cc0cec4f4097c49fb2a48f5ff5": {
          "model_module": "@jupyter-widgets/base",
          "model_name": "LayoutModel",
          "state": {
            "_view_name": "LayoutView",
            "grid_template_rows": null,
            "right": null,
            "justify_content": null,
            "_view_module": "@jupyter-widgets/base",
            "overflow": null,
            "_model_module_version": "1.2.0",
            "_view_count": null,
            "flex_flow": null,
            "width": null,
            "min_width": null,
            "border": null,
            "align_items": null,
            "bottom": null,
            "_model_module": "@jupyter-widgets/base",
            "top": null,
            "grid_column": null,
            "overflow_y": null,
            "overflow_x": null,
            "grid_auto_flow": null,
            "grid_area": null,
            "grid_template_columns": null,
            "flex": null,
            "_model_name": "LayoutModel",
            "justify_items": null,
            "grid_row": null,
            "max_height": null,
            "align_content": null,
            "visibility": null,
            "align_self": null,
            "height": null,
            "min_height": null,
            "padding": null,
            "grid_auto_rows": null,
            "grid_gap": null,
            "max_width": null,
            "order": null,
            "_view_module_version": "1.2.0",
            "grid_template_areas": null,
            "object_position": null,
            "object_fit": null,
            "grid_auto_columns": null,
            "margin": null,
            "display": null,
            "left": null
          }
        },
        "b0ed1aa4c0064de08f53f8f7ac5083a4": {
          "model_module": "@jupyter-widgets/controls",
          "model_name": "FloatProgressModel",
          "state": {
            "_view_name": "ProgressView",
            "style": "IPY_MODEL_9c7653b54dc445aea82d012945ccd4ec",
            "_dom_classes": [],
            "description": "Downloading: 100%",
            "_model_name": "FloatProgressModel",
            "bar_style": "success",
            "max": 570,
            "_view_module": "@jupyter-widgets/controls",
            "_model_module_version": "1.5.0",
            "value": 570,
            "_view_count": null,
            "_view_module_version": "1.5.0",
            "orientation": "horizontal",
            "min": 0,
            "description_tooltip": null,
            "_model_module": "@jupyter-widgets/controls",
            "layout": "IPY_MODEL_ca3dc8f79f0a4a3381e2e45c3f63c95d"
          }
        },
        "f1711b1251e9462391c166110fd8acdd": {
          "model_module": "@jupyter-widgets/controls",
          "model_name": "HTMLModel",
          "state": {
            "_view_name": "HTMLView",
            "style": "IPY_MODEL_ed9dfccb349e49f1a1416a78d17f392e",
            "_dom_classes": [],
            "description": "",
            "_model_name": "HTMLModel",
            "placeholder": "​",
            "_view_module": "@jupyter-widgets/controls",
            "_model_module_version": "1.5.0",
            "value": " 570/570 [00:10&lt;00:00, 55.7B/s]",
            "_view_count": null,
            "_view_module_version": "1.5.0",
            "description_tooltip": null,
            "_model_module": "@jupyter-widgets/controls",
            "layout": "IPY_MODEL_02539e83091f4e948d2837d3c07acadc"
          }
        },
        "9c7653b54dc445aea82d012945ccd4ec": {
          "model_module": "@jupyter-widgets/controls",
          "model_name": "ProgressStyleModel",
          "state": {
            "_view_name": "StyleView",
            "_model_name": "ProgressStyleModel",
            "description_width": "initial",
            "_view_module": "@jupyter-widgets/base",
            "_model_module_version": "1.5.0",
            "_view_count": null,
            "_view_module_version": "1.2.0",
            "bar_color": null,
            "_model_module": "@jupyter-widgets/controls"
          }
        },
        "ca3dc8f79f0a4a3381e2e45c3f63c95d": {
          "model_module": "@jupyter-widgets/base",
          "model_name": "LayoutModel",
          "state": {
            "_view_name": "LayoutView",
            "grid_template_rows": null,
            "right": null,
            "justify_content": null,
            "_view_module": "@jupyter-widgets/base",
            "overflow": null,
            "_model_module_version": "1.2.0",
            "_view_count": null,
            "flex_flow": null,
            "width": null,
            "min_width": null,
            "border": null,
            "align_items": null,
            "bottom": null,
            "_model_module": "@jupyter-widgets/base",
            "top": null,
            "grid_column": null,
            "overflow_y": null,
            "overflow_x": null,
            "grid_auto_flow": null,
            "grid_area": null,
            "grid_template_columns": null,
            "flex": null,
            "_model_name": "LayoutModel",
            "justify_items": null,
            "grid_row": null,
            "max_height": null,
            "align_content": null,
            "visibility": null,
            "align_self": null,
            "height": null,
            "min_height": null,
            "padding": null,
            "grid_auto_rows": null,
            "grid_gap": null,
            "max_width": null,
            "order": null,
            "_view_module_version": "1.2.0",
            "grid_template_areas": null,
            "object_position": null,
            "object_fit": null,
            "grid_auto_columns": null,
            "margin": null,
            "display": null,
            "left": null
          }
        },
        "ed9dfccb349e49f1a1416a78d17f392e": {
          "model_module": "@jupyter-widgets/controls",
          "model_name": "DescriptionStyleModel",
          "state": {
            "_view_name": "StyleView",
            "_model_name": "DescriptionStyleModel",
            "description_width": "",
            "_view_module": "@jupyter-widgets/base",
            "_model_module_version": "1.5.0",
            "_view_count": null,
            "_view_module_version": "1.2.0",
            "_model_module": "@jupyter-widgets/controls"
          }
        },
        "02539e83091f4e948d2837d3c07acadc": {
          "model_module": "@jupyter-widgets/base",
          "model_name": "LayoutModel",
          "state": {
            "_view_name": "LayoutView",
            "grid_template_rows": null,
            "right": null,
            "justify_content": null,
            "_view_module": "@jupyter-widgets/base",
            "overflow": null,
            "_model_module_version": "1.2.0",
            "_view_count": null,
            "flex_flow": null,
            "width": null,
            "min_width": null,
            "border": null,
            "align_items": null,
            "bottom": null,
            "_model_module": "@jupyter-widgets/base",
            "top": null,
            "grid_column": null,
            "overflow_y": null,
            "overflow_x": null,
            "grid_auto_flow": null,
            "grid_area": null,
            "grid_template_columns": null,
            "flex": null,
            "_model_name": "LayoutModel",
            "justify_items": null,
            "grid_row": null,
            "max_height": null,
            "align_content": null,
            "visibility": null,
            "align_self": null,
            "height": null,
            "min_height": null,
            "padding": null,
            "grid_auto_rows": null,
            "grid_gap": null,
            "max_width": null,
            "order": null,
            "_view_module_version": "1.2.0",
            "grid_template_areas": null,
            "object_position": null,
            "object_fit": null,
            "grid_auto_columns": null,
            "margin": null,
            "display": null,
            "left": null
          }
        },
        "be69baca06184548a182391f7a3460d8": {
          "model_module": "@jupyter-widgets/controls",
          "model_name": "HBoxModel",
          "state": {
            "_view_name": "HBoxView",
            "_dom_classes": [],
            "_model_name": "HBoxModel",
            "_view_module": "@jupyter-widgets/controls",
            "_model_module_version": "1.5.0",
            "_view_count": null,
            "_view_module_version": "1.5.0",
            "box_style": "",
            "layout": "IPY_MODEL_d724b9e7051c4c1f9c91947e8a63662b",
            "_model_module": "@jupyter-widgets/controls",
            "children": [
              "IPY_MODEL_21544276335549c294e17fe1c2a13b56",
              "IPY_MODEL_b1f2c37fbf9942a7abfed532383c6fd0"
            ]
          }
        },
        "d724b9e7051c4c1f9c91947e8a63662b": {
          "model_module": "@jupyter-widgets/base",
          "model_name": "LayoutModel",
          "state": {
            "_view_name": "LayoutView",
            "grid_template_rows": null,
            "right": null,
            "justify_content": null,
            "_view_module": "@jupyter-widgets/base",
            "overflow": null,
            "_model_module_version": "1.2.0",
            "_view_count": null,
            "flex_flow": null,
            "width": null,
            "min_width": null,
            "border": null,
            "align_items": null,
            "bottom": null,
            "_model_module": "@jupyter-widgets/base",
            "top": null,
            "grid_column": null,
            "overflow_y": null,
            "overflow_x": null,
            "grid_auto_flow": null,
            "grid_area": null,
            "grid_template_columns": null,
            "flex": null,
            "_model_name": "LayoutModel",
            "justify_items": null,
            "grid_row": null,
            "max_height": null,
            "align_content": null,
            "visibility": null,
            "align_self": null,
            "height": null,
            "min_height": null,
            "padding": null,
            "grid_auto_rows": null,
            "grid_gap": null,
            "max_width": null,
            "order": null,
            "_view_module_version": "1.2.0",
            "grid_template_areas": null,
            "object_position": null,
            "object_fit": null,
            "grid_auto_columns": null,
            "margin": null,
            "display": null,
            "left": null
          }
        },
        "21544276335549c294e17fe1c2a13b56": {
          "model_module": "@jupyter-widgets/controls",
          "model_name": "FloatProgressModel",
          "state": {
            "_view_name": "ProgressView",
            "style": "IPY_MODEL_760041bd95b249d4a7defbe079cc5225",
            "_dom_classes": [],
            "description": "Downloading: 100%",
            "_model_name": "FloatProgressModel",
            "bar_style": "success",
            "max": 440473133,
            "_view_module": "@jupyter-widgets/controls",
            "_model_module_version": "1.5.0",
            "value": 440473133,
            "_view_count": null,
            "_view_module_version": "1.5.0",
            "orientation": "horizontal",
            "min": 0,
            "description_tooltip": null,
            "_model_module": "@jupyter-widgets/controls",
            "layout": "IPY_MODEL_8d1764ae122047b195d97984fc9213e0"
          }
        },
        "b1f2c37fbf9942a7abfed532383c6fd0": {
          "model_module": "@jupyter-widgets/controls",
          "model_name": "HTMLModel",
          "state": {
            "_view_name": "HTMLView",
            "style": "IPY_MODEL_c78db19dcae04b3783524692f72fcb5d",
            "_dom_classes": [],
            "description": "",
            "_model_name": "HTMLModel",
            "placeholder": "​",
            "_view_module": "@jupyter-widgets/controls",
            "_model_module_version": "1.5.0",
            "value": " 440M/440M [00:09&lt;00:00, 45.0MB/s]",
            "_view_count": null,
            "_view_module_version": "1.5.0",
            "description_tooltip": null,
            "_model_module": "@jupyter-widgets/controls",
            "layout": "IPY_MODEL_de8f5d449116481086bbffde02344c65"
          }
        },
        "760041bd95b249d4a7defbe079cc5225": {
          "model_module": "@jupyter-widgets/controls",
          "model_name": "ProgressStyleModel",
          "state": {
            "_view_name": "StyleView",
            "_model_name": "ProgressStyleModel",
            "description_width": "initial",
            "_view_module": "@jupyter-widgets/base",
            "_model_module_version": "1.5.0",
            "_view_count": null,
            "_view_module_version": "1.2.0",
            "bar_color": null,
            "_model_module": "@jupyter-widgets/controls"
          }
        },
        "8d1764ae122047b195d97984fc9213e0": {
          "model_module": "@jupyter-widgets/base",
          "model_name": "LayoutModel",
          "state": {
            "_view_name": "LayoutView",
            "grid_template_rows": null,
            "right": null,
            "justify_content": null,
            "_view_module": "@jupyter-widgets/base",
            "overflow": null,
            "_model_module_version": "1.2.0",
            "_view_count": null,
            "flex_flow": null,
            "width": null,
            "min_width": null,
            "border": null,
            "align_items": null,
            "bottom": null,
            "_model_module": "@jupyter-widgets/base",
            "top": null,
            "grid_column": null,
            "overflow_y": null,
            "overflow_x": null,
            "grid_auto_flow": null,
            "grid_area": null,
            "grid_template_columns": null,
            "flex": null,
            "_model_name": "LayoutModel",
            "justify_items": null,
            "grid_row": null,
            "max_height": null,
            "align_content": null,
            "visibility": null,
            "align_self": null,
            "height": null,
            "min_height": null,
            "padding": null,
            "grid_auto_rows": null,
            "grid_gap": null,
            "max_width": null,
            "order": null,
            "_view_module_version": "1.2.0",
            "grid_template_areas": null,
            "object_position": null,
            "object_fit": null,
            "grid_auto_columns": null,
            "margin": null,
            "display": null,
            "left": null
          }
        },
        "c78db19dcae04b3783524692f72fcb5d": {
          "model_module": "@jupyter-widgets/controls",
          "model_name": "DescriptionStyleModel",
          "state": {
            "_view_name": "StyleView",
            "_model_name": "DescriptionStyleModel",
            "description_width": "",
            "_view_module": "@jupyter-widgets/base",
            "_model_module_version": "1.5.0",
            "_view_count": null,
            "_view_module_version": "1.2.0",
            "_model_module": "@jupyter-widgets/controls"
          }
        },
        "de8f5d449116481086bbffde02344c65": {
          "model_module": "@jupyter-widgets/base",
          "model_name": "LayoutModel",
          "state": {
            "_view_name": "LayoutView",
            "grid_template_rows": null,
            "right": null,
            "justify_content": null,
            "_view_module": "@jupyter-widgets/base",
            "overflow": null,
            "_model_module_version": "1.2.0",
            "_view_count": null,
            "flex_flow": null,
            "width": null,
            "min_width": null,
            "border": null,
            "align_items": null,
            "bottom": null,
            "_model_module": "@jupyter-widgets/base",
            "top": null,
            "grid_column": null,
            "overflow_y": null,
            "overflow_x": null,
            "grid_auto_flow": null,
            "grid_area": null,
            "grid_template_columns": null,
            "flex": null,
            "_model_name": "LayoutModel",
            "justify_items": null,
            "grid_row": null,
            "max_height": null,
            "align_content": null,
            "visibility": null,
            "align_self": null,
            "height": null,
            "min_height": null,
            "padding": null,
            "grid_auto_rows": null,
            "grid_gap": null,
            "max_width": null,
            "order": null,
            "_view_module_version": "1.2.0",
            "grid_template_areas": null,
            "object_position": null,
            "object_fit": null,
            "grid_auto_columns": null,
            "margin": null,
            "display": null,
            "left": null
          }
        },
        "3fa067d1faa343968f8712754eca15c0": {
          "model_module": "@jupyter-widgets/controls",
          "model_name": "HBoxModel",
          "state": {
            "_view_name": "HBoxView",
            "_dom_classes": [],
            "_model_name": "HBoxModel",
            "_view_module": "@jupyter-widgets/controls",
            "_model_module_version": "1.5.0",
            "_view_count": null,
            "_view_module_version": "1.5.0",
            "box_style": "",
            "layout": "IPY_MODEL_f633a41d428042a5b1e0384643efe23d",
            "_model_module": "@jupyter-widgets/controls",
            "children": [
              "IPY_MODEL_2648fdd1727b41ee9f8b6853181ffc43",
              "IPY_MODEL_046ced6c921743018edd03aabc38b071"
            ]
          }
        },
        "f633a41d428042a5b1e0384643efe23d": {
          "model_module": "@jupyter-widgets/base",
          "model_name": "LayoutModel",
          "state": {
            "_view_name": "LayoutView",
            "grid_template_rows": null,
            "right": null,
            "justify_content": null,
            "_view_module": "@jupyter-widgets/base",
            "overflow": null,
            "_model_module_version": "1.2.0",
            "_view_count": null,
            "flex_flow": null,
            "width": null,
            "min_width": null,
            "border": null,
            "align_items": null,
            "bottom": null,
            "_model_module": "@jupyter-widgets/base",
            "top": null,
            "grid_column": null,
            "overflow_y": null,
            "overflow_x": null,
            "grid_auto_flow": null,
            "grid_area": null,
            "grid_template_columns": null,
            "flex": null,
            "_model_name": "LayoutModel",
            "justify_items": null,
            "grid_row": null,
            "max_height": null,
            "align_content": null,
            "visibility": null,
            "align_self": null,
            "height": null,
            "min_height": null,
            "padding": null,
            "grid_auto_rows": null,
            "grid_gap": null,
            "max_width": null,
            "order": null,
            "_view_module_version": "1.2.0",
            "grid_template_areas": null,
            "object_position": null,
            "object_fit": null,
            "grid_auto_columns": null,
            "margin": null,
            "display": null,
            "left": null
          }
        },
        "2648fdd1727b41ee9f8b6853181ffc43": {
          "model_module": "@jupyter-widgets/controls",
          "model_name": "FloatProgressModel",
          "state": {
            "_view_name": "ProgressView",
            "style": "IPY_MODEL_9c5333f518da4c2e9ade6da8b2f4b9d2",
            "_dom_classes": [],
            "description": "Downloading: 100%",
            "_model_name": "FloatProgressModel",
            "bar_style": "success",
            "max": 231508,
            "_view_module": "@jupyter-widgets/controls",
            "_model_module_version": "1.5.0",
            "value": 231508,
            "_view_count": null,
            "_view_module_version": "1.5.0",
            "orientation": "horizontal",
            "min": 0,
            "description_tooltip": null,
            "_model_module": "@jupyter-widgets/controls",
            "layout": "IPY_MODEL_c98039fb6a5c4f9fbfe47a909cb28413"
          }
        },
        "046ced6c921743018edd03aabc38b071": {
          "model_module": "@jupyter-widgets/controls",
          "model_name": "HTMLModel",
          "state": {
            "_view_name": "HTMLView",
            "style": "IPY_MODEL_2633275729bc4154b5fcacb7532aa225",
            "_dom_classes": [],
            "description": "",
            "_model_name": "HTMLModel",
            "placeholder": "​",
            "_view_module": "@jupyter-widgets/controls",
            "_model_module_version": "1.5.0",
            "value": " 232k/232k [00:00&lt;00:00, 1.02MB/s]",
            "_view_count": null,
            "_view_module_version": "1.5.0",
            "description_tooltip": null,
            "_model_module": "@jupyter-widgets/controls",
            "layout": "IPY_MODEL_954c8aac50f54c0fbbcb8b5d87853695"
          }
        },
        "9c5333f518da4c2e9ade6da8b2f4b9d2": {
          "model_module": "@jupyter-widgets/controls",
          "model_name": "ProgressStyleModel",
          "state": {
            "_view_name": "StyleView",
            "_model_name": "ProgressStyleModel",
            "description_width": "initial",
            "_view_module": "@jupyter-widgets/base",
            "_model_module_version": "1.5.0",
            "_view_count": null,
            "_view_module_version": "1.2.0",
            "bar_color": null,
            "_model_module": "@jupyter-widgets/controls"
          }
        },
        "c98039fb6a5c4f9fbfe47a909cb28413": {
          "model_module": "@jupyter-widgets/base",
          "model_name": "LayoutModel",
          "state": {
            "_view_name": "LayoutView",
            "grid_template_rows": null,
            "right": null,
            "justify_content": null,
            "_view_module": "@jupyter-widgets/base",
            "overflow": null,
            "_model_module_version": "1.2.0",
            "_view_count": null,
            "flex_flow": null,
            "width": null,
            "min_width": null,
            "border": null,
            "align_items": null,
            "bottom": null,
            "_model_module": "@jupyter-widgets/base",
            "top": null,
            "grid_column": null,
            "overflow_y": null,
            "overflow_x": null,
            "grid_auto_flow": null,
            "grid_area": null,
            "grid_template_columns": null,
            "flex": null,
            "_model_name": "LayoutModel",
            "justify_items": null,
            "grid_row": null,
            "max_height": null,
            "align_content": null,
            "visibility": null,
            "align_self": null,
            "height": null,
            "min_height": null,
            "padding": null,
            "grid_auto_rows": null,
            "grid_gap": null,
            "max_width": null,
            "order": null,
            "_view_module_version": "1.2.0",
            "grid_template_areas": null,
            "object_position": null,
            "object_fit": null,
            "grid_auto_columns": null,
            "margin": null,
            "display": null,
            "left": null
          }
        },
        "2633275729bc4154b5fcacb7532aa225": {
          "model_module": "@jupyter-widgets/controls",
          "model_name": "DescriptionStyleModel",
          "state": {
            "_view_name": "StyleView",
            "_model_name": "DescriptionStyleModel",
            "description_width": "",
            "_view_module": "@jupyter-widgets/base",
            "_model_module_version": "1.5.0",
            "_view_count": null,
            "_view_module_version": "1.2.0",
            "_model_module": "@jupyter-widgets/controls"
          }
        },
        "954c8aac50f54c0fbbcb8b5d87853695": {
          "model_module": "@jupyter-widgets/base",
          "model_name": "LayoutModel",
          "state": {
            "_view_name": "LayoutView",
            "grid_template_rows": null,
            "right": null,
            "justify_content": null,
            "_view_module": "@jupyter-widgets/base",
            "overflow": null,
            "_model_module_version": "1.2.0",
            "_view_count": null,
            "flex_flow": null,
            "width": null,
            "min_width": null,
            "border": null,
            "align_items": null,
            "bottom": null,
            "_model_module": "@jupyter-widgets/base",
            "top": null,
            "grid_column": null,
            "overflow_y": null,
            "overflow_x": null,
            "grid_auto_flow": null,
            "grid_area": null,
            "grid_template_columns": null,
            "flex": null,
            "_model_name": "LayoutModel",
            "justify_items": null,
            "grid_row": null,
            "max_height": null,
            "align_content": null,
            "visibility": null,
            "align_self": null,
            "height": null,
            "min_height": null,
            "padding": null,
            "grid_auto_rows": null,
            "grid_gap": null,
            "max_width": null,
            "order": null,
            "_view_module_version": "1.2.0",
            "grid_template_areas": null,
            "object_position": null,
            "object_fit": null,
            "grid_auto_columns": null,
            "margin": null,
            "display": null,
            "left": null
          }
        },
        "499e1924239c49c8a38c5551e775583e": {
          "model_module": "@jupyter-widgets/controls",
          "model_name": "HBoxModel",
          "state": {
            "_view_name": "HBoxView",
            "_dom_classes": [],
            "_model_name": "HBoxModel",
            "_view_module": "@jupyter-widgets/controls",
            "_model_module_version": "1.5.0",
            "_view_count": null,
            "_view_module_version": "1.5.0",
            "box_style": "",
            "layout": "IPY_MODEL_9bcbe381815d459a81a10ae9510030ab",
            "_model_module": "@jupyter-widgets/controls",
            "children": [
              "IPY_MODEL_3fd5b2b1404b4e439e80d3e2d66857cd",
              "IPY_MODEL_c49ac7edebf34f2281a5000308286d43"
            ]
          }
        },
        "9bcbe381815d459a81a10ae9510030ab": {
          "model_module": "@jupyter-widgets/base",
          "model_name": "LayoutModel",
          "state": {
            "_view_name": "LayoutView",
            "grid_template_rows": null,
            "right": null,
            "justify_content": null,
            "_view_module": "@jupyter-widgets/base",
            "overflow": null,
            "_model_module_version": "1.2.0",
            "_view_count": null,
            "flex_flow": null,
            "width": null,
            "min_width": null,
            "border": null,
            "align_items": null,
            "bottom": null,
            "_model_module": "@jupyter-widgets/base",
            "top": null,
            "grid_column": null,
            "overflow_y": null,
            "overflow_x": null,
            "grid_auto_flow": null,
            "grid_area": null,
            "grid_template_columns": null,
            "flex": null,
            "_model_name": "LayoutModel",
            "justify_items": null,
            "grid_row": null,
            "max_height": null,
            "align_content": null,
            "visibility": null,
            "align_self": null,
            "height": null,
            "min_height": null,
            "padding": null,
            "grid_auto_rows": null,
            "grid_gap": null,
            "max_width": null,
            "order": null,
            "_view_module_version": "1.2.0",
            "grid_template_areas": null,
            "object_position": null,
            "object_fit": null,
            "grid_auto_columns": null,
            "margin": null,
            "display": null,
            "left": null
          }
        },
        "3fd5b2b1404b4e439e80d3e2d66857cd": {
          "model_module": "@jupyter-widgets/controls",
          "model_name": "FloatProgressModel",
          "state": {
            "_view_name": "ProgressView",
            "style": "IPY_MODEL_c1552cd285f945a787714e2bd49b5a6d",
            "_dom_classes": [],
            "description": "Downloading: 100%",
            "_model_name": "FloatProgressModel",
            "bar_style": "success",
            "max": 466062,
            "_view_module": "@jupyter-widgets/controls",
            "_model_module_version": "1.5.0",
            "value": 466062,
            "_view_count": null,
            "_view_module_version": "1.5.0",
            "orientation": "horizontal",
            "min": 0,
            "description_tooltip": null,
            "_model_module": "@jupyter-widgets/controls",
            "layout": "IPY_MODEL_239f65871db445569d7e0df1e0819459"
          }
        },
        "c49ac7edebf34f2281a5000308286d43": {
          "model_module": "@jupyter-widgets/controls",
          "model_name": "HTMLModel",
          "state": {
            "_view_name": "HTMLView",
            "style": "IPY_MODEL_c2a1146cba7843de95423f33ea3eee0c",
            "_dom_classes": [],
            "description": "",
            "_model_name": "HTMLModel",
            "placeholder": "​",
            "_view_module": "@jupyter-widgets/controls",
            "_model_module_version": "1.5.0",
            "value": " 466k/466k [00:00&lt;00:00, 3.24MB/s]",
            "_view_count": null,
            "_view_module_version": "1.5.0",
            "description_tooltip": null,
            "_model_module": "@jupyter-widgets/controls",
            "layout": "IPY_MODEL_18ca1888854e41e293a3dc2872de6259"
          }
        },
        "c1552cd285f945a787714e2bd49b5a6d": {
          "model_module": "@jupyter-widgets/controls",
          "model_name": "ProgressStyleModel",
          "state": {
            "_view_name": "StyleView",
            "_model_name": "ProgressStyleModel",
            "description_width": "initial",
            "_view_module": "@jupyter-widgets/base",
            "_model_module_version": "1.5.0",
            "_view_count": null,
            "_view_module_version": "1.2.0",
            "bar_color": null,
            "_model_module": "@jupyter-widgets/controls"
          }
        },
        "239f65871db445569d7e0df1e0819459": {
          "model_module": "@jupyter-widgets/base",
          "model_name": "LayoutModel",
          "state": {
            "_view_name": "LayoutView",
            "grid_template_rows": null,
            "right": null,
            "justify_content": null,
            "_view_module": "@jupyter-widgets/base",
            "overflow": null,
            "_model_module_version": "1.2.0",
            "_view_count": null,
            "flex_flow": null,
            "width": null,
            "min_width": null,
            "border": null,
            "align_items": null,
            "bottom": null,
            "_model_module": "@jupyter-widgets/base",
            "top": null,
            "grid_column": null,
            "overflow_y": null,
            "overflow_x": null,
            "grid_auto_flow": null,
            "grid_area": null,
            "grid_template_columns": null,
            "flex": null,
            "_model_name": "LayoutModel",
            "justify_items": null,
            "grid_row": null,
            "max_height": null,
            "align_content": null,
            "visibility": null,
            "align_self": null,
            "height": null,
            "min_height": null,
            "padding": null,
            "grid_auto_rows": null,
            "grid_gap": null,
            "max_width": null,
            "order": null,
            "_view_module_version": "1.2.0",
            "grid_template_areas": null,
            "object_position": null,
            "object_fit": null,
            "grid_auto_columns": null,
            "margin": null,
            "display": null,
            "left": null
          }
        },
        "c2a1146cba7843de95423f33ea3eee0c": {
          "model_module": "@jupyter-widgets/controls",
          "model_name": "DescriptionStyleModel",
          "state": {
            "_view_name": "StyleView",
            "_model_name": "DescriptionStyleModel",
            "description_width": "",
            "_view_module": "@jupyter-widgets/base",
            "_model_module_version": "1.5.0",
            "_view_count": null,
            "_view_module_version": "1.2.0",
            "_model_module": "@jupyter-widgets/controls"
          }
        },
        "18ca1888854e41e293a3dc2872de6259": {
          "model_module": "@jupyter-widgets/base",
          "model_name": "LayoutModel",
          "state": {
            "_view_name": "LayoutView",
            "grid_template_rows": null,
            "right": null,
            "justify_content": null,
            "_view_module": "@jupyter-widgets/base",
            "overflow": null,
            "_model_module_version": "1.2.0",
            "_view_count": null,
            "flex_flow": null,
            "width": null,
            "min_width": null,
            "border": null,
            "align_items": null,
            "bottom": null,
            "_model_module": "@jupyter-widgets/base",
            "top": null,
            "grid_column": null,
            "overflow_y": null,
            "overflow_x": null,
            "grid_auto_flow": null,
            "grid_area": null,
            "grid_template_columns": null,
            "flex": null,
            "_model_name": "LayoutModel",
            "justify_items": null,
            "grid_row": null,
            "max_height": null,
            "align_content": null,
            "visibility": null,
            "align_self": null,
            "height": null,
            "min_height": null,
            "padding": null,
            "grid_auto_rows": null,
            "grid_gap": null,
            "max_width": null,
            "order": null,
            "_view_module_version": "1.2.0",
            "grid_template_areas": null,
            "object_position": null,
            "object_fit": null,
            "grid_auto_columns": null,
            "margin": null,
            "display": null,
            "left": null
          }
        },
        "f6fa84af521f477ab0c37d48dcf799b9": {
          "model_module": "@jupyter-widgets/controls",
          "model_name": "HBoxModel",
          "state": {
            "_view_name": "HBoxView",
            "_dom_classes": [],
            "_model_name": "HBoxModel",
            "_view_module": "@jupyter-widgets/controls",
            "_model_module_version": "1.5.0",
            "_view_count": null,
            "_view_module_version": "1.5.0",
            "box_style": "",
            "layout": "IPY_MODEL_2e78b55a038348c5be9d46bb060e90b4",
            "_model_module": "@jupyter-widgets/controls",
            "children": [
              "IPY_MODEL_cfd90c3a57e04c4cb62d2658e54f88e6",
              "IPY_MODEL_d64e56b2f66b497d94e5579aa68ce9da"
            ]
          }
        },
        "2e78b55a038348c5be9d46bb060e90b4": {
          "model_module": "@jupyter-widgets/base",
          "model_name": "LayoutModel",
          "state": {
            "_view_name": "LayoutView",
            "grid_template_rows": null,
            "right": null,
            "justify_content": null,
            "_view_module": "@jupyter-widgets/base",
            "overflow": null,
            "_model_module_version": "1.2.0",
            "_view_count": null,
            "flex_flow": null,
            "width": null,
            "min_width": null,
            "border": null,
            "align_items": null,
            "bottom": null,
            "_model_module": "@jupyter-widgets/base",
            "top": null,
            "grid_column": null,
            "overflow_y": null,
            "overflow_x": null,
            "grid_auto_flow": null,
            "grid_area": null,
            "grid_template_columns": null,
            "flex": null,
            "_model_name": "LayoutModel",
            "justify_items": null,
            "grid_row": null,
            "max_height": null,
            "align_content": null,
            "visibility": null,
            "align_self": null,
            "height": null,
            "min_height": null,
            "padding": null,
            "grid_auto_rows": null,
            "grid_gap": null,
            "max_width": null,
            "order": null,
            "_view_module_version": "1.2.0",
            "grid_template_areas": null,
            "object_position": null,
            "object_fit": null,
            "grid_auto_columns": null,
            "margin": null,
            "display": null,
            "left": null
          }
        },
        "cfd90c3a57e04c4cb62d2658e54f88e6": {
          "model_module": "@jupyter-widgets/controls",
          "model_name": "FloatProgressModel",
          "state": {
            "_view_name": "ProgressView",
            "style": "IPY_MODEL_a722bc1e2f0d44d3956019e964757f19",
            "_dom_classes": [],
            "description": "Downloading: 100%",
            "_model_name": "FloatProgressModel",
            "bar_style": "success",
            "max": 28,
            "_view_module": "@jupyter-widgets/controls",
            "_model_module_version": "1.5.0",
            "value": 28,
            "_view_count": null,
            "_view_module_version": "1.5.0",
            "orientation": "horizontal",
            "min": 0,
            "description_tooltip": null,
            "_model_module": "@jupyter-widgets/controls",
            "layout": "IPY_MODEL_7ae3da4c0d834a9fa893ff3fc1be3204"
          }
        },
        "d64e56b2f66b497d94e5579aa68ce9da": {
          "model_module": "@jupyter-widgets/controls",
          "model_name": "HTMLModel",
          "state": {
            "_view_name": "HTMLView",
            "style": "IPY_MODEL_11b712090c1f4fe8a2964bd0833bad08",
            "_dom_classes": [],
            "description": "",
            "_model_name": "HTMLModel",
            "placeholder": "​",
            "_view_module": "@jupyter-widgets/controls",
            "_model_module_version": "1.5.0",
            "value": " 28.0/28.0 [00:04&lt;00:00, 6.81B/s]",
            "_view_count": null,
            "_view_module_version": "1.5.0",
            "description_tooltip": null,
            "_model_module": "@jupyter-widgets/controls",
            "layout": "IPY_MODEL_a28bc9c0bcb64a06b1438f148adbf4c3"
          }
        },
        "a722bc1e2f0d44d3956019e964757f19": {
          "model_module": "@jupyter-widgets/controls",
          "model_name": "ProgressStyleModel",
          "state": {
            "_view_name": "StyleView",
            "_model_name": "ProgressStyleModel",
            "description_width": "initial",
            "_view_module": "@jupyter-widgets/base",
            "_model_module_version": "1.5.0",
            "_view_count": null,
            "_view_module_version": "1.2.0",
            "bar_color": null,
            "_model_module": "@jupyter-widgets/controls"
          }
        },
        "7ae3da4c0d834a9fa893ff3fc1be3204": {
          "model_module": "@jupyter-widgets/base",
          "model_name": "LayoutModel",
          "state": {
            "_view_name": "LayoutView",
            "grid_template_rows": null,
            "right": null,
            "justify_content": null,
            "_view_module": "@jupyter-widgets/base",
            "overflow": null,
            "_model_module_version": "1.2.0",
            "_view_count": null,
            "flex_flow": null,
            "width": null,
            "min_width": null,
            "border": null,
            "align_items": null,
            "bottom": null,
            "_model_module": "@jupyter-widgets/base",
            "top": null,
            "grid_column": null,
            "overflow_y": null,
            "overflow_x": null,
            "grid_auto_flow": null,
            "grid_area": null,
            "grid_template_columns": null,
            "flex": null,
            "_model_name": "LayoutModel",
            "justify_items": null,
            "grid_row": null,
            "max_height": null,
            "align_content": null,
            "visibility": null,
            "align_self": null,
            "height": null,
            "min_height": null,
            "padding": null,
            "grid_auto_rows": null,
            "grid_gap": null,
            "max_width": null,
            "order": null,
            "_view_module_version": "1.2.0",
            "grid_template_areas": null,
            "object_position": null,
            "object_fit": null,
            "grid_auto_columns": null,
            "margin": null,
            "display": null,
            "left": null
          }
        },
        "11b712090c1f4fe8a2964bd0833bad08": {
          "model_module": "@jupyter-widgets/controls",
          "model_name": "DescriptionStyleModel",
          "state": {
            "_view_name": "StyleView",
            "_model_name": "DescriptionStyleModel",
            "description_width": "",
            "_view_module": "@jupyter-widgets/base",
            "_model_module_version": "1.5.0",
            "_view_count": null,
            "_view_module_version": "1.2.0",
            "_model_module": "@jupyter-widgets/controls"
          }
        },
        "a28bc9c0bcb64a06b1438f148adbf4c3": {
          "model_module": "@jupyter-widgets/base",
          "model_name": "LayoutModel",
          "state": {
            "_view_name": "LayoutView",
            "grid_template_rows": null,
            "right": null,
            "justify_content": null,
            "_view_module": "@jupyter-widgets/base",
            "overflow": null,
            "_model_module_version": "1.2.0",
            "_view_count": null,
            "flex_flow": null,
            "width": null,
            "min_width": null,
            "border": null,
            "align_items": null,
            "bottom": null,
            "_model_module": "@jupyter-widgets/base",
            "top": null,
            "grid_column": null,
            "overflow_y": null,
            "overflow_x": null,
            "grid_auto_flow": null,
            "grid_area": null,
            "grid_template_columns": null,
            "flex": null,
            "_model_name": "LayoutModel",
            "justify_items": null,
            "grid_row": null,
            "max_height": null,
            "align_content": null,
            "visibility": null,
            "align_self": null,
            "height": null,
            "min_height": null,
            "padding": null,
            "grid_auto_rows": null,
            "grid_gap": null,
            "max_width": null,
            "order": null,
            "_view_module_version": "1.2.0",
            "grid_template_areas": null,
            "object_position": null,
            "object_fit": null,
            "grid_auto_columns": null,
            "margin": null,
            "display": null,
            "left": null
          }
        }
      }
    }
  },
  "cells": [
    {
      "cell_type": "code",
      "metadata": {
        "id": "8fghEE8Hnf9L"
      },
      "source": [
        "# Adapted from:\n",
        "#\\https://www.analyticsvidhya.com/blog/2020/07/transfer-learning-for-nlp-fine-tuning-bert-for-text-classification/\n",
        "#https://www.programmersought.com/article/31037125394/"
      ],
      "id": "8fghEE8Hnf9L",
      "execution_count": null,
      "outputs": []
    },
    {
      "cell_type": "code",
      "metadata": {
        "colab": {
          "base_uri": "https://localhost:8080/"
        },
        "id": "XpYzR-xRn1pY",
        "outputId": "d9a13bac-80c3-4b27-e44c-b693b2cb72a1"
      },
      "source": [
        "pip install transformers"
      ],
      "id": "XpYzR-xRn1pY",
      "execution_count": 1,
      "outputs": [
        {
          "output_type": "stream",
          "text": [
            "Collecting transformers\n",
            "\u001b[?25l  Downloading https://files.pythonhosted.org/packages/d8/b2/57495b5309f09fa501866e225c84532d1fd89536ea62406b2181933fb418/transformers-4.5.1-py3-none-any.whl (2.1MB)\n",
            "\r\u001b[K     |▏                               | 10kB 24.8MB/s eta 0:00:01\r\u001b[K     |▎                               | 20kB 31.4MB/s eta 0:00:01\r\u001b[K     |▌                               | 30kB 20.6MB/s eta 0:00:01\r\u001b[K     |▋                               | 40kB 24.1MB/s eta 0:00:01\r\u001b[K     |▉                               | 51kB 21.4MB/s eta 0:00:01\r\u001b[K     |█                               | 61kB 17.6MB/s eta 0:00:01\r\u001b[K     |█▏                              | 71kB 18.2MB/s eta 0:00:01\r\u001b[K     |█▎                              | 81kB 18.4MB/s eta 0:00:01\r\u001b[K     |█▍                              | 92kB 17.3MB/s eta 0:00:01\r\u001b[K     |█▋                              | 102kB 18.2MB/s eta 0:00:01\r\u001b[K     |█▊                              | 112kB 18.2MB/s eta 0:00:01\r\u001b[K     |██                              | 122kB 18.2MB/s eta 0:00:01\r\u001b[K     |██                              | 133kB 18.2MB/s eta 0:00:01\r\u001b[K     |██▎                             | 143kB 18.2MB/s eta 0:00:01\r\u001b[K     |██▍                             | 153kB 18.2MB/s eta 0:00:01\r\u001b[K     |██▌                             | 163kB 18.2MB/s eta 0:00:01\r\u001b[K     |██▊                             | 174kB 18.2MB/s eta 0:00:01\r\u001b[K     |██▉                             | 184kB 18.2MB/s eta 0:00:01\r\u001b[K     |███                             | 194kB 18.2MB/s eta 0:00:01\r\u001b[K     |███▏                            | 204kB 18.2MB/s eta 0:00:01\r\u001b[K     |███▍                            | 215kB 18.2MB/s eta 0:00:01\r\u001b[K     |███▌                            | 225kB 18.2MB/s eta 0:00:01\r\u001b[K     |███▋                            | 235kB 18.2MB/s eta 0:00:01\r\u001b[K     |███▉                            | 245kB 18.2MB/s eta 0:00:01\r\u001b[K     |████                            | 256kB 18.2MB/s eta 0:00:01\r\u001b[K     |████▏                           | 266kB 18.2MB/s eta 0:00:01\r\u001b[K     |████▎                           | 276kB 18.2MB/s eta 0:00:01\r\u001b[K     |████▌                           | 286kB 18.2MB/s eta 0:00:01\r\u001b[K     |████▋                           | 296kB 18.2MB/s eta 0:00:01\r\u001b[K     |████▊                           | 307kB 18.2MB/s eta 0:00:01\r\u001b[K     |█████                           | 317kB 18.2MB/s eta 0:00:01\r\u001b[K     |█████                           | 327kB 18.2MB/s eta 0:00:01\r\u001b[K     |█████▎                          | 337kB 18.2MB/s eta 0:00:01\r\u001b[K     |█████▍                          | 348kB 18.2MB/s eta 0:00:01\r\u001b[K     |█████▋                          | 358kB 18.2MB/s eta 0:00:01\r\u001b[K     |█████▊                          | 368kB 18.2MB/s eta 0:00:01\r\u001b[K     |█████▉                          | 378kB 18.2MB/s eta 0:00:01\r\u001b[K     |██████                          | 389kB 18.2MB/s eta 0:00:01\r\u001b[K     |██████▏                         | 399kB 18.2MB/s eta 0:00:01\r\u001b[K     |██████▍                         | 409kB 18.2MB/s eta 0:00:01\r\u001b[K     |██████▌                         | 419kB 18.2MB/s eta 0:00:01\r\u001b[K     |██████▊                         | 430kB 18.2MB/s eta 0:00:01\r\u001b[K     |██████▉                         | 440kB 18.2MB/s eta 0:00:01\r\u001b[K     |███████                         | 450kB 18.2MB/s eta 0:00:01\r\u001b[K     |███████▏                        | 460kB 18.2MB/s eta 0:00:01\r\u001b[K     |███████▎                        | 471kB 18.2MB/s eta 0:00:01\r\u001b[K     |███████▌                        | 481kB 18.2MB/s eta 0:00:01\r\u001b[K     |███████▋                        | 491kB 18.2MB/s eta 0:00:01\r\u001b[K     |███████▉                        | 501kB 18.2MB/s eta 0:00:01\r\u001b[K     |████████                        | 512kB 18.2MB/s eta 0:00:01\r\u001b[K     |████████                        | 522kB 18.2MB/s eta 0:00:01\r\u001b[K     |████████▎                       | 532kB 18.2MB/s eta 0:00:01\r\u001b[K     |████████▍                       | 542kB 18.2MB/s eta 0:00:01\r\u001b[K     |████████▋                       | 552kB 18.2MB/s eta 0:00:01\r\u001b[K     |████████▊                       | 563kB 18.2MB/s eta 0:00:01\r\u001b[K     |█████████                       | 573kB 18.2MB/s eta 0:00:01\r\u001b[K     |█████████                       | 583kB 18.2MB/s eta 0:00:01\r\u001b[K     |█████████▎                      | 593kB 18.2MB/s eta 0:00:01\r\u001b[K     |█████████▍                      | 604kB 18.2MB/s eta 0:00:01\r\u001b[K     |█████████▌                      | 614kB 18.2MB/s eta 0:00:01\r\u001b[K     |█████████▊                      | 624kB 18.2MB/s eta 0:00:01\r\u001b[K     |█████████▉                      | 634kB 18.2MB/s eta 0:00:01\r\u001b[K     |██████████                      | 645kB 18.2MB/s eta 0:00:01\r\u001b[K     |██████████▏                     | 655kB 18.2MB/s eta 0:00:01\r\u001b[K     |██████████▍                     | 665kB 18.2MB/s eta 0:00:01\r\u001b[K     |██████████▌                     | 675kB 18.2MB/s eta 0:00:01\r\u001b[K     |██████████▋                     | 686kB 18.2MB/s eta 0:00:01\r\u001b[K     |██████████▉                     | 696kB 18.2MB/s eta 0:00:01\r\u001b[K     |███████████                     | 706kB 18.2MB/s eta 0:00:01\r\u001b[K     |███████████▏                    | 716kB 18.2MB/s eta 0:00:01\r\u001b[K     |███████████▎                    | 727kB 18.2MB/s eta 0:00:01\r\u001b[K     |███████████▌                    | 737kB 18.2MB/s eta 0:00:01\r\u001b[K     |███████████▋                    | 747kB 18.2MB/s eta 0:00:01\r\u001b[K     |███████████▊                    | 757kB 18.2MB/s eta 0:00:01\r\u001b[K     |████████████                    | 768kB 18.2MB/s eta 0:00:01\r\u001b[K     |████████████                    | 778kB 18.2MB/s eta 0:00:01\r\u001b[K     |████████████▎                   | 788kB 18.2MB/s eta 0:00:01\r\u001b[K     |████████████▍                   | 798kB 18.2MB/s eta 0:00:01\r\u001b[K     |████████████▋                   | 808kB 18.2MB/s eta 0:00:01\r\u001b[K     |████████████▊                   | 819kB 18.2MB/s eta 0:00:01\r\u001b[K     |████████████▉                   | 829kB 18.2MB/s eta 0:00:01\r\u001b[K     |█████████████                   | 839kB 18.2MB/s eta 0:00:01\r\u001b[K     |█████████████▏                  | 849kB 18.2MB/s eta 0:00:01\r\u001b[K     |█████████████▍                  | 860kB 18.2MB/s eta 0:00:01\r\u001b[K     |█████████████▌                  | 870kB 18.2MB/s eta 0:00:01\r\u001b[K     |█████████████▊                  | 880kB 18.2MB/s eta 0:00:01\r\u001b[K     |█████████████▉                  | 890kB 18.2MB/s eta 0:00:01\r\u001b[K     |██████████████                  | 901kB 18.2MB/s eta 0:00:01\r\u001b[K     |██████████████▏                 | 911kB 18.2MB/s eta 0:00:01\r\u001b[K     |██████████████▎                 | 921kB 18.2MB/s eta 0:00:01\r\u001b[K     |██████████████▌                 | 931kB 18.2MB/s eta 0:00:01\r\u001b[K     |██████████████▋                 | 942kB 18.2MB/s eta 0:00:01\r\u001b[K     |██████████████▉                 | 952kB 18.2MB/s eta 0:00:01\r\u001b[K     |███████████████                 | 962kB 18.2MB/s eta 0:00:01\r\u001b[K     |███████████████                 | 972kB 18.2MB/s eta 0:00:01\r\u001b[K     |███████████████▎                | 983kB 18.2MB/s eta 0:00:01\r\u001b[K     |███████████████▍                | 993kB 18.2MB/s eta 0:00:01\r\u001b[K     |███████████████▋                | 1.0MB 18.2MB/s eta 0:00:01\r\u001b[K     |███████████████▊                | 1.0MB 18.2MB/s eta 0:00:01\r\u001b[K     |████████████████                | 1.0MB 18.2MB/s eta 0:00:01\r\u001b[K     |████████████████                | 1.0MB 18.2MB/s eta 0:00:01\r\u001b[K     |████████████████▏               | 1.0MB 18.2MB/s eta 0:00:01\r\u001b[K     |████████████████▍               | 1.1MB 18.2MB/s eta 0:00:01\r\u001b[K     |████████████████▌               | 1.1MB 18.2MB/s eta 0:00:01\r\u001b[K     |████████████████▊               | 1.1MB 18.2MB/s eta 0:00:01\r\u001b[K     |████████████████▉               | 1.1MB 18.2MB/s eta 0:00:01\r\u001b[K     |█████████████████               | 1.1MB 18.2MB/s eta 0:00:01\r\u001b[K     |█████████████████▏              | 1.1MB 18.2MB/s eta 0:00:01\r\u001b[K     |█████████████████▍              | 1.1MB 18.2MB/s eta 0:00:01\r\u001b[K     |█████████████████▌              | 1.1MB 18.2MB/s eta 0:00:01\r\u001b[K     |█████████████████▋              | 1.1MB 18.2MB/s eta 0:00:01\r\u001b[K     |█████████████████▉              | 1.1MB 18.2MB/s eta 0:00:01\r\u001b[K     |██████████████████              | 1.2MB 18.2MB/s eta 0:00:01\r\u001b[K     |██████████████████▏             | 1.2MB 18.2MB/s eta 0:00:01\r\u001b[K     |██████████████████▎             | 1.2MB 18.2MB/s eta 0:00:01\r\u001b[K     |██████████████████▌             | 1.2MB 18.2MB/s eta 0:00:01\r\u001b[K     |██████████████████▋             | 1.2MB 18.2MB/s eta 0:00:01\r\u001b[K     |██████████████████▊             | 1.2MB 18.2MB/s eta 0:00:01\r\u001b[K     |███████████████████             | 1.2MB 18.2MB/s eta 0:00:01\r\u001b[K     |███████████████████             | 1.2MB 18.2MB/s eta 0:00:01\r\u001b[K     |███████████████████▎            | 1.2MB 18.2MB/s eta 0:00:01\r\u001b[K     |███████████████████▍            | 1.2MB 18.2MB/s eta 0:00:01\r\u001b[K     |███████████████████▋            | 1.3MB 18.2MB/s eta 0:00:01\r\u001b[K     |███████████████████▊            | 1.3MB 18.2MB/s eta 0:00:01\r\u001b[K     |███████████████████▉            | 1.3MB 18.2MB/s eta 0:00:01\r\u001b[K     |████████████████████            | 1.3MB 18.2MB/s eta 0:00:01\r\u001b[K     |████████████████████▏           | 1.3MB 18.2MB/s eta 0:00:01\r\u001b[K     |████████████████████▍           | 1.3MB 18.2MB/s eta 0:00:01\r\u001b[K     |████████████████████▌           | 1.3MB 18.2MB/s eta 0:00:01\r\u001b[K     |████████████████████▊           | 1.3MB 18.2MB/s eta 0:00:01\r\u001b[K     |████████████████████▉           | 1.3MB 18.2MB/s eta 0:00:01\r\u001b[K     |█████████████████████           | 1.4MB 18.2MB/s eta 0:00:01\r\u001b[K     |█████████████████████▏          | 1.4MB 18.2MB/s eta 0:00:01\r\u001b[K     |█████████████████████▎          | 1.4MB 18.2MB/s eta 0:00:01\r\u001b[K     |█████████████████████▌          | 1.4MB 18.2MB/s eta 0:00:01\r\u001b[K     |█████████████████████▋          | 1.4MB 18.2MB/s eta 0:00:01\r\u001b[K     |█████████████████████▉          | 1.4MB 18.2MB/s eta 0:00:01\r\u001b[K     |██████████████████████          | 1.4MB 18.2MB/s eta 0:00:01\r\u001b[K     |██████████████████████          | 1.4MB 18.2MB/s eta 0:00:01\r\u001b[K     |██████████████████████▎         | 1.4MB 18.2MB/s eta 0:00:01\r\u001b[K     |██████████████████████▍         | 1.4MB 18.2MB/s eta 0:00:01\r\u001b[K     |██████████████████████▋         | 1.5MB 18.2MB/s eta 0:00:01\r\u001b[K     |██████████████████████▊         | 1.5MB 18.2MB/s eta 0:00:01\r\u001b[K     |███████████████████████         | 1.5MB 18.2MB/s eta 0:00:01\r\u001b[K     |███████████████████████         | 1.5MB 18.2MB/s eta 0:00:01\r\u001b[K     |███████████████████████▏        | 1.5MB 18.2MB/s eta 0:00:01\r\u001b[K     |███████████████████████▍        | 1.5MB 18.2MB/s eta 0:00:01\r\u001b[K     |███████████████████████▌        | 1.5MB 18.2MB/s eta 0:00:01\r\u001b[K     |███████████████████████▊        | 1.5MB 18.2MB/s eta 0:00:01\r\u001b[K     |███████████████████████▉        | 1.5MB 18.2MB/s eta 0:00:01\r\u001b[K     |████████████████████████        | 1.5MB 18.2MB/s eta 0:00:01\r\u001b[K     |████████████████████████▏       | 1.6MB 18.2MB/s eta 0:00:01\r\u001b[K     |████████████████████████▎       | 1.6MB 18.2MB/s eta 0:00:01\r\u001b[K     |████████████████████████▌       | 1.6MB 18.2MB/s eta 0:00:01\r\u001b[K     |████████████████████████▋       | 1.6MB 18.2MB/s eta 0:00:01\r\u001b[K     |████████████████████████▉       | 1.6MB 18.2MB/s eta 0:00:01\r\u001b[K     |█████████████████████████       | 1.6MB 18.2MB/s eta 0:00:01\r\u001b[K     |█████████████████████████▏      | 1.6MB 18.2MB/s eta 0:00:01\r\u001b[K     |█████████████████████████▎      | 1.6MB 18.2MB/s eta 0:00:01\r\u001b[K     |█████████████████████████▍      | 1.6MB 18.2MB/s eta 0:00:01\r\u001b[K     |█████████████████████████▋      | 1.6MB 18.2MB/s eta 0:00:01\r\u001b[K     |█████████████████████████▊      | 1.7MB 18.2MB/s eta 0:00:01\r\u001b[K     |██████████████████████████      | 1.7MB 18.2MB/s eta 0:00:01\r\u001b[K     |██████████████████████████      | 1.7MB 18.2MB/s eta 0:00:01\r\u001b[K     |██████████████████████████▎     | 1.7MB 18.2MB/s eta 0:00:01\r\u001b[K     |██████████████████████████▍     | 1.7MB 18.2MB/s eta 0:00:01\r\u001b[K     |██████████████████████████▋     | 1.7MB 18.2MB/s eta 0:00:01\r\u001b[K     |██████████████████████████▊     | 1.7MB 18.2MB/s eta 0:00:01\r\u001b[K     |██████████████████████████▉     | 1.7MB 18.2MB/s eta 0:00:01\r\u001b[K     |███████████████████████████     | 1.7MB 18.2MB/s eta 0:00:01\r\u001b[K     |███████████████████████████▏    | 1.8MB 18.2MB/s eta 0:00:01\r\u001b[K     |███████████████████████████▍    | 1.8MB 18.2MB/s eta 0:00:01\r\u001b[K     |███████████████████████████▌    | 1.8MB 18.2MB/s eta 0:00:01\r\u001b[K     |███████████████████████████▊    | 1.8MB 18.2MB/s eta 0:00:01\r\u001b[K     |███████████████████████████▉    | 1.8MB 18.2MB/s eta 0:00:01\r\u001b[K     |████████████████████████████    | 1.8MB 18.2MB/s eta 0:00:01\r\u001b[K     |████████████████████████████▏   | 1.8MB 18.2MB/s eta 0:00:01\r\u001b[K     |████████████████████████████▎   | 1.8MB 18.2MB/s eta 0:00:01\r\u001b[K     |████████████████████████████▌   | 1.8MB 18.2MB/s eta 0:00:01\r\u001b[K     |████████████████████████████▋   | 1.8MB 18.2MB/s eta 0:00:01\r\u001b[K     |████████████████████████████▉   | 1.9MB 18.2MB/s eta 0:00:01\r\u001b[K     |█████████████████████████████   | 1.9MB 18.2MB/s eta 0:00:01\r\u001b[K     |█████████████████████████████   | 1.9MB 18.2MB/s eta 0:00:01\r\u001b[K     |█████████████████████████████▎  | 1.9MB 18.2MB/s eta 0:00:01\r\u001b[K     |█████████████████████████████▍  | 1.9MB 18.2MB/s eta 0:00:01\r\u001b[K     |█████████████████████████████▋  | 1.9MB 18.2MB/s eta 0:00:01\r\u001b[K     |█████████████████████████████▊  | 1.9MB 18.2MB/s eta 0:00:01\r\u001b[K     |██████████████████████████████  | 1.9MB 18.2MB/s eta 0:00:01\r\u001b[K     |██████████████████████████████  | 1.9MB 18.2MB/s eta 0:00:01\r\u001b[K     |██████████████████████████████▏ | 1.9MB 18.2MB/s eta 0:00:01\r\u001b[K     |██████████████████████████████▍ | 2.0MB 18.2MB/s eta 0:00:01\r\u001b[K     |██████████████████████████████▌ | 2.0MB 18.2MB/s eta 0:00:01\r\u001b[K     |██████████████████████████████▊ | 2.0MB 18.2MB/s eta 0:00:01\r\u001b[K     |██████████████████████████████▉ | 2.0MB 18.2MB/s eta 0:00:01\r\u001b[K     |███████████████████████████████ | 2.0MB 18.2MB/s eta 0:00:01\r\u001b[K     |███████████████████████████████▏| 2.0MB 18.2MB/s eta 0:00:01\r\u001b[K     |███████████████████████████████▎| 2.0MB 18.2MB/s eta 0:00:01\r\u001b[K     |███████████████████████████████▌| 2.0MB 18.2MB/s eta 0:00:01\r\u001b[K     |███████████████████████████████▋| 2.0MB 18.2MB/s eta 0:00:01\r\u001b[K     |███████████████████████████████▉| 2.0MB 18.2MB/s eta 0:00:01\r\u001b[K     |████████████████████████████████| 2.1MB 18.2MB/s eta 0:00:01\r\u001b[K     |████████████████████████████████| 2.1MB 18.2MB/s \n",
            "\u001b[?25hRequirement already satisfied: packaging in /usr/local/lib/python3.7/dist-packages (from transformers) (20.9)\n",
            "Requirement already satisfied: requests in /usr/local/lib/python3.7/dist-packages (from transformers) (2.23.0)\n",
            "Collecting tokenizers<0.11,>=0.10.1\n",
            "\u001b[?25l  Downloading https://files.pythonhosted.org/packages/ae/04/5b870f26a858552025a62f1649c20d29d2672c02ff3c3fb4c688ca46467a/tokenizers-0.10.2-cp37-cp37m-manylinux2010_x86_64.whl (3.3MB)\n",
            "\u001b[K     |████████████████████████████████| 3.3MB 48.0MB/s \n",
            "\u001b[?25hRequirement already satisfied: tqdm>=4.27 in /usr/local/lib/python3.7/dist-packages (from transformers) (4.41.1)\n",
            "Requirement already satisfied: filelock in /usr/local/lib/python3.7/dist-packages (from transformers) (3.0.12)\n",
            "Requirement already satisfied: importlib-metadata; python_version < \"3.8\" in /usr/local/lib/python3.7/dist-packages (from transformers) (3.10.1)\n",
            "Requirement already satisfied: numpy>=1.17 in /usr/local/lib/python3.7/dist-packages (from transformers) (1.19.5)\n",
            "Requirement already satisfied: regex!=2019.12.17 in /usr/local/lib/python3.7/dist-packages (from transformers) (2019.12.20)\n",
            "Collecting sacremoses\n",
            "\u001b[?25l  Downloading https://files.pythonhosted.org/packages/75/ee/67241dc87f266093c533a2d4d3d69438e57d7a90abb216fa076e7d475d4a/sacremoses-0.0.45-py3-none-any.whl (895kB)\n",
            "\u001b[K     |████████████████████████████████| 901kB 42.2MB/s \n",
            "\u001b[?25hRequirement already satisfied: pyparsing>=2.0.2 in /usr/local/lib/python3.7/dist-packages (from packaging->transformers) (2.4.7)\n",
            "Requirement already satisfied: certifi>=2017.4.17 in /usr/local/lib/python3.7/dist-packages (from requests->transformers) (2020.12.5)\n",
            "Requirement already satisfied: chardet<4,>=3.0.2 in /usr/local/lib/python3.7/dist-packages (from requests->transformers) (3.0.4)\n",
            "Requirement already satisfied: idna<3,>=2.5 in /usr/local/lib/python3.7/dist-packages (from requests->transformers) (2.10)\n",
            "Requirement already satisfied: urllib3!=1.25.0,!=1.25.1,<1.26,>=1.21.1 in /usr/local/lib/python3.7/dist-packages (from requests->transformers) (1.24.3)\n",
            "Requirement already satisfied: typing-extensions>=3.6.4; python_version < \"3.8\" in /usr/local/lib/python3.7/dist-packages (from importlib-metadata; python_version < \"3.8\"->transformers) (3.7.4.3)\n",
            "Requirement already satisfied: zipp>=0.5 in /usr/local/lib/python3.7/dist-packages (from importlib-metadata; python_version < \"3.8\"->transformers) (3.4.1)\n",
            "Requirement already satisfied: six in /usr/local/lib/python3.7/dist-packages (from sacremoses->transformers) (1.15.0)\n",
            "Requirement already satisfied: joblib in /usr/local/lib/python3.7/dist-packages (from sacremoses->transformers) (1.0.1)\n",
            "Requirement already satisfied: click in /usr/local/lib/python3.7/dist-packages (from sacremoses->transformers) (7.1.2)\n",
            "Installing collected packages: tokenizers, sacremoses, transformers\n",
            "Successfully installed sacremoses-0.0.45 tokenizers-0.10.2 transformers-4.5.1\n"
          ],
          "name": "stdout"
        }
      ]
    },
    {
      "cell_type": "code",
      "metadata": {
        "colab": {
          "base_uri": "https://localhost:8080/"
        },
        "id": "PgNlkE1Ynf9W",
        "outputId": "9e83995f-5b57-4a42-c60a-e678c3066649"
      },
      "source": [
        "import time\n",
        "def epoch_time(start_time, end_time):\n",
        "    elapsed_time = end_time - start_time\n",
        "    elapsed_mins = int(elapsed_time / 60)\n",
        "    elapsed_secs = int(elapsed_time - (elapsed_mins * 60))\n",
        "    return elapsed_mins, elapsed_secs\n",
        "\n",
        "start_time = time.time()\n",
        "end_time = time.time()\n",
        "epoch_mins, epoch_secs = epoch_time(start_time, end_time)\n",
        "print(f'Time: {epoch_mins}m {epoch_secs}s')"
      ],
      "id": "PgNlkE1Ynf9W",
      "execution_count": 2,
      "outputs": [
        {
          "output_type": "stream",
          "text": [
            "Time: 0m 0s\n"
          ],
          "name": "stdout"
        }
      ]
    },
    {
      "cell_type": "code",
      "metadata": {
        "id": "3j4R9h_6Lz6I"
      },
      "source": [
        "import torch\n",
        "import torch.nn as nn\n",
        "from torch.utils.data import TensorDataset, DataLoader, RandomSampler, SequentialSampler\n",
        "import random\n",
        "import numpy as np\n",
        "import pandas as pd\n",
        "import torch.nn.functional as F\n",
        "from sklearn.model_selection import train_test_split\n",
        "from sklearn.metrics import classification_report\n",
        "import transformers\n",
        "from transformers import AutoModel, BertTokenizerFast\n",
        "import time\n",
        "from sklearn.metrics import classification_report\n",
        "SEED = 1234\n",
        "\n",
        "random.seed(SEED)\n",
        "np.random.seed(SEED)\n",
        "torch.manual_seed(SEED)\n",
        "torch.backends.cudnn.deterministic = True\n",
        "\n",
        "# specify GPU\n",
        "device = torch.device('cuda' if torch.cuda.is_available() else 'cpu')"
      ],
      "id": "3j4R9h_6Lz6I",
      "execution_count": 3,
      "outputs": []
    },
    {
      "cell_type": "code",
      "metadata": {
        "colab": {
          "base_uri": "https://localhost:8080/"
        },
        "id": "3D9OUCp-lX_m",
        "outputId": "67b67aa2-4d4b-4ca9-a5a0-a9944f2955f5"
      },
      "source": [
        "from google.colab import drive\n",
        "drive.mount('/content/drive')"
      ],
      "id": "3D9OUCp-lX_m",
      "execution_count": 4,
      "outputs": [
        {
          "output_type": "stream",
          "text": [
            "Mounted at /content/drive\n"
          ],
          "name": "stdout"
        }
      ]
    },
    {
      "cell_type": "code",
      "metadata": {
        "id": "eq0aNxDiLz-G"
      },
      "source": [
        "#df_all = pd.read_csv('Tweets.csv')\n",
        "df_all = pd.read_csv('/content/drive/My Drive/content/Tweets.csv', encoding = 'latin-1' )"
      ],
      "id": "eq0aNxDiLz-G",
      "execution_count": 5,
      "outputs": []
    },
    {
      "cell_type": "code",
      "metadata": {
        "colab": {
          "base_uri": "https://localhost:8080/",
          "height": 446
        },
        "id": "HjQkYdaOL-pG",
        "outputId": "46a51ec3-3145-4171-e8f5-87efbf9920a8"
      },
      "source": [
        "df_all.head()"
      ],
      "id": "HjQkYdaOL-pG",
      "execution_count": 6,
      "outputs": [
        {
          "output_type": "execute_result",
          "data": {
            "text/html": [
              "<div>\n",
              "<style scoped>\n",
              "    .dataframe tbody tr th:only-of-type {\n",
              "        vertical-align: middle;\n",
              "    }\n",
              "\n",
              "    .dataframe tbody tr th {\n",
              "        vertical-align: top;\n",
              "    }\n",
              "\n",
              "    .dataframe thead th {\n",
              "        text-align: right;\n",
              "    }\n",
              "</style>\n",
              "<table border=\"1\" class=\"dataframe\">\n",
              "  <thead>\n",
              "    <tr style=\"text-align: right;\">\n",
              "      <th></th>\n",
              "      <th>tweet_id</th>\n",
              "      <th>airline_sentiment</th>\n",
              "      <th>airline_sentiment_confidence</th>\n",
              "      <th>negativereason</th>\n",
              "      <th>negativereason_confidence</th>\n",
              "      <th>airline</th>\n",
              "      <th>airline_sentiment_gold</th>\n",
              "      <th>name</th>\n",
              "      <th>negativereason_gold</th>\n",
              "      <th>retweet_count</th>\n",
              "      <th>text</th>\n",
              "      <th>tweet_coord</th>\n",
              "      <th>tweet_created</th>\n",
              "      <th>tweet_location</th>\n",
              "      <th>user_timezone</th>\n",
              "    </tr>\n",
              "  </thead>\n",
              "  <tbody>\n",
              "    <tr>\n",
              "      <th>0</th>\n",
              "      <td>5.703060e+17</td>\n",
              "      <td>neutral</td>\n",
              "      <td>1.0000</td>\n",
              "      <td>NaN</td>\n",
              "      <td>NaN</td>\n",
              "      <td>Virgin America</td>\n",
              "      <td>NaN</td>\n",
              "      <td>cairdin</td>\n",
              "      <td>NaN</td>\n",
              "      <td>0</td>\n",
              "      <td>@VirginAmerica What @dhepburn said.</td>\n",
              "      <td>NaN</td>\n",
              "      <td>24/2/2015 11:35</td>\n",
              "      <td>NaN</td>\n",
              "      <td>Eastern Time (US &amp; Canada)</td>\n",
              "    </tr>\n",
              "    <tr>\n",
              "      <th>1</th>\n",
              "      <td>5.703010e+17</td>\n",
              "      <td>positive</td>\n",
              "      <td>0.3486</td>\n",
              "      <td>NaN</td>\n",
              "      <td>0.0000</td>\n",
              "      <td>Virgin America</td>\n",
              "      <td>NaN</td>\n",
              "      <td>jnardino</td>\n",
              "      <td>NaN</td>\n",
              "      <td>0</td>\n",
              "      <td>@VirginAmerica plus you've added commercials t...</td>\n",
              "      <td>NaN</td>\n",
              "      <td>24/2/2015 11:15</td>\n",
              "      <td>NaN</td>\n",
              "      <td>Pacific Time (US &amp; Canada)</td>\n",
              "    </tr>\n",
              "    <tr>\n",
              "      <th>2</th>\n",
              "      <td>5.703010e+17</td>\n",
              "      <td>neutral</td>\n",
              "      <td>0.6837</td>\n",
              "      <td>NaN</td>\n",
              "      <td>NaN</td>\n",
              "      <td>Virgin America</td>\n",
              "      <td>NaN</td>\n",
              "      <td>yvonnalynn</td>\n",
              "      <td>NaN</td>\n",
              "      <td>0</td>\n",
              "      <td>@VirginAmerica I didn't today... Must mean I n...</td>\n",
              "      <td>NaN</td>\n",
              "      <td>24/2/2015 11:15</td>\n",
              "      <td>Lets Play</td>\n",
              "      <td>Central Time (US &amp; Canada)</td>\n",
              "    </tr>\n",
              "    <tr>\n",
              "      <th>3</th>\n",
              "      <td>5.703010e+17</td>\n",
              "      <td>negative</td>\n",
              "      <td>1.0000</td>\n",
              "      <td>Bad Flight</td>\n",
              "      <td>0.7033</td>\n",
              "      <td>Virgin America</td>\n",
              "      <td>NaN</td>\n",
              "      <td>jnardino</td>\n",
              "      <td>NaN</td>\n",
              "      <td>0</td>\n",
              "      <td>@VirginAmerica it's really aggressive to blast...</td>\n",
              "      <td>NaN</td>\n",
              "      <td>24/2/2015 11:15</td>\n",
              "      <td>NaN</td>\n",
              "      <td>Pacific Time (US &amp; Canada)</td>\n",
              "    </tr>\n",
              "    <tr>\n",
              "      <th>4</th>\n",
              "      <td>5.703010e+17</td>\n",
              "      <td>negative</td>\n",
              "      <td>1.0000</td>\n",
              "      <td>Can't Tell</td>\n",
              "      <td>1.0000</td>\n",
              "      <td>Virgin America</td>\n",
              "      <td>NaN</td>\n",
              "      <td>jnardino</td>\n",
              "      <td>NaN</td>\n",
              "      <td>0</td>\n",
              "      <td>@VirginAmerica and it's a really big bad thing...</td>\n",
              "      <td>NaN</td>\n",
              "      <td>24/2/2015 11:14</td>\n",
              "      <td>NaN</td>\n",
              "      <td>Pacific Time (US &amp; Canada)</td>\n",
              "    </tr>\n",
              "  </tbody>\n",
              "</table>\n",
              "</div>"
            ],
            "text/plain": [
              "       tweet_id airline_sentiment  ...  tweet_location               user_timezone\n",
              "0  5.703060e+17           neutral  ...             NaN  Eastern Time (US & Canada)\n",
              "1  5.703010e+17          positive  ...             NaN  Pacific Time (US & Canada)\n",
              "2  5.703010e+17           neutral  ...       Lets Play  Central Time (US & Canada)\n",
              "3  5.703010e+17          negative  ...             NaN  Pacific Time (US & Canada)\n",
              "4  5.703010e+17          negative  ...             NaN  Pacific Time (US & Canada)\n",
              "\n",
              "[5 rows x 15 columns]"
            ]
          },
          "metadata": {
            "tags": []
          },
          "execution_count": 6
        }
      ]
    },
    {
      "cell_type": "code",
      "metadata": {
        "colab": {
          "base_uri": "https://localhost:8080/",
          "height": 203
        },
        "id": "yvkLd1DBL0A2",
        "outputId": "cd259ef8-0107-4a0c-9ea8-4e8e0e205eb8"
      },
      "source": [
        "df_all = df_all[['text','airline_sentiment']]\n",
        "dic = {'negative' : 0, 'neutral': 1, 'positive': 2}\n",
        "df_all['airline_sentiment']= df_all['airline_sentiment'].replace(dic).astype('int64')\n",
        "df_all.head()"
      ],
      "id": "yvkLd1DBL0A2",
      "execution_count": 7,
      "outputs": [
        {
          "output_type": "execute_result",
          "data": {
            "text/html": [
              "<div>\n",
              "<style scoped>\n",
              "    .dataframe tbody tr th:only-of-type {\n",
              "        vertical-align: middle;\n",
              "    }\n",
              "\n",
              "    .dataframe tbody tr th {\n",
              "        vertical-align: top;\n",
              "    }\n",
              "\n",
              "    .dataframe thead th {\n",
              "        text-align: right;\n",
              "    }\n",
              "</style>\n",
              "<table border=\"1\" class=\"dataframe\">\n",
              "  <thead>\n",
              "    <tr style=\"text-align: right;\">\n",
              "      <th></th>\n",
              "      <th>text</th>\n",
              "      <th>airline_sentiment</th>\n",
              "    </tr>\n",
              "  </thead>\n",
              "  <tbody>\n",
              "    <tr>\n",
              "      <th>0</th>\n",
              "      <td>@VirginAmerica What @dhepburn said.</td>\n",
              "      <td>1</td>\n",
              "    </tr>\n",
              "    <tr>\n",
              "      <th>1</th>\n",
              "      <td>@VirginAmerica plus you've added commercials t...</td>\n",
              "      <td>2</td>\n",
              "    </tr>\n",
              "    <tr>\n",
              "      <th>2</th>\n",
              "      <td>@VirginAmerica I didn't today... Must mean I n...</td>\n",
              "      <td>1</td>\n",
              "    </tr>\n",
              "    <tr>\n",
              "      <th>3</th>\n",
              "      <td>@VirginAmerica it's really aggressive to blast...</td>\n",
              "      <td>0</td>\n",
              "    </tr>\n",
              "    <tr>\n",
              "      <th>4</th>\n",
              "      <td>@VirginAmerica and it's a really big bad thing...</td>\n",
              "      <td>0</td>\n",
              "    </tr>\n",
              "  </tbody>\n",
              "</table>\n",
              "</div>"
            ],
            "text/plain": [
              "                                                text  airline_sentiment\n",
              "0                @VirginAmerica What @dhepburn said.                  1\n",
              "1  @VirginAmerica plus you've added commercials t...                  2\n",
              "2  @VirginAmerica I didn't today... Must mean I n...                  1\n",
              "3  @VirginAmerica it's really aggressive to blast...                  0\n",
              "4  @VirginAmerica and it's a really big bad thing...                  0"
            ]
          },
          "metadata": {
            "tags": []
          },
          "execution_count": 7
        }
      ]
    },
    {
      "cell_type": "code",
      "metadata": {
        "id": "4g2rA8GSL0D0"
      },
      "source": [
        "# split train dataset into train, validation and test sets\n",
        "train_text, temp_text, train_labels, temp_labels = train_test_split(df_all['text'], df_all['airline_sentiment'], \n",
        "                                                                    random_state=45, \n",
        "                                                                    test_size=0.3, \n",
        "                                                                    stratify=df_all['airline_sentiment'])\n",
        "\n",
        "\n",
        "val_text, test_text, val_labels, test_labels = train_test_split(temp_text, temp_labels, \n",
        "                                                                random_state=45, \n",
        "                                                                test_size=0.5, \n",
        "                                                                stratify=temp_labels)"
      ],
      "id": "4g2rA8GSL0D0",
      "execution_count": 8,
      "outputs": []
    },
    {
      "cell_type": "code",
      "metadata": {
        "colab": {
          "base_uri": "https://localhost:8080/",
          "height": 265,
          "referenced_widgets": [
            "f28d051e08654dbe84cd8ada9fcaf01c",
            "ed9ec4cc0cec4f4097c49fb2a48f5ff5",
            "b0ed1aa4c0064de08f53f8f7ac5083a4",
            "f1711b1251e9462391c166110fd8acdd",
            "9c7653b54dc445aea82d012945ccd4ec",
            "ca3dc8f79f0a4a3381e2e45c3f63c95d",
            "ed9dfccb349e49f1a1416a78d17f392e",
            "02539e83091f4e948d2837d3c07acadc",
            "be69baca06184548a182391f7a3460d8",
            "d724b9e7051c4c1f9c91947e8a63662b",
            "21544276335549c294e17fe1c2a13b56",
            "b1f2c37fbf9942a7abfed532383c6fd0",
            "760041bd95b249d4a7defbe079cc5225",
            "8d1764ae122047b195d97984fc9213e0",
            "c78db19dcae04b3783524692f72fcb5d",
            "de8f5d449116481086bbffde02344c65",
            "3fa067d1faa343968f8712754eca15c0",
            "f633a41d428042a5b1e0384643efe23d",
            "2648fdd1727b41ee9f8b6853181ffc43",
            "046ced6c921743018edd03aabc38b071",
            "9c5333f518da4c2e9ade6da8b2f4b9d2",
            "c98039fb6a5c4f9fbfe47a909cb28413",
            "2633275729bc4154b5fcacb7532aa225",
            "954c8aac50f54c0fbbcb8b5d87853695",
            "499e1924239c49c8a38c5551e775583e",
            "9bcbe381815d459a81a10ae9510030ab",
            "3fd5b2b1404b4e439e80d3e2d66857cd",
            "c49ac7edebf34f2281a5000308286d43",
            "c1552cd285f945a787714e2bd49b5a6d",
            "239f65871db445569d7e0df1e0819459",
            "c2a1146cba7843de95423f33ea3eee0c",
            "18ca1888854e41e293a3dc2872de6259",
            "f6fa84af521f477ab0c37d48dcf799b9",
            "2e78b55a038348c5be9d46bb060e90b4",
            "cfd90c3a57e04c4cb62d2658e54f88e6",
            "d64e56b2f66b497d94e5579aa68ce9da",
            "a722bc1e2f0d44d3956019e964757f19",
            "7ae3da4c0d834a9fa893ff3fc1be3204",
            "11b712090c1f4fe8a2964bd0833bad08",
            "a28bc9c0bcb64a06b1438f148adbf4c3"
          ]
        },
        "id": "D0WeMvVkL0Gv",
        "outputId": "c7374310-40a6-4469-f69f-7c0f60fa5454"
      },
      "source": [
        "from transformers import AutoModel, BertTokenizerFast\n",
        "# import BERT-base pretrained model\n",
        "bert = AutoModel.from_pretrained('bert-base-uncased')\n",
        "\n",
        "# Load the BERT tokenizer\n",
        "tokenizer = BertTokenizerFast.from_pretrained('bert-base-uncased')"
      ],
      "id": "D0WeMvVkL0Gv",
      "execution_count": 9,
      "outputs": [
        {
          "output_type": "display_data",
          "data": {
            "application/vnd.jupyter.widget-view+json": {
              "model_id": "f28d051e08654dbe84cd8ada9fcaf01c",
              "version_minor": 0,
              "version_major": 2
            },
            "text/plain": [
              "HBox(children=(FloatProgress(value=0.0, description='Downloading', max=570.0, style=ProgressStyle(description_…"
            ]
          },
          "metadata": {
            "tags": []
          }
        },
        {
          "output_type": "stream",
          "text": [
            "\n"
          ],
          "name": "stdout"
        },
        {
          "output_type": "display_data",
          "data": {
            "application/vnd.jupyter.widget-view+json": {
              "model_id": "be69baca06184548a182391f7a3460d8",
              "version_minor": 0,
              "version_major": 2
            },
            "text/plain": [
              "HBox(children=(FloatProgress(value=0.0, description='Downloading', max=440473133.0, style=ProgressStyle(descri…"
            ]
          },
          "metadata": {
            "tags": []
          }
        },
        {
          "output_type": "stream",
          "text": [
            "\n"
          ],
          "name": "stdout"
        },
        {
          "output_type": "display_data",
          "data": {
            "application/vnd.jupyter.widget-view+json": {
              "model_id": "3fa067d1faa343968f8712754eca15c0",
              "version_minor": 0,
              "version_major": 2
            },
            "text/plain": [
              "HBox(children=(FloatProgress(value=0.0, description='Downloading', max=231508.0, style=ProgressStyle(descripti…"
            ]
          },
          "metadata": {
            "tags": []
          }
        },
        {
          "output_type": "stream",
          "text": [
            "\n"
          ],
          "name": "stdout"
        },
        {
          "output_type": "display_data",
          "data": {
            "application/vnd.jupyter.widget-view+json": {
              "model_id": "499e1924239c49c8a38c5551e775583e",
              "version_minor": 0,
              "version_major": 2
            },
            "text/plain": [
              "HBox(children=(FloatProgress(value=0.0, description='Downloading', max=466062.0, style=ProgressStyle(descripti…"
            ]
          },
          "metadata": {
            "tags": []
          }
        },
        {
          "output_type": "stream",
          "text": [
            "\n"
          ],
          "name": "stdout"
        },
        {
          "output_type": "display_data",
          "data": {
            "application/vnd.jupyter.widget-view+json": {
              "model_id": "f6fa84af521f477ab0c37d48dcf799b9",
              "version_minor": 0,
              "version_major": 2
            },
            "text/plain": [
              "HBox(children=(FloatProgress(value=0.0, description='Downloading', max=28.0, style=ProgressStyle(description_w…"
            ]
          },
          "metadata": {
            "tags": []
          }
        },
        {
          "output_type": "stream",
          "text": [
            "\n"
          ],
          "name": "stdout"
        }
      ]
    },
    {
      "cell_type": "code",
      "metadata": {
        "id": "yoFM6oCfL0Jf"
      },
      "source": [
        "# freeze all the parameters\n",
        "for param in bert.parameters():\n",
        "    param.requires_grad = False"
      ],
      "id": "yoFM6oCfL0Jf",
      "execution_count": 10,
      "outputs": []
    },
    {
      "cell_type": "code",
      "metadata": {
        "colab": {
          "base_uri": "https://localhost:8080/",
          "height": 283
        },
        "id": "IOnuYA-BL0Mb",
        "outputId": "03775442-14c6-45c9-ef7f-98d7ea0b069b"
      },
      "source": [
        "# get length of all the messages in the train set\n",
        "seq_len = [len(i.split()) for i in train_text]\n",
        "pd.Series(seq_len).hist(bins = 30)"
      ],
      "id": "IOnuYA-BL0Mb",
      "execution_count": 11,
      "outputs": [
        {
          "output_type": "execute_result",
          "data": {
            "text/plain": [
              "<matplotlib.axes._subplots.AxesSubplot at 0x7f244e835710>"
            ]
          },
          "metadata": {
            "tags": []
          },
          "execution_count": 11
        },
        {
          "output_type": "display_data",
          "data": {
            "image/png": "[encoded data removed]",
            "text/plain": [
              "<Figure size 432x288 with 1 Axes>"
            ]
          },
          "metadata": {
            "tags": [],
            "needs_background": "light"
          }
        }
      ]
    },
    {
      "cell_type": "code",
      "metadata": {
        "colab": {
          "base_uri": "https://localhost:8080/",
          "height": 285
        },
        "id": "FRFJV3SjL0PQ",
        "outputId": "8334af19-77f2-4a02-c18e-fb37b5a895fb"
      },
      "source": [
        "# get length of all the messages in the val set\n",
        "seq_len = [len(i.split()) for i in val_text]\n",
        "pd.Series(seq_len).hist(bins = 30)"
      ],
      "id": "FRFJV3SjL0PQ",
      "execution_count": 12,
      "outputs": [
        {
          "output_type": "execute_result",
          "data": {
            "text/plain": [
              "<matplotlib.axes._subplots.AxesSubplot at 0x7f244e753650>"
            ]
          },
          "metadata": {
            "tags": []
          },
          "execution_count": 12
        },
        {
          "output_type": "display_data",
          "data": {
            "image/png": "[encoded data removed]",
            "text/plain": [
              "<Figure size 432x288 with 1 Axes>"
            ]
          },
          "metadata": {
            "tags": [],
            "needs_background": "light"
          }
        }
      ]
    },
    {
      "cell_type": "code",
      "metadata": {
        "colab": {
          "base_uri": "https://localhost:8080/",
          "height": 283
        },
        "id": "009sBiyML0SL",
        "outputId": "7c32bac5-7b6c-4a50-a209-0777ed57bc23"
      },
      "source": [
        "# get length of all the messages in the test set\n",
        "seq_len = [len(i.split()) for i in test_text]\n",
        "pd.Series(seq_len).hist(bins = 30)"
      ],
      "id": "009sBiyML0SL",
      "execution_count": 13,
      "outputs": [
        {
          "output_type": "execute_result",
          "data": {
            "text/plain": [
              "<matplotlib.axes._subplots.AxesSubplot at 0x7f244e2d2f10>"
            ]
          },
          "metadata": {
            "tags": []
          },
          "execution_count": 13
        },
        {
          "output_type": "display_data",
          "data": {
            "image/png": "[encoded data removed]",
            "text/plain": [
              "<Figure size 432x288 with 1 Axes>"
            ]
          },
          "metadata": {
            "tags": [],
            "needs_background": "light"
          }
        }
      ]
    },
    {
      "cell_type": "code",
      "metadata": {
        "id": "x8ahQLvTMHAD"
      },
      "source": [
        "# tokenize and encode sequences in the training set\n",
        "tokens_train = tokenizer.batch_encode_plus(\n",
        "    train_text.tolist(),\n",
        "    max_length = 25,\n",
        "    padding='longest',\n",
        "    truncation=True\n",
        ")\n",
        "\n",
        "# tokenize and encode sequences in the validation set\n",
        "tokens_val = tokenizer.batch_encode_plus(\n",
        "    val_text.tolist(),\n",
        "    max_length = 25,\n",
        "    padding='longest',\n",
        "    truncation=True\n",
        ")\n",
        "\n",
        "# tokenize and encode sequences in the test set\n",
        "tokens_test = tokenizer.batch_encode_plus(\n",
        "    test_text.tolist(),\n",
        "    max_length = 25,\n",
        "    padding='longest',\n",
        "    truncation=True\n",
        ")"
      ],
      "id": "x8ahQLvTMHAD",
      "execution_count": 14,
      "outputs": []
    },
    {
      "cell_type": "code",
      "metadata": {
        "id": "mxMEglDEMHC-"
      },
      "source": [
        "## convert lists to tensors\n",
        "\n",
        "train_seq = torch.tensor(tokens_train['input_ids'])\n",
        "train_mask = torch.tensor(tokens_train['attention_mask'])\n",
        "train_y = torch.tensor(train_labels.tolist())\n",
        "\n",
        "val_seq = torch.tensor(tokens_val['input_ids'])\n",
        "val_mask = torch.tensor(tokens_val['attention_mask'])\n",
        "val_y = torch.tensor(val_labels.tolist())\n",
        "\n",
        "test_seq = torch.tensor(tokens_test['input_ids'])\n",
        "test_mask = torch.tensor(tokens_test['attention_mask'])\n",
        "test_y = torch.tensor(test_labels.tolist())"
      ],
      "id": "mxMEglDEMHC-",
      "execution_count": 15,
      "outputs": []
    },
    {
      "cell_type": "code",
      "metadata": {
        "id": "f6o-rH12MHF5"
      },
      "source": [
        "#define a batch size\n",
        "batch_size = 32\n",
        "\n",
        "# wrap tensors\n",
        "train_data = TensorDataset(train_seq, train_mask, train_y)\n",
        "\n",
        "# sampler for sampling the data during training\n",
        "train_sampler = RandomSampler(train_data)\n",
        "\n",
        "# dataLoader for train set\n",
        "train_dataloader = DataLoader(train_data, sampler=train_sampler, batch_size=batch_size, drop_last=True)\n",
        "\n",
        "# wrap tensors\n",
        "val_data = TensorDataset(val_seq, val_mask, val_y)\n",
        "\n",
        "# sampler for sampling the data during training\n",
        "val_sampler = SequentialSampler(val_data)\n",
        "\n",
        "# dataLoader for validation set\n",
        "val_dataloader = DataLoader(val_data, sampler = val_sampler, batch_size=batch_size, drop_last=True)\n",
        "\n",
        "# wrap tensors\n",
        "test_data = TensorDataset(test_seq, test_mask, test_y)\n",
        "\n",
        "# sampler for sampling the data during training\n",
        "test_sampler = SequentialSampler(test_data)\n",
        "\n",
        "# dataLoader for test set\n",
        "test_dataloader = DataLoader(test_data, sampler = test_sampler, batch_size=batch_size, drop_last=True)"
      ],
      "id": "f6o-rH12MHF5",
      "execution_count": 16,
      "outputs": []
    },
    {
      "cell_type": "code",
      "metadata": {
        "id": "0fFVgQuvnf9Y"
      },
      "source": [
        "import torch.nn as nn\n",
        "import torch.nn.functional as F\n",
        "\n",
        "class BERTCNN(nn.Module):\n",
        "    def __init__(self, bert, embedding_dim, output_size_linear, \\\n",
        "                 cnn_channel_size, cnn_kernel_size=(3,1),cnn_padding=0, cnn_stride=1):\n",
        "\n",
        "        super(BERTCNN, self).__init__()\n",
        "        \n",
        "        self.bert = bert\n",
        "        embedding_dim2 = bert.config.to_dict()['hidden_size']\n",
        "        \n",
        "        self.channel_size = cnn_channel_size  #50\n",
        "        self.output_size_linear = output_size_linear  #1\n",
        "        self.cnn_kernel_size = cnn_kernel_size\n",
        "        self.padding = cnn_padding\n",
        "        self.stride = cnn_stride\n",
        "        #self.vocab_size = vocab_size   \n",
        "        self.embed_dim = embedding_dim  #768\n",
        "        \n",
        "        #self.embed = nn.Embedding(self.vocab_size, self.embed_dim)\n",
        "        self.conv1 = nn.Conv2d(1,  self.channel_size, (3,self.embed_dim), stride = 1)\n",
        "        self.conv2 = nn.Conv2d(self.channel_size,  self.channel_size,  \n",
        "                                kernel_size=self.cnn_kernel_size, padding=0,\n",
        "                               stride = self.stride)\n",
        "        self.padding1 = nn.ZeroPad2d((0, 0, 1, 1))  # top bottom\n",
        "        self.padding2 = nn.ZeroPad2d((0, 0, 0, 1))  # bottom\n",
        "        self.max_pool = nn.MaxPool2d(kernel_size=(3, 1), stride=2)      \n",
        "        \n",
        "        self._repeat_block = nn.Sequential( # input [batch_size, num_filters, seq_len-3+1, 1]\n",
        "                    nn.ZeroPad2d((0, 0, 1, 1)), # [batch_size, num_filters, seq_len, 1]\n",
        "                    nn.ReLU(),\n",
        "                    nn.Conv2d(self.channel_size,  self.channel_size,   # [batch_size, num_filters, seq_len-3+1, 1]\n",
        "                                kernel_size=self.cnn_kernel_size, padding=0,\n",
        "                               stride = self.stride),\n",
        "                    nn.ZeroPad2d((0, 0, 1, 1)), # [batch_size, num_filters, seq_len, 1]\n",
        "                    nn.ReLU(),\n",
        "                    nn.Conv2d(self.channel_size,  self.channel_size,  # [batch_size, num_filters, seq_len-3+1, 1]\n",
        "                                kernel_size=self.cnn_kernel_size, padding=0,\n",
        "                               stride = self.stride),\n",
        "            )\n",
        "        \n",
        "        # Drop probability\n",
        "        self.dropout = nn.Dropout(p=0.2)\n",
        "        self.linear1 = nn.Linear(self.channel_size,self.output_size_linear)\n",
        "          \n",
        "    def repeat_block(self, x): # input [batch_size, num_filters, seq_len-3+1, 1]\n",
        "        x = self.padding2(x) # [batch_size, num_filters, seq_len-1, 1] -> seq_len-3+1+1 = seq_len-1\n",
        "        x1 = self.max_pool(x)  # [batch_size, num_filters, (seq_len-1) // 3, 1 //1] -> seq_len-3+1+1 = seq_len-1\n",
        "        # conv block\n",
        "        x2 = self._repeat_block(x1)\n",
        "        # Identity addition\n",
        "        x = x1 + x2\n",
        "        return x\n",
        "\n",
        "    def forward(self, text):\n",
        "        \n",
        "        #text = [batch size, sent len]\n",
        "                \n",
        "        with torch.no_grad():\n",
        "            embedded = self.bert(text)[0]\n",
        "        \n",
        "        #embedded = self.embed(x)\n",
        "        x = embedded.unsqueeze(1) # [batch_size, 1, seq_len, embedding_dim]\n",
        "        x = self.conv1(x)  # [batch_size, num_filters, seq_len-3+1, 1]\n",
        "        x = self.padding1(x)  # [batch_size, num_filters, seq_len, 1]\n",
        "        x = F.relu(x)\n",
        "        x = self.conv2(x)  # [batch_size, num_filters, seq_len-3+1, 1]\n",
        "        \n",
        "        while x.size()[2] >= 2: # till seq_len is 1\n",
        "            x = self.repeat_block(x)  # [batch_size, num_filters,1,1] at the end\n",
        "        \n",
        "        # linear layer\n",
        "        x = x.view(x.shape[0], -1) # [batch_size, num_filters]\n",
        "\n",
        "        output = self.linear1(x)  # [batch_size, output size]\n",
        "\n",
        "        output = self.dropout(output)\n",
        "\n",
        "        return output\n",
        "        "
      ],
      "id": "0fFVgQuvnf9Y",
      "execution_count": 17,
      "outputs": []
    },
    {
      "cell_type": "code",
      "metadata": {
        "id": "dIDn_dCnnf9Z"
      },
      "source": [
        "model = BERTCNN(bert, 768, 3, 64)\n",
        "\n",
        "model = model.to(device)"
      ],
      "id": "dIDn_dCnnf9Z",
      "execution_count": 18,
      "outputs": []
    },
    {
      "cell_type": "code",
      "metadata": {
        "id": "tpSgEFqSMWFx"
      },
      "source": [
        "# optimizer from hugging face transformers\n",
        "from transformers import AdamW\n",
        "\n",
        "# define the optimizer\n",
        "# lr=learning rate\n",
        "optimizer_model = AdamW(model.parameters(), lr = 1e-3)   \n",
        "scheduler_model = torch.optim.lr_scheduler.StepLR(optimizer_model, step_size = 2, gamma=0.3)\n"
      ],
      "id": "tpSgEFqSMWFx",
      "execution_count": 19,
      "outputs": []
    },
    {
      "cell_type": "code",
      "metadata": {
        "colab": {
          "base_uri": "https://localhost:8080/"
        },
        "id": "zLldDFy5MoSQ",
        "outputId": "f4c5af59-2118-42c4-900a-5cdd99fce014"
      },
      "source": [
        "from sklearn.utils.class_weight import compute_class_weight\n",
        "\n",
        "#compute the class weights\n",
        "class_weights = compute_class_weight('balanced', np.unique(train_labels), train_labels)\n",
        "\n",
        "print(\"Class Weights:\",class_weights)"
      ],
      "id": "zLldDFy5MoSQ",
      "execution_count": 20,
      "outputs": [
        {
          "output_type": "stream",
          "text": [
            "Class Weights: [0.53167315 1.57491932 2.06529625]\n"
          ],
          "name": "stdout"
        }
      ]
    },
    {
      "cell_type": "code",
      "metadata": {
        "id": "j-gWekp8MoUs"
      },
      "source": [
        "# converting list of class weights to a tensor\n",
        "weights= torch.tensor(class_weights,dtype=torch.float)\n",
        "\n",
        "# push to GPU\n",
        "weights = weights.to(device)\n",
        "\n",
        "# define the loss function\n",
        "cross_entropy  = nn.CrossEntropyLoss(weight=weights) \n",
        "\n",
        "# number of training epochs\n",
        "epochs = 20"
      ],
      "id": "j-gWekp8MoUs",
      "execution_count": 21,
      "outputs": []
    },
    {
      "cell_type": "code",
      "metadata": {
        "id": "0urcXBDoMoXh"
      },
      "source": [
        "# function to train the model\n",
        "def train():\n",
        "  \n",
        "  model.train()\n",
        "\n",
        "  total_loss, total_accuracy = 0, 0\n",
        "  \n",
        "  # empty list to save model predictions\n",
        "  total_preds=[]\n",
        "  \n",
        "  # iterate over batches\n",
        "  for step,batch in enumerate(train_dataloader):\n",
        "    \n",
        "    # progress update after every 50 batches.\n",
        "    if step % 50 == 0 and not step == 0:\n",
        "      print('  Batch {:>5,}  of  {:>5,}.'.format(step, len(train_dataloader)))\n",
        "\n",
        "    # push the batch to gpu\n",
        "    batch = [r.to(device) for r in batch]\n",
        " \n",
        "    sent_id, mask, labels = batch\n",
        "\n",
        "    # clear previously calculated gradients \n",
        "\n",
        "    optimizer_model.zero_grad()\n",
        "\n",
        "    # get model predictions for the current batch\n",
        "    \n",
        "    #embed = bert(sent_id, attention_mask=mask)\n",
        "    #x = embed['last_hidden_state'].unsqueeze(1) # [batch_size, 1, seq_len, embedding_dim]\n",
        "    preds = model(sent_id)\n",
        "\n",
        "    # compute the loss between actual and predicted values\n",
        "    loss = cross_entropy(preds, labels)\n",
        "\n",
        "    # add on to the total loss\n",
        "    total_loss = total_loss + loss.item()\n",
        "\n",
        "    # backward pass to calculate the gradients\n",
        "    loss.backward()\n",
        "\n",
        "    # clip the the gradients to 1.0. It helps in preventing the exploding gradient problem\n",
        "    torch.nn.utils.clip_grad_norm_(model.parameters(), 1.0)\n",
        "  \n",
        "    # update parameters\n",
        "    optimizer_model.step()\n",
        "\n",
        "    # model predictions are stored on GPU. So, push it to CPU\n",
        "    preds=preds.detach().cpu().numpy()\n",
        "\n",
        "    # append the model predictions\n",
        "    total_preds.append(preds)\n",
        "    \n",
        "  # compute the training loss of the epoch\n",
        "  avg_loss = total_loss / len(train_dataloader)\n",
        "  \n",
        "  # predictions are in the form of (no. of batches, size of batch, no. of classes).\n",
        "  # reshape the predictions in form of (number of samples, no. of classes)\n",
        "  total_preds  = np.concatenate(total_preds, axis=0)\n",
        "\n",
        "  #returns the loss and predictions\n",
        "  return avg_loss, total_preds"
      ],
      "id": "0urcXBDoMoXh",
      "execution_count": 22,
      "outputs": []
    },
    {
      "cell_type": "code",
      "metadata": {
        "id": "394iYa-dMoaU"
      },
      "source": [
        "# function for evaluating the model\n",
        "def evaluate():\n",
        "  \n",
        "  print(\"\\nEvaluating...\")\n",
        "  t0 = time.time()\n",
        "  # deactivate dropout layers\n",
        "  #model.eval() replace below?\n",
        "  model.eval()\n",
        "  \n",
        "  total_loss, total_accuracy = 0, 0\n",
        "  \n",
        "  # empty list to save the model predictions\n",
        "  total_preds = []\n",
        "\n",
        "  # iterate over batches\n",
        "  for step,batch in enumerate(val_dataloader):\n",
        "    \n",
        "    # Progress update every 50 batches.\n",
        "    if step % 50 == 0 and not step == 0:\n",
        "      \n",
        "      # Calculate elapsed time in minutes.\n",
        "      elapsed = time.time() - t0\n",
        "            \n",
        "      # Report progress.\n",
        "      print('  Batch {:>5,}  of  {:>5,}.'.format(step, len(val_dataloader)))\n",
        "\n",
        "    # push the batch to gpu\n",
        "    batch = [t.to(device) for t in batch]\n",
        "\n",
        "    sent_id, mask, labels = batch\n",
        "\n",
        "    # deactivate autograd\n",
        "    with torch.no_grad():\n",
        "      \n",
        "      # model predictions\n",
        "      \n",
        "      preds = model(sent_id)\n",
        "\n",
        "      # compute the validation loss between actual and predicted values\n",
        "      loss = cross_entropy(preds,labels)\n",
        "\n",
        "      total_loss = total_loss + loss.item()\n",
        "\n",
        "      preds = preds.detach().cpu().numpy()\n",
        "\n",
        "      total_preds.append(preds)\n",
        "\n",
        "  # compute the validation loss of the epoch\n",
        "  avg_loss = total_loss / len(val_dataloader) \n",
        "\n",
        "  # reshape the predictions in form of (number of samples, no. of classes)\n",
        "  total_preds  = np.concatenate(total_preds, axis=0)\n",
        "\n",
        "  return avg_loss, total_preds"
      ],
      "id": "394iYa-dMoaU",
      "execution_count": 23,
      "outputs": []
    },
    {
      "cell_type": "code",
      "metadata": {
        "colab": {
          "base_uri": "https://localhost:8080/"
        },
        "id": "cAg_84xlModL",
        "outputId": "096afb9f-c187-4510-ddec-dda7452276b2"
      },
      "source": [
        "# set initial loss to infinite\n",
        "best_valid_loss = float('inf')\n",
        "\n",
        "# empty lists to store training and validation loss of each epoch\n",
        "train_losses=[]\n",
        "valid_losses=[]\n",
        "\n",
        "\n",
        "#for each epoch\n",
        "for epoch in range(1, epochs+1):\n",
        "\n",
        "    print('\\n Epoch {:} / {:}'.format(epoch, epochs))\n",
        "    \n",
        "    #train model\n",
        "    train_loss, _ = train()\n",
        "    \n",
        "    #evaluate model\n",
        "    valid_loss, _ = evaluate()\n",
        "\n",
        "    scheduler_model.step()\n",
        "    \n",
        "    \n",
        "    #save the best model\n",
        "    #if valid_loss < best_valid_loss:\n",
        "    #    best_valid_loss = valid_loss\n",
        "    #    torch.save(bert.state_dict(), 'bert_saved_weights.pt')\n",
        "    #    torch.save(dpcnn.state_dict(), 'dpcnn_saved_weights.pt')\n",
        "    \n",
        "    # append training and validation loss\n",
        "    train_losses.append(train_loss)\n",
        "    valid_losses.append(valid_loss)\n",
        "  \n",
        "    print(f'\\nTraining Loss: {train_loss:.3f}')\n",
        "    print(f'Validation Loss: {valid_loss:.3f}')\n",
        "    #break"
      ],
      "id": "cAg_84xlModL",
      "execution_count": 24,
      "outputs": [
        {
          "output_type": "stream",
          "text": [
            "\n",
            " Epoch 1 / 20\n",
            "  Batch    50  of    320.\n",
            "  Batch   100  of    320.\n",
            "  Batch   150  of    320.\n",
            "  Batch   200  of    320.\n",
            "  Batch   250  of    320.\n",
            "  Batch   300  of    320.\n",
            "\n",
            "Evaluating...\n",
            "  Batch    50  of     68.\n",
            "\n",
            "Training Loss: 0.774\n",
            "Validation Loss: 0.596\n",
            "\n",
            " Epoch 2 / 20\n",
            "  Batch    50  of    320.\n",
            "  Batch   100  of    320.\n",
            "  Batch   150  of    320.\n",
            "  Batch   200  of    320.\n",
            "  Batch   250  of    320.\n",
            "  Batch   300  of    320.\n",
            "\n",
            "Evaluating...\n",
            "  Batch    50  of     68.\n",
            "\n",
            "Training Loss: 0.655\n",
            "Validation Loss: 0.570\n",
            "\n",
            " Epoch 3 / 20\n",
            "  Batch    50  of    320.\n",
            "  Batch   100  of    320.\n",
            "  Batch   150  of    320.\n",
            "  Batch   200  of    320.\n",
            "  Batch   250  of    320.\n",
            "  Batch   300  of    320.\n",
            "\n",
            "Evaluating...\n",
            "  Batch    50  of     68.\n",
            "\n",
            "Training Loss: 0.578\n",
            "Validation Loss: 0.567\n",
            "\n",
            " Epoch 4 / 20\n",
            "  Batch    50  of    320.\n",
            "  Batch   100  of    320.\n",
            "  Batch   150  of    320.\n",
            "  Batch   200  of    320.\n",
            "  Batch   250  of    320.\n",
            "  Batch   300  of    320.\n",
            "\n",
            "Evaluating...\n",
            "  Batch    50  of     68.\n",
            "\n",
            "Training Loss: 0.573\n",
            "Validation Loss: 0.546\n",
            "\n",
            " Epoch 5 / 20\n",
            "  Batch    50  of    320.\n",
            "  Batch   100  of    320.\n",
            "  Batch   150  of    320.\n",
            "  Batch   200  of    320.\n",
            "  Batch   250  of    320.\n",
            "  Batch   300  of    320.\n",
            "\n",
            "Evaluating...\n",
            "  Batch    50  of     68.\n",
            "\n",
            "Training Loss: 0.536\n",
            "Validation Loss: 0.563\n",
            "\n",
            " Epoch 6 / 20\n",
            "  Batch    50  of    320.\n",
            "  Batch   100  of    320.\n",
            "  Batch   150  of    320.\n",
            "  Batch   200  of    320.\n",
            "  Batch   250  of    320.\n",
            "  Batch   300  of    320.\n",
            "\n",
            "Evaluating...\n",
            "  Batch    50  of     68.\n",
            "\n",
            "Training Loss: 0.542\n",
            "Validation Loss: 0.563\n",
            "\n",
            " Epoch 7 / 20\n",
            "  Batch    50  of    320.\n",
            "  Batch   100  of    320.\n",
            "  Batch   150  of    320.\n",
            "  Batch   200  of    320.\n",
            "  Batch   250  of    320.\n",
            "  Batch   300  of    320.\n",
            "\n",
            "Evaluating...\n",
            "  Batch    50  of     68.\n",
            "\n",
            "Training Loss: 0.516\n",
            "Validation Loss: 0.561\n",
            "\n",
            " Epoch 8 / 20\n",
            "  Batch    50  of    320.\n",
            "  Batch   100  of    320.\n",
            "  Batch   150  of    320.\n",
            "  Batch   200  of    320.\n",
            "  Batch   250  of    320.\n",
            "  Batch   300  of    320.\n",
            "\n",
            "Evaluating...\n",
            "  Batch    50  of     68.\n",
            "\n",
            "Training Loss: 0.523\n",
            "Validation Loss: 0.567\n",
            "\n",
            " Epoch 9 / 20\n",
            "  Batch    50  of    320.\n",
            "  Batch   100  of    320.\n",
            "  Batch   150  of    320.\n",
            "  Batch   200  of    320.\n",
            "  Batch   250  of    320.\n",
            "  Batch   300  of    320.\n",
            "\n",
            "Evaluating...\n",
            "  Batch    50  of     68.\n",
            "\n",
            "Training Loss: 0.513\n",
            "Validation Loss: 0.563\n",
            "\n",
            " Epoch 10 / 20\n",
            "  Batch    50  of    320.\n",
            "  Batch   100  of    320.\n",
            "  Batch   150  of    320.\n",
            "  Batch   200  of    320.\n",
            "  Batch   250  of    320.\n",
            "  Batch   300  of    320.\n",
            "\n",
            "Evaluating...\n",
            "  Batch    50  of     68.\n",
            "\n",
            "Training Loss: 0.512\n",
            "Validation Loss: 0.564\n",
            "\n",
            " Epoch 11 / 20\n",
            "  Batch    50  of    320.\n",
            "  Batch   100  of    320.\n",
            "  Batch   150  of    320.\n",
            "  Batch   200  of    320.\n",
            "  Batch   250  of    320.\n",
            "  Batch   300  of    320.\n",
            "\n",
            "Evaluating...\n",
            "  Batch    50  of     68.\n",
            "\n",
            "Training Loss: 0.516\n",
            "Validation Loss: 0.564\n",
            "\n",
            " Epoch 12 / 20\n",
            "  Batch    50  of    320.\n",
            "  Batch   100  of    320.\n",
            "  Batch   150  of    320.\n",
            "  Batch   200  of    320.\n",
            "  Batch   250  of    320.\n",
            "  Batch   300  of    320.\n",
            "\n",
            "Evaluating...\n",
            "  Batch    50  of     68.\n",
            "\n",
            "Training Loss: 0.513\n",
            "Validation Loss: 0.564\n",
            "\n",
            " Epoch 13 / 20\n",
            "  Batch    50  of    320.\n",
            "  Batch   100  of    320.\n",
            "  Batch   150  of    320.\n",
            "  Batch   200  of    320.\n",
            "  Batch   250  of    320.\n",
            "  Batch   300  of    320.\n",
            "\n",
            "Evaluating...\n",
            "  Batch    50  of     68.\n",
            "\n",
            "Training Loss: 0.509\n",
            "Validation Loss: 0.564\n",
            "\n",
            " Epoch 14 / 20\n",
            "  Batch    50  of    320.\n",
            "  Batch   100  of    320.\n",
            "  Batch   150  of    320.\n",
            "  Batch   200  of    320.\n",
            "  Batch   250  of    320.\n",
            "  Batch   300  of    320.\n",
            "\n",
            "Evaluating...\n",
            "  Batch    50  of     68.\n",
            "\n",
            "Training Loss: 0.515\n",
            "Validation Loss: 0.564\n",
            "\n",
            " Epoch 15 / 20\n",
            "  Batch    50  of    320.\n",
            "  Batch   100  of    320.\n",
            "  Batch   150  of    320.\n",
            "  Batch   200  of    320.\n",
            "  Batch   250  of    320.\n",
            "  Batch   300  of    320.\n",
            "\n",
            "Evaluating...\n",
            "  Batch    50  of     68.\n",
            "\n",
            "Training Loss: 0.515\n",
            "Validation Loss: 0.564\n",
            "\n",
            " Epoch 16 / 20\n",
            "  Batch    50  of    320.\n",
            "  Batch   100  of    320.\n",
            "  Batch   150  of    320.\n",
            "  Batch   200  of    320.\n",
            "  Batch   250  of    320.\n",
            "  Batch   300  of    320.\n",
            "\n",
            "Evaluating...\n",
            "  Batch    50  of     68.\n",
            "\n",
            "Training Loss: 0.508\n",
            "Validation Loss: 0.564\n",
            "\n",
            " Epoch 17 / 20\n",
            "  Batch    50  of    320.\n",
            "  Batch   100  of    320.\n",
            "  Batch   150  of    320.\n",
            "  Batch   200  of    320.\n",
            "  Batch   250  of    320.\n",
            "  Batch   300  of    320.\n",
            "\n",
            "Evaluating...\n",
            "  Batch    50  of     68.\n",
            "\n",
            "Training Loss: 0.516\n",
            "Validation Loss: 0.564\n",
            "\n",
            " Epoch 18 / 20\n",
            "  Batch    50  of    320.\n",
            "  Batch   100  of    320.\n",
            "  Batch   150  of    320.\n",
            "  Batch   200  of    320.\n",
            "  Batch   250  of    320.\n",
            "  Batch   300  of    320.\n",
            "\n",
            "Evaluating...\n",
            "  Batch    50  of     68.\n",
            "\n",
            "Training Loss: 0.513\n",
            "Validation Loss: 0.564\n",
            "\n",
            " Epoch 19 / 20\n",
            "  Batch    50  of    320.\n",
            "  Batch   100  of    320.\n",
            "  Batch   150  of    320.\n",
            "  Batch   200  of    320.\n",
            "  Batch   250  of    320.\n",
            "  Batch   300  of    320.\n",
            "\n",
            "Evaluating...\n",
            "  Batch    50  of     68.\n",
            "\n",
            "Training Loss: 0.508\n",
            "Validation Loss: 0.564\n",
            "\n",
            " Epoch 20 / 20\n",
            "  Batch    50  of    320.\n",
            "  Batch   100  of    320.\n",
            "  Batch   150  of    320.\n",
            "  Batch   200  of    320.\n",
            "  Batch   250  of    320.\n",
            "  Batch   300  of    320.\n",
            "\n",
            "Evaluating...\n",
            "  Batch    50  of     68.\n",
            "\n",
            "Training Loss: 0.509\n",
            "Validation Loss: 0.564\n"
          ],
          "name": "stdout"
        }
      ]
    },
    {
      "cell_type": "code",
      "metadata": {
        "id": "jBMtAOvUMof6"
      },
      "source": [],
      "id": "jBMtAOvUMof6",
      "execution_count": null,
      "outputs": []
    },
    {
      "cell_type": "code",
      "metadata": {
        "id": "zMOOiv2TMoiv"
      },
      "source": [
        "# function for evaluating the model\n",
        "def test():\n",
        "  \n",
        "  print(\"\\nEvaluating...\")\n",
        "  t0 = time.time()\n",
        "  # deactivate dropout layers\n",
        "  #model.eval() replace below?\n",
        "\n",
        "  #load weights of best model\n",
        "  #bpath = 'bert_saved_weights.pt'\n",
        "  #bert.load_state_dict(bert.load(bpath))\n",
        "\n",
        "  model.eval()\n",
        "\n",
        "  total_loss, total_accuracy = 0, 0\n",
        "  \n",
        "  # empty list to save the model predictions\n",
        "  total_preds = []\n",
        "  total_targets = []\n",
        "  # iterate over batches\n",
        "  for step,batch in enumerate(test_dataloader):\n",
        "    \n",
        "    # Progress update every 50 batches.\n",
        "    if step % 50 == 0 and not step == 0:\n",
        "      \n",
        "      # Calculate elapsed time in minutes.\n",
        "      elapsed = time.time() - t0\n",
        "            \n",
        "      # Report progress.\n",
        "      print('  Batch {:>5,}  of  {:>5,}.'.format(step, len(test_dataloader)))\n",
        "\n",
        "    # push the batch to gpu\n",
        "    batch = [t.to(device) for t in batch]\n",
        "\n",
        "    sent_id, mask, labels = batch\n",
        "\n",
        "    # deactivate autograd\n",
        "    with torch.no_grad():\n",
        "      \n",
        "      # model predictions\n",
        "      preds = model(sent_id)\n",
        "\n",
        "      # compute the validation loss between actual and predicted values\n",
        "      loss = cross_entropy(preds,labels)\n",
        "\n",
        "      total_loss = total_loss + loss.item()\n",
        "\n",
        "      preds = preds.detach().cpu()\n",
        "      labels = labels.detach().cpu()\n",
        "\n",
        "      total_preds.append(preds.numpy())\n",
        "      total_targets.append(labels.numpy())\n",
        "  # compute the validation loss of the epoch\n",
        "  avg_loss = total_loss / len(test_dataloader) \n",
        "\n",
        "  # reshape the predictions in form of (number of samples, no. of classes)\n",
        "  total_preds  = np.concatenate(total_preds, axis=0)\n",
        "  total_targets = np.concatenate(total_targets, axis=0)\n",
        "\n",
        "  return avg_loss, total_preds, total_targets"
      ],
      "id": "zMOOiv2TMoiv",
      "execution_count": 25,
      "outputs": []
    },
    {
      "cell_type": "code",
      "metadata": {
        "colab": {
          "base_uri": "https://localhost:8080/"
        },
        "id": "9VIA2Wu6Moli",
        "outputId": "3e8c3fdf-d5b0-42e9-9adf-5480884e0a37"
      },
      "source": [
        "test_loss, test_preds, test_targets = test()\n",
        "print(f'Validation Loss: {test_loss:.3f}')"
      ],
      "id": "9VIA2Wu6Moli",
      "execution_count": 26,
      "outputs": [
        {
          "output_type": "stream",
          "text": [
            "\n",
            "Evaluating...\n",
            "  Batch    50  of     68.\n",
            "Validation Loss: 0.604\n"
          ],
          "name": "stdout"
        }
      ]
    },
    {
      "cell_type": "code",
      "metadata": {
        "colab": {
          "base_uri": "https://localhost:8080/"
        },
        "id": "gtHGJGniMooS",
        "outputId": "c9d2d0e6-ecd0-4477-d813-e987f63f7ee0"
      },
      "source": [
        "test_preds_classes = np.argmax(test_preds, axis = 1)\n",
        "print(classification_report(test_targets, test_preds_classes))"
      ],
      "id": "gtHGJGniMooS",
      "execution_count": 27,
      "outputs": [
        {
          "output_type": "stream",
          "text": [
            "              precision    recall  f1-score   support\n",
            "\n",
            "           0       0.92      0.79      0.85      1368\n",
            "           1       0.54      0.70      0.61       457\n",
            "           2       0.69      0.80      0.74       351\n",
            "\n",
            "    accuracy                           0.77      2176\n",
            "   macro avg       0.72      0.77      0.74      2176\n",
            "weighted avg       0.80      0.77      0.78      2176\n",
            "\n"
          ],
          "name": "stdout"
        }
      ]
    },
    {
      "cell_type": "code",
      "metadata": {
        "colab": {
          "base_uri": "https://localhost:8080/"
        },
        "id": "9m5SiDGHMorU",
        "outputId": "b4050718-db7b-484d-a8cd-b31b7aa5d52d"
      },
      "source": [
        "# Get confusion matrix\n",
        "from sklearn.metrics import confusion_matrix\n",
        "cf = confusion_matrix(test_targets, test_preds_classes)\n",
        "cf #cf[actu][pred]\n",
        "# pred 0 1 2 3\n",
        "# actu\n",
        "# 0\n",
        "# 1\n",
        "# 2\n",
        "# 3"
      ],
      "id": "9m5SiDGHMorU",
      "execution_count": 28,
      "outputs": [
        {
          "output_type": "execute_result",
          "data": {
            "text/plain": [
              "array([[1084,  223,   61],\n",
              "       [  73,  320,   64],\n",
              "       [  22,   47,  282]])"
            ]
          },
          "metadata": {
            "tags": []
          },
          "execution_count": 28
        }
      ]
    },
    {
      "cell_type": "code",
      "metadata": {
        "id": "0y4WvtVoM0Zu"
      },
      "source": [
        "import matplotlib.pyplot as plt # we only need pyplot\n",
        "import matplotlib.cm as cm\n",
        "import matplotlib\n",
        "\n",
        "# Get components of actual labels\n",
        "def getPredictionOfActualLabels(cf,actual_label,angle=45):\n",
        "    sizes = []\n",
        "    # cf[actual-1][predicted-1]\n",
        "    #pa1 = cf[actual_label-1][0]\n",
        "    #pa2 = cf[actual_label-1][1]\n",
        "    #pa3 = cf[actual_label-1][2]\n",
        "    #pa4 = cf[actual_label-1][3]\n",
        "    #pa5 = cf[actual_label-1][4]\n",
        "    \n",
        "    for i in range(3):\n",
        "        sizes.append(cf[actual_label][i])\n",
        "    \n",
        "    # Data to plot\n",
        "    labels = ['negative', 'neutral', 'positive']\n",
        "    #sizes = [p[0], p[1], p[2], p[3]]\n",
        "    colors = ['lightskyblue', 'yellowgreen', 'lightcoral']\n",
        "\n",
        "    # Plot\n",
        "    plt.pie(sizes, labels=labels, colors=colors, autopct='%1.0f%%', shadow=False, startangle=angle, textprops={'fontsize': 14})\n",
        "    plt.title(\"Predictions of Ratings with actual labels as \"+labels[actual_label],fontsize=20)\n",
        "    #matplotlib.rcParams['text.color'] = 'white'\n",
        "\n",
        "    plt.axis('equal')\n",
        "    plt.show()\n",
        "\n",
        "# Get components of predictions\n",
        "def getActualLabelsOfPredictions(cf,pred_label,angle=45):\n",
        "    sizes = []\n",
        "    # cf[actual-1][predicted-1]\n",
        "    #pa1 = cf[actual_label-1][0]\n",
        "    #pa2 = cf[actual_label-1][1]\n",
        "    #pa3 = cf[actual_label-1][2]\n",
        "    #pa4 = cf[actual_label-1][3]\n",
        "    #pa5 = cf[actual_label-1][4]\n",
        "    \n",
        "    for i in range(3):\n",
        "        sizes.append(cf[i][pred_label])\n",
        "    \n",
        "    # Data to plot\n",
        "    labels = ['negative', 'neutral', 'positive']\n",
        "    #sizes = [p[0], p[1], p[2], p[3]]\n",
        "    colors = ['lightskyblue', 'yellowgreen', 'lightcoral']\n",
        "\n",
        "    # Plot\n",
        "    plt.pie(sizes, labels=labels, colors=colors, autopct='%1.0f%%', shadow=False, startangle=angle, textprops={'fontsize': 14})\n",
        "    plt.title(\"Actual Labels of Ratings predicted as \"+labels[pred_label],fontsize=20)\n",
        "    #matplotlib.rcParams['text.color'] = 'white'\n",
        "\n",
        "    plt.axis('equal')\n",
        "    plt.show()"
      ],
      "id": "0y4WvtVoM0Zu",
      "execution_count": 29,
      "outputs": []
    },
    {
      "cell_type": "code",
      "metadata": {
        "colab": {
          "base_uri": "https://localhost:8080/",
          "height": 269
        },
        "id": "eNg2doPjM0ca",
        "outputId": "53585aea-5098-4ded-80f3-207562f0dff8"
      },
      "source": [
        "getPredictionOfActualLabels(cf,0,angle=45)\n"
      ],
      "id": "eNg2doPjM0ca",
      "execution_count": 30,
      "outputs": [
        {
          "output_type": "display_data",
          "data": {
            "image/png": "[encoded data removed]",
            "text/plain": [
              "<Figure size 432x288 with 1 Axes>"
            ]
          },
          "metadata": {
            "tags": []
          }
        }
      ]
    },
    {
      "cell_type": "code",
      "metadata": {
        "colab": {
          "base_uri": "https://localhost:8080/",
          "height": 269
        },
        "id": "pI-e3SPYM0fJ",
        "outputId": "a4fc6636-d420-415d-894e-ec1f52e60532"
      },
      "source": [
        "getPredictionOfActualLabels(cf,1,angle=45)"
      ],
      "id": "pI-e3SPYM0fJ",
      "execution_count": 31,
      "outputs": [
        {
          "output_type": "display_data",
          "data": {
            "image/png": "[encoded data removed]",
            "text/plain": [
              "<Figure size 432x288 with 1 Axes>"
            ]
          },
          "metadata": {
            "tags": []
          }
        }
      ]
    },
    {
      "cell_type": "code",
      "metadata": {
        "colab": {
          "base_uri": "https://localhost:8080/",
          "height": 274
        },
        "id": "4IY9vttYM0hX",
        "outputId": "1a53ffe5-e5e7-4410-9888-0b9095045ed6"
      },
      "source": [
        "getPredictionOfActualLabels(cf,2,angle=45)"
      ],
      "id": "4IY9vttYM0hX",
      "execution_count": 32,
      "outputs": [
        {
          "output_type": "display_data",
          "data": {
            "image/png": "[encoded data removed]",
            "text/plain": [
              "<Figure size 432x288 with 1 Axes>"
            ]
          },
          "metadata": {
            "tags": []
          }
        }
      ]
    },
    {
      "cell_type": "code",
      "metadata": {
        "id": "0S4mUrvWkwm0"
      },
      "source": [],
      "id": "0S4mUrvWkwm0",
      "execution_count": 32,
      "outputs": []
    },
    {
      "cell_type": "code",
      "metadata": {
        "colab": {
          "base_uri": "https://localhost:8080/",
          "height": 269
        },
        "id": "Vn_TCW6akwXs",
        "outputId": "f03ea7bf-e435-4158-e6f5-392d9fddb303"
      },
      "source": [
        "getActualLabelsOfPredictions(cf,0,angle=45)"
      ],
      "id": "Vn_TCW6akwXs",
      "execution_count": 33,
      "outputs": [
        {
          "output_type": "display_data",
          "data": {
            "image/png": "[encoded data removed]",
            "text/plain": [
              "<Figure size 432x288 with 1 Axes>"
            ]
          },
          "metadata": {
            "tags": []
          }
        }
      ]
    },
    {
      "cell_type": "code",
      "metadata": {
        "colab": {
          "base_uri": "https://localhost:8080/",
          "height": 274
        },
        "id": "q7kUS-KGkwUM",
        "outputId": "d579b74d-5ef7-4136-cb21-929015ffd35a"
      },
      "source": [
        "getActualLabelsOfPredictions(cf,1,angle=45)"
      ],
      "id": "q7kUS-KGkwUM",
      "execution_count": 34,
      "outputs": [
        {
          "output_type": "display_data",
          "data": {
            "image/png": "[encoded data removed]",
            "text/plain": [
              "<Figure size 432x288 with 1 Axes>"
            ]
          },
          "metadata": {
            "tags": []
          }
        }
      ]
    },
    {
      "cell_type": "code",
      "metadata": {
        "colab": {
          "base_uri": "https://localhost:8080/",
          "height": 273
        },
        "id": "EbqC6TqNkwRS",
        "outputId": "96c3d704-97c0-4073-b26f-29c5f9cc10e6"
      },
      "source": [
        "getActualLabelsOfPredictions(cf,2,angle=45)"
      ],
      "id": "EbqC6TqNkwRS",
      "execution_count": 35,
      "outputs": [
        {
          "output_type": "display_data",
          "data": {
            "image/png": "[encoded data removed]",
            "text/plain": [
              "<Figure size 432x288 with 1 Axes>"
            ]
          },
          "metadata": {
            "tags": []
          }
        }
      ]
    },
    {
      "cell_type": "code",
      "metadata": {
        "id": "PaNM8DR4kwFg"
      },
      "source": [],
      "id": "PaNM8DR4kwFg",
      "execution_count": null,
      "outputs": []
    },
    {
      "cell_type": "code",
      "metadata": {
        "id": "ZkFBD33UM3pJ"
      },
      "source": [
        "import pickle\n",
        "\n",
        "filenamedpcnn = '/content/drive/My Drive/content/BertAttnDPCNN4_colab_Noattention_False_tweets_Exp3dpcnn.pkl'\n",
        "filenamebert = '/content/drive/My Drive/content/BertAttnDPCNN4_colab_Noattention_False_tweets_Exp3.pkl'\n",
        "pickle.dump(bert, open(filenamebert, 'wb'))\n",
        "pickle.dump(dpcnn, open(filenamedpcnn, 'wb'))"
      ],
      "id": "ZkFBD33UM3pJ",
      "execution_count": null,
      "outputs": []
    }
  ]
}