{
  "nbformat": 4,
  "nbformat_minor": 5,
  "metadata": {
    "kernelspec": {
      "display_name": "Pytorch",
      "language": "python",
      "name": "pytorch"
    },
    "language_info": {
      "codemirror_mode": {
        "name": "ipython",
        "version": 3
      },
      "file_extension": ".py",
      "mimetype": "text/x-python",
      "name": "python",
      "nbconvert_exporter": "python",
      "pygments_lexer": "ipython3",
      "version": "3.7.8"
    },
    "colab": {
      "name": "1_BertAttnDPCNN5_colab_attention_False_Tweet_Exp6.ipynb",
      "provenance": [],
      "collapsed_sections": []
    },
    "accelerator": "GPU",
    "widgets": {
      "application/vnd.jupyter.widget-state+json": {
        "4b519ec08dbe4f6cbcc274abb8231495": {
          "model_module": "@jupyter-widgets/controls",
          "model_name": "HBoxModel",
          "state": {
            "_view_name": "HBoxView",
            "_dom_classes": [],
            "_model_name": "HBoxModel",
            "_view_module": "@jupyter-widgets/controls",
            "_model_module_version": "1.5.0",
            "_view_count": null,
            "_view_module_version": "1.5.0",
            "box_style": "",
            "layout": "IPY_MODEL_1759c9e7f3324fcdb8e045642ba1a2ba",
            "_model_module": "@jupyter-widgets/controls",
            "children": [
              "IPY_MODEL_5d31999cea3b4d8fbd25e669c7a92f41",
              "IPY_MODEL_1143706a689b4ac999de249a23b9674d"
            ]
          }
        },
        "1759c9e7f3324fcdb8e045642ba1a2ba": {
          "model_module": "@jupyter-widgets/base",
          "model_name": "LayoutModel",
          "state": {
            "_view_name": "LayoutView",
            "grid_template_rows": null,
            "right": null,
            "justify_content": null,
            "_view_module": "@jupyter-widgets/base",
            "overflow": null,
            "_model_module_version": "1.2.0",
            "_view_count": null,
            "flex_flow": null,
            "width": null,
            "min_width": null,
            "border": null,
            "align_items": null,
            "bottom": null,
            "_model_module": "@jupyter-widgets/base",
            "top": null,
            "grid_column": null,
            "overflow_y": null,
            "overflow_x": null,
            "grid_auto_flow": null,
            "grid_area": null,
            "grid_template_columns": null,
            "flex": null,
            "_model_name": "LayoutModel",
            "justify_items": null,
            "grid_row": null,
            "max_height": null,
            "align_content": null,
            "visibility": null,
            "align_self": null,
            "height": null,
            "min_height": null,
            "padding": null,
            "grid_auto_rows": null,
            "grid_gap": null,
            "max_width": null,
            "order": null,
            "_view_module_version": "1.2.0",
            "grid_template_areas": null,
            "object_position": null,
            "object_fit": null,
            "grid_auto_columns": null,
            "margin": null,
            "display": null,
            "left": null
          }
        },
        "5d31999cea3b4d8fbd25e669c7a92f41": {
          "model_module": "@jupyter-widgets/controls",
          "model_name": "FloatProgressModel",
          "state": {
            "_view_name": "ProgressView",
            "style": "IPY_MODEL_c8f1e5407ed34048855c8e006a420e4f",
            "_dom_classes": [],
            "description": "Downloading: 100%",
            "_model_name": "FloatProgressModel",
            "bar_style": "success",
            "max": 570,
            "_view_module": "@jupyter-widgets/controls",
            "_model_module_version": "1.5.0",
            "value": 570,
            "_view_count": null,
            "_view_module_version": "1.5.0",
            "orientation": "horizontal",
            "min": 0,
            "description_tooltip": null,
            "_model_module": "@jupyter-widgets/controls",
            "layout": "IPY_MODEL_ebcfc96a7cd44857ad9a4577323b364b"
          }
        },
        "1143706a689b4ac999de249a23b9674d": {
          "model_module": "@jupyter-widgets/controls",
          "model_name": "HTMLModel",
          "state": {
            "_view_name": "HTMLView",
            "style": "IPY_MODEL_4616535fed7c4fff9e29f1339968594b",
            "_dom_classes": [],
            "description": "",
            "_model_name": "HTMLModel",
            "placeholder": "​",
            "_view_module": "@jupyter-widgets/controls",
            "_model_module_version": "1.5.0",
            "value": " 570/570 [00:00&lt;00:00, 5.99kB/s]",
            "_view_count": null,
            "_view_module_version": "1.5.0",
            "description_tooltip": null,
            "_model_module": "@jupyter-widgets/controls",
            "layout": "IPY_MODEL_a48cc1f629734b70abf40ba39ef6f3b3"
          }
        },
        "c8f1e5407ed34048855c8e006a420e4f": {
          "model_module": "@jupyter-widgets/controls",
          "model_name": "ProgressStyleModel",
          "state": {
            "_view_name": "StyleView",
            "_model_name": "ProgressStyleModel",
            "description_width": "initial",
            "_view_module": "@jupyter-widgets/base",
            "_model_module_version": "1.5.0",
            "_view_count": null,
            "_view_module_version": "1.2.0",
            "bar_color": null,
            "_model_module": "@jupyter-widgets/controls"
          }
        },
        "ebcfc96a7cd44857ad9a4577323b364b": {
          "model_module": "@jupyter-widgets/base",
          "model_name": "LayoutModel",
          "state": {
            "_view_name": "LayoutView",
            "grid_template_rows": null,
            "right": null,
            "justify_content": null,
            "_view_module": "@jupyter-widgets/base",
            "overflow": null,
            "_model_module_version": "1.2.0",
            "_view_count": null,
            "flex_flow": null,
            "width": null,
            "min_width": null,
            "border": null,
            "align_items": null,
            "bottom": null,
            "_model_module": "@jupyter-widgets/base",
            "top": null,
            "grid_column": null,
            "overflow_y": null,
            "overflow_x": null,
            "grid_auto_flow": null,
            "grid_area": null,
            "grid_template_columns": null,
            "flex": null,
            "_model_name": "LayoutModel",
            "justify_items": null,
            "grid_row": null,
            "max_height": null,
            "align_content": null,
            "visibility": null,
            "align_self": null,
            "height": null,
            "min_height": null,
            "padding": null,
            "grid_auto_rows": null,
            "grid_gap": null,
            "max_width": null,
            "order": null,
            "_view_module_version": "1.2.0",
            "grid_template_areas": null,
            "object_position": null,
            "object_fit": null,
            "grid_auto_columns": null,
            "margin": null,
            "display": null,
            "left": null
          }
        },
        "4616535fed7c4fff9e29f1339968594b": {
          "model_module": "@jupyter-widgets/controls",
          "model_name": "DescriptionStyleModel",
          "state": {
            "_view_name": "StyleView",
            "_model_name": "DescriptionStyleModel",
            "description_width": "",
            "_view_module": "@jupyter-widgets/base",
            "_model_module_version": "1.5.0",
            "_view_count": null,
            "_view_module_version": "1.2.0",
            "_model_module": "@jupyter-widgets/controls"
          }
        },
        "a48cc1f629734b70abf40ba39ef6f3b3": {
          "model_module": "@jupyter-widgets/base",
          "model_name": "LayoutModel",
          "state": {
            "_view_name": "LayoutView",
            "grid_template_rows": null,
            "right": null,
            "justify_content": null,
            "_view_module": "@jupyter-widgets/base",
            "overflow": null,
            "_model_module_version": "1.2.0",
            "_view_count": null,
            "flex_flow": null,
            "width": null,
            "min_width": null,
            "border": null,
            "align_items": null,
            "bottom": null,
            "_model_module": "@jupyter-widgets/base",
            "top": null,
            "grid_column": null,
            "overflow_y": null,
            "overflow_x": null,
            "grid_auto_flow": null,
            "grid_area": null,
            "grid_template_columns": null,
            "flex": null,
            "_model_name": "LayoutModel",
            "justify_items": null,
            "grid_row": null,
            "max_height": null,
            "align_content": null,
            "visibility": null,
            "align_self": null,
            "height": null,
            "min_height": null,
            "padding": null,
            "grid_auto_rows": null,
            "grid_gap": null,
            "max_width": null,
            "order": null,
            "_view_module_version": "1.2.0",
            "grid_template_areas": null,
            "object_position": null,
            "object_fit": null,
            "grid_auto_columns": null,
            "margin": null,
            "display": null,
            "left": null
          }
        },
        "d93c6cb720d646f89640548678208879": {
          "model_module": "@jupyter-widgets/controls",
          "model_name": "HBoxModel",
          "state": {
            "_view_name": "HBoxView",
            "_dom_classes": [],
            "_model_name": "HBoxModel",
            "_view_module": "@jupyter-widgets/controls",
            "_model_module_version": "1.5.0",
            "_view_count": null,
            "_view_module_version": "1.5.0",
            "box_style": "",
            "layout": "IPY_MODEL_eed2dfc5848f4a359a29fff02294bbe4",
            "_model_module": "@jupyter-widgets/controls",
            "children": [
              "IPY_MODEL_a7f08384b1bd48dfbc5f47b4fefc8924",
              "IPY_MODEL_8fab474217ee44eb88994f527fbd476e"
            ]
          }
        },
        "eed2dfc5848f4a359a29fff02294bbe4": {
          "model_module": "@jupyter-widgets/base",
          "model_name": "LayoutModel",
          "state": {
            "_view_name": "LayoutView",
            "grid_template_rows": null,
            "right": null,
            "justify_content": null,
            "_view_module": "@jupyter-widgets/base",
            "overflow": null,
            "_model_module_version": "1.2.0",
            "_view_count": null,
            "flex_flow": null,
            "width": null,
            "min_width": null,
            "border": null,
            "align_items": null,
            "bottom": null,
            "_model_module": "@jupyter-widgets/base",
            "top": null,
            "grid_column": null,
            "overflow_y": null,
            "overflow_x": null,
            "grid_auto_flow": null,
            "grid_area": null,
            "grid_template_columns": null,
            "flex": null,
            "_model_name": "LayoutModel",
            "justify_items": null,
            "grid_row": null,
            "max_height": null,
            "align_content": null,
            "visibility": null,
            "align_self": null,
            "height": null,
            "min_height": null,
            "padding": null,
            "grid_auto_rows": null,
            "grid_gap": null,
            "max_width": null,
            "order": null,
            "_view_module_version": "1.2.0",
            "grid_template_areas": null,
            "object_position": null,
            "object_fit": null,
            "grid_auto_columns": null,
            "margin": null,
            "display": null,
            "left": null
          }
        },
        "a7f08384b1bd48dfbc5f47b4fefc8924": {
          "model_module": "@jupyter-widgets/controls",
          "model_name": "FloatProgressModel",
          "state": {
            "_view_name": "ProgressView",
            "style": "IPY_MODEL_0eb09f841701408384e88c814e681c18",
            "_dom_classes": [],
            "description": "Downloading: 100%",
            "_model_name": "FloatProgressModel",
            "bar_style": "success",
            "max": 440473133,
            "_view_module": "@jupyter-widgets/controls",
            "_model_module_version": "1.5.0",
            "value": 440473133,
            "_view_count": null,
            "_view_module_version": "1.5.0",
            "orientation": "horizontal",
            "min": 0,
            "description_tooltip": null,
            "_model_module": "@jupyter-widgets/controls",
            "layout": "IPY_MODEL_5f4eb7d914f046f587df3f2b76988f6e"
          }
        },
        "8fab474217ee44eb88994f527fbd476e": {
          "model_module": "@jupyter-widgets/controls",
          "model_name": "HTMLModel",
          "state": {
            "_view_name": "HTMLView",
            "style": "IPY_MODEL_ce3902ab9276484ca39af6b4b2a070d0",
            "_dom_classes": [],
            "description": "",
            "_model_name": "HTMLModel",
            "placeholder": "​",
            "_view_module": "@jupyter-widgets/controls",
            "_model_module_version": "1.5.0",
            "value": " 440M/440M [00:08&lt;00:00, 53.7MB/s]",
            "_view_count": null,
            "_view_module_version": "1.5.0",
            "description_tooltip": null,
            "_model_module": "@jupyter-widgets/controls",
            "layout": "IPY_MODEL_ee2668d5be4f4adcb06452280e9fd634"
          }
        },
        "0eb09f841701408384e88c814e681c18": {
          "model_module": "@jupyter-widgets/controls",
          "model_name": "ProgressStyleModel",
          "state": {
            "_view_name": "StyleView",
            "_model_name": "ProgressStyleModel",
            "description_width": "initial",
            "_view_module": "@jupyter-widgets/base",
            "_model_module_version": "1.5.0",
            "_view_count": null,
            "_view_module_version": "1.2.0",
            "bar_color": null,
            "_model_module": "@jupyter-widgets/controls"
          }
        },
        "5f4eb7d914f046f587df3f2b76988f6e": {
          "model_module": "@jupyter-widgets/base",
          "model_name": "LayoutModel",
          "state": {
            "_view_name": "LayoutView",
            "grid_template_rows": null,
            "right": null,
            "justify_content": null,
            "_view_module": "@jupyter-widgets/base",
            "overflow": null,
            "_model_module_version": "1.2.0",
            "_view_count": null,
            "flex_flow": null,
            "width": null,
            "min_width": null,
            "border": null,
            "align_items": null,
            "bottom": null,
            "_model_module": "@jupyter-widgets/base",
            "top": null,
            "grid_column": null,
            "overflow_y": null,
            "overflow_x": null,
            "grid_auto_flow": null,
            "grid_area": null,
            "grid_template_columns": null,
            "flex": null,
            "_model_name": "LayoutModel",
            "justify_items": null,
            "grid_row": null,
            "max_height": null,
            "align_content": null,
            "visibility": null,
            "align_self": null,
            "height": null,
            "min_height": null,
            "padding": null,
            "grid_auto_rows": null,
            "grid_gap": null,
            "max_width": null,
            "order": null,
            "_view_module_version": "1.2.0",
            "grid_template_areas": null,
            "object_position": null,
            "object_fit": null,
            "grid_auto_columns": null,
            "margin": null,
            "display": null,
            "left": null
          }
        },
        "ce3902ab9276484ca39af6b4b2a070d0": {
          "model_module": "@jupyter-widgets/controls",
          "model_name": "DescriptionStyleModel",
          "state": {
            "_view_name": "StyleView",
            "_model_name": "DescriptionStyleModel",
            "description_width": "",
            "_view_module": "@jupyter-widgets/base",
            "_model_module_version": "1.5.0",
            "_view_count": null,
            "_view_module_version": "1.2.0",
            "_model_module": "@jupyter-widgets/controls"
          }
        },
        "ee2668d5be4f4adcb06452280e9fd634": {
          "model_module": "@jupyter-widgets/base",
          "model_name": "LayoutModel",
          "state": {
            "_view_name": "LayoutView",
            "grid_template_rows": null,
            "right": null,
            "justify_content": null,
            "_view_module": "@jupyter-widgets/base",
            "overflow": null,
            "_model_module_version": "1.2.0",
            "_view_count": null,
            "flex_flow": null,
            "width": null,
            "min_width": null,
            "border": null,
            "align_items": null,
            "bottom": null,
            "_model_module": "@jupyter-widgets/base",
            "top": null,
            "grid_column": null,
            "overflow_y": null,
            "overflow_x": null,
            "grid_auto_flow": null,
            "grid_area": null,
            "grid_template_columns": null,
            "flex": null,
            "_model_name": "LayoutModel",
            "justify_items": null,
            "grid_row": null,
            "max_height": null,
            "align_content": null,
            "visibility": null,
            "align_self": null,
            "height": null,
            "min_height": null,
            "padding": null,
            "grid_auto_rows": null,
            "grid_gap": null,
            "max_width": null,
            "order": null,
            "_view_module_version": "1.2.0",
            "grid_template_areas": null,
            "object_position": null,
            "object_fit": null,
            "grid_auto_columns": null,
            "margin": null,
            "display": null,
            "left": null
          }
        },
        "dc8c994dbbe64a4fbe8db60954003cea": {
          "model_module": "@jupyter-widgets/controls",
          "model_name": "HBoxModel",
          "state": {
            "_view_name": "HBoxView",
            "_dom_classes": [],
            "_model_name": "HBoxModel",
            "_view_module": "@jupyter-widgets/controls",
            "_model_module_version": "1.5.0",
            "_view_count": null,
            "_view_module_version": "1.5.0",
            "box_style": "",
            "layout": "IPY_MODEL_0e95e3d20cea4037b785b2049d766e80",
            "_model_module": "@jupyter-widgets/controls",
            "children": [
              "IPY_MODEL_75683fbfa5124f93a7759b2c763a9b74",
              "IPY_MODEL_06a5534d01e8439c82a1323fa7a2093f"
            ]
          }
        },
        "0e95e3d20cea4037b785b2049d766e80": {
          "model_module": "@jupyter-widgets/base",
          "model_name": "LayoutModel",
          "state": {
            "_view_name": "LayoutView",
            "grid_template_rows": null,
            "right": null,
            "justify_content": null,
            "_view_module": "@jupyter-widgets/base",
            "overflow": null,
            "_model_module_version": "1.2.0",
            "_view_count": null,
            "flex_flow": null,
            "width": null,
            "min_width": null,
            "border": null,
            "align_items": null,
            "bottom": null,
            "_model_module": "@jupyter-widgets/base",
            "top": null,
            "grid_column": null,
            "overflow_y": null,
            "overflow_x": null,
            "grid_auto_flow": null,
            "grid_area": null,
            "grid_template_columns": null,
            "flex": null,
            "_model_name": "LayoutModel",
            "justify_items": null,
            "grid_row": null,
            "max_height": null,
            "align_content": null,
            "visibility": null,
            "align_self": null,
            "height": null,
            "min_height": null,
            "padding": null,
            "grid_auto_rows": null,
            "grid_gap": null,
            "max_width": null,
            "order": null,
            "_view_module_version": "1.2.0",
            "grid_template_areas": null,
            "object_position": null,
            "object_fit": null,
            "grid_auto_columns": null,
            "margin": null,
            "display": null,
            "left": null
          }
        },
        "75683fbfa5124f93a7759b2c763a9b74": {
          "model_module": "@jupyter-widgets/controls",
          "model_name": "FloatProgressModel",
          "state": {
            "_view_name": "ProgressView",
            "style": "IPY_MODEL_efeaa75419574ff484fecf31a5738941",
            "_dom_classes": [],
            "description": "Downloading: 100%",
            "_model_name": "FloatProgressModel",
            "bar_style": "success",
            "max": 231508,
            "_view_module": "@jupyter-widgets/controls",
            "_model_module_version": "1.5.0",
            "value": 231508,
            "_view_count": null,
            "_view_module_version": "1.5.0",
            "orientation": "horizontal",
            "min": 0,
            "description_tooltip": null,
            "_model_module": "@jupyter-widgets/controls",
            "layout": "IPY_MODEL_95c2289dd2b44a5780658a110e797d98"
          }
        },
        "06a5534d01e8439c82a1323fa7a2093f": {
          "model_module": "@jupyter-widgets/controls",
          "model_name": "HTMLModel",
          "state": {
            "_view_name": "HTMLView",
            "style": "IPY_MODEL_04e3fa82b9c141b889d7575d3b7fcb49",
            "_dom_classes": [],
            "description": "",
            "_model_name": "HTMLModel",
            "placeholder": "​",
            "_view_module": "@jupyter-widgets/controls",
            "_model_module_version": "1.5.0",
            "value": " 232k/232k [00:00&lt;00:00, 1.23MB/s]",
            "_view_count": null,
            "_view_module_version": "1.5.0",
            "description_tooltip": null,
            "_model_module": "@jupyter-widgets/controls",
            "layout": "IPY_MODEL_fbf7f89abd6d4404b3ce5eb71a5ec250"
          }
        },
        "efeaa75419574ff484fecf31a5738941": {
          "model_module": "@jupyter-widgets/controls",
          "model_name": "ProgressStyleModel",
          "state": {
            "_view_name": "StyleView",
            "_model_name": "ProgressStyleModel",
            "description_width": "initial",
            "_view_module": "@jupyter-widgets/base",
            "_model_module_version": "1.5.0",
            "_view_count": null,
            "_view_module_version": "1.2.0",
            "bar_color": null,
            "_model_module": "@jupyter-widgets/controls"
          }
        },
        "95c2289dd2b44a5780658a110e797d98": {
          "model_module": "@jupyter-widgets/base",
          "model_name": "LayoutModel",
          "state": {
            "_view_name": "LayoutView",
            "grid_template_rows": null,
            "right": null,
            "justify_content": null,
            "_view_module": "@jupyter-widgets/base",
            "overflow": null,
            "_model_module_version": "1.2.0",
            "_view_count": null,
            "flex_flow": null,
            "width": null,
            "min_width": null,
            "border": null,
            "align_items": null,
            "bottom": null,
            "_model_module": "@jupyter-widgets/base",
            "top": null,
            "grid_column": null,
            "overflow_y": null,
            "overflow_x": null,
            "grid_auto_flow": null,
            "grid_area": null,
            "grid_template_columns": null,
            "flex": null,
            "_model_name": "LayoutModel",
            "justify_items": null,
            "grid_row": null,
            "max_height": null,
            "align_content": null,
            "visibility": null,
            "align_self": null,
            "height": null,
            "min_height": null,
            "padding": null,
            "grid_auto_rows": null,
            "grid_gap": null,
            "max_width": null,
            "order": null,
            "_view_module_version": "1.2.0",
            "grid_template_areas": null,
            "object_position": null,
            "object_fit": null,
            "grid_auto_columns": null,
            "margin": null,
            "display": null,
            "left": null
          }
        },
        "04e3fa82b9c141b889d7575d3b7fcb49": {
          "model_module": "@jupyter-widgets/controls",
          "model_name": "DescriptionStyleModel",
          "state": {
            "_view_name": "StyleView",
            "_model_name": "DescriptionStyleModel",
            "description_width": "",
            "_view_module": "@jupyter-widgets/base",
            "_model_module_version": "1.5.0",
            "_view_count": null,
            "_view_module_version": "1.2.0",
            "_model_module": "@jupyter-widgets/controls"
          }
        },
        "fbf7f89abd6d4404b3ce5eb71a5ec250": {
          "model_module": "@jupyter-widgets/base",
          "model_name": "LayoutModel",
          "state": {
            "_view_name": "LayoutView",
            "grid_template_rows": null,
            "right": null,
            "justify_content": null,
            "_view_module": "@jupyter-widgets/base",
            "overflow": null,
            "_model_module_version": "1.2.0",
            "_view_count": null,
            "flex_flow": null,
            "width": null,
            "min_width": null,
            "border": null,
            "align_items": null,
            "bottom": null,
            "_model_module": "@jupyter-widgets/base",
            "top": null,
            "grid_column": null,
            "overflow_y": null,
            "overflow_x": null,
            "grid_auto_flow": null,
            "grid_area": null,
            "grid_template_columns": null,
            "flex": null,
            "_model_name": "LayoutModel",
            "justify_items": null,
            "grid_row": null,
            "max_height": null,
            "align_content": null,
            "visibility": null,
            "align_self": null,
            "height": null,
            "min_height": null,
            "padding": null,
            "grid_auto_rows": null,
            "grid_gap": null,
            "max_width": null,
            "order": null,
            "_view_module_version": "1.2.0",
            "grid_template_areas": null,
            "object_position": null,
            "object_fit": null,
            "grid_auto_columns": null,
            "margin": null,
            "display": null,
            "left": null
          }
        },
        "a08c2573ff394a4282497d81664f4482": {
          "model_module": "@jupyter-widgets/controls",
          "model_name": "HBoxModel",
          "state": {
            "_view_name": "HBoxView",
            "_dom_classes": [],
            "_model_name": "HBoxModel",
            "_view_module": "@jupyter-widgets/controls",
            "_model_module_version": "1.5.0",
            "_view_count": null,
            "_view_module_version": "1.5.0",
            "box_style": "",
            "layout": "IPY_MODEL_38ba101f134545bcb2abcbaa77ae6edb",
            "_model_module": "@jupyter-widgets/controls",
            "children": [
              "IPY_MODEL_05abb5aacecf4dfc88226a97bd858e35",
              "IPY_MODEL_33ea3cc03853496f826baae5496394fc"
            ]
          }
        },
        "38ba101f134545bcb2abcbaa77ae6edb": {
          "model_module": "@jupyter-widgets/base",
          "model_name": "LayoutModel",
          "state": {
            "_view_name": "LayoutView",
            "grid_template_rows": null,
            "right": null,
            "justify_content": null,
            "_view_module": "@jupyter-widgets/base",
            "overflow": null,
            "_model_module_version": "1.2.0",
            "_view_count": null,
            "flex_flow": null,
            "width": null,
            "min_width": null,
            "border": null,
            "align_items": null,
            "bottom": null,
            "_model_module": "@jupyter-widgets/base",
            "top": null,
            "grid_column": null,
            "overflow_y": null,
            "overflow_x": null,
            "grid_auto_flow": null,
            "grid_area": null,
            "grid_template_columns": null,
            "flex": null,
            "_model_name": "LayoutModel",
            "justify_items": null,
            "grid_row": null,
            "max_height": null,
            "align_content": null,
            "visibility": null,
            "align_self": null,
            "height": null,
            "min_height": null,
            "padding": null,
            "grid_auto_rows": null,
            "grid_gap": null,
            "max_width": null,
            "order": null,
            "_view_module_version": "1.2.0",
            "grid_template_areas": null,
            "object_position": null,
            "object_fit": null,
            "grid_auto_columns": null,
            "margin": null,
            "display": null,
            "left": null
          }
        },
        "05abb5aacecf4dfc88226a97bd858e35": {
          "model_module": "@jupyter-widgets/controls",
          "model_name": "FloatProgressModel",
          "state": {
            "_view_name": "ProgressView",
            "style": "IPY_MODEL_4a0f61ed30734908898155516cd91ed9",
            "_dom_classes": [],
            "description": "Downloading: 100%",
            "_model_name": "FloatProgressModel",
            "bar_style": "success",
            "max": 466062,
            "_view_module": "@jupyter-widgets/controls",
            "_model_module_version": "1.5.0",
            "value": 466062,
            "_view_count": null,
            "_view_module_version": "1.5.0",
            "orientation": "horizontal",
            "min": 0,
            "description_tooltip": null,
            "_model_module": "@jupyter-widgets/controls",
            "layout": "IPY_MODEL_48d25c1ab4584f8dbace21b00612f36a"
          }
        },
        "33ea3cc03853496f826baae5496394fc": {
          "model_module": "@jupyter-widgets/controls",
          "model_name": "HTMLModel",
          "state": {
            "_view_name": "HTMLView",
            "style": "IPY_MODEL_e35f86a4f6b041cc9cefdc2481961d5f",
            "_dom_classes": [],
            "description": "",
            "_model_name": "HTMLModel",
            "placeholder": "​",
            "_view_module": "@jupyter-widgets/controls",
            "_model_module_version": "1.5.0",
            "value": " 466k/466k [00:00&lt;00:00, 941kB/s]",
            "_view_count": null,
            "_view_module_version": "1.5.0",
            "description_tooltip": null,
            "_model_module": "@jupyter-widgets/controls",
            "layout": "IPY_MODEL_dbcfbf80ac0a416bb15596f0f7b9ff1b"
          }
        },
        "4a0f61ed30734908898155516cd91ed9": {
          "model_module": "@jupyter-widgets/controls",
          "model_name": "ProgressStyleModel",
          "state": {
            "_view_name": "StyleView",
            "_model_name": "ProgressStyleModel",
            "description_width": "initial",
            "_view_module": "@jupyter-widgets/base",
            "_model_module_version": "1.5.0",
            "_view_count": null,
            "_view_module_version": "1.2.0",
            "bar_color": null,
            "_model_module": "@jupyter-widgets/controls"
          }
        },
        "48d25c1ab4584f8dbace21b00612f36a": {
          "model_module": "@jupyter-widgets/base",
          "model_name": "LayoutModel",
          "state": {
            "_view_name": "LayoutView",
            "grid_template_rows": null,
            "right": null,
            "justify_content": null,
            "_view_module": "@jupyter-widgets/base",
            "overflow": null,
            "_model_module_version": "1.2.0",
            "_view_count": null,
            "flex_flow": null,
            "width": null,
            "min_width": null,
            "border": null,
            "align_items": null,
            "bottom": null,
            "_model_module": "@jupyter-widgets/base",
            "top": null,
            "grid_column": null,
            "overflow_y": null,
            "overflow_x": null,
            "grid_auto_flow": null,
            "grid_area": null,
            "grid_template_columns": null,
            "flex": null,
            "_model_name": "LayoutModel",
            "justify_items": null,
            "grid_row": null,
            "max_height": null,
            "align_content": null,
            "visibility": null,
            "align_self": null,
            "height": null,
            "min_height": null,
            "padding": null,
            "grid_auto_rows": null,
            "grid_gap": null,
            "max_width": null,
            "order": null,
            "_view_module_version": "1.2.0",
            "grid_template_areas": null,
            "object_position": null,
            "object_fit": null,
            "grid_auto_columns": null,
            "margin": null,
            "display": null,
            "left": null
          }
        },
        "e35f86a4f6b041cc9cefdc2481961d5f": {
          "model_module": "@jupyter-widgets/controls",
          "model_name": "DescriptionStyleModel",
          "state": {
            "_view_name": "StyleView",
            "_model_name": "DescriptionStyleModel",
            "description_width": "",
            "_view_module": "@jupyter-widgets/base",
            "_model_module_version": "1.5.0",
            "_view_count": null,
            "_view_module_version": "1.2.0",
            "_model_module": "@jupyter-widgets/controls"
          }
        },
        "dbcfbf80ac0a416bb15596f0f7b9ff1b": {
          "model_module": "@jupyter-widgets/base",
          "model_name": "LayoutModel",
          "state": {
            "_view_name": "LayoutView",
            "grid_template_rows": null,
            "right": null,
            "justify_content": null,
            "_view_module": "@jupyter-widgets/base",
            "overflow": null,
            "_model_module_version": "1.2.0",
            "_view_count": null,
            "flex_flow": null,
            "width": null,
            "min_width": null,
            "border": null,
            "align_items": null,
            "bottom": null,
            "_model_module": "@jupyter-widgets/base",
            "top": null,
            "grid_column": null,
            "overflow_y": null,
            "overflow_x": null,
            "grid_auto_flow": null,
            "grid_area": null,
            "grid_template_columns": null,
            "flex": null,
            "_model_name": "LayoutModel",
            "justify_items": null,
            "grid_row": null,
            "max_height": null,
            "align_content": null,
            "visibility": null,
            "align_self": null,
            "height": null,
            "min_height": null,
            "padding": null,
            "grid_auto_rows": null,
            "grid_gap": null,
            "max_width": null,
            "order": null,
            "_view_module_version": "1.2.0",
            "grid_template_areas": null,
            "object_position": null,
            "object_fit": null,
            "grid_auto_columns": null,
            "margin": null,
            "display": null,
            "left": null
          }
        },
        "f63ec08e9e2741738b9bb51a7dc75d47": {
          "model_module": "@jupyter-widgets/controls",
          "model_name": "HBoxModel",
          "state": {
            "_view_name": "HBoxView",
            "_dom_classes": [],
            "_model_name": "HBoxModel",
            "_view_module": "@jupyter-widgets/controls",
            "_model_module_version": "1.5.0",
            "_view_count": null,
            "_view_module_version": "1.5.0",
            "box_style": "",
            "layout": "IPY_MODEL_2d62638c40b24e6f84c88377b3106371",
            "_model_module": "@jupyter-widgets/controls",
            "children": [
              "IPY_MODEL_f167fe6a99ff473e824aecb9781e8f6c",
              "IPY_MODEL_945071678c3148688b23850f8837aca9"
            ]
          }
        },
        "2d62638c40b24e6f84c88377b3106371": {
          "model_module": "@jupyter-widgets/base",
          "model_name": "LayoutModel",
          "state": {
            "_view_name": "LayoutView",
            "grid_template_rows": null,
            "right": null,
            "justify_content": null,
            "_view_module": "@jupyter-widgets/base",
            "overflow": null,
            "_model_module_version": "1.2.0",
            "_view_count": null,
            "flex_flow": null,
            "width": null,
            "min_width": null,
            "border": null,
            "align_items": null,
            "bottom": null,
            "_model_module": "@jupyter-widgets/base",
            "top": null,
            "grid_column": null,
            "overflow_y": null,
            "overflow_x": null,
            "grid_auto_flow": null,
            "grid_area": null,
            "grid_template_columns": null,
            "flex": null,
            "_model_name": "LayoutModel",
            "justify_items": null,
            "grid_row": null,
            "max_height": null,
            "align_content": null,
            "visibility": null,
            "align_self": null,
            "height": null,
            "min_height": null,
            "padding": null,
            "grid_auto_rows": null,
            "grid_gap": null,
            "max_width": null,
            "order": null,
            "_view_module_version": "1.2.0",
            "grid_template_areas": null,
            "object_position": null,
            "object_fit": null,
            "grid_auto_columns": null,
            "margin": null,
            "display": null,
            "left": null
          }
        },
        "f167fe6a99ff473e824aecb9781e8f6c": {
          "model_module": "@jupyter-widgets/controls",
          "model_name": "FloatProgressModel",
          "state": {
            "_view_name": "ProgressView",
            "style": "IPY_MODEL_0a0fcf8f27e0438587aefe62f4142e26",
            "_dom_classes": [],
            "description": "Downloading: 100%",
            "_model_name": "FloatProgressModel",
            "bar_style": "success",
            "max": 28,
            "_view_module": "@jupyter-widgets/controls",
            "_model_module_version": "1.5.0",
            "value": 28,
            "_view_count": null,
            "_view_module_version": "1.5.0",
            "orientation": "horizontal",
            "min": 0,
            "description_tooltip": null,
            "_model_module": "@jupyter-widgets/controls",
            "layout": "IPY_MODEL_385743301c2d4213b417c420d3febd9d"
          }
        },
        "945071678c3148688b23850f8837aca9": {
          "model_module": "@jupyter-widgets/controls",
          "model_name": "HTMLModel",
          "state": {
            "_view_name": "HTMLView",
            "style": "IPY_MODEL_5d998ece64fe426dbc665a43eae57692",
            "_dom_classes": [],
            "description": "",
            "_model_name": "HTMLModel",
            "placeholder": "​",
            "_view_module": "@jupyter-widgets/controls",
            "_model_module_version": "1.5.0",
            "value": " 28.0/28.0 [00:00&lt;00:00, 227B/s]",
            "_view_count": null,
            "_view_module_version": "1.5.0",
            "description_tooltip": null,
            "_model_module": "@jupyter-widgets/controls",
            "layout": "IPY_MODEL_57e82e07253f49f5b86d8f804d185128"
          }
        },
        "0a0fcf8f27e0438587aefe62f4142e26": {
          "model_module": "@jupyter-widgets/controls",
          "model_name": "ProgressStyleModel",
          "state": {
            "_view_name": "StyleView",
            "_model_name": "ProgressStyleModel",
            "description_width": "initial",
            "_view_module": "@jupyter-widgets/base",
            "_model_module_version": "1.5.0",
            "_view_count": null,
            "_view_module_version": "1.2.0",
            "bar_color": null,
            "_model_module": "@jupyter-widgets/controls"
          }
        },
        "385743301c2d4213b417c420d3febd9d": {
          "model_module": "@jupyter-widgets/base",
          "model_name": "LayoutModel",
          "state": {
            "_view_name": "LayoutView",
            "grid_template_rows": null,
            "right": null,
            "justify_content": null,
            "_view_module": "@jupyter-widgets/base",
            "overflow": null,
            "_model_module_version": "1.2.0",
            "_view_count": null,
            "flex_flow": null,
            "width": null,
            "min_width": null,
            "border": null,
            "align_items": null,
            "bottom": null,
            "_model_module": "@jupyter-widgets/base",
            "top": null,
            "grid_column": null,
            "overflow_y": null,
            "overflow_x": null,
            "grid_auto_flow": null,
            "grid_area": null,
            "grid_template_columns": null,
            "flex": null,
            "_model_name": "LayoutModel",
            "justify_items": null,
            "grid_row": null,
            "max_height": null,
            "align_content": null,
            "visibility": null,
            "align_self": null,
            "height": null,
            "min_height": null,
            "padding": null,
            "grid_auto_rows": null,
            "grid_gap": null,
            "max_width": null,
            "order": null,
            "_view_module_version": "1.2.0",
            "grid_template_areas": null,
            "object_position": null,
            "object_fit": null,
            "grid_auto_columns": null,
            "margin": null,
            "display": null,
            "left": null
          }
        },
        "5d998ece64fe426dbc665a43eae57692": {
          "model_module": "@jupyter-widgets/controls",
          "model_name": "DescriptionStyleModel",
          "state": {
            "_view_name": "StyleView",
            "_model_name": "DescriptionStyleModel",
            "description_width": "",
            "_view_module": "@jupyter-widgets/base",
            "_model_module_version": "1.5.0",
            "_view_count": null,
            "_view_module_version": "1.2.0",
            "_model_module": "@jupyter-widgets/controls"
          }
        },
        "57e82e07253f49f5b86d8f804d185128": {
          "model_module": "@jupyter-widgets/base",
          "model_name": "LayoutModel",
          "state": {
            "_view_name": "LayoutView",
            "grid_template_rows": null,
            "right": null,
            "justify_content": null,
            "_view_module": "@jupyter-widgets/base",
            "overflow": null,
            "_model_module_version": "1.2.0",
            "_view_count": null,
            "flex_flow": null,
            "width": null,
            "min_width": null,
            "border": null,
            "align_items": null,
            "bottom": null,
            "_model_module": "@jupyter-widgets/base",
            "top": null,
            "grid_column": null,
            "overflow_y": null,
            "overflow_x": null,
            "grid_auto_flow": null,
            "grid_area": null,
            "grid_template_columns": null,
            "flex": null,
            "_model_name": "LayoutModel",
            "justify_items": null,
            "grid_row": null,
            "max_height": null,
            "align_content": null,
            "visibility": null,
            "align_self": null,
            "height": null,
            "min_height": null,
            "padding": null,
            "grid_auto_rows": null,
            "grid_gap": null,
            "max_width": null,
            "order": null,
            "_view_module_version": "1.2.0",
            "grid_template_areas": null,
            "object_position": null,
            "object_fit": null,
            "grid_auto_columns": null,
            "margin": null,
            "display": null,
            "left": null
          }
        }
      }
    }
  },
  "cells": [
    {
      "cell_type": "code",
      "metadata": {
        "id": "8fghEE8Hnf9L"
      },
      "source": [
        "# Adapted from:\n",
        "#\\https://www.analyticsvidhya.com/blog/2020/07/transfer-learning-for-nlp-fine-tuning-bert-for-text-classification/\n",
        "#https://www.programmersought.com/article/31037125394/"
      ],
      "id": "8fghEE8Hnf9L",
      "execution_count": null,
      "outputs": []
    },
    {
      "cell_type": "code",
      "metadata": {
        "id": "XpYzR-xRn1pY",
        "colab": {
          "base_uri": "https://localhost:8080/"
        },
        "outputId": "df3770c0-c6de-401f-f781-f09791faed87"
      },
      "source": [
        "pip install transformers"
      ],
      "id": "XpYzR-xRn1pY",
      "execution_count": 1,
      "outputs": [
        {
          "output_type": "stream",
          "text": [
            "Collecting transformers\n",
            "\u001b[?25l  Downloading https://files.pythonhosted.org/packages/d8/b2/57495b5309f09fa501866e225c84532d1fd89536ea62406b2181933fb418/transformers-4.5.1-py3-none-any.whl (2.1MB)\n",
            "\u001b[K     |████████████████████████████████| 2.1MB 5.9MB/s \n",
            "\u001b[?25hCollecting tokenizers<0.11,>=0.10.1\n",
            "\u001b[?25l  Downloading https://files.pythonhosted.org/packages/ae/04/5b870f26a858552025a62f1649c20d29d2672c02ff3c3fb4c688ca46467a/tokenizers-0.10.2-cp37-cp37m-manylinux2010_x86_64.whl (3.3MB)\n",
            "\u001b[K     |████████████████████████████████| 3.3MB 12.3MB/s \n",
            "\u001b[?25hRequirement already satisfied: requests in /usr/local/lib/python3.7/dist-packages (from transformers) (2.23.0)\n",
            "Requirement already satisfied: tqdm>=4.27 in /usr/local/lib/python3.7/dist-packages (from transformers) (4.41.1)\n",
            "Requirement already satisfied: numpy>=1.17 in /usr/local/lib/python3.7/dist-packages (from transformers) (1.19.5)\n",
            "Requirement already satisfied: importlib-metadata; python_version < \"3.8\" in /usr/local/lib/python3.7/dist-packages (from transformers) (3.10.1)\n",
            "Requirement already satisfied: filelock in /usr/local/lib/python3.7/dist-packages (from transformers) (3.0.12)\n",
            "Collecting sacremoses\n",
            "\u001b[?25l  Downloading https://files.pythonhosted.org/packages/75/ee/67241dc87f266093c533a2d4d3d69438e57d7a90abb216fa076e7d475d4a/sacremoses-0.0.45-py3-none-any.whl (895kB)\n",
            "\u001b[K     |████████████████████████████████| 901kB 52.1MB/s \n",
            "\u001b[?25hRequirement already satisfied: packaging in /usr/local/lib/python3.7/dist-packages (from transformers) (20.9)\n",
            "Requirement already satisfied: regex!=2019.12.17 in /usr/local/lib/python3.7/dist-packages (from transformers) (2019.12.20)\n",
            "Requirement already satisfied: certifi>=2017.4.17 in /usr/local/lib/python3.7/dist-packages (from requests->transformers) (2020.12.5)\n",
            "Requirement already satisfied: idna<3,>=2.5 in /usr/local/lib/python3.7/dist-packages (from requests->transformers) (2.10)\n",
            "Requirement already satisfied: urllib3!=1.25.0,!=1.25.1,<1.26,>=1.21.1 in /usr/local/lib/python3.7/dist-packages (from requests->transformers) (1.24.3)\n",
            "Requirement already satisfied: chardet<4,>=3.0.2 in /usr/local/lib/python3.7/dist-packages (from requests->transformers) (3.0.4)\n",
            "Requirement already satisfied: zipp>=0.5 in /usr/local/lib/python3.7/dist-packages (from importlib-metadata; python_version < \"3.8\"->transformers) (3.4.1)\n",
            "Requirement already satisfied: typing-extensions>=3.6.4; python_version < \"3.8\" in /usr/local/lib/python3.7/dist-packages (from importlib-metadata; python_version < \"3.8\"->transformers) (3.7.4.3)\n",
            "Requirement already satisfied: joblib in /usr/local/lib/python3.7/dist-packages (from sacremoses->transformers) (1.0.1)\n",
            "Requirement already satisfied: click in /usr/local/lib/python3.7/dist-packages (from sacremoses->transformers) (7.1.2)\n",
            "Requirement already satisfied: six in /usr/local/lib/python3.7/dist-packages (from sacremoses->transformers) (1.15.0)\n",
            "Requirement already satisfied: pyparsing>=2.0.2 in /usr/local/lib/python3.7/dist-packages (from packaging->transformers) (2.4.7)\n",
            "Installing collected packages: tokenizers, sacremoses, transformers\n",
            "Successfully installed sacremoses-0.0.45 tokenizers-0.10.2 transformers-4.5.1\n"
          ],
          "name": "stdout"
        }
      ]
    },
    {
      "cell_type": "code",
      "metadata": {
        "id": "zDP0BdP7ZsXd"
      },
      "source": [
        "#from google.colab import drive\n",
        "#drive.mount('/content/drive')"
      ],
      "id": "zDP0BdP7ZsXd",
      "execution_count": null,
      "outputs": []
    },
    {
      "cell_type": "code",
      "metadata": {
        "id": "IUAEUPTPnf9Q"
      },
      "source": [
        "import torch\n",
        "import torch.nn as nn\n",
        "from torch.utils.data import TensorDataset, DataLoader, RandomSampler, SequentialSampler\n",
        "import random\n",
        "import numpy as np\n",
        "import pandas as pd\n",
        "import torch.nn.functional as F\n",
        "from sklearn.model_selection import train_test_split\n",
        "from sklearn.metrics import classification_report\n",
        "import transformers\n",
        "from transformers import AutoModel, BertTokenizerFast\n",
        "import time\n",
        "from sklearn.metrics import classification_report\n",
        "SEED = 1234\n",
        "\n",
        "random.seed(SEED)\n",
        "np.random.seed(SEED)\n",
        "torch.manual_seed(SEED)\n",
        "torch.backends.cudnn.deterministic = True\n",
        "\n",
        "# specify GPU\n",
        "device = torch.device('cuda' if torch.cuda.is_available() else 'cpu')"
      ],
      "id": "IUAEUPTPnf9Q",
      "execution_count": 2,
      "outputs": []
    },
    {
      "cell_type": "code",
      "metadata": {
        "colab": {
          "base_uri": "https://localhost:8080/"
        },
        "id": "cPEeBtArkh36",
        "outputId": "284b87ca-262a-46a3-d702-66c2dcc27149"
      },
      "source": [
        "from google.colab import drive\n",
        "drive.mount('/content/drive')"
      ],
      "id": "cPEeBtArkh36",
      "execution_count": 3,
      "outputs": [
        {
          "output_type": "stream",
          "text": [
            "Mounted at /content/drive\n"
          ],
          "name": "stdout"
        }
      ]
    },
    {
      "cell_type": "code",
      "metadata": {
        "id": "ydDYRF92aDSk"
      },
      "source": [
        "#df_all = pd.read_csv('Tweets.csv')\n",
        "df_all = pd.read_csv('/content/drive/My Drive/content/Tweets.csv', encoding = 'latin-1' )\n",
        "#df_all.columns = [\"sentiment\", \"text\"]"
      ],
      "id": "ydDYRF92aDSk",
      "execution_count": 4,
      "outputs": []
    },
    {
      "cell_type": "code",
      "metadata": {
        "colab": {
          "base_uri": "https://localhost:8080/",
          "height": 446
        },
        "id": "D_SK46UW-hC-",
        "outputId": "5a88a0b6-860f-458a-8e97-472fbba6b103"
      },
      "source": [
        "df_all.head()"
      ],
      "id": "D_SK46UW-hC-",
      "execution_count": 5,
      "outputs": [
        {
          "output_type": "execute_result",
          "data": {
            "text/html": [
              "<div>\n",
              "<style scoped>\n",
              "    .dataframe tbody tr th:only-of-type {\n",
              "        vertical-align: middle;\n",
              "    }\n",
              "\n",
              "    .dataframe tbody tr th {\n",
              "        vertical-align: top;\n",
              "    }\n",
              "\n",
              "    .dataframe thead th {\n",
              "        text-align: right;\n",
              "    }\n",
              "</style>\n",
              "<table border=\"1\" class=\"dataframe\">\n",
              "  <thead>\n",
              "    <tr style=\"text-align: right;\">\n",
              "      <th></th>\n",
              "      <th>tweet_id</th>\n",
              "      <th>airline_sentiment</th>\n",
              "      <th>airline_sentiment_confidence</th>\n",
              "      <th>negativereason</th>\n",
              "      <th>negativereason_confidence</th>\n",
              "      <th>airline</th>\n",
              "      <th>airline_sentiment_gold</th>\n",
              "      <th>name</th>\n",
              "      <th>negativereason_gold</th>\n",
              "      <th>retweet_count</th>\n",
              "      <th>text</th>\n",
              "      <th>tweet_coord</th>\n",
              "      <th>tweet_created</th>\n",
              "      <th>tweet_location</th>\n",
              "      <th>user_timezone</th>\n",
              "    </tr>\n",
              "  </thead>\n",
              "  <tbody>\n",
              "    <tr>\n",
              "      <th>0</th>\n",
              "      <td>5.703060e+17</td>\n",
              "      <td>neutral</td>\n",
              "      <td>1.0000</td>\n",
              "      <td>NaN</td>\n",
              "      <td>NaN</td>\n",
              "      <td>Virgin America</td>\n",
              "      <td>NaN</td>\n",
              "      <td>cairdin</td>\n",
              "      <td>NaN</td>\n",
              "      <td>0</td>\n",
              "      <td>@VirginAmerica What @dhepburn said.</td>\n",
              "      <td>NaN</td>\n",
              "      <td>24/2/2015 11:35</td>\n",
              "      <td>NaN</td>\n",
              "      <td>Eastern Time (US &amp; Canada)</td>\n",
              "    </tr>\n",
              "    <tr>\n",
              "      <th>1</th>\n",
              "      <td>5.703010e+17</td>\n",
              "      <td>positive</td>\n",
              "      <td>0.3486</td>\n",
              "      <td>NaN</td>\n",
              "      <td>0.0000</td>\n",
              "      <td>Virgin America</td>\n",
              "      <td>NaN</td>\n",
              "      <td>jnardino</td>\n",
              "      <td>NaN</td>\n",
              "      <td>0</td>\n",
              "      <td>@VirginAmerica plus you've added commercials t...</td>\n",
              "      <td>NaN</td>\n",
              "      <td>24/2/2015 11:15</td>\n",
              "      <td>NaN</td>\n",
              "      <td>Pacific Time (US &amp; Canada)</td>\n",
              "    </tr>\n",
              "    <tr>\n",
              "      <th>2</th>\n",
              "      <td>5.703010e+17</td>\n",
              "      <td>neutral</td>\n",
              "      <td>0.6837</td>\n",
              "      <td>NaN</td>\n",
              "      <td>NaN</td>\n",
              "      <td>Virgin America</td>\n",
              "      <td>NaN</td>\n",
              "      <td>yvonnalynn</td>\n",
              "      <td>NaN</td>\n",
              "      <td>0</td>\n",
              "      <td>@VirginAmerica I didn't today... Must mean I n...</td>\n",
              "      <td>NaN</td>\n",
              "      <td>24/2/2015 11:15</td>\n",
              "      <td>Lets Play</td>\n",
              "      <td>Central Time (US &amp; Canada)</td>\n",
              "    </tr>\n",
              "    <tr>\n",
              "      <th>3</th>\n",
              "      <td>5.703010e+17</td>\n",
              "      <td>negative</td>\n",
              "      <td>1.0000</td>\n",
              "      <td>Bad Flight</td>\n",
              "      <td>0.7033</td>\n",
              "      <td>Virgin America</td>\n",
              "      <td>NaN</td>\n",
              "      <td>jnardino</td>\n",
              "      <td>NaN</td>\n",
              "      <td>0</td>\n",
              "      <td>@VirginAmerica it's really aggressive to blast...</td>\n",
              "      <td>NaN</td>\n",
              "      <td>24/2/2015 11:15</td>\n",
              "      <td>NaN</td>\n",
              "      <td>Pacific Time (US &amp; Canada)</td>\n",
              "    </tr>\n",
              "    <tr>\n",
              "      <th>4</th>\n",
              "      <td>5.703010e+17</td>\n",
              "      <td>negative</td>\n",
              "      <td>1.0000</td>\n",
              "      <td>Can't Tell</td>\n",
              "      <td>1.0000</td>\n",
              "      <td>Virgin America</td>\n",
              "      <td>NaN</td>\n",
              "      <td>jnardino</td>\n",
              "      <td>NaN</td>\n",
              "      <td>0</td>\n",
              "      <td>@VirginAmerica and it's a really big bad thing...</td>\n",
              "      <td>NaN</td>\n",
              "      <td>24/2/2015 11:14</td>\n",
              "      <td>NaN</td>\n",
              "      <td>Pacific Time (US &amp; Canada)</td>\n",
              "    </tr>\n",
              "  </tbody>\n",
              "</table>\n",
              "</div>"
            ],
            "text/plain": [
              "       tweet_id airline_sentiment  ...  tweet_location               user_timezone\n",
              "0  5.703060e+17           neutral  ...             NaN  Eastern Time (US & Canada)\n",
              "1  5.703010e+17          positive  ...             NaN  Pacific Time (US & Canada)\n",
              "2  5.703010e+17           neutral  ...       Lets Play  Central Time (US & Canada)\n",
              "3  5.703010e+17          negative  ...             NaN  Pacific Time (US & Canada)\n",
              "4  5.703010e+17          negative  ...             NaN  Pacific Time (US & Canada)\n",
              "\n",
              "[5 rows x 15 columns]"
            ]
          },
          "metadata": {
            "tags": []
          },
          "execution_count": 5
        }
      ]
    },
    {
      "cell_type": "code",
      "metadata": {
        "colab": {
          "base_uri": "https://localhost:8080/",
          "height": 203
        },
        "id": "RdbPTwVlaTck",
        "outputId": "52e683c5-0b5e-484b-848f-e2e078f6d89b"
      },
      "source": [
        "df_all = df_all[['text','airline_sentiment']]\n",
        "df_all.columns = [\"text\",\"sentiment\"]\n",
        "dic = {'negative' : 0, 'neutral': 1, 'positive': 2}\n",
        "df_all['sentiment']= df_all['sentiment'].replace(dic).astype('int64')\n",
        "df_all.head()"
      ],
      "id": "RdbPTwVlaTck",
      "execution_count": 6,
      "outputs": [
        {
          "output_type": "execute_result",
          "data": {
            "text/html": [
              "<div>\n",
              "<style scoped>\n",
              "    .dataframe tbody tr th:only-of-type {\n",
              "        vertical-align: middle;\n",
              "    }\n",
              "\n",
              "    .dataframe tbody tr th {\n",
              "        vertical-align: top;\n",
              "    }\n",
              "\n",
              "    .dataframe thead th {\n",
              "        text-align: right;\n",
              "    }\n",
              "</style>\n",
              "<table border=\"1\" class=\"dataframe\">\n",
              "  <thead>\n",
              "    <tr style=\"text-align: right;\">\n",
              "      <th></th>\n",
              "      <th>text</th>\n",
              "      <th>sentiment</th>\n",
              "    </tr>\n",
              "  </thead>\n",
              "  <tbody>\n",
              "    <tr>\n",
              "      <th>0</th>\n",
              "      <td>@VirginAmerica What @dhepburn said.</td>\n",
              "      <td>1</td>\n",
              "    </tr>\n",
              "    <tr>\n",
              "      <th>1</th>\n",
              "      <td>@VirginAmerica plus you've added commercials t...</td>\n",
              "      <td>2</td>\n",
              "    </tr>\n",
              "    <tr>\n",
              "      <th>2</th>\n",
              "      <td>@VirginAmerica I didn't today... Must mean I n...</td>\n",
              "      <td>1</td>\n",
              "    </tr>\n",
              "    <tr>\n",
              "      <th>3</th>\n",
              "      <td>@VirginAmerica it's really aggressive to blast...</td>\n",
              "      <td>0</td>\n",
              "    </tr>\n",
              "    <tr>\n",
              "      <th>4</th>\n",
              "      <td>@VirginAmerica and it's a really big bad thing...</td>\n",
              "      <td>0</td>\n",
              "    </tr>\n",
              "  </tbody>\n",
              "</table>\n",
              "</div>"
            ],
            "text/plain": [
              "                                                text  sentiment\n",
              "0                @VirginAmerica What @dhepburn said.          1\n",
              "1  @VirginAmerica plus you've added commercials t...          2\n",
              "2  @VirginAmerica I didn't today... Must mean I n...          1\n",
              "3  @VirginAmerica it's really aggressive to blast...          0\n",
              "4  @VirginAmerica and it's a really big bad thing...          0"
            ]
          },
          "metadata": {
            "tags": []
          },
          "execution_count": 6
        }
      ]
    },
    {
      "cell_type": "code",
      "metadata": {
        "id": "ISP1tMtncuGq"
      },
      "source": [
        "# split train dataset into train, validation and test sets\n",
        "train_text, temp_text, train_labels, temp_labels = train_test_split(df_all['text'], df_all['sentiment'], \n",
        "                                                                    random_state=45, \n",
        "                                                                    test_size=0.3, \n",
        "                                                                    stratify=df_all['sentiment'])\n",
        "\n",
        "\n",
        "val_text, test_text, val_labels, test_labels = train_test_split(temp_text, temp_labels, \n",
        "                                                                random_state=45, \n",
        "                                                                test_size=0.5, \n",
        "                                                                stratify=temp_labels)"
      ],
      "id": "ISP1tMtncuGq",
      "execution_count": 7,
      "outputs": []
    },
    {
      "cell_type": "code",
      "metadata": {
        "id": "-2A3AcBSd13Y",
        "colab": {
          "base_uri": "https://localhost:8080/",
          "height": 265,
          "referenced_widgets": [
            "4b519ec08dbe4f6cbcc274abb8231495",
            "1759c9e7f3324fcdb8e045642ba1a2ba",
            "5d31999cea3b4d8fbd25e669c7a92f41",
            "1143706a689b4ac999de249a23b9674d",
            "c8f1e5407ed34048855c8e006a420e4f",
            "ebcfc96a7cd44857ad9a4577323b364b",
            "4616535fed7c4fff9e29f1339968594b",
            "a48cc1f629734b70abf40ba39ef6f3b3",
            "d93c6cb720d646f89640548678208879",
            "eed2dfc5848f4a359a29fff02294bbe4",
            "a7f08384b1bd48dfbc5f47b4fefc8924",
            "8fab474217ee44eb88994f527fbd476e",
            "0eb09f841701408384e88c814e681c18",
            "5f4eb7d914f046f587df3f2b76988f6e",
            "ce3902ab9276484ca39af6b4b2a070d0",
            "ee2668d5be4f4adcb06452280e9fd634",
            "dc8c994dbbe64a4fbe8db60954003cea",
            "0e95e3d20cea4037b785b2049d766e80",
            "75683fbfa5124f93a7759b2c763a9b74",
            "06a5534d01e8439c82a1323fa7a2093f",
            "efeaa75419574ff484fecf31a5738941",
            "95c2289dd2b44a5780658a110e797d98",
            "04e3fa82b9c141b889d7575d3b7fcb49",
            "fbf7f89abd6d4404b3ce5eb71a5ec250",
            "a08c2573ff394a4282497d81664f4482",
            "38ba101f134545bcb2abcbaa77ae6edb",
            "05abb5aacecf4dfc88226a97bd858e35",
            "33ea3cc03853496f826baae5496394fc",
            "4a0f61ed30734908898155516cd91ed9",
            "48d25c1ab4584f8dbace21b00612f36a",
            "e35f86a4f6b041cc9cefdc2481961d5f",
            "dbcfbf80ac0a416bb15596f0f7b9ff1b",
            "f63ec08e9e2741738b9bb51a7dc75d47",
            "2d62638c40b24e6f84c88377b3106371",
            "f167fe6a99ff473e824aecb9781e8f6c",
            "945071678c3148688b23850f8837aca9",
            "0a0fcf8f27e0438587aefe62f4142e26",
            "385743301c2d4213b417c420d3febd9d",
            "5d998ece64fe426dbc665a43eae57692",
            "57e82e07253f49f5b86d8f804d185128"
          ]
        },
        "outputId": "d21c5cdd-10ea-49c6-85b6-6e8f640cf0a7"
      },
      "source": [
        "from transformers import AutoModel, BertTokenizerFast\n",
        "# import BERT-base pretrained model\n",
        "bert = AutoModel.from_pretrained('bert-base-uncased')\n",
        "\n",
        "# Load the BERT tokenizer\n",
        "tokenizer = BertTokenizerFast.from_pretrained('bert-base-uncased')"
      ],
      "id": "-2A3AcBSd13Y",
      "execution_count": 8,
      "outputs": [
        {
          "output_type": "display_data",
          "data": {
            "application/vnd.jupyter.widget-view+json": {
              "model_id": "4b519ec08dbe4f6cbcc274abb8231495",
              "version_minor": 0,
              "version_major": 2
            },
            "text/plain": [
              "HBox(children=(FloatProgress(value=0.0, description='Downloading', max=570.0, style=ProgressStyle(description_…"
            ]
          },
          "metadata": {
            "tags": []
          }
        },
        {
          "output_type": "stream",
          "text": [
            "\n"
          ],
          "name": "stdout"
        },
        {
          "output_type": "display_data",
          "data": {
            "application/vnd.jupyter.widget-view+json": {
              "model_id": "d93c6cb720d646f89640548678208879",
              "version_minor": 0,
              "version_major": 2
            },
            "text/plain": [
              "HBox(children=(FloatProgress(value=0.0, description='Downloading', max=440473133.0, style=ProgressStyle(descri…"
            ]
          },
          "metadata": {
            "tags": []
          }
        },
        {
          "output_type": "stream",
          "text": [
            "\n"
          ],
          "name": "stdout"
        },
        {
          "output_type": "display_data",
          "data": {
            "application/vnd.jupyter.widget-view+json": {
              "model_id": "dc8c994dbbe64a4fbe8db60954003cea",
              "version_minor": 0,
              "version_major": 2
            },
            "text/plain": [
              "HBox(children=(FloatProgress(value=0.0, description='Downloading', max=231508.0, style=ProgressStyle(descripti…"
            ]
          },
          "metadata": {
            "tags": []
          }
        },
        {
          "output_type": "stream",
          "text": [
            "\n"
          ],
          "name": "stdout"
        },
        {
          "output_type": "display_data",
          "data": {
            "application/vnd.jupyter.widget-view+json": {
              "model_id": "a08c2573ff394a4282497d81664f4482",
              "version_minor": 0,
              "version_major": 2
            },
            "text/plain": [
              "HBox(children=(FloatProgress(value=0.0, description='Downloading', max=466062.0, style=ProgressStyle(descripti…"
            ]
          },
          "metadata": {
            "tags": []
          }
        },
        {
          "output_type": "stream",
          "text": [
            "\n"
          ],
          "name": "stdout"
        },
        {
          "output_type": "display_data",
          "data": {
            "application/vnd.jupyter.widget-view+json": {
              "model_id": "f63ec08e9e2741738b9bb51a7dc75d47",
              "version_minor": 0,
              "version_major": 2
            },
            "text/plain": [
              "HBox(children=(FloatProgress(value=0.0, description='Downloading', max=28.0, style=ProgressStyle(description_w…"
            ]
          },
          "metadata": {
            "tags": []
          }
        },
        {
          "output_type": "stream",
          "text": [
            "\n"
          ],
          "name": "stdout"
        }
      ]
    },
    {
      "cell_type": "code",
      "metadata": {
        "id": "9h6xYyUggJPv"
      },
      "source": [
        "# freeze all the parameters\n",
        "for param in bert.parameters():\n",
        "    param.requires_grad = False"
      ],
      "id": "9h6xYyUggJPv",
      "execution_count": 9,
      "outputs": []
    },
    {
      "cell_type": "code",
      "metadata": {
        "colab": {
          "base_uri": "https://localhost:8080/",
          "height": 283
        },
        "id": "27n6jQ7Ad0MZ",
        "outputId": "b50248d1-12b1-4454-aec7-6db7d66b344c"
      },
      "source": [
        "# get length of all the messages in the train set\n",
        "seq_len = [len(i.split()) for i in train_text]\n",
        "pd.Series(seq_len).hist(bins = 30)"
      ],
      "id": "27n6jQ7Ad0MZ",
      "execution_count": 10,
      "outputs": [
        {
          "output_type": "execute_result",
          "data": {
            "text/plain": [
              "<matplotlib.axes._subplots.AxesSubplot at 0x7f25a9b50210>"
            ]
          },
          "metadata": {
            "tags": []
          },
          "execution_count": 10
        },
        {
          "output_type": "display_data",
          "data": {
            "image/png": "[encoded data removed]",
            "text/plain": [
              "<Figure size 432x288 with 1 Axes>"
            ]
          },
          "metadata": {
            "tags": [],
            "needs_background": "light"
          }
        }
      ]
    },
    {
      "cell_type": "code",
      "metadata": {
        "colab": {
          "base_uri": "https://localhost:8080/",
          "height": 285
        },
        "id": "ThFIrJ1_eRHY",
        "outputId": "f292bbe3-24d1-4b3a-a7ef-7d60f8f874b9"
      },
      "source": [
        "# get length of all the messages in the val set\n",
        "seq_len = [len(i.split()) for i in val_text]\n",
        "pd.Series(seq_len).hist(bins = 30)"
      ],
      "id": "ThFIrJ1_eRHY",
      "execution_count": 11,
      "outputs": [
        {
          "output_type": "execute_result",
          "data": {
            "text/plain": [
              "<matplotlib.axes._subplots.AxesSubplot at 0x7f25a9a02450>"
            ]
          },
          "metadata": {
            "tags": []
          },
          "execution_count": 11
        },
        {
          "output_type": "display_data",
          "data": {
            "image/png": "[encoded data removed]",
            "text/plain": [
              "<Figure size 432x288 with 1 Axes>"
            ]
          },
          "metadata": {
            "tags": [],
            "needs_background": "light"
          }
        }
      ]
    },
    {
      "cell_type": "code",
      "metadata": {
        "colab": {
          "base_uri": "https://localhost:8080/",
          "height": 283
        },
        "id": "6lDpMvoJeSDY",
        "outputId": "bb23b5bf-9ff4-46fa-86e0-1c7b16ce803b"
      },
      "source": [
        "# get length of all the messages in the test set\n",
        "seq_len = [len(i.split()) for i in test_text]\n",
        "pd.Series(seq_len).hist(bins = 30)"
      ],
      "id": "6lDpMvoJeSDY",
      "execution_count": 12,
      "outputs": [
        {
          "output_type": "execute_result",
          "data": {
            "text/plain": [
              "<matplotlib.axes._subplots.AxesSubplot at 0x7f25a94a5910>"
            ]
          },
          "metadata": {
            "tags": []
          },
          "execution_count": 12
        },
        {
          "output_type": "display_data",
          "data": {
            "image/png": "[encoded data removed]",
            "text/plain": [
              "<Figure size 432x288 with 1 Axes>"
            ]
          },
          "metadata": {
            "tags": [],
            "needs_background": "light"
          }
        }
      ]
    },
    {
      "cell_type": "code",
      "metadata": {
        "id": "k4G9gD3neNkJ"
      },
      "source": [
        "# tokenize and encode sequences in the training set\n",
        "tokens_train = tokenizer.batch_encode_plus(\n",
        "    train_text.tolist(),\n",
        "    max_length = 25,\n",
        "    padding='longest',\n",
        "    truncation=True\n",
        ")\n",
        "\n",
        "# tokenize and encode sequences in the validation set\n",
        "tokens_val = tokenizer.batch_encode_plus(\n",
        "    val_text.tolist(),\n",
        "    max_length = 25,\n",
        "    padding='longest',\n",
        "    truncation=True\n",
        ")\n",
        "\n",
        "# tokenize and encode sequences in the test set\n",
        "tokens_test = tokenizer.batch_encode_plus(\n",
        "    test_text.tolist(),\n",
        "    max_length = 25,\n",
        "    padding='longest',\n",
        "    truncation=True\n",
        ")"
      ],
      "id": "k4G9gD3neNkJ",
      "execution_count": 13,
      "outputs": []
    },
    {
      "cell_type": "code",
      "metadata": {
        "id": "ChuoX_0XfU4_"
      },
      "source": [
        "## convert lists to tensors\n",
        "\n",
        "train_seq = torch.tensor(tokens_train['input_ids'])\n",
        "train_mask = torch.tensor(tokens_train['attention_mask'])\n",
        "train_y = torch.tensor(train_labels.tolist())\n",
        "\n",
        "val_seq = torch.tensor(tokens_val['input_ids'])\n",
        "val_mask = torch.tensor(tokens_val['attention_mask'])\n",
        "val_y = torch.tensor(val_labels.tolist())\n",
        "\n",
        "test_seq = torch.tensor(tokens_test['input_ids'])\n",
        "test_mask = torch.tensor(tokens_test['attention_mask'])\n",
        "test_y = torch.tensor(test_labels.tolist())"
      ],
      "id": "ChuoX_0XfU4_",
      "execution_count": 14,
      "outputs": []
    },
    {
      "cell_type": "code",
      "metadata": {
        "id": "9oyz5bTJfVnf"
      },
      "source": [
        "#define a batch size\n",
        "batch_size = 32\n",
        "\n",
        "# wrap tensors\n",
        "train_data = TensorDataset(train_seq, train_mask, train_y)\n",
        "\n",
        "# sampler for sampling the data during training\n",
        "train_sampler = RandomSampler(train_data)\n",
        "\n",
        "# dataLoader for train set\n",
        "train_dataloader = DataLoader(train_data, sampler=train_sampler, batch_size=batch_size, drop_last=True)\n",
        "\n",
        "# wrap tensors\n",
        "val_data = TensorDataset(val_seq, val_mask, val_y)\n",
        "\n",
        "# sampler for sampling the data during training\n",
        "val_sampler = SequentialSampler(val_data)\n",
        "\n",
        "# dataLoader for validation set\n",
        "val_dataloader = DataLoader(val_data, sampler = val_sampler, batch_size=batch_size, drop_last=True)\n",
        "\n",
        "# wrap tensors\n",
        "test_data = TensorDataset(test_seq, test_mask, test_y)\n",
        "\n",
        "# sampler for sampling the data during training\n",
        "test_sampler = SequentialSampler(test_data)\n",
        "\n",
        "# dataLoader for test set\n",
        "test_dataloader = DataLoader(test_data, sampler = test_sampler, batch_size=batch_size, drop_last=True)"
      ],
      "id": "9oyz5bTJfVnf",
      "execution_count": 15,
      "outputs": []
    },
    {
      "cell_type": "code",
      "metadata": {
        "id": "MflsFK7RANpl"
      },
      "source": [
        "\n",
        "#print('train loader',len(train_dataloader.dataset))\n",
        "#print('val loader',len(val_dataloader.dataset))\n",
        "#print('test loader',len(test_loader))"
      ],
      "id": "MflsFK7RANpl",
      "execution_count": 16,
      "outputs": []
    },
    {
      "cell_type": "code",
      "metadata": {
        "id": "myQdGVCufxZe"
      },
      "source": [
        "#import torch.nn as nn\n",
        "#import torch.nn.functional as F\n",
        "from torch.autograd import Variable\n",
        "\n",
        "\n",
        "class AttnDPCNN(nn.Module):\n",
        "\n",
        "    def __init__(self,batch_size,seq_len,embedding_dim,output_size_linear, \n",
        "                 cnn_channel_size, cnn_kernel_size=(3,1),cnn_padding=0, cnn_stride=1, attn_nodes_per_layer = 10):\n",
        "\n",
        "        super(AttnDPCNN, self).__init__()\n",
        "        #self.bert=bert\n",
        "        self.attn_nodes_per_layer = attn_nodes_per_layer\n",
        "        self.channel_size = cnn_channel_size\n",
        "        self.output_size_linear = output_size_linear\n",
        "        self.cnn_kernel_size = cnn_kernel_size\n",
        "        self.padding = cnn_padding\n",
        "        self.stride = cnn_stride\n",
        "        #self.vocab_size = vocab_size\n",
        "        self.embed_dim = embedding_dim\n",
        "        self.seq_len = seq_len\n",
        "        self.batch_size = batch_size\n",
        "        \n",
        "        #self.collect_out_softmax = torch.zeros(1,1).to(device)\n",
        "        #self.collect_out_attn = torch.zeros(self.batch_size,self.attn_nodes_per_layer).to(device)\n",
        "        \n",
        "        #self.embed = nn.Embedding(self.vocab_size, self.embed_dim)\n",
        "        self.conv1 = nn.Conv2d(1,  self.channel_size, (3,self.embed_dim), stride = 1) # embed_dim becomes 1\n",
        "        self.conv2 = nn.Conv2d(self.channel_size,  self.channel_size,  \n",
        "                                kernel_size=self.cnn_kernel_size, padding=0,\n",
        "                               stride = self.stride)\n",
        "        self.padding1 = nn.ZeroPad2d((0, 0, 1, 1))  # top bottom\n",
        "        self.padding2 = nn.ZeroPad2d((0, 0, 0, 1))  # bottom\n",
        "        self.max_pool = nn.MaxPool2d(kernel_size=(3, 1), stride=2)      \n",
        "        \n",
        "        self._repeat_block = nn.Sequential( # input [batch_size, num_filters, seq_len-3+1, 1]\n",
        "                    nn.ZeroPad2d((0, 0, 1, 1)), # [batch_size, num_filters, seq_len, 1]\n",
        "                    nn.ReLU(),\n",
        "                    nn.Conv2d(self.channel_size,  self.channel_size,   # [batch_size, num_filters, seq_len-3+1, 1]\n",
        "                                kernel_size=self.cnn_kernel_size, padding=0,\n",
        "                               stride = self.stride),\n",
        "                    nn.ZeroPad2d((0, 0, 1, 1)), # [batch_size, num_filters, seq_len, 1]\n",
        "                    nn.ReLU(),\n",
        "                    nn.Conv2d(self.channel_size,  self.channel_size,  # [batch_size, num_filters, seq_len-3+1, 1]\n",
        "                                kernel_size=self.cnn_kernel_size, padding=0,\n",
        "                               stride = self.stride),\n",
        "            )\n",
        "        \n",
        "        self.maps = None\n",
        "        # To get variying attention weights for 1) softmax output 2) 10 representing features\n",
        "        self.num_repeat_blocks, self.size_repeat_blocks_list = self.dividible(2)\n",
        "        self.weight_softmax_list, self.weight_attn_list = self.getWeights_init()\n",
        "        \n",
        "        self.counter=0\n",
        "        \n",
        "        # Drop probability\n",
        "        self.dropout = nn.Dropout(p=0.2)\n",
        "        # Last linear layer (FC)\n",
        "        self.linear1 = nn.Linear(self.attn_nodes_per_layer*self.num_repeat_blocks,self.output_size_linear)\n",
        "        #self.linear1 = nn.Linear(self.channel_size,self.output_size_linear)\n",
        "          \n",
        "    def repeat_block(self, x): # input [batch_size, num_filters, seq_len-3+1, 1]\n",
        "        x = self.padding2(x) # [batch_size, num_filters, seq_len-1, 1] -> seq_len-3+1+1 = seq_len-1\n",
        "        #print('padding')\n",
        "        x1 = self.max_pool(x)  # [batch_size, num_filters, (seq_len-1) // 3, 1 //1] -> seq_len-3+1+1 = seq_len-1\n",
        "        #print('x1',x1.shape)\n",
        "        # conv block\n",
        "        x2 = self._repeat_block(x1)\n",
        "        #print('x2',x2.shape)\n",
        "        # Identity addition\n",
        "        x = x1 + x2\n",
        "        #print('x1+x2',x.shape)\n",
        "        # to get attn score\n",
        "        #print(\"out softmax weights\",self.weight_softmax_list[self.counter].shape)\n",
        "        #out_softmax = F.linear(x.reshape(1,-1),self.weight_softmax_list[self.counter])\n",
        "        \n",
        "        # fix output features as 10\n",
        "        out_attn = F.linear(x.reshape(x.shape[0],-1),self.weight_attn_list[self.counter])\n",
        "\n",
        "        return x,out_attn\n",
        "\n",
        "    def forward(self, x):\n",
        "        \n",
        "        self.counter =0\n",
        "        #embed = self.bert(sent_id, attention_mask=mask)\n",
        "        #x = embed['last_hidden_state'].unsqueeze(1) # [batch_size, 1, seq_len, embedding_dim]\n",
        "        x = self.conv1(x)  # [batch_size, num_filters, seq_len-3+1, 1]\n",
        "        #print(x.shape)\n",
        "        x = self.padding1(x)  # [batch_size, num_filters, seq_len, 1]\n",
        "        x = F.relu(x)\n",
        "        x = self.conv2(x)  # [batch_size, num_filters, seq_len-3+1, 1]\n",
        "\n",
        "        while x.size()[2] >= 2: # till seq_len is 1\n",
        "            #print(x.shape)\n",
        "            x,out_attn = self.repeat_block(x)  # [batch_size, num_filters,1,1] at the end\n",
        "            #print(out_attn.shape) # 32 x 10\n",
        "            \n",
        "            if self.counter==0:\n",
        "                #self.collect_out_softmax = out_softmax\n",
        "                self.collect_out_attn = out_attn.unsqueeze(2)\n",
        "                #self.collect_out_attn = [out_attn]\n",
        "            else:\n",
        "                #self.collect_out_softmax = torch.cat((self.collect_out_softmax,out_softmax),0)\n",
        "                self.collect_out_attn = torch.cat((self.collect_out_attn,out_attn.unsqueeze(2)),2) \n",
        "                #self.collect_out_attn.append(out_attn)\n",
        "        \n",
        "            self.counter +=1\n",
        "\n",
        "\n",
        "        ## CALCULATION OF DOT PRODUCT ATTENTION ##\n",
        "        #print(\"collect out attn\",self.collect_out_attn.shape) # 32 x 10 x 5\n",
        "        final_collect_out_attn = torch.zeros_like(self.collect_out_attn)\n",
        "        key = self.collect_out_attn.clone() # 32 x 10 x 5\n",
        "        value = self.collect_out_attn.clone() # 32 x 10 x 5\n",
        "        for i in range(self.counter):\n",
        "\n",
        "            #start = i*self.attn_nodes_per_layer\n",
        "            #end = start+self.attn_nodes_per_layer\n",
        "            query = self.collect_out_attn[:,:,i].clone().unsqueeze(2) # 32 x 10 x 1\n",
        "\n",
        "            # dot product and then softmax\n",
        "            in_softmax = torch.bmm(key.transpose(1,2),query)/self.num_repeat_blocks\n",
        "            #print(\"in softmax\",in_softmax.shape) #32 x 5 x 1\n",
        "            #print(\"in soft scores sum\",in_softmax[0,:,0])\n",
        "            prob = F.softmax(in_softmax,1)\n",
        "            #print(\"prob\",prob.shape) #32x 5 x 1\n",
        "            #print(\"prob sum\",prob[0,:,0])\n",
        "            \n",
        "            final_vec = torch.bmm(value,prob) # 32 x 10 x 1\n",
        "            #print(\"final_vec\",final_vec.shape)\n",
        "\n",
        "            if i==0:\n",
        "              output = final_vec\n",
        "              maps = prob.detach().cpu()\n",
        "            else:\n",
        "              output = torch.cat((output,final_vec),2)\n",
        "              maps = torch.cat((maps,prob.detach().cpu()),2)\n",
        "        \n",
        "        #output =  output/self.num_repeat_blocks\n",
        "        #print(\"output\",output.shape) # 32 x 10 x 5\n",
        "\n",
        "\n",
        "\n",
        "        ## FULLY CONNECTED ##\n",
        "        # linear layer\n",
        "        output = self.linear1(output.reshape(x.shape[0],-1))  # [batch_size, output size]\n",
        "        output = self.dropout(output)\n",
        "        return output, maps\n",
        "    \n",
        "    def dividible(self,p):\n",
        "        n=self.seq_len\n",
        "        i = 0\n",
        "        out=[]\n",
        "        while n>=p:\n",
        "            if i==0:\n",
        "                n = (n-2)//2\n",
        "               #n=n-2\n",
        "               #out.append(n-1)\n",
        "            else:\n",
        "                n = n//2\n",
        "                #out.append(n)\n",
        "            i += 1\n",
        "            out.append(n)\n",
        "        return i,out\n",
        "    \n",
        "    def getWeights_init(self):\n",
        "        weights_softmax_list = []\n",
        "        weights_attn_list = []\n",
        "        for i in range(self.num_repeat_blocks):\n",
        "            # size_repeat_blocks_list contains various seq length\n",
        "            #print('batch size', self.batch_size)\n",
        "            #print('seq len', self.size_repeat_blocks_list[i])\n",
        "            #print('channel size', self.channel_size)\n",
        "            weights_softmax_list.append(Variable(torch.randn(1,self.batch_size*1*self.size_repeat_blocks_list[i]*self.channel_size)).to(device))\n",
        "            weights_attn_list.append(Variable(torch.randn(self.attn_nodes_per_layer,1*self.size_repeat_blocks_list[i]*self.channel_size)).to(device)) # fix output features as 10\n",
        "        return weights_softmax_list,weights_attn_list\n",
        "  "
      ],
      "id": "myQdGVCufxZe",
      "execution_count": 17,
      "outputs": []
    },
    {
      "cell_type": "code",
      "metadata": {
        "id": "7Sz1FnUIgDb_"
      },
      "source": [
        "dpcnn = AttnDPCNN(32,25,768, 3, 64) # batchsize, seq len, embed dim, classes, no of filters\n",
        "dpcnn = dpcnn.to(device)\n",
        "bert = bert.to(device)"
      ],
      "id": "7Sz1FnUIgDb_",
      "execution_count": 18,
      "outputs": []
    },
    {
      "cell_type": "code",
      "metadata": {
        "id": "CXRr52J0gDuf"
      },
      "source": [
        "# optimizer from hugging face transformers\n",
        "from transformers import AdamW\n",
        "\n",
        "# define the optimizer\n",
        "#optimizer_bert = AdamW(bert.parameters(), lr = 1e-5)          # lr=learning rate\n",
        "optimizer_dpcnn = AdamW(dpcnn.parameters(), lr = 0.001)\n",
        "#scheduler_bert = torch.optim.lr_scheduler.StepLR(optimizer_bert, step_size = 2, gamma=0.8)\n",
        "scheduler_dpcnn = torch.optim.lr_scheduler.StepLR(optimizer_dpcnn, step_size = 2, gamma=0.3)#0.3"
      ],
      "id": "CXRr52J0gDuf",
      "execution_count": 19,
      "outputs": []
    },
    {
      "cell_type": "code",
      "metadata": {
        "colab": {
          "base_uri": "https://localhost:8080/"
        },
        "id": "bpEEKpjWgD6P",
        "outputId": "1e851d20-93e3-4263-f00b-c7d41be6eacd"
      },
      "source": [
        "\n",
        "from sklearn.utils.class_weight import compute_class_weight\n",
        "\n",
        "#compute the class weights\n",
        "class_weights = compute_class_weight('balanced', np.unique(train_labels), train_labels)\n",
        "\n",
        "print(\"Class Weights:\",class_weights)"
      ],
      "id": "bpEEKpjWgD6P",
      "execution_count": 20,
      "outputs": [
        {
          "output_type": "stream",
          "text": [
            "Class Weights: [0.53167315 1.57491932 2.06529625]\n"
          ],
          "name": "stdout"
        }
      ]
    },
    {
      "cell_type": "code",
      "metadata": {
        "id": "Zd0F4yoKv9L8"
      },
      "source": [
        "# converting list of class weights to a tensor\n",
        "weights= torch.tensor(class_weights,dtype=torch.float)\n",
        "\n",
        "# push to GPU\n",
        "weights = weights.to(device)\n",
        "\n",
        "# define the loss function\n",
        "cross_entropy  = nn.CrossEntropyLoss(weight=weights) \n",
        "\n",
        "# number of training epochs\n",
        "epochs = 20"
      ],
      "id": "Zd0F4yoKv9L8",
      "execution_count": 21,
      "outputs": []
    },
    {
      "cell_type": "code",
      "metadata": {
        "id": "oo4LP4egv9xS"
      },
      "source": [
        "# function to train the model\n",
        "def train():\n",
        "  \n",
        "  bert.train()\n",
        "  dpcnn.train()\n",
        "\n",
        "  total_loss, total_accuracy = 0, 0\n",
        "  \n",
        "  # empty list to save model predictions\n",
        "  total_preds=[]\n",
        "  \n",
        "  # iterate over batches\n",
        "  for step,batch in enumerate(train_dataloader):\n",
        "    \n",
        "    # progress update after every 50 batches.\n",
        "    if step % 50 == 0 and not step == 0:\n",
        "      print('  Batch {:>5,}  of  {:>5,}.'.format(step, len(train_dataloader)))\n",
        "\n",
        "    # push the batch to gpu\n",
        "    batch = [r.to(device) for r in batch]\n",
        " \n",
        "    sent_id, mask, labels = batch\n",
        "\n",
        "    # clear previously calculated gradients \n",
        "\n",
        "    #optimizer_bert.zero_grad()\n",
        "    optimizer_dpcnn.zero_grad()   \n",
        "\n",
        "    # get model predictions for the current batch\n",
        "    \n",
        "    embed = bert(sent_id, attention_mask=mask)\n",
        "    x = embed['last_hidden_state'].unsqueeze(1) # [batch_size, 1, seq_len, embedding_dim]\n",
        "    preds,_ = dpcnn(x)\n",
        "\n",
        "    # compute the loss between actual and predicted values\n",
        "    loss = cross_entropy(preds, labels)\n",
        "\n",
        "    # add on to the total loss\n",
        "    total_loss = total_loss + loss.item()\n",
        "\n",
        "    # backward pass to calculate the gradients\n",
        "    loss.backward()\n",
        "\n",
        "    # clip the the gradients to 1.0. It helps in preventing the exploding gradient problem\n",
        "    #torch.nn.utils.clip_grad_norm_(bert.parameters(), 1.0)\n",
        "    torch.nn.utils.clip_grad_norm_(dpcnn.parameters(), 1.0)\n",
        "  \n",
        "    # update parameters\n",
        "    #optimizer_bert.step()\n",
        "    optimizer_dpcnn.step() \n",
        "\n",
        "    # model predictions are stored on GPU. So, push it to CPU\n",
        "    preds=preds.detach().cpu().numpy()\n",
        "\n",
        "    # append the model predictions\n",
        "    total_preds.append(preds)\n",
        "    \n",
        "  # compute the training loss of the epoch\n",
        "  avg_loss = total_loss / len(train_dataloader)\n",
        "  \n",
        "  # predictions are in the form of (no. of batches, size of batch, no. of classes).\n",
        "  # reshape the predictions in form of (number of samples, no. of classes)\n",
        "  total_preds  = np.concatenate(total_preds, axis=0)\n",
        "\n",
        "  #returns the loss and predictions\n",
        "  return avg_loss, total_preds"
      ],
      "id": "oo4LP4egv9xS",
      "execution_count": 22,
      "outputs": []
    },
    {
      "cell_type": "code",
      "metadata": {
        "id": "1wMHjrhtv966"
      },
      "source": [
        "# function for evaluating the model\n",
        "def evaluate():\n",
        "  \n",
        "  print(\"\\nEvaluating...\")\n",
        "  t0 = time.time()\n",
        "  # deactivate dropout layers\n",
        "  #model.eval() replace below?\n",
        "  bert.eval()\n",
        "  dpcnn.eval()\n",
        "\n",
        "  total_loss, total_accuracy = 0, 0\n",
        "  \n",
        "  # empty list to save the model predictions\n",
        "  total_preds = []\n",
        "\n",
        "  # iterate over batches\n",
        "  for step,batch in enumerate(val_dataloader):\n",
        "    \n",
        "    # Progress update every 50 batches.\n",
        "    if step % 50 == 0 and not step == 0:\n",
        "      \n",
        "      # Calculate elapsed time in minutes.\n",
        "      elapsed = time.time() - t0\n",
        "            \n",
        "      # Report progress.\n",
        "      print('  Batch {:>5,}  of  {:>5,}.'.format(step, len(val_dataloader)))\n",
        "\n",
        "    # push the batch to gpu\n",
        "    batch = [t.to(device) for t in batch]\n",
        "\n",
        "    sent_id, mask, labels = batch\n",
        "\n",
        "    # deactivate autograd\n",
        "    with torch.no_grad():\n",
        "      \n",
        "      # model predictions\n",
        "      embed = bert(sent_id, attention_mask=mask)\n",
        "      x = embed['last_hidden_state'].unsqueeze(1) # [batch_size, 1, seq_len, embedding_dim]\n",
        "      preds,_ = dpcnn(x)\n",
        "\n",
        "      # compute the validation loss between actual and predicted values\n",
        "      loss = cross_entropy(preds,labels)\n",
        "\n",
        "      total_loss = total_loss + loss.item()\n",
        "\n",
        "      preds = preds.detach().cpu().numpy()\n",
        "\n",
        "      total_preds.append(preds)\n",
        "\n",
        "  # compute the validation loss of the epoch\n",
        "  avg_loss = total_loss / len(val_dataloader) \n",
        "\n",
        "  # reshape the predictions in form of (number of samples, no. of classes)\n",
        "  total_preds  = np.concatenate(total_preds, axis=0)\n",
        "\n",
        "  return avg_loss, total_preds"
      ],
      "id": "1wMHjrhtv966",
      "execution_count": 23,
      "outputs": []
    },
    {
      "cell_type": "code",
      "metadata": {
        "id": "gNb5Sroq4Kt4"
      },
      "source": [
        "#print(model.num_repeat_blocks)\n",
        "#print(model.size_repeat_blocks_list)"
      ],
      "id": "gNb5Sroq4Kt4",
      "execution_count": null,
      "outputs": []
    },
    {
      "cell_type": "code",
      "metadata": {
        "colab": {
          "base_uri": "https://localhost:8080/"
        },
        "id": "jMS0f0EK0uN-",
        "outputId": "aa97695c-7737-439c-954f-67df69cd4bcf"
      },
      "source": [
        "# set initial loss to infinite\n",
        "best_valid_loss = float('inf')\n",
        "\n",
        "# empty lists to store training and validation loss of each epoch\n",
        "train_losses=[]\n",
        "valid_losses=[]\n",
        "\n",
        "\n",
        "#for each epoch\n",
        "for epoch in range(1, epochs+1):\n",
        "\n",
        "    print('\\n Epoch {:} / {:}'.format(epoch, epochs))\n",
        "    \n",
        "    #train model\n",
        "    train_loss, _ = train()\n",
        "    \n",
        "    #evaluate model\n",
        "    valid_loss, _ = evaluate()\n",
        "\n",
        "    #scheduler_bert.step()\n",
        "    scheduler_dpcnn.step()\n",
        "    \n",
        "    #save the best model\n",
        "    #if valid_loss < best_valid_loss:\n",
        "    #    best_valid_loss = valid_loss\n",
        "    #    torch.save(bert.state_dict(), 'bert_saved_weights.pt')\n",
        "    #    torch.save(dpcnn.state_dict(), 'dpcnn_saved_weights.pt')\n",
        "    \n",
        "    # append training and validation loss\n",
        "    train_losses.append(train_loss)\n",
        "    valid_losses.append(valid_loss)\n",
        "  \n",
        "    print(f'\\nTraining Loss: {train_loss:.3f}')\n",
        "    print(f'Validation Loss: {valid_loss:.3f}')\n",
        "    #break"
      ],
      "id": "jMS0f0EK0uN-",
      "execution_count": 24,
      "outputs": [
        {
          "output_type": "stream",
          "text": [
            "\n",
            " Epoch 1 / 20\n",
            "  Batch    50  of    320.\n",
            "  Batch   100  of    320.\n",
            "  Batch   150  of    320.\n",
            "  Batch   200  of    320.\n",
            "  Batch   250  of    320.\n",
            "  Batch   300  of    320.\n",
            "\n",
            "Evaluating...\n",
            "  Batch    50  of     68.\n",
            "\n",
            "Training Loss: 0.824\n",
            "Validation Loss: 0.671\n",
            "\n",
            " Epoch 2 / 20\n",
            "  Batch    50  of    320.\n",
            "  Batch   100  of    320.\n",
            "  Batch   150  of    320.\n",
            "  Batch   200  of    320.\n",
            "  Batch   250  of    320.\n",
            "  Batch   300  of    320.\n",
            "\n",
            "Evaluating...\n",
            "  Batch    50  of     68.\n",
            "\n",
            "Training Loss: 0.691\n",
            "Validation Loss: 0.604\n",
            "\n",
            " Epoch 3 / 20\n",
            "  Batch    50  of    320.\n",
            "  Batch   100  of    320.\n",
            "  Batch   150  of    320.\n",
            "  Batch   200  of    320.\n",
            "  Batch   250  of    320.\n",
            "  Batch   300  of    320.\n",
            "\n",
            "Evaluating...\n",
            "  Batch    50  of     68.\n",
            "\n",
            "Training Loss: 0.604\n",
            "Validation Loss: 0.579\n",
            "\n",
            " Epoch 4 / 20\n",
            "  Batch    50  of    320.\n",
            "  Batch   100  of    320.\n",
            "  Batch   150  of    320.\n",
            "  Batch   200  of    320.\n",
            "  Batch   250  of    320.\n",
            "  Batch   300  of    320.\n",
            "\n",
            "Evaluating...\n",
            "  Batch    50  of     68.\n",
            "\n",
            "Training Loss: 0.582\n",
            "Validation Loss: 0.581\n",
            "\n",
            " Epoch 5 / 20\n",
            "  Batch    50  of    320.\n",
            "  Batch   100  of    320.\n",
            "  Batch   150  of    320.\n",
            "  Batch   200  of    320.\n",
            "  Batch   250  of    320.\n",
            "  Batch   300  of    320.\n",
            "\n",
            "Evaluating...\n",
            "  Batch    50  of     68.\n",
            "\n",
            "Training Loss: 0.553\n",
            "Validation Loss: 0.568\n",
            "\n",
            " Epoch 6 / 20\n",
            "  Batch    50  of    320.\n",
            "  Batch   100  of    320.\n",
            "  Batch   150  of    320.\n",
            "  Batch   200  of    320.\n",
            "  Batch   250  of    320.\n",
            "  Batch   300  of    320.\n",
            "\n",
            "Evaluating...\n",
            "  Batch    50  of     68.\n",
            "\n",
            "Training Loss: 0.553\n",
            "Validation Loss: 0.575\n",
            "\n",
            " Epoch 7 / 20\n",
            "  Batch    50  of    320.\n",
            "  Batch   100  of    320.\n",
            "  Batch   150  of    320.\n",
            "  Batch   200  of    320.\n",
            "  Batch   250  of    320.\n",
            "  Batch   300  of    320.\n",
            "\n",
            "Evaluating...\n",
            "  Batch    50  of     68.\n",
            "\n",
            "Training Loss: 0.545\n",
            "Validation Loss: 0.576\n",
            "\n",
            " Epoch 8 / 20\n",
            "  Batch    50  of    320.\n",
            "  Batch   100  of    320.\n",
            "  Batch   150  of    320.\n",
            "  Batch   200  of    320.\n",
            "  Batch   250  of    320.\n",
            "  Batch   300  of    320.\n",
            "\n",
            "Evaluating...\n",
            "  Batch    50  of     68.\n",
            "\n",
            "Training Loss: 0.540\n",
            "Validation Loss: 0.573\n",
            "\n",
            " Epoch 9 / 20\n",
            "  Batch    50  of    320.\n",
            "  Batch   100  of    320.\n",
            "  Batch   150  of    320.\n",
            "  Batch   200  of    320.\n",
            "  Batch   250  of    320.\n",
            "  Batch   300  of    320.\n",
            "\n",
            "Evaluating...\n",
            "  Batch    50  of     68.\n",
            "\n",
            "Training Loss: 0.536\n",
            "Validation Loss: 0.575\n",
            "\n",
            " Epoch 10 / 20\n",
            "  Batch    50  of    320.\n",
            "  Batch   100  of    320.\n",
            "  Batch   150  of    320.\n",
            "  Batch   200  of    320.\n",
            "  Batch   250  of    320.\n",
            "  Batch   300  of    320.\n",
            "\n",
            "Evaluating...\n",
            "  Batch    50  of     68.\n",
            "\n",
            "Training Loss: 0.533\n",
            "Validation Loss: 0.576\n",
            "\n",
            " Epoch 11 / 20\n",
            "  Batch    50  of    320.\n",
            "  Batch   100  of    320.\n",
            "  Batch   150  of    320.\n",
            "  Batch   200  of    320.\n",
            "  Batch   250  of    320.\n",
            "  Batch   300  of    320.\n",
            "\n",
            "Evaluating...\n",
            "  Batch    50  of     68.\n",
            "\n",
            "Training Loss: 0.532\n",
            "Validation Loss: 0.576\n",
            "\n",
            " Epoch 12 / 20\n",
            "  Batch    50  of    320.\n",
            "  Batch   100  of    320.\n",
            "  Batch   150  of    320.\n",
            "  Batch   200  of    320.\n",
            "  Batch   250  of    320.\n",
            "  Batch   300  of    320.\n",
            "\n",
            "Evaluating...\n",
            "  Batch    50  of     68.\n",
            "\n",
            "Training Loss: 0.528\n",
            "Validation Loss: 0.576\n",
            "\n",
            " Epoch 13 / 20\n",
            "  Batch    50  of    320.\n",
            "  Batch   100  of    320.\n",
            "  Batch   150  of    320.\n",
            "  Batch   200  of    320.\n",
            "  Batch   250  of    320.\n",
            "  Batch   300  of    320.\n",
            "\n",
            "Evaluating...\n",
            "  Batch    50  of     68.\n",
            "\n",
            "Training Loss: 0.530\n",
            "Validation Loss: 0.576\n",
            "\n",
            " Epoch 14 / 20\n",
            "  Batch    50  of    320.\n",
            "  Batch   100  of    320.\n",
            "  Batch   150  of    320.\n",
            "  Batch   200  of    320.\n",
            "  Batch   250  of    320.\n",
            "  Batch   300  of    320.\n",
            "\n",
            "Evaluating...\n",
            "  Batch    50  of     68.\n",
            "\n",
            "Training Loss: 0.536\n",
            "Validation Loss: 0.576\n",
            "\n",
            " Epoch 15 / 20\n",
            "  Batch    50  of    320.\n",
            "  Batch   100  of    320.\n",
            "  Batch   150  of    320.\n",
            "  Batch   200  of    320.\n",
            "  Batch   250  of    320.\n",
            "  Batch   300  of    320.\n",
            "\n",
            "Evaluating...\n",
            "  Batch    50  of     68.\n",
            "\n",
            "Training Loss: 0.538\n",
            "Validation Loss: 0.576\n",
            "\n",
            " Epoch 16 / 20\n",
            "  Batch    50  of    320.\n",
            "  Batch   100  of    320.\n",
            "  Batch   150  of    320.\n",
            "  Batch   200  of    320.\n",
            "  Batch   250  of    320.\n",
            "  Batch   300  of    320.\n",
            "\n",
            "Evaluating...\n",
            "  Batch    50  of     68.\n",
            "\n",
            "Training Loss: 0.528\n",
            "Validation Loss: 0.576\n",
            "\n",
            " Epoch 17 / 20\n",
            "  Batch    50  of    320.\n",
            "  Batch   100  of    320.\n",
            "  Batch   150  of    320.\n",
            "  Batch   200  of    320.\n",
            "  Batch   250  of    320.\n",
            "  Batch   300  of    320.\n",
            "\n",
            "Evaluating...\n",
            "  Batch    50  of     68.\n",
            "\n",
            "Training Loss: 0.522\n",
            "Validation Loss: 0.576\n",
            "\n",
            " Epoch 18 / 20\n",
            "  Batch    50  of    320.\n",
            "  Batch   100  of    320.\n",
            "  Batch   150  of    320.\n",
            "  Batch   200  of    320.\n",
            "  Batch   250  of    320.\n",
            "  Batch   300  of    320.\n",
            "\n",
            "Evaluating...\n",
            "  Batch    50  of     68.\n",
            "\n",
            "Training Loss: 0.527\n",
            "Validation Loss: 0.576\n",
            "\n",
            " Epoch 19 / 20\n",
            "  Batch    50  of    320.\n",
            "  Batch   100  of    320.\n",
            "  Batch   150  of    320.\n",
            "  Batch   200  of    320.\n",
            "  Batch   250  of    320.\n",
            "  Batch   300  of    320.\n",
            "\n",
            "Evaluating...\n",
            "  Batch    50  of     68.\n",
            "\n",
            "Training Loss: 0.531\n",
            "Validation Loss: 0.576\n",
            "\n",
            " Epoch 20 / 20\n",
            "  Batch    50  of    320.\n",
            "  Batch   100  of    320.\n",
            "  Batch   150  of    320.\n",
            "  Batch   200  of    320.\n",
            "  Batch   250  of    320.\n",
            "  Batch   300  of    320.\n",
            "\n",
            "Evaluating...\n",
            "  Batch    50  of     68.\n",
            "\n",
            "Training Loss: 0.531\n",
            "Validation Loss: 0.576\n"
          ],
          "name": "stdout"
        }
      ]
    },
    {
      "cell_type": "markdown",
      "metadata": {
        "id": "35jFhznsFjeE"
      },
      "source": [
        "TEST"
      ],
      "id": "35jFhznsFjeE"
    },
    {
      "cell_type": "code",
      "metadata": {
        "id": "k4H1U-OH0u4u"
      },
      "source": [
        "# function for evaluating the model\n",
        "def test():\n",
        "  \n",
        "  print(\"\\nEvaluating...\")\n",
        "  t0 = time.time()\n",
        "  # deactivate dropout layers\n",
        "  #model.eval() replace below?\n",
        "\n",
        "  #load weights of best model\n",
        "  #bpath = 'bert_saved_weights.pt'\n",
        "  #bert.load_state_dict(bert.load(bpath))\n",
        "\n",
        "  bert.eval()\n",
        "  dpcnn.eval()\n",
        "\n",
        "  total_loss, total_accuracy = 0, 0\n",
        "  \n",
        "  # empty list to save the model predictions\n",
        "  total_preds = []\n",
        "  total_targets = []\n",
        "  maps_list = []\n",
        "  # iterate over batches\n",
        "  for step,batch in enumerate(test_dataloader):\n",
        "    \n",
        "    # Progress update every 50 batches.\n",
        "    if step % 50 == 0 and not step == 0:\n",
        "      \n",
        "      # Calculate elapsed time in minutes.\n",
        "      elapsed = time.time() - t0\n",
        "            \n",
        "      # Report progress.\n",
        "      print('  Batch {:>5,}  of  {:>5,}.'.format(step, len(test_dataloader)))\n",
        "\n",
        "    # push the batch to gpu\n",
        "    batch = [t.to(device) for t in batch]\n",
        "\n",
        "    sent_id, mask, labels = batch\n",
        "\n",
        "    # deactivate autograd\n",
        "    with torch.no_grad():\n",
        "      \n",
        "      # model predictions\n",
        "      embed = bert(sent_id, attention_mask=mask)\n",
        "      x = embed['last_hidden_state'].unsqueeze(1) # [batch_size, 1, seq_len, embedding_dim]\n",
        "      preds, maps = dpcnn(x)\n",
        "      maps_list.append(maps)\n",
        "      # compute the validation loss between actual and predicted values\n",
        "      loss = cross_entropy(preds,labels)\n",
        "\n",
        "      total_loss = total_loss + loss.item()\n",
        "\n",
        "      preds = preds.detach().cpu()\n",
        "      labels = labels.detach().cpu()\n",
        "\n",
        "      total_preds.append(preds.numpy())\n",
        "      total_targets.append(labels.numpy())\n",
        "  # compute the validation loss of the epoch\n",
        "  avg_loss = total_loss / len(test_dataloader) \n",
        "\n",
        "  # reshape the predictions in form of (number of samples, no. of classes)\n",
        "  total_preds  = np.concatenate(total_preds, axis=0)\n",
        "  total_targets = np.concatenate(total_targets, axis=0)\n",
        "  dpcnn.maps = maps_list\n",
        "  return avg_loss, total_preds, total_targets"
      ],
      "id": "k4H1U-OH0u4u",
      "execution_count": 25,
      "outputs": []
    },
    {
      "cell_type": "code",
      "metadata": {
        "id": "Lta77CwxFTzF"
      },
      "source": [
        "#load weights of best model\n",
        "#bpath = 'bert_saved_weights.pt'\n",
        "#bert.load_state_dict(bert.load(bpath))\n",
        "#load weights of best model\n",
        "#dpath = 'dpcnn_saved_weights.pt'\n",
        "#dpcnn.load_state_dict(dpcnn.load(dpath))"
      ],
      "id": "Lta77CwxFTzF",
      "execution_count": 26,
      "outputs": []
    },
    {
      "cell_type": "code",
      "metadata": {
        "id": "g2KzqQVS4Aro",
        "colab": {
          "base_uri": "https://localhost:8080/"
        },
        "outputId": "de46f9dc-1545-4939-9cf4-c6a813cad068"
      },
      "source": [
        "test_loss, test_preds, test_targets = test()\n",
        "print(f'Test Loss: {test_loss:.3f}')"
      ],
      "id": "g2KzqQVS4Aro",
      "execution_count": 27,
      "outputs": [
        {
          "output_type": "stream",
          "text": [
            "\n",
            "Evaluating...\n",
            "  Batch    50  of     68.\n",
            "Test Loss: 0.574\n"
          ],
          "name": "stdout"
        }
      ]
    },
    {
      "cell_type": "code",
      "metadata": {
        "id": "oGeUQF3F0viG",
        "colab": {
          "base_uri": "https://localhost:8080/"
        },
        "outputId": "67cdbf08-3646-402a-988d-07b808415771"
      },
      "source": [
        "test_preds_classes = np.argmax(test_preds, axis = 1)\n",
        "print(classification_report(test_targets, test_preds_classes))"
      ],
      "id": "oGeUQF3F0viG",
      "execution_count": 28,
      "outputs": [
        {
          "output_type": "stream",
          "text": [
            "              precision    recall  f1-score   support\n",
            "\n",
            "           0       0.92      0.79      0.85      1368\n",
            "           1       0.55      0.71      0.62       457\n",
            "           2       0.70      0.81      0.75       351\n",
            "\n",
            "    accuracy                           0.78      2176\n",
            "   macro avg       0.72      0.77      0.74      2176\n",
            "weighted avg       0.81      0.78      0.79      2176\n",
            "\n"
          ],
          "name": "stdout"
        }
      ]
    },
    {
      "cell_type": "code",
      "metadata": {
        "id": "tyJMgmgJ0v_2",
        "colab": {
          "base_uri": "https://localhost:8080/"
        },
        "outputId": "1f8720ee-480b-43aa-cba2-21ec55165136"
      },
      "source": [
        "# Get confusion matrix\n",
        "from sklearn.metrics import confusion_matrix\n",
        "cf = confusion_matrix(test_targets, test_preds_classes)\n",
        "cf #cf[actu][pred]\n",
        "# pred 0 1 2 3\n",
        "# actu\n",
        "# 0\n",
        "# 1\n",
        "# 2\n",
        "# 3"
      ],
      "id": "tyJMgmgJ0v_2",
      "execution_count": 29,
      "outputs": [
        {
          "output_type": "execute_result",
          "data": {
            "text/plain": [
              "array([[1086,  221,   61],\n",
              "       [  67,  326,   64],\n",
              "       [  24,   42,  285]])"
            ]
          },
          "metadata": {
            "tags": []
          },
          "execution_count": 29
        }
      ]
    },
    {
      "cell_type": "code",
      "metadata": {
        "id": "u2vzhlfz0wM9"
      },
      "source": [
        "import matplotlib.pyplot as plt # we only need pyplot\n",
        "import matplotlib.cm as cm\n",
        "import matplotlib\n",
        "\n",
        "# Get components of actual labels\n",
        "def getPredictionOfActualLabels(cf,actual_label,angle=45):\n",
        "    sizes = []\n",
        "    # cf[actual-1][predicted-1]\n",
        "    #pa1 = cf[actual_label-1][0]\n",
        "    #pa2 = cf[actual_label-1][1]\n",
        "    #pa3 = cf[actual_label-1][2]\n",
        "    #pa4 = cf[actual_label-1][3]\n",
        "    #pa5 = cf[actual_label-1][4]\n",
        "    \n",
        "    for i in range(3):\n",
        "        sizes.append(cf[actual_label][i])\n",
        "    \n",
        "    # Data to plot\n",
        "    labels = ['negative', 'neutral', 'positive']\n",
        "    #sizes = [p[0], p[1], p[2], p[3]]\n",
        "    colors = ['lightskyblue', 'yellowgreen', 'lightcoral']\n",
        "\n",
        "    # Plot\n",
        "    plt.pie(sizes, labels=labels, colors=colors, autopct='%1.0f%%', shadow=False, startangle=angle, textprops={'fontsize': 14})\n",
        "    plt.title(\"Predictions of Ratings with actual labels as \"+labels[actual_label],fontsize=20)\n",
        "    #matplotlib.rcParams['text.color'] = 'white'\n",
        "\n",
        "    plt.axis('equal')\n",
        "    plt.show()\n",
        "\n",
        "# Get components of predictions\n",
        "def getActualLabelsOfPredictions(cf,pred_label,angle=45):\n",
        "    sizes = []\n",
        "    # cf[actual-1][predicted-1]\n",
        "    #pa1 = cf[actual_label-1][0]\n",
        "    #pa2 = cf[actual_label-1][1]\n",
        "    #pa3 = cf[actual_label-1][2]\n",
        "    #pa4 = cf[actual_label-1][3]\n",
        "    #pa5 = cf[actual_label-1][4]\n",
        "    \n",
        "    for i in range(3):\n",
        "        sizes.append(cf[i][pred_label])\n",
        "    \n",
        "    # Data to plot\n",
        "    labels = ['negative', 'neutral', 'positive']\n",
        "    #sizes = [p[0], p[1], p[2], p[3]]\n",
        "    colors = ['lightskyblue', 'yellowgreen', 'lightcoral']\n",
        "\n",
        "    # Plot\n",
        "    plt.pie(sizes, labels=labels, colors=colors, autopct='%1.0f%%', shadow=False, startangle=angle, textprops={'fontsize': 14})\n",
        "    plt.title(\"Actual Labels of Ratings predicted as \"+labels[pred_label],fontsize=20)\n",
        "    #matplotlib.rcParams['text.color'] = 'white'\n",
        "\n",
        "    plt.axis('equal')\n",
        "    plt.show()"
      ],
      "id": "u2vzhlfz0wM9",
      "execution_count": 36,
      "outputs": []
    },
    {
      "cell_type": "code",
      "metadata": {
        "id": "il77JAIsv-C4",
        "colab": {
          "base_uri": "https://localhost:8080/",
          "height": 269
        },
        "outputId": "9dc13059-9c7c-4b27-d3fc-213d45d10709"
      },
      "source": [
        "getPredictionOfActualLabels(cf,0,angle=45)\n"
      ],
      "id": "il77JAIsv-C4",
      "execution_count": 37,
      "outputs": [
        {
          "output_type": "display_data",
          "data": {
            "image/png": "[encoded data removed]",
            "text/plain": [
              "<Figure size 432x288 with 1 Axes>"
            ]
          },
          "metadata": {
            "tags": []
          }
        }
      ]
    },
    {
      "cell_type": "code",
      "metadata": {
        "colab": {
          "base_uri": "https://localhost:8080/",
          "height": 269
        },
        "id": "FmM8Z7a7Ml8t",
        "outputId": "26596ba9-97e7-4452-dc73-b1218f8d2367"
      },
      "source": [
        "getPredictionOfActualLabels(cf,1,angle=45)"
      ],
      "id": "FmM8Z7a7Ml8t",
      "execution_count": 38,
      "outputs": [
        {
          "output_type": "display_data",
          "data": {
            "image/png": "[encoded data removed]",
            "text/plain": [
              "<Figure size 432x288 with 1 Axes>"
            ]
          },
          "metadata": {
            "tags": []
          }
        }
      ]
    },
    {
      "cell_type": "code",
      "metadata": {
        "colab": {
          "base_uri": "https://localhost:8080/",
          "height": 274
        },
        "id": "Q-KFHb2UM_Y9",
        "outputId": "e22f81a5-79e5-40ee-cb41-08484b628571"
      },
      "source": [
        "getPredictionOfActualLabels(cf,2,angle=45)"
      ],
      "id": "Q-KFHb2UM_Y9",
      "execution_count": 39,
      "outputs": [
        {
          "output_type": "display_data",
          "data": {
            "image/png": "[encoded data removed]",
            "text/plain": [
              "<Figure size 432x288 with 1 Axes>"
            ]
          },
          "metadata": {
            "tags": []
          }
        }
      ]
    },
    {
      "cell_type": "code",
      "metadata": {
        "id": "M9dkvFlk5DVl"
      },
      "source": [],
      "id": "M9dkvFlk5DVl",
      "execution_count": null,
      "outputs": []
    },
    {
      "cell_type": "code",
      "metadata": {
        "colab": {
          "base_uri": "https://localhost:8080/",
          "height": 269
        },
        "id": "SNltUG7j5Dmw",
        "outputId": "eada49a9-25e8-47f3-ce5a-db48c94a4428"
      },
      "source": [
        "getActualLabelsOfPredictions(cf,0,angle=45)"
      ],
      "id": "SNltUG7j5Dmw",
      "execution_count": 40,
      "outputs": [
        {
          "output_type": "display_data",
          "data": {
            "image/png": "[encoded data removed]",
            "text/plain": [
              "<Figure size 432x288 with 1 Axes>"
            ]
          },
          "metadata": {
            "tags": []
          }
        }
      ]
    },
    {
      "cell_type": "code",
      "metadata": {
        "colab": {
          "base_uri": "https://localhost:8080/",
          "height": 274
        },
        "id": "xvtsfhIl5D5j",
        "outputId": "be4f7352-3e91-4fd4-c4f6-5565aab1d905"
      },
      "source": [
        "getActualLabelsOfPredictions(cf,1,angle=45)"
      ],
      "id": "xvtsfhIl5D5j",
      "execution_count": 41,
      "outputs": [
        {
          "output_type": "display_data",
          "data": {
            "image/png": "[encoded data removed]",
            "text/plain": [
              "<Figure size 432x288 with 1 Axes>"
            ]
          },
          "metadata": {
            "tags": []
          }
        }
      ]
    },
    {
      "cell_type": "code",
      "metadata": {
        "colab": {
          "base_uri": "https://localhost:8080/",
          "height": 273
        },
        "id": "qZ_CMe465EBf",
        "outputId": "107bb592-91c0-4280-f78f-7cc1cc105261"
      },
      "source": [
        "getActualLabelsOfPredictions(cf,2,angle=45)"
      ],
      "id": "qZ_CMe465EBf",
      "execution_count": 42,
      "outputs": [
        {
          "output_type": "display_data",
          "data": {
            "image/png": "[encoded data removed]",
            "text/plain": [
              "<Figure size 432x288 with 1 Axes>"
            ]
          },
          "metadata": {
            "tags": []
          }
        }
      ]
    },
    {
      "cell_type": "code",
      "metadata": {
        "id": "Af-V7xQ0NS4M"
      },
      "source": [
        "import pickle\n",
        "\n",
        "filenamedpcnn = '/content/drive/My Drive/content/BertAttnDPCNN5_colab_attention_False_Tweet_Exp6DPCNN.pkl'\n",
        "filenamebert = '/content/drive/My Drive/content/BertAttnDPCNN5_colab_attention_False_Tweet_Exp6BERT.pkl'\n",
        "pickle.dump(bert, open(filenamebert, 'wb'))\n",
        "pickle.dump(dpcnn, open(filenamedpcnn, 'wb'))"
      ],
      "id": "Af-V7xQ0NS4M",
      "execution_count": 43,
      "outputs": []
    },
    {
      "cell_type": "code",
      "metadata": {
        "id": "Mwz1OqnIugke"
      },
      "source": [
        "import pickle\n",
        "file = '/content/drive/My Drive/content/BertAttnDPCNN5_colab_attention_False_Tweet_maplist.pkl'\n",
        "pickle.dump(dpcnn.maps, open(file, 'wb'))"
      ],
      "id": "Mwz1OqnIugke",
      "execution_count": 44,
      "outputs": []
    },
    {
      "cell_type": "code",
      "metadata": {
        "id": "I9sOsyiFwHFW"
      },
      "source": [],
      "id": "I9sOsyiFwHFW",
      "execution_count": null,
      "outputs": []
    }
  ]
}