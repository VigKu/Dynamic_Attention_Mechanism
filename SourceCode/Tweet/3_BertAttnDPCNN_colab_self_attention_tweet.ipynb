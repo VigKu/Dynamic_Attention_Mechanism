{
  "nbformat": 4,
  "nbformat_minor": 5,
  "metadata": {
    "kernelspec": {
      "display_name": "Pytorch",
      "language": "python",
      "name": "pytorch"
    },
    "language_info": {
      "codemirror_mode": {
        "name": "ipython",
        "version": 3
      },
      "file_extension": ".py",
      "mimetype": "text/x-python",
      "name": "python",
      "nbconvert_exporter": "python",
      "pygments_lexer": "ipython3",
      "version": "3.7.8"
    },
    "colab": {
      "name": "1_BertAttnsDPCNN_selfattention_False_Tweet Exp3.ipynb",
      "provenance": [],
      "collapsed_sections": []
    },
    "widgets": {
      "application/vnd.jupyter.widget-state+json": {
        "a5f93653d4e947ef855a819b0780d6f7": {
          "model_module": "@jupyter-widgets/controls",
          "model_name": "HBoxModel",
          "state": {
            "_view_name": "HBoxView",
            "_dom_classes": [],
            "_model_name": "HBoxModel",
            "_view_module": "@jupyter-widgets/controls",
            "_model_module_version": "1.5.0",
            "_view_count": null,
            "_view_module_version": "1.5.0",
            "box_style": "",
            "layout": "IPY_MODEL_6e6e221bf6844fe7bf6678db6d56d401",
            "_model_module": "@jupyter-widgets/controls",
            "children": [
              "IPY_MODEL_f35b2103937248f2a40090dc32a2020c",
              "IPY_MODEL_bffd125684d34edfb5380f3d8b412fae"
            ]
          }
        },
        "6e6e221bf6844fe7bf6678db6d56d401": {
          "model_module": "@jupyter-widgets/base",
          "model_name": "LayoutModel",
          "state": {
            "_view_name": "LayoutView",
            "grid_template_rows": null,
            "right": null,
            "justify_content": null,
            "_view_module": "@jupyter-widgets/base",
            "overflow": null,
            "_model_module_version": "1.2.0",
            "_view_count": null,
            "flex_flow": null,
            "width": null,
            "min_width": null,
            "border": null,
            "align_items": null,
            "bottom": null,
            "_model_module": "@jupyter-widgets/base",
            "top": null,
            "grid_column": null,
            "overflow_y": null,
            "overflow_x": null,
            "grid_auto_flow": null,
            "grid_area": null,
            "grid_template_columns": null,
            "flex": null,
            "_model_name": "LayoutModel",
            "justify_items": null,
            "grid_row": null,
            "max_height": null,
            "align_content": null,
            "visibility": null,
            "align_self": null,
            "height": null,
            "min_height": null,
            "padding": null,
            "grid_auto_rows": null,
            "grid_gap": null,
            "max_width": null,
            "order": null,
            "_view_module_version": "1.2.0",
            "grid_template_areas": null,
            "object_position": null,
            "object_fit": null,
            "grid_auto_columns": null,
            "margin": null,
            "display": null,
            "left": null
          }
        },
        "f35b2103937248f2a40090dc32a2020c": {
          "model_module": "@jupyter-widgets/controls",
          "model_name": "FloatProgressModel",
          "state": {
            "_view_name": "ProgressView",
            "style": "IPY_MODEL_4c486db482864806ae786d36e72c1679",
            "_dom_classes": [],
            "description": "Downloading: 100%",
            "_model_name": "FloatProgressModel",
            "bar_style": "success",
            "max": 570,
            "_view_module": "@jupyter-widgets/controls",
            "_model_module_version": "1.5.0",
            "value": 570,
            "_view_count": null,
            "_view_module_version": "1.5.0",
            "orientation": "horizontal",
            "min": 0,
            "description_tooltip": null,
            "_model_module": "@jupyter-widgets/controls",
            "layout": "IPY_MODEL_3f8df01a234742ca92af97aff2a1a802"
          }
        },
        "bffd125684d34edfb5380f3d8b412fae": {
          "model_module": "@jupyter-widgets/controls",
          "model_name": "HTMLModel",
          "state": {
            "_view_name": "HTMLView",
            "style": "IPY_MODEL_1effdd96ecfa4cb99f5f4b98fb25962d",
            "_dom_classes": [],
            "description": "",
            "_model_name": "HTMLModel",
            "placeholder": "​",
            "_view_module": "@jupyter-widgets/controls",
            "_model_module_version": "1.5.0",
            "value": " 570/570 [00:12&lt;00:00, 47.3B/s]",
            "_view_count": null,
            "_view_module_version": "1.5.0",
            "description_tooltip": null,
            "_model_module": "@jupyter-widgets/controls",
            "layout": "IPY_MODEL_4f7621d08f784a4ba615122722142fd6"
          }
        },
        "4c486db482864806ae786d36e72c1679": {
          "model_module": "@jupyter-widgets/controls",
          "model_name": "ProgressStyleModel",
          "state": {
            "_view_name": "StyleView",
            "_model_name": "ProgressStyleModel",
            "description_width": "initial",
            "_view_module": "@jupyter-widgets/base",
            "_model_module_version": "1.5.0",
            "_view_count": null,
            "_view_module_version": "1.2.0",
            "bar_color": null,
            "_model_module": "@jupyter-widgets/controls"
          }
        },
        "3f8df01a234742ca92af97aff2a1a802": {
          "model_module": "@jupyter-widgets/base",
          "model_name": "LayoutModel",
          "state": {
            "_view_name": "LayoutView",
            "grid_template_rows": null,
            "right": null,
            "justify_content": null,
            "_view_module": "@jupyter-widgets/base",
            "overflow": null,
            "_model_module_version": "1.2.0",
            "_view_count": null,
            "flex_flow": null,
            "width": null,
            "min_width": null,
            "border": null,
            "align_items": null,
            "bottom": null,
            "_model_module": "@jupyter-widgets/base",
            "top": null,
            "grid_column": null,
            "overflow_y": null,
            "overflow_x": null,
            "grid_auto_flow": null,
            "grid_area": null,
            "grid_template_columns": null,
            "flex": null,
            "_model_name": "LayoutModel",
            "justify_items": null,
            "grid_row": null,
            "max_height": null,
            "align_content": null,
            "visibility": null,
            "align_self": null,
            "height": null,
            "min_height": null,
            "padding": null,
            "grid_auto_rows": null,
            "grid_gap": null,
            "max_width": null,
            "order": null,
            "_view_module_version": "1.2.0",
            "grid_template_areas": null,
            "object_position": null,
            "object_fit": null,
            "grid_auto_columns": null,
            "margin": null,
            "display": null,
            "left": null
          }
        },
        "1effdd96ecfa4cb99f5f4b98fb25962d": {
          "model_module": "@jupyter-widgets/controls",
          "model_name": "DescriptionStyleModel",
          "state": {
            "_view_name": "StyleView",
            "_model_name": "DescriptionStyleModel",
            "description_width": "",
            "_view_module": "@jupyter-widgets/base",
            "_model_module_version": "1.5.0",
            "_view_count": null,
            "_view_module_version": "1.2.0",
            "_model_module": "@jupyter-widgets/controls"
          }
        },
        "4f7621d08f784a4ba615122722142fd6": {
          "model_module": "@jupyter-widgets/base",
          "model_name": "LayoutModel",
          "state": {
            "_view_name": "LayoutView",
            "grid_template_rows": null,
            "right": null,
            "justify_content": null,
            "_view_module": "@jupyter-widgets/base",
            "overflow": null,
            "_model_module_version": "1.2.0",
            "_view_count": null,
            "flex_flow": null,
            "width": null,
            "min_width": null,
            "border": null,
            "align_items": null,
            "bottom": null,
            "_model_module": "@jupyter-widgets/base",
            "top": null,
            "grid_column": null,
            "overflow_y": null,
            "overflow_x": null,
            "grid_auto_flow": null,
            "grid_area": null,
            "grid_template_columns": null,
            "flex": null,
            "_model_name": "LayoutModel",
            "justify_items": null,
            "grid_row": null,
            "max_height": null,
            "align_content": null,
            "visibility": null,
            "align_self": null,
            "height": null,
            "min_height": null,
            "padding": null,
            "grid_auto_rows": null,
            "grid_gap": null,
            "max_width": null,
            "order": null,
            "_view_module_version": "1.2.0",
            "grid_template_areas": null,
            "object_position": null,
            "object_fit": null,
            "grid_auto_columns": null,
            "margin": null,
            "display": null,
            "left": null
          }
        },
        "2eda7a12fb1b419d9079aaaecd5a4292": {
          "model_module": "@jupyter-widgets/controls",
          "model_name": "HBoxModel",
          "state": {
            "_view_name": "HBoxView",
            "_dom_classes": [],
            "_model_name": "HBoxModel",
            "_view_module": "@jupyter-widgets/controls",
            "_model_module_version": "1.5.0",
            "_view_count": null,
            "_view_module_version": "1.5.0",
            "box_style": "",
            "layout": "IPY_MODEL_9fa41fce23f74a269e90584328aefdea",
            "_model_module": "@jupyter-widgets/controls",
            "children": [
              "IPY_MODEL_0985eabea7d04084aa7439168e7d6ee4",
              "IPY_MODEL_f3b4114b80a84a02bcd6cb369d22d9e2"
            ]
          }
        },
        "9fa41fce23f74a269e90584328aefdea": {
          "model_module": "@jupyter-widgets/base",
          "model_name": "LayoutModel",
          "state": {
            "_view_name": "LayoutView",
            "grid_template_rows": null,
            "right": null,
            "justify_content": null,
            "_view_module": "@jupyter-widgets/base",
            "overflow": null,
            "_model_module_version": "1.2.0",
            "_view_count": null,
            "flex_flow": null,
            "width": null,
            "min_width": null,
            "border": null,
            "align_items": null,
            "bottom": null,
            "_model_module": "@jupyter-widgets/base",
            "top": null,
            "grid_column": null,
            "overflow_y": null,
            "overflow_x": null,
            "grid_auto_flow": null,
            "grid_area": null,
            "grid_template_columns": null,
            "flex": null,
            "_model_name": "LayoutModel",
            "justify_items": null,
            "grid_row": null,
            "max_height": null,
            "align_content": null,
            "visibility": null,
            "align_self": null,
            "height": null,
            "min_height": null,
            "padding": null,
            "grid_auto_rows": null,
            "grid_gap": null,
            "max_width": null,
            "order": null,
            "_view_module_version": "1.2.0",
            "grid_template_areas": null,
            "object_position": null,
            "object_fit": null,
            "grid_auto_columns": null,
            "margin": null,
            "display": null,
            "left": null
          }
        },
        "0985eabea7d04084aa7439168e7d6ee4": {
          "model_module": "@jupyter-widgets/controls",
          "model_name": "FloatProgressModel",
          "state": {
            "_view_name": "ProgressView",
            "style": "IPY_MODEL_d88cb889b8864e929c91dbe4cb672795",
            "_dom_classes": [],
            "description": "Downloading: 100%",
            "_model_name": "FloatProgressModel",
            "bar_style": "success",
            "max": 440473133,
            "_view_module": "@jupyter-widgets/controls",
            "_model_module_version": "1.5.0",
            "value": 440473133,
            "_view_count": null,
            "_view_module_version": "1.5.0",
            "orientation": "horizontal",
            "min": 0,
            "description_tooltip": null,
            "_model_module": "@jupyter-widgets/controls",
            "layout": "IPY_MODEL_aa362a9ab9ec496195f506d961e1c9c6"
          }
        },
        "f3b4114b80a84a02bcd6cb369d22d9e2": {
          "model_module": "@jupyter-widgets/controls",
          "model_name": "HTMLModel",
          "state": {
            "_view_name": "HTMLView",
            "style": "IPY_MODEL_7615d5e64f624eb281a1e4666b2fbbf6",
            "_dom_classes": [],
            "description": "",
            "_model_name": "HTMLModel",
            "placeholder": "​",
            "_view_module": "@jupyter-widgets/controls",
            "_model_module_version": "1.5.0",
            "value": " 440M/440M [00:11&lt;00:00, 37.2MB/s]",
            "_view_count": null,
            "_view_module_version": "1.5.0",
            "description_tooltip": null,
            "_model_module": "@jupyter-widgets/controls",
            "layout": "IPY_MODEL_9ad1e575ba0f40a3b6eb1d5ce5b02a13"
          }
        },
        "d88cb889b8864e929c91dbe4cb672795": {
          "model_module": "@jupyter-widgets/controls",
          "model_name": "ProgressStyleModel",
          "state": {
            "_view_name": "StyleView",
            "_model_name": "ProgressStyleModel",
            "description_width": "initial",
            "_view_module": "@jupyter-widgets/base",
            "_model_module_version": "1.5.0",
            "_view_count": null,
            "_view_module_version": "1.2.0",
            "bar_color": null,
            "_model_module": "@jupyter-widgets/controls"
          }
        },
        "aa362a9ab9ec496195f506d961e1c9c6": {
          "model_module": "@jupyter-widgets/base",
          "model_name": "LayoutModel",
          "state": {
            "_view_name": "LayoutView",
            "grid_template_rows": null,
            "right": null,
            "justify_content": null,
            "_view_module": "@jupyter-widgets/base",
            "overflow": null,
            "_model_module_version": "1.2.0",
            "_view_count": null,
            "flex_flow": null,
            "width": null,
            "min_width": null,
            "border": null,
            "align_items": null,
            "bottom": null,
            "_model_module": "@jupyter-widgets/base",
            "top": null,
            "grid_column": null,
            "overflow_y": null,
            "overflow_x": null,
            "grid_auto_flow": null,
            "grid_area": null,
            "grid_template_columns": null,
            "flex": null,
            "_model_name": "LayoutModel",
            "justify_items": null,
            "grid_row": null,
            "max_height": null,
            "align_content": null,
            "visibility": null,
            "align_self": null,
            "height": null,
            "min_height": null,
            "padding": null,
            "grid_auto_rows": null,
            "grid_gap": null,
            "max_width": null,
            "order": null,
            "_view_module_version": "1.2.0",
            "grid_template_areas": null,
            "object_position": null,
            "object_fit": null,
            "grid_auto_columns": null,
            "margin": null,
            "display": null,
            "left": null
          }
        },
        "7615d5e64f624eb281a1e4666b2fbbf6": {
          "model_module": "@jupyter-widgets/controls",
          "model_name": "DescriptionStyleModel",
          "state": {
            "_view_name": "StyleView",
            "_model_name": "DescriptionStyleModel",
            "description_width": "",
            "_view_module": "@jupyter-widgets/base",
            "_model_module_version": "1.5.0",
            "_view_count": null,
            "_view_module_version": "1.2.0",
            "_model_module": "@jupyter-widgets/controls"
          }
        },
        "9ad1e575ba0f40a3b6eb1d5ce5b02a13": {
          "model_module": "@jupyter-widgets/base",
          "model_name": "LayoutModel",
          "state": {
            "_view_name": "LayoutView",
            "grid_template_rows": null,
            "right": null,
            "justify_content": null,
            "_view_module": "@jupyter-widgets/base",
            "overflow": null,
            "_model_module_version": "1.2.0",
            "_view_count": null,
            "flex_flow": null,
            "width": null,
            "min_width": null,
            "border": null,
            "align_items": null,
            "bottom": null,
            "_model_module": "@jupyter-widgets/base",
            "top": null,
            "grid_column": null,
            "overflow_y": null,
            "overflow_x": null,
            "grid_auto_flow": null,
            "grid_area": null,
            "grid_template_columns": null,
            "flex": null,
            "_model_name": "LayoutModel",
            "justify_items": null,
            "grid_row": null,
            "max_height": null,
            "align_content": null,
            "visibility": null,
            "align_self": null,
            "height": null,
            "min_height": null,
            "padding": null,
            "grid_auto_rows": null,
            "grid_gap": null,
            "max_width": null,
            "order": null,
            "_view_module_version": "1.2.0",
            "grid_template_areas": null,
            "object_position": null,
            "object_fit": null,
            "grid_auto_columns": null,
            "margin": null,
            "display": null,
            "left": null
          }
        },
        "7ef2697d736145c5a506d884733cb85f": {
          "model_module": "@jupyter-widgets/controls",
          "model_name": "HBoxModel",
          "state": {
            "_view_name": "HBoxView",
            "_dom_classes": [],
            "_model_name": "HBoxModel",
            "_view_module": "@jupyter-widgets/controls",
            "_model_module_version": "1.5.0",
            "_view_count": null,
            "_view_module_version": "1.5.0",
            "box_style": "",
            "layout": "IPY_MODEL_c9abf8a2a271475e846d6c3c547fc549",
            "_model_module": "@jupyter-widgets/controls",
            "children": [
              "IPY_MODEL_b3419198bc4e4b859cab6a6df2c942b3",
              "IPY_MODEL_7955981749d542f8b9384506179c5c29"
            ]
          }
        },
        "c9abf8a2a271475e846d6c3c547fc549": {
          "model_module": "@jupyter-widgets/base",
          "model_name": "LayoutModel",
          "state": {
            "_view_name": "LayoutView",
            "grid_template_rows": null,
            "right": null,
            "justify_content": null,
            "_view_module": "@jupyter-widgets/base",
            "overflow": null,
            "_model_module_version": "1.2.0",
            "_view_count": null,
            "flex_flow": null,
            "width": null,
            "min_width": null,
            "border": null,
            "align_items": null,
            "bottom": null,
            "_model_module": "@jupyter-widgets/base",
            "top": null,
            "grid_column": null,
            "overflow_y": null,
            "overflow_x": null,
            "grid_auto_flow": null,
            "grid_area": null,
            "grid_template_columns": null,
            "flex": null,
            "_model_name": "LayoutModel",
            "justify_items": null,
            "grid_row": null,
            "max_height": null,
            "align_content": null,
            "visibility": null,
            "align_self": null,
            "height": null,
            "min_height": null,
            "padding": null,
            "grid_auto_rows": null,
            "grid_gap": null,
            "max_width": null,
            "order": null,
            "_view_module_version": "1.2.0",
            "grid_template_areas": null,
            "object_position": null,
            "object_fit": null,
            "grid_auto_columns": null,
            "margin": null,
            "display": null,
            "left": null
          }
        },
        "b3419198bc4e4b859cab6a6df2c942b3": {
          "model_module": "@jupyter-widgets/controls",
          "model_name": "FloatProgressModel",
          "state": {
            "_view_name": "ProgressView",
            "style": "IPY_MODEL_dad009adaf2e45b6aa403293980de447",
            "_dom_classes": [],
            "description": "Downloading: 100%",
            "_model_name": "FloatProgressModel",
            "bar_style": "success",
            "max": 231508,
            "_view_module": "@jupyter-widgets/controls",
            "_model_module_version": "1.5.0",
            "value": 231508,
            "_view_count": null,
            "_view_module_version": "1.5.0",
            "orientation": "horizontal",
            "min": 0,
            "description_tooltip": null,
            "_model_module": "@jupyter-widgets/controls",
            "layout": "IPY_MODEL_ddecea8361cc4e3499d8552f9830cd4a"
          }
        },
        "7955981749d542f8b9384506179c5c29": {
          "model_module": "@jupyter-widgets/controls",
          "model_name": "HTMLModel",
          "state": {
            "_view_name": "HTMLView",
            "style": "IPY_MODEL_3492c8179a324ea28b2fa37244e38069",
            "_dom_classes": [],
            "description": "",
            "_model_name": "HTMLModel",
            "placeholder": "​",
            "_view_module": "@jupyter-widgets/controls",
            "_model_module_version": "1.5.0",
            "value": " 232k/232k [00:00&lt;00:00, 2.25MB/s]",
            "_view_count": null,
            "_view_module_version": "1.5.0",
            "description_tooltip": null,
            "_model_module": "@jupyter-widgets/controls",
            "layout": "IPY_MODEL_3249a0693b8845b29e9e69edc0dca359"
          }
        },
        "dad009adaf2e45b6aa403293980de447": {
          "model_module": "@jupyter-widgets/controls",
          "model_name": "ProgressStyleModel",
          "state": {
            "_view_name": "StyleView",
            "_model_name": "ProgressStyleModel",
            "description_width": "initial",
            "_view_module": "@jupyter-widgets/base",
            "_model_module_version": "1.5.0",
            "_view_count": null,
            "_view_module_version": "1.2.0",
            "bar_color": null,
            "_model_module": "@jupyter-widgets/controls"
          }
        },
        "ddecea8361cc4e3499d8552f9830cd4a": {
          "model_module": "@jupyter-widgets/base",
          "model_name": "LayoutModel",
          "state": {
            "_view_name": "LayoutView",
            "grid_template_rows": null,
            "right": null,
            "justify_content": null,
            "_view_module": "@jupyter-widgets/base",
            "overflow": null,
            "_model_module_version": "1.2.0",
            "_view_count": null,
            "flex_flow": null,
            "width": null,
            "min_width": null,
            "border": null,
            "align_items": null,
            "bottom": null,
            "_model_module": "@jupyter-widgets/base",
            "top": null,
            "grid_column": null,
            "overflow_y": null,
            "overflow_x": null,
            "grid_auto_flow": null,
            "grid_area": null,
            "grid_template_columns": null,
            "flex": null,
            "_model_name": "LayoutModel",
            "justify_items": null,
            "grid_row": null,
            "max_height": null,
            "align_content": null,
            "visibility": null,
            "align_self": null,
            "height": null,
            "min_height": null,
            "padding": null,
            "grid_auto_rows": null,
            "grid_gap": null,
            "max_width": null,
            "order": null,
            "_view_module_version": "1.2.0",
            "grid_template_areas": null,
            "object_position": null,
            "object_fit": null,
            "grid_auto_columns": null,
            "margin": null,
            "display": null,
            "left": null
          }
        },
        "3492c8179a324ea28b2fa37244e38069": {
          "model_module": "@jupyter-widgets/controls",
          "model_name": "DescriptionStyleModel",
          "state": {
            "_view_name": "StyleView",
            "_model_name": "DescriptionStyleModel",
            "description_width": "",
            "_view_module": "@jupyter-widgets/base",
            "_model_module_version": "1.5.0",
            "_view_count": null,
            "_view_module_version": "1.2.0",
            "_model_module": "@jupyter-widgets/controls"
          }
        },
        "3249a0693b8845b29e9e69edc0dca359": {
          "model_module": "@jupyter-widgets/base",
          "model_name": "LayoutModel",
          "state": {
            "_view_name": "LayoutView",
            "grid_template_rows": null,
            "right": null,
            "justify_content": null,
            "_view_module": "@jupyter-widgets/base",
            "overflow": null,
            "_model_module_version": "1.2.0",
            "_view_count": null,
            "flex_flow": null,
            "width": null,
            "min_width": null,
            "border": null,
            "align_items": null,
            "bottom": null,
            "_model_module": "@jupyter-widgets/base",
            "top": null,
            "grid_column": null,
            "overflow_y": null,
            "overflow_x": null,
            "grid_auto_flow": null,
            "grid_area": null,
            "grid_template_columns": null,
            "flex": null,
            "_model_name": "LayoutModel",
            "justify_items": null,
            "grid_row": null,
            "max_height": null,
            "align_content": null,
            "visibility": null,
            "align_self": null,
            "height": null,
            "min_height": null,
            "padding": null,
            "grid_auto_rows": null,
            "grid_gap": null,
            "max_width": null,
            "order": null,
            "_view_module_version": "1.2.0",
            "grid_template_areas": null,
            "object_position": null,
            "object_fit": null,
            "grid_auto_columns": null,
            "margin": null,
            "display": null,
            "left": null
          }
        },
        "d1fab069a5fe4ed9a353b9d76f838740": {
          "model_module": "@jupyter-widgets/controls",
          "model_name": "HBoxModel",
          "state": {
            "_view_name": "HBoxView",
            "_dom_classes": [],
            "_model_name": "HBoxModel",
            "_view_module": "@jupyter-widgets/controls",
            "_model_module_version": "1.5.0",
            "_view_count": null,
            "_view_module_version": "1.5.0",
            "box_style": "",
            "layout": "IPY_MODEL_ed2eab9c230f433d979c86f3e3c0f3d5",
            "_model_module": "@jupyter-widgets/controls",
            "children": [
              "IPY_MODEL_3f2d90ea05194d50982cb502c8790aa6",
              "IPY_MODEL_c2a02a3c073c4a9180f9350cc701af84"
            ]
          }
        },
        "ed2eab9c230f433d979c86f3e3c0f3d5": {
          "model_module": "@jupyter-widgets/base",
          "model_name": "LayoutModel",
          "state": {
            "_view_name": "LayoutView",
            "grid_template_rows": null,
            "right": null,
            "justify_content": null,
            "_view_module": "@jupyter-widgets/base",
            "overflow": null,
            "_model_module_version": "1.2.0",
            "_view_count": null,
            "flex_flow": null,
            "width": null,
            "min_width": null,
            "border": null,
            "align_items": null,
            "bottom": null,
            "_model_module": "@jupyter-widgets/base",
            "top": null,
            "grid_column": null,
            "overflow_y": null,
            "overflow_x": null,
            "grid_auto_flow": null,
            "grid_area": null,
            "grid_template_columns": null,
            "flex": null,
            "_model_name": "LayoutModel",
            "justify_items": null,
            "grid_row": null,
            "max_height": null,
            "align_content": null,
            "visibility": null,
            "align_self": null,
            "height": null,
            "min_height": null,
            "padding": null,
            "grid_auto_rows": null,
            "grid_gap": null,
            "max_width": null,
            "order": null,
            "_view_module_version": "1.2.0",
            "grid_template_areas": null,
            "object_position": null,
            "object_fit": null,
            "grid_auto_columns": null,
            "margin": null,
            "display": null,
            "left": null
          }
        },
        "3f2d90ea05194d50982cb502c8790aa6": {
          "model_module": "@jupyter-widgets/controls",
          "model_name": "FloatProgressModel",
          "state": {
            "_view_name": "ProgressView",
            "style": "IPY_MODEL_76b8258b48a5444ab36f0a757958d6ae",
            "_dom_classes": [],
            "description": "Downloading: 100%",
            "_model_name": "FloatProgressModel",
            "bar_style": "success",
            "max": 466062,
            "_view_module": "@jupyter-widgets/controls",
            "_model_module_version": "1.5.0",
            "value": 466062,
            "_view_count": null,
            "_view_module_version": "1.5.0",
            "orientation": "horizontal",
            "min": 0,
            "description_tooltip": null,
            "_model_module": "@jupyter-widgets/controls",
            "layout": "IPY_MODEL_d9641542dd1140dd9afddcc711f58734"
          }
        },
        "c2a02a3c073c4a9180f9350cc701af84": {
          "model_module": "@jupyter-widgets/controls",
          "model_name": "HTMLModel",
          "state": {
            "_view_name": "HTMLView",
            "style": "IPY_MODEL_b8f9bcf54c37451998e7bff5f0fdf175",
            "_dom_classes": [],
            "description": "",
            "_model_name": "HTMLModel",
            "placeholder": "​",
            "_view_module": "@jupyter-widgets/controls",
            "_model_module_version": "1.5.0",
            "value": " 466k/466k [00:00&lt;00:00, 1.33MB/s]",
            "_view_count": null,
            "_view_module_version": "1.5.0",
            "description_tooltip": null,
            "_model_module": "@jupyter-widgets/controls",
            "layout": "IPY_MODEL_d13ffdf2f7164e12b055bf00078ed27e"
          }
        },
        "76b8258b48a5444ab36f0a757958d6ae": {
          "model_module": "@jupyter-widgets/controls",
          "model_name": "ProgressStyleModel",
          "state": {
            "_view_name": "StyleView",
            "_model_name": "ProgressStyleModel",
            "description_width": "initial",
            "_view_module": "@jupyter-widgets/base",
            "_model_module_version": "1.5.0",
            "_view_count": null,
            "_view_module_version": "1.2.0",
            "bar_color": null,
            "_model_module": "@jupyter-widgets/controls"
          }
        },
        "d9641542dd1140dd9afddcc711f58734": {
          "model_module": "@jupyter-widgets/base",
          "model_name": "LayoutModel",
          "state": {
            "_view_name": "LayoutView",
            "grid_template_rows": null,
            "right": null,
            "justify_content": null,
            "_view_module": "@jupyter-widgets/base",
            "overflow": null,
            "_model_module_version": "1.2.0",
            "_view_count": null,
            "flex_flow": null,
            "width": null,
            "min_width": null,
            "border": null,
            "align_items": null,
            "bottom": null,
            "_model_module": "@jupyter-widgets/base",
            "top": null,
            "grid_column": null,
            "overflow_y": null,
            "overflow_x": null,
            "grid_auto_flow": null,
            "grid_area": null,
            "grid_template_columns": null,
            "flex": null,
            "_model_name": "LayoutModel",
            "justify_items": null,
            "grid_row": null,
            "max_height": null,
            "align_content": null,
            "visibility": null,
            "align_self": null,
            "height": null,
            "min_height": null,
            "padding": null,
            "grid_auto_rows": null,
            "grid_gap": null,
            "max_width": null,
            "order": null,
            "_view_module_version": "1.2.0",
            "grid_template_areas": null,
            "object_position": null,
            "object_fit": null,
            "grid_auto_columns": null,
            "margin": null,
            "display": null,
            "left": null
          }
        },
        "b8f9bcf54c37451998e7bff5f0fdf175": {
          "model_module": "@jupyter-widgets/controls",
          "model_name": "DescriptionStyleModel",
          "state": {
            "_view_name": "StyleView",
            "_model_name": "DescriptionStyleModel",
            "description_width": "",
            "_view_module": "@jupyter-widgets/base",
            "_model_module_version": "1.5.0",
            "_view_count": null,
            "_view_module_version": "1.2.0",
            "_model_module": "@jupyter-widgets/controls"
          }
        },
        "d13ffdf2f7164e12b055bf00078ed27e": {
          "model_module": "@jupyter-widgets/base",
          "model_name": "LayoutModel",
          "state": {
            "_view_name": "LayoutView",
            "grid_template_rows": null,
            "right": null,
            "justify_content": null,
            "_view_module": "@jupyter-widgets/base",
            "overflow": null,
            "_model_module_version": "1.2.0",
            "_view_count": null,
            "flex_flow": null,
            "width": null,
            "min_width": null,
            "border": null,
            "align_items": null,
            "bottom": null,
            "_model_module": "@jupyter-widgets/base",
            "top": null,
            "grid_column": null,
            "overflow_y": null,
            "overflow_x": null,
            "grid_auto_flow": null,
            "grid_area": null,
            "grid_template_columns": null,
            "flex": null,
            "_model_name": "LayoutModel",
            "justify_items": null,
            "grid_row": null,
            "max_height": null,
            "align_content": null,
            "visibility": null,
            "align_self": null,
            "height": null,
            "min_height": null,
            "padding": null,
            "grid_auto_rows": null,
            "grid_gap": null,
            "max_width": null,
            "order": null,
            "_view_module_version": "1.2.0",
            "grid_template_areas": null,
            "object_position": null,
            "object_fit": null,
            "grid_auto_columns": null,
            "margin": null,
            "display": null,
            "left": null
          }
        },
        "41ef392e99b246eb801769f3598d5339": {
          "model_module": "@jupyter-widgets/controls",
          "model_name": "HBoxModel",
          "state": {
            "_view_name": "HBoxView",
            "_dom_classes": [],
            "_model_name": "HBoxModel",
            "_view_module": "@jupyter-widgets/controls",
            "_model_module_version": "1.5.0",
            "_view_count": null,
            "_view_module_version": "1.5.0",
            "box_style": "",
            "layout": "IPY_MODEL_e7dc33aca86940bd87228fa396004b0f",
            "_model_module": "@jupyter-widgets/controls",
            "children": [
              "IPY_MODEL_e418f0719b334161b54944d7f7b88758",
              "IPY_MODEL_eed5c6a1c9a34e428f41b6fd7dd0663e"
            ]
          }
        },
        "e7dc33aca86940bd87228fa396004b0f": {
          "model_module": "@jupyter-widgets/base",
          "model_name": "LayoutModel",
          "state": {
            "_view_name": "LayoutView",
            "grid_template_rows": null,
            "right": null,
            "justify_content": null,
            "_view_module": "@jupyter-widgets/base",
            "overflow": null,
            "_model_module_version": "1.2.0",
            "_view_count": null,
            "flex_flow": null,
            "width": null,
            "min_width": null,
            "border": null,
            "align_items": null,
            "bottom": null,
            "_model_module": "@jupyter-widgets/base",
            "top": null,
            "grid_column": null,
            "overflow_y": null,
            "overflow_x": null,
            "grid_auto_flow": null,
            "grid_area": null,
            "grid_template_columns": null,
            "flex": null,
            "_model_name": "LayoutModel",
            "justify_items": null,
            "grid_row": null,
            "max_height": null,
            "align_content": null,
            "visibility": null,
            "align_self": null,
            "height": null,
            "min_height": null,
            "padding": null,
            "grid_auto_rows": null,
            "grid_gap": null,
            "max_width": null,
            "order": null,
            "_view_module_version": "1.2.0",
            "grid_template_areas": null,
            "object_position": null,
            "object_fit": null,
            "grid_auto_columns": null,
            "margin": null,
            "display": null,
            "left": null
          }
        },
        "e418f0719b334161b54944d7f7b88758": {
          "model_module": "@jupyter-widgets/controls",
          "model_name": "FloatProgressModel",
          "state": {
            "_view_name": "ProgressView",
            "style": "IPY_MODEL_baeccf3cc65f4c90b41eb6f8bcc68876",
            "_dom_classes": [],
            "description": "Downloading: 100%",
            "_model_name": "FloatProgressModel",
            "bar_style": "success",
            "max": 28,
            "_view_module": "@jupyter-widgets/controls",
            "_model_module_version": "1.5.0",
            "value": 28,
            "_view_count": null,
            "_view_module_version": "1.5.0",
            "orientation": "horizontal",
            "min": 0,
            "description_tooltip": null,
            "_model_module": "@jupyter-widgets/controls",
            "layout": "IPY_MODEL_0893495594fb44e486b14bcf026fd299"
          }
        },
        "eed5c6a1c9a34e428f41b6fd7dd0663e": {
          "model_module": "@jupyter-widgets/controls",
          "model_name": "HTMLModel",
          "state": {
            "_view_name": "HTMLView",
            "style": "IPY_MODEL_c4a33836a2244b6db4b79be1b852379e",
            "_dom_classes": [],
            "description": "",
            "_model_name": "HTMLModel",
            "placeholder": "​",
            "_view_module": "@jupyter-widgets/controls",
            "_model_module_version": "1.5.0",
            "value": " 28.0/28.0 [00:00&lt;00:00, 206B/s]",
            "_view_count": null,
            "_view_module_version": "1.5.0",
            "description_tooltip": null,
            "_model_module": "@jupyter-widgets/controls",
            "layout": "IPY_MODEL_c1701ba98d2c410abc378b19f39d27e7"
          }
        },
        "baeccf3cc65f4c90b41eb6f8bcc68876": {
          "model_module": "@jupyter-widgets/controls",
          "model_name": "ProgressStyleModel",
          "state": {
            "_view_name": "StyleView",
            "_model_name": "ProgressStyleModel",
            "description_width": "initial",
            "_view_module": "@jupyter-widgets/base",
            "_model_module_version": "1.5.0",
            "_view_count": null,
            "_view_module_version": "1.2.0",
            "bar_color": null,
            "_model_module": "@jupyter-widgets/controls"
          }
        },
        "0893495594fb44e486b14bcf026fd299": {
          "model_module": "@jupyter-widgets/base",
          "model_name": "LayoutModel",
          "state": {
            "_view_name": "LayoutView",
            "grid_template_rows": null,
            "right": null,
            "justify_content": null,
            "_view_module": "@jupyter-widgets/base",
            "overflow": null,
            "_model_module_version": "1.2.0",
            "_view_count": null,
            "flex_flow": null,
            "width": null,
            "min_width": null,
            "border": null,
            "align_items": null,
            "bottom": null,
            "_model_module": "@jupyter-widgets/base",
            "top": null,
            "grid_column": null,
            "overflow_y": null,
            "overflow_x": null,
            "grid_auto_flow": null,
            "grid_area": null,
            "grid_template_columns": null,
            "flex": null,
            "_model_name": "LayoutModel",
            "justify_items": null,
            "grid_row": null,
            "max_height": null,
            "align_content": null,
            "visibility": null,
            "align_self": null,
            "height": null,
            "min_height": null,
            "padding": null,
            "grid_auto_rows": null,
            "grid_gap": null,
            "max_width": null,
            "order": null,
            "_view_module_version": "1.2.0",
            "grid_template_areas": null,
            "object_position": null,
            "object_fit": null,
            "grid_auto_columns": null,
            "margin": null,
            "display": null,
            "left": null
          }
        },
        "c4a33836a2244b6db4b79be1b852379e": {
          "model_module": "@jupyter-widgets/controls",
          "model_name": "DescriptionStyleModel",
          "state": {
            "_view_name": "StyleView",
            "_model_name": "DescriptionStyleModel",
            "description_width": "",
            "_view_module": "@jupyter-widgets/base",
            "_model_module_version": "1.5.0",
            "_view_count": null,
            "_view_module_version": "1.2.0",
            "_model_module": "@jupyter-widgets/controls"
          }
        },
        "c1701ba98d2c410abc378b19f39d27e7": {
          "model_module": "@jupyter-widgets/base",
          "model_name": "LayoutModel",
          "state": {
            "_view_name": "LayoutView",
            "grid_template_rows": null,
            "right": null,
            "justify_content": null,
            "_view_module": "@jupyter-widgets/base",
            "overflow": null,
            "_model_module_version": "1.2.0",
            "_view_count": null,
            "flex_flow": null,
            "width": null,
            "min_width": null,
            "border": null,
            "align_items": null,
            "bottom": null,
            "_model_module": "@jupyter-widgets/base",
            "top": null,
            "grid_column": null,
            "overflow_y": null,
            "overflow_x": null,
            "grid_auto_flow": null,
            "grid_area": null,
            "grid_template_columns": null,
            "flex": null,
            "_model_name": "LayoutModel",
            "justify_items": null,
            "grid_row": null,
            "max_height": null,
            "align_content": null,
            "visibility": null,
            "align_self": null,
            "height": null,
            "min_height": null,
            "padding": null,
            "grid_auto_rows": null,
            "grid_gap": null,
            "max_width": null,
            "order": null,
            "_view_module_version": "1.2.0",
            "grid_template_areas": null,
            "object_position": null,
            "object_fit": null,
            "grid_auto_columns": null,
            "margin": null,
            "display": null,
            "left": null
          }
        }
      }
    },
    "accelerator": "GPU"
  },
  "cells": [
    {
      "cell_type": "code",
      "metadata": {
        "id": "8fghEE8Hnf9L"
      },
      "source": [
        "# Adapted from:\n",
        "#\\https://www.analyticsvidhya.com/blog/2020/07/transfer-learning-for-nlp-fine-tuning-bert-for-text-classification/\n",
        "#https://www.programmersought.com/article/31037125394/"
      ],
      "id": "8fghEE8Hnf9L",
      "execution_count": null,
      "outputs": []
    },
    {
      "cell_type": "code",
      "metadata": {
        "id": "XpYzR-xRn1pY",
        "colab": {
          "base_uri": "https://localhost:8080/"
        },
        "outputId": "1a87d1b2-577a-4d38-c303-08f8fd664e3a"
      },
      "source": [
        "pip install transformers"
      ],
      "id": "XpYzR-xRn1pY",
      "execution_count": 1,
      "outputs": [
        {
          "output_type": "stream",
          "text": [
            "Collecting transformers\n",
            "\u001b[?25l  Downloading https://files.pythonhosted.org/packages/d8/b2/57495b5309f09fa501866e225c84532d1fd89536ea62406b2181933fb418/transformers-4.5.1-py3-none-any.whl (2.1MB)\n",
            "\r\u001b[K     |▏                               | 10kB 21.5MB/s eta 0:00:01\r\u001b[K     |▎                               | 20kB 29.7MB/s eta 0:00:01\r\u001b[K     |▌                               | 30kB 24.4MB/s eta 0:00:01\r\u001b[K     |▋                               | 40kB 20.6MB/s eta 0:00:01\r\u001b[K     |▉                               | 51kB 22.1MB/s eta 0:00:01\r\u001b[K     |█                               | 61kB 18.7MB/s eta 0:00:01\r\u001b[K     |█▏                              | 71kB 17.1MB/s eta 0:00:01\r\u001b[K     |█▎                              | 81kB 16.5MB/s eta 0:00:01\r\u001b[K     |█▍                              | 92kB 15.5MB/s eta 0:00:01\r\u001b[K     |█▋                              | 102kB 15.1MB/s eta 0:00:01\r\u001b[K     |█▊                              | 112kB 15.1MB/s eta 0:00:01\r\u001b[K     |██                              | 122kB 15.1MB/s eta 0:00:01\r\u001b[K     |██                              | 133kB 15.1MB/s eta 0:00:01\r\u001b[K     |██▎                             | 143kB 15.1MB/s eta 0:00:01\r\u001b[K     |██▍                             | 153kB 15.1MB/s eta 0:00:01\r\u001b[K     |██▌                             | 163kB 15.1MB/s eta 0:00:01\r\u001b[K     |██▊                             | 174kB 15.1MB/s eta 0:00:01\r\u001b[K     |██▉                             | 184kB 15.1MB/s eta 0:00:01\r\u001b[K     |███                             | 194kB 15.1MB/s eta 0:00:01\r\u001b[K     |███▏                            | 204kB 15.1MB/s eta 0:00:01\r\u001b[K     |███▍                            | 215kB 15.1MB/s eta 0:00:01\r\u001b[K     |███▌                            | 225kB 15.1MB/s eta 0:00:01\r\u001b[K     |███▋                            | 235kB 15.1MB/s eta 0:00:01\r\u001b[K     |███▉                            | 245kB 15.1MB/s eta 0:00:01\r\u001b[K     |████                            | 256kB 15.1MB/s eta 0:00:01\r\u001b[K     |████▏                           | 266kB 15.1MB/s eta 0:00:01\r\u001b[K     |████▎                           | 276kB 15.1MB/s eta 0:00:01\r\u001b[K     |████▌                           | 286kB 15.1MB/s eta 0:00:01\r\u001b[K     |████▋                           | 296kB 15.1MB/s eta 0:00:01\r\u001b[K     |████▊                           | 307kB 15.1MB/s eta 0:00:01\r\u001b[K     |█████                           | 317kB 15.1MB/s eta 0:00:01\r\u001b[K     |█████                           | 327kB 15.1MB/s eta 0:00:01\r\u001b[K     |█████▎                          | 337kB 15.1MB/s eta 0:00:01\r\u001b[K     |█████▍                          | 348kB 15.1MB/s eta 0:00:01\r\u001b[K     |█████▋                          | 358kB 15.1MB/s eta 0:00:01\r\u001b[K     |█████▊                          | 368kB 15.1MB/s eta 0:00:01\r\u001b[K     |█████▉                          | 378kB 15.1MB/s eta 0:00:01\r\u001b[K     |██████                          | 389kB 15.1MB/s eta 0:00:01\r\u001b[K     |██████▏                         | 399kB 15.1MB/s eta 0:00:01\r\u001b[K     |██████▍                         | 409kB 15.1MB/s eta 0:00:01\r\u001b[K     |██████▌                         | 419kB 15.1MB/s eta 0:00:01\r\u001b[K     |██████▊                         | 430kB 15.1MB/s eta 0:00:01\r\u001b[K     |██████▉                         | 440kB 15.1MB/s eta 0:00:01\r\u001b[K     |███████                         | 450kB 15.1MB/s eta 0:00:01\r\u001b[K     |███████▏                        | 460kB 15.1MB/s eta 0:00:01\r\u001b[K     |███████▎                        | 471kB 15.1MB/s eta 0:00:01\r\u001b[K     |███████▌                        | 481kB 15.1MB/s eta 0:00:01\r\u001b[K     |███████▋                        | 491kB 15.1MB/s eta 0:00:01\r\u001b[K     |███████▉                        | 501kB 15.1MB/s eta 0:00:01\r\u001b[K     |████████                        | 512kB 15.1MB/s eta 0:00:01\r\u001b[K     |████████                        | 522kB 15.1MB/s eta 0:00:01\r\u001b[K     |████████▎                       | 532kB 15.1MB/s eta 0:00:01\r\u001b[K     |████████▍                       | 542kB 15.1MB/s eta 0:00:01\r\u001b[K     |████████▋                       | 552kB 15.1MB/s eta 0:00:01\r\u001b[K     |████████▊                       | 563kB 15.1MB/s eta 0:00:01\r\u001b[K     |█████████                       | 573kB 15.1MB/s eta 0:00:01\r\u001b[K     |█████████                       | 583kB 15.1MB/s eta 0:00:01\r\u001b[K     |█████████▎                      | 593kB 15.1MB/s eta 0:00:01\r\u001b[K     |█████████▍                      | 604kB 15.1MB/s eta 0:00:01\r\u001b[K     |█████████▌                      | 614kB 15.1MB/s eta 0:00:01\r\u001b[K     |█████████▊                      | 624kB 15.1MB/s eta 0:00:01\r\u001b[K     |█████████▉                      | 634kB 15.1MB/s eta 0:00:01\r\u001b[K     |██████████                      | 645kB 15.1MB/s eta 0:00:01\r\u001b[K     |██████████▏                     | 655kB 15.1MB/s eta 0:00:01\r\u001b[K     |██████████▍                     | 665kB 15.1MB/s eta 0:00:01\r\u001b[K     |██████████▌                     | 675kB 15.1MB/s eta 0:00:01\r\u001b[K     |██████████▋                     | 686kB 15.1MB/s eta 0:00:01\r\u001b[K     |██████████▉                     | 696kB 15.1MB/s eta 0:00:01\r\u001b[K     |███████████                     | 706kB 15.1MB/s eta 0:00:01\r\u001b[K     |███████████▏                    | 716kB 15.1MB/s eta 0:00:01\r\u001b[K     |███████████▎                    | 727kB 15.1MB/s eta 0:00:01\r\u001b[K     |███████████▌                    | 737kB 15.1MB/s eta 0:00:01\r\u001b[K     |███████████▋                    | 747kB 15.1MB/s eta 0:00:01\r\u001b[K     |███████████▊                    | 757kB 15.1MB/s eta 0:00:01\r\u001b[K     |████████████                    | 768kB 15.1MB/s eta 0:00:01\r\u001b[K     |████████████                    | 778kB 15.1MB/s eta 0:00:01\r\u001b[K     |████████████▎                   | 788kB 15.1MB/s eta 0:00:01\r\u001b[K     |████████████▍                   | 798kB 15.1MB/s eta 0:00:01\r\u001b[K     |████████████▋                   | 808kB 15.1MB/s eta 0:00:01\r\u001b[K     |████████████▊                   | 819kB 15.1MB/s eta 0:00:01\r\u001b[K     |████████████▉                   | 829kB 15.1MB/s eta 0:00:01\r\u001b[K     |█████████████                   | 839kB 15.1MB/s eta 0:00:01\r\u001b[K     |█████████████▏                  | 849kB 15.1MB/s eta 0:00:01\r\u001b[K     |█████████████▍                  | 860kB 15.1MB/s eta 0:00:01\r\u001b[K     |█████████████▌                  | 870kB 15.1MB/s eta 0:00:01\r\u001b[K     |█████████████▊                  | 880kB 15.1MB/s eta 0:00:01\r\u001b[K     |█████████████▉                  | 890kB 15.1MB/s eta 0:00:01\r\u001b[K     |██████████████                  | 901kB 15.1MB/s eta 0:00:01\r\u001b[K     |██████████████▏                 | 911kB 15.1MB/s eta 0:00:01\r\u001b[K     |██████████████▎                 | 921kB 15.1MB/s eta 0:00:01\r\u001b[K     |██████████████▌                 | 931kB 15.1MB/s eta 0:00:01\r\u001b[K     |██████████████▋                 | 942kB 15.1MB/s eta 0:00:01\r\u001b[K     |██████████████▉                 | 952kB 15.1MB/s eta 0:00:01\r\u001b[K     |███████████████                 | 962kB 15.1MB/s eta 0:00:01\r\u001b[K     |███████████████                 | 972kB 15.1MB/s eta 0:00:01\r\u001b[K     |███████████████▎                | 983kB 15.1MB/s eta 0:00:01\r\u001b[K     |███████████████▍                | 993kB 15.1MB/s eta 0:00:01\r\u001b[K     |███████████████▋                | 1.0MB 15.1MB/s eta 0:00:01\r\u001b[K     |███████████████▊                | 1.0MB 15.1MB/s eta 0:00:01\r\u001b[K     |████████████████                | 1.0MB 15.1MB/s eta 0:00:01\r\u001b[K     |████████████████                | 1.0MB 15.1MB/s eta 0:00:01\r\u001b[K     |████████████████▏               | 1.0MB 15.1MB/s eta 0:00:01\r\u001b[K     |████████████████▍               | 1.1MB 15.1MB/s eta 0:00:01\r\u001b[K     |████████████████▌               | 1.1MB 15.1MB/s eta 0:00:01\r\u001b[K     |████████████████▊               | 1.1MB 15.1MB/s eta 0:00:01\r\u001b[K     |████████████████▉               | 1.1MB 15.1MB/s eta 0:00:01\r\u001b[K     |█████████████████               | 1.1MB 15.1MB/s eta 0:00:01\r\u001b[K     |█████████████████▏              | 1.1MB 15.1MB/s eta 0:00:01\r\u001b[K     |█████████████████▍              | 1.1MB 15.1MB/s eta 0:00:01\r\u001b[K     |█████████████████▌              | 1.1MB 15.1MB/s eta 0:00:01\r\u001b[K     |█████████████████▋              | 1.1MB 15.1MB/s eta 0:00:01\r\u001b[K     |█████████████████▉              | 1.1MB 15.1MB/s eta 0:00:01\r\u001b[K     |██████████████████              | 1.2MB 15.1MB/s eta 0:00:01\r\u001b[K     |██████████████████▏             | 1.2MB 15.1MB/s eta 0:00:01\r\u001b[K     |██████████████████▎             | 1.2MB 15.1MB/s eta 0:00:01\r\u001b[K     |██████████████████▌             | 1.2MB 15.1MB/s eta 0:00:01\r\u001b[K     |██████████████████▋             | 1.2MB 15.1MB/s eta 0:00:01\r\u001b[K     |██████████████████▊             | 1.2MB 15.1MB/s eta 0:00:01\r\u001b[K     |███████████████████             | 1.2MB 15.1MB/s eta 0:00:01\r\u001b[K     |███████████████████             | 1.2MB 15.1MB/s eta 0:00:01\r\u001b[K     |███████████████████▎            | 1.2MB 15.1MB/s eta 0:00:01\r\u001b[K     |███████████████████▍            | 1.2MB 15.1MB/s eta 0:00:01\r\u001b[K     |███████████████████▋            | 1.3MB 15.1MB/s eta 0:00:01\r\u001b[K     |███████████████████▊            | 1.3MB 15.1MB/s eta 0:00:01\r\u001b[K     |███████████████████▉            | 1.3MB 15.1MB/s eta 0:00:01\r\u001b[K     |████████████████████            | 1.3MB 15.1MB/s eta 0:00:01\r\u001b[K     |████████████████████▏           | 1.3MB 15.1MB/s eta 0:00:01\r\u001b[K     |████████████████████▍           | 1.3MB 15.1MB/s eta 0:00:01\r\u001b[K     |████████████████████▌           | 1.3MB 15.1MB/s eta 0:00:01\r\u001b[K     |████████████████████▊           | 1.3MB 15.1MB/s eta 0:00:01\r\u001b[K     |████████████████████▉           | 1.3MB 15.1MB/s eta 0:00:01\r\u001b[K     |█████████████████████           | 1.4MB 15.1MB/s eta 0:00:01\r\u001b[K     |█████████████████████▏          | 1.4MB 15.1MB/s eta 0:00:01\r\u001b[K     |█████████████████████▎          | 1.4MB 15.1MB/s eta 0:00:01\r\u001b[K     |█████████████████████▌          | 1.4MB 15.1MB/s eta 0:00:01\r\u001b[K     |█████████████████████▋          | 1.4MB 15.1MB/s eta 0:00:01\r\u001b[K     |█████████████████████▉          | 1.4MB 15.1MB/s eta 0:00:01\r\u001b[K     |██████████████████████          | 1.4MB 15.1MB/s eta 0:00:01\r\u001b[K     |██████████████████████          | 1.4MB 15.1MB/s eta 0:00:01\r\u001b[K     |██████████████████████▎         | 1.4MB 15.1MB/s eta 0:00:01\r\u001b[K     |██████████████████████▍         | 1.4MB 15.1MB/s eta 0:00:01\r\u001b[K     |██████████████████████▋         | 1.5MB 15.1MB/s eta 0:00:01\r\u001b[K     |██████████████████████▊         | 1.5MB 15.1MB/s eta 0:00:01\r\u001b[K     |███████████████████████         | 1.5MB 15.1MB/s eta 0:00:01\r\u001b[K     |███████████████████████         | 1.5MB 15.1MB/s eta 0:00:01\r\u001b[K     |███████████████████████▏        | 1.5MB 15.1MB/s eta 0:00:01\r\u001b[K     |███████████████████████▍        | 1.5MB 15.1MB/s eta 0:00:01\r\u001b[K     |███████████████████████▌        | 1.5MB 15.1MB/s eta 0:00:01\r\u001b[K     |███████████████████████▊        | 1.5MB 15.1MB/s eta 0:00:01\r\u001b[K     |███████████████████████▉        | 1.5MB 15.1MB/s eta 0:00:01\r\u001b[K     |████████████████████████        | 1.5MB 15.1MB/s eta 0:00:01\r\u001b[K     |████████████████████████▏       | 1.6MB 15.1MB/s eta 0:00:01\r\u001b[K     |████████████████████████▎       | 1.6MB 15.1MB/s eta 0:00:01\r\u001b[K     |████████████████████████▌       | 1.6MB 15.1MB/s eta 0:00:01\r\u001b[K     |████████████████████████▋       | 1.6MB 15.1MB/s eta 0:00:01\r\u001b[K     |████████████████████████▉       | 1.6MB 15.1MB/s eta 0:00:01\r\u001b[K     |█████████████████████████       | 1.6MB 15.1MB/s eta 0:00:01\r\u001b[K     |█████████████████████████▏      | 1.6MB 15.1MB/s eta 0:00:01\r\u001b[K     |█████████████████████████▎      | 1.6MB 15.1MB/s eta 0:00:01\r\u001b[K     |█████████████████████████▍      | 1.6MB 15.1MB/s eta 0:00:01\r\u001b[K     |█████████████████████████▋      | 1.6MB 15.1MB/s eta 0:00:01\r\u001b[K     |█████████████████████████▊      | 1.7MB 15.1MB/s eta 0:00:01\r\u001b[K     |██████████████████████████      | 1.7MB 15.1MB/s eta 0:00:01\r\u001b[K     |██████████████████████████      | 1.7MB 15.1MB/s eta 0:00:01\r\u001b[K     |██████████████████████████▎     | 1.7MB 15.1MB/s eta 0:00:01\r\u001b[K     |██████████████████████████▍     | 1.7MB 15.1MB/s eta 0:00:01\r\u001b[K     |██████████████████████████▋     | 1.7MB 15.1MB/s eta 0:00:01\r\u001b[K     |██████████████████████████▊     | 1.7MB 15.1MB/s eta 0:00:01\r\u001b[K     |██████████████████████████▉     | 1.7MB 15.1MB/s eta 0:00:01\r\u001b[K     |███████████████████████████     | 1.7MB 15.1MB/s eta 0:00:01\r\u001b[K     |███████████████████████████▏    | 1.8MB 15.1MB/s eta 0:00:01\r\u001b[K     |███████████████████████████▍    | 1.8MB 15.1MB/s eta 0:00:01\r\u001b[K     |███████████████████████████▌    | 1.8MB 15.1MB/s eta 0:00:01\r\u001b[K     |███████████████████████████▊    | 1.8MB 15.1MB/s eta 0:00:01\r\u001b[K     |███████████████████████████▉    | 1.8MB 15.1MB/s eta 0:00:01\r\u001b[K     |████████████████████████████    | 1.8MB 15.1MB/s eta 0:00:01\r\u001b[K     |████████████████████████████▏   | 1.8MB 15.1MB/s eta 0:00:01\r\u001b[K     |████████████████████████████▎   | 1.8MB 15.1MB/s eta 0:00:01\r\u001b[K     |████████████████████████████▌   | 1.8MB 15.1MB/s eta 0:00:01\r\u001b[K     |████████████████████████████▋   | 1.8MB 15.1MB/s eta 0:00:01\r\u001b[K     |████████████████████████████▉   | 1.9MB 15.1MB/s eta 0:00:01\r\u001b[K     |█████████████████████████████   | 1.9MB 15.1MB/s eta 0:00:01\r\u001b[K     |█████████████████████████████   | 1.9MB 15.1MB/s eta 0:00:01\r\u001b[K     |█████████████████████████████▎  | 1.9MB 15.1MB/s eta 0:00:01\r\u001b[K     |█████████████████████████████▍  | 1.9MB 15.1MB/s eta 0:00:01\r\u001b[K     |█████████████████████████████▋  | 1.9MB 15.1MB/s eta 0:00:01\r\u001b[K     |█████████████████████████████▊  | 1.9MB 15.1MB/s eta 0:00:01\r\u001b[K     |██████████████████████████████  | 1.9MB 15.1MB/s eta 0:00:01\r\u001b[K     |██████████████████████████████  | 1.9MB 15.1MB/s eta 0:00:01\r\u001b[K     |██████████████████████████████▏ | 1.9MB 15.1MB/s eta 0:00:01\r\u001b[K     |██████████████████████████████▍ | 2.0MB 15.1MB/s eta 0:00:01\r\u001b[K     |██████████████████████████████▌ | 2.0MB 15.1MB/s eta 0:00:01\r\u001b[K     |██████████████████████████████▊ | 2.0MB 15.1MB/s eta 0:00:01\r\u001b[K     |██████████████████████████████▉ | 2.0MB 15.1MB/s eta 0:00:01\r\u001b[K     |███████████████████████████████ | 2.0MB 15.1MB/s eta 0:00:01\r\u001b[K     |███████████████████████████████▏| 2.0MB 15.1MB/s eta 0:00:01\r\u001b[K     |███████████████████████████████▎| 2.0MB 15.1MB/s eta 0:00:01\r\u001b[K     |███████████████████████████████▌| 2.0MB 15.1MB/s eta 0:00:01\r\u001b[K     |███████████████████████████████▋| 2.0MB 15.1MB/s eta 0:00:01\r\u001b[K     |███████████████████████████████▉| 2.0MB 15.1MB/s eta 0:00:01\r\u001b[K     |████████████████████████████████| 2.1MB 15.1MB/s eta 0:00:01\r\u001b[K     |████████████████████████████████| 2.1MB 15.1MB/s \n",
            "\u001b[?25hRequirement already satisfied: requests in /usr/local/lib/python3.7/dist-packages (from transformers) (2.23.0)\n",
            "Requirement already satisfied: packaging in /usr/local/lib/python3.7/dist-packages (from transformers) (20.9)\n",
            "Requirement already satisfied: regex!=2019.12.17 in /usr/local/lib/python3.7/dist-packages (from transformers) (2019.12.20)\n",
            "Requirement already satisfied: filelock in /usr/local/lib/python3.7/dist-packages (from transformers) (3.0.12)\n",
            "Requirement already satisfied: tqdm>=4.27 in /usr/local/lib/python3.7/dist-packages (from transformers) (4.41.1)\n",
            "Requirement already satisfied: importlib-metadata; python_version < \"3.8\" in /usr/local/lib/python3.7/dist-packages (from transformers) (3.10.1)\n",
            "Requirement already satisfied: numpy>=1.17 in /usr/local/lib/python3.7/dist-packages (from transformers) (1.19.5)\n",
            "Collecting tokenizers<0.11,>=0.10.1\n",
            "\u001b[?25l  Downloading https://files.pythonhosted.org/packages/ae/04/5b870f26a858552025a62f1649c20d29d2672c02ff3c3fb4c688ca46467a/tokenizers-0.10.2-cp37-cp37m-manylinux2010_x86_64.whl (3.3MB)\n",
            "\u001b[K     |████████████████████████████████| 3.3MB 58.2MB/s \n",
            "\u001b[?25hCollecting sacremoses\n",
            "\u001b[?25l  Downloading https://files.pythonhosted.org/packages/75/ee/67241dc87f266093c533a2d4d3d69438e57d7a90abb216fa076e7d475d4a/sacremoses-0.0.45-py3-none-any.whl (895kB)\n",
            "\u001b[K     |████████████████████████████████| 901kB 57.4MB/s \n",
            "\u001b[?25hRequirement already satisfied: chardet<4,>=3.0.2 in /usr/local/lib/python3.7/dist-packages (from requests->transformers) (3.0.4)\n",
            "Requirement already satisfied: certifi>=2017.4.17 in /usr/local/lib/python3.7/dist-packages (from requests->transformers) (2020.12.5)\n",
            "Requirement already satisfied: urllib3!=1.25.0,!=1.25.1,<1.26,>=1.21.1 in /usr/local/lib/python3.7/dist-packages (from requests->transformers) (1.24.3)\n",
            "Requirement already satisfied: idna<3,>=2.5 in /usr/local/lib/python3.7/dist-packages (from requests->transformers) (2.10)\n",
            "Requirement already satisfied: pyparsing>=2.0.2 in /usr/local/lib/python3.7/dist-packages (from packaging->transformers) (2.4.7)\n",
            "Requirement already satisfied: typing-extensions>=3.6.4; python_version < \"3.8\" in /usr/local/lib/python3.7/dist-packages (from importlib-metadata; python_version < \"3.8\"->transformers) (3.7.4.3)\n",
            "Requirement already satisfied: zipp>=0.5 in /usr/local/lib/python3.7/dist-packages (from importlib-metadata; python_version < \"3.8\"->transformers) (3.4.1)\n",
            "Requirement already satisfied: six in /usr/local/lib/python3.7/dist-packages (from sacremoses->transformers) (1.15.0)\n",
            "Requirement already satisfied: joblib in /usr/local/lib/python3.7/dist-packages (from sacremoses->transformers) (1.0.1)\n",
            "Requirement already satisfied: click in /usr/local/lib/python3.7/dist-packages (from sacremoses->transformers) (7.1.2)\n",
            "Installing collected packages: tokenizers, sacremoses, transformers\n",
            "Successfully installed sacremoses-0.0.45 tokenizers-0.10.2 transformers-4.5.1\n"
          ],
          "name": "stdout"
        }
      ]
    },
    {
      "cell_type": "code",
      "metadata": {
        "id": "zDP0BdP7ZsXd"
      },
      "source": [
        "#from google.colab import drive\n",
        "#drive.mount('/content/drive')"
      ],
      "id": "zDP0BdP7ZsXd",
      "execution_count": null,
      "outputs": []
    },
    {
      "cell_type": "code",
      "metadata": {
        "id": "IUAEUPTPnf9Q"
      },
      "source": [
        "import torch\n",
        "import torch.nn as nn\n",
        "from torch.utils.data import TensorDataset, DataLoader, RandomSampler, SequentialSampler\n",
        "import random\n",
        "import numpy as np\n",
        "import pandas as pd\n",
        "import torch.nn.functional as F\n",
        "from sklearn.model_selection import train_test_split\n",
        "from sklearn.metrics import classification_report\n",
        "import transformers\n",
        "from transformers import AutoModel, BertTokenizerFast\n",
        "import time\n",
        "from sklearn.metrics import classification_report\n",
        "SEED = 1234\n",
        "\n",
        "random.seed(SEED)\n",
        "np.random.seed(SEED)\n",
        "torch.manual_seed(SEED)\n",
        "torch.backends.cudnn.deterministic = True\n",
        "\n",
        "# specify GPU\n",
        "device = torch.device('cuda' if torch.cuda.is_available() else 'cpu')"
      ],
      "id": "IUAEUPTPnf9Q",
      "execution_count": 2,
      "outputs": []
    },
    {
      "cell_type": "code",
      "metadata": {
        "colab": {
          "base_uri": "https://localhost:8080/"
        },
        "id": "Jt5jxCn8gmsS",
        "outputId": "e1591625-18c9-43b3-a5ab-07d8e0bbe487"
      },
      "source": [
        "from google.colab import drive\n",
        "drive.mount('/content/drive')"
      ],
      "id": "Jt5jxCn8gmsS",
      "execution_count": 3,
      "outputs": [
        {
          "output_type": "stream",
          "text": [
            "Mounted at /content/drive\n"
          ],
          "name": "stdout"
        }
      ]
    },
    {
      "cell_type": "code",
      "metadata": {
        "id": "ydDYRF92aDSk"
      },
      "source": [
        "#df_all = pd.read_csv('Tweets.csv')\n",
        "df_all = pd.read_csv('/content/drive/My Drive/content/Tweets.csv', encoding = 'latin-1' )"
      ],
      "id": "ydDYRF92aDSk",
      "execution_count": 4,
      "outputs": []
    },
    {
      "cell_type": "code",
      "metadata": {
        "colab": {
          "base_uri": "https://localhost:8080/",
          "height": 446
        },
        "id": "D_SK46UW-hC-",
        "outputId": "cf0a4693-9768-46aa-a5c6-e0838aa2aaae"
      },
      "source": [
        "df_all.head()"
      ],
      "id": "D_SK46UW-hC-",
      "execution_count": 5,
      "outputs": [
        {
          "output_type": "execute_result",
          "data": {
            "text/html": [
              "<div>\n",
              "<style scoped>\n",
              "    .dataframe tbody tr th:only-of-type {\n",
              "        vertical-align: middle;\n",
              "    }\n",
              "\n",
              "    .dataframe tbody tr th {\n",
              "        vertical-align: top;\n",
              "    }\n",
              "\n",
              "    .dataframe thead th {\n",
              "        text-align: right;\n",
              "    }\n",
              "</style>\n",
              "<table border=\"1\" class=\"dataframe\">\n",
              "  <thead>\n",
              "    <tr style=\"text-align: right;\">\n",
              "      <th></th>\n",
              "      <th>tweet_id</th>\n",
              "      <th>airline_sentiment</th>\n",
              "      <th>airline_sentiment_confidence</th>\n",
              "      <th>negativereason</th>\n",
              "      <th>negativereason_confidence</th>\n",
              "      <th>airline</th>\n",
              "      <th>airline_sentiment_gold</th>\n",
              "      <th>name</th>\n",
              "      <th>negativereason_gold</th>\n",
              "      <th>retweet_count</th>\n",
              "      <th>text</th>\n",
              "      <th>tweet_coord</th>\n",
              "      <th>tweet_created</th>\n",
              "      <th>tweet_location</th>\n",
              "      <th>user_timezone</th>\n",
              "    </tr>\n",
              "  </thead>\n",
              "  <tbody>\n",
              "    <tr>\n",
              "      <th>0</th>\n",
              "      <td>5.703060e+17</td>\n",
              "      <td>neutral</td>\n",
              "      <td>1.0000</td>\n",
              "      <td>NaN</td>\n",
              "      <td>NaN</td>\n",
              "      <td>Virgin America</td>\n",
              "      <td>NaN</td>\n",
              "      <td>cairdin</td>\n",
              "      <td>NaN</td>\n",
              "      <td>0</td>\n",
              "      <td>@VirginAmerica What @dhepburn said.</td>\n",
              "      <td>NaN</td>\n",
              "      <td>24/2/2015 11:35</td>\n",
              "      <td>NaN</td>\n",
              "      <td>Eastern Time (US &amp; Canada)</td>\n",
              "    </tr>\n",
              "    <tr>\n",
              "      <th>1</th>\n",
              "      <td>5.703010e+17</td>\n",
              "      <td>positive</td>\n",
              "      <td>0.3486</td>\n",
              "      <td>NaN</td>\n",
              "      <td>0.0000</td>\n",
              "      <td>Virgin America</td>\n",
              "      <td>NaN</td>\n",
              "      <td>jnardino</td>\n",
              "      <td>NaN</td>\n",
              "      <td>0</td>\n",
              "      <td>@VirginAmerica plus you've added commercials t...</td>\n",
              "      <td>NaN</td>\n",
              "      <td>24/2/2015 11:15</td>\n",
              "      <td>NaN</td>\n",
              "      <td>Pacific Time (US &amp; Canada)</td>\n",
              "    </tr>\n",
              "    <tr>\n",
              "      <th>2</th>\n",
              "      <td>5.703010e+17</td>\n",
              "      <td>neutral</td>\n",
              "      <td>0.6837</td>\n",
              "      <td>NaN</td>\n",
              "      <td>NaN</td>\n",
              "      <td>Virgin America</td>\n",
              "      <td>NaN</td>\n",
              "      <td>yvonnalynn</td>\n",
              "      <td>NaN</td>\n",
              "      <td>0</td>\n",
              "      <td>@VirginAmerica I didn't today... Must mean I n...</td>\n",
              "      <td>NaN</td>\n",
              "      <td>24/2/2015 11:15</td>\n",
              "      <td>Lets Play</td>\n",
              "      <td>Central Time (US &amp; Canada)</td>\n",
              "    </tr>\n",
              "    <tr>\n",
              "      <th>3</th>\n",
              "      <td>5.703010e+17</td>\n",
              "      <td>negative</td>\n",
              "      <td>1.0000</td>\n",
              "      <td>Bad Flight</td>\n",
              "      <td>0.7033</td>\n",
              "      <td>Virgin America</td>\n",
              "      <td>NaN</td>\n",
              "      <td>jnardino</td>\n",
              "      <td>NaN</td>\n",
              "      <td>0</td>\n",
              "      <td>@VirginAmerica it's really aggressive to blast...</td>\n",
              "      <td>NaN</td>\n",
              "      <td>24/2/2015 11:15</td>\n",
              "      <td>NaN</td>\n",
              "      <td>Pacific Time (US &amp; Canada)</td>\n",
              "    </tr>\n",
              "    <tr>\n",
              "      <th>4</th>\n",
              "      <td>5.703010e+17</td>\n",
              "      <td>negative</td>\n",
              "      <td>1.0000</td>\n",
              "      <td>Can't Tell</td>\n",
              "      <td>1.0000</td>\n",
              "      <td>Virgin America</td>\n",
              "      <td>NaN</td>\n",
              "      <td>jnardino</td>\n",
              "      <td>NaN</td>\n",
              "      <td>0</td>\n",
              "      <td>@VirginAmerica and it's a really big bad thing...</td>\n",
              "      <td>NaN</td>\n",
              "      <td>24/2/2015 11:14</td>\n",
              "      <td>NaN</td>\n",
              "      <td>Pacific Time (US &amp; Canada)</td>\n",
              "    </tr>\n",
              "  </tbody>\n",
              "</table>\n",
              "</div>"
            ],
            "text/plain": [
              "       tweet_id airline_sentiment  ...  tweet_location               user_timezone\n",
              "0  5.703060e+17           neutral  ...             NaN  Eastern Time (US & Canada)\n",
              "1  5.703010e+17          positive  ...             NaN  Pacific Time (US & Canada)\n",
              "2  5.703010e+17           neutral  ...       Lets Play  Central Time (US & Canada)\n",
              "3  5.703010e+17          negative  ...             NaN  Pacific Time (US & Canada)\n",
              "4  5.703010e+17          negative  ...             NaN  Pacific Time (US & Canada)\n",
              "\n",
              "[5 rows x 15 columns]"
            ]
          },
          "metadata": {
            "tags": []
          },
          "execution_count": 5
        }
      ]
    },
    {
      "cell_type": "code",
      "metadata": {
        "colab": {
          "base_uri": "https://localhost:8080/",
          "height": 203
        },
        "id": "RdbPTwVlaTck",
        "outputId": "246e308d-a046-45a5-f901-723dfe8df731"
      },
      "source": [
        "df_all = df_all[['text','airline_sentiment']]\n",
        "dic = {'negative' : 0, 'neutral': 1, 'positive': 2}\n",
        "df_all['airline_sentiment']= df_all['airline_sentiment'].replace(dic).astype('int64')\n",
        "df_all.head()"
      ],
      "id": "RdbPTwVlaTck",
      "execution_count": 6,
      "outputs": [
        {
          "output_type": "execute_result",
          "data": {
            "text/html": [
              "<div>\n",
              "<style scoped>\n",
              "    .dataframe tbody tr th:only-of-type {\n",
              "        vertical-align: middle;\n",
              "    }\n",
              "\n",
              "    .dataframe tbody tr th {\n",
              "        vertical-align: top;\n",
              "    }\n",
              "\n",
              "    .dataframe thead th {\n",
              "        text-align: right;\n",
              "    }\n",
              "</style>\n",
              "<table border=\"1\" class=\"dataframe\">\n",
              "  <thead>\n",
              "    <tr style=\"text-align: right;\">\n",
              "      <th></th>\n",
              "      <th>text</th>\n",
              "      <th>airline_sentiment</th>\n",
              "    </tr>\n",
              "  </thead>\n",
              "  <tbody>\n",
              "    <tr>\n",
              "      <th>0</th>\n",
              "      <td>@VirginAmerica What @dhepburn said.</td>\n",
              "      <td>1</td>\n",
              "    </tr>\n",
              "    <tr>\n",
              "      <th>1</th>\n",
              "      <td>@VirginAmerica plus you've added commercials t...</td>\n",
              "      <td>2</td>\n",
              "    </tr>\n",
              "    <tr>\n",
              "      <th>2</th>\n",
              "      <td>@VirginAmerica I didn't today... Must mean I n...</td>\n",
              "      <td>1</td>\n",
              "    </tr>\n",
              "    <tr>\n",
              "      <th>3</th>\n",
              "      <td>@VirginAmerica it's really aggressive to blast...</td>\n",
              "      <td>0</td>\n",
              "    </tr>\n",
              "    <tr>\n",
              "      <th>4</th>\n",
              "      <td>@VirginAmerica and it's a really big bad thing...</td>\n",
              "      <td>0</td>\n",
              "    </tr>\n",
              "  </tbody>\n",
              "</table>\n",
              "</div>"
            ],
            "text/plain": [
              "                                                text  airline_sentiment\n",
              "0                @VirginAmerica What @dhepburn said.                  1\n",
              "1  @VirginAmerica plus you've added commercials t...                  2\n",
              "2  @VirginAmerica I didn't today... Must mean I n...                  1\n",
              "3  @VirginAmerica it's really aggressive to blast...                  0\n",
              "4  @VirginAmerica and it's a really big bad thing...                  0"
            ]
          },
          "metadata": {
            "tags": []
          },
          "execution_count": 6
        }
      ]
    },
    {
      "cell_type": "code",
      "metadata": {
        "id": "ISP1tMtncuGq"
      },
      "source": [
        "# split train dataset into train, validation and test sets\n",
        "train_text, temp_text, train_labels, temp_labels = train_test_split(df_all['text'], df_all['airline_sentiment'], \n",
        "                                                                    random_state=45, \n",
        "                                                                    test_size=0.3, \n",
        "                                                                    stratify=df_all['airline_sentiment'])\n",
        "\n",
        "\n",
        "val_text, test_text, val_labels, test_labels = train_test_split(temp_text, temp_labels, \n",
        "                                                                random_state=45, \n",
        "                                                                test_size=0.5, \n",
        "                                                                stratify=temp_labels)"
      ],
      "id": "ISP1tMtncuGq",
      "execution_count": 7,
      "outputs": []
    },
    {
      "cell_type": "code",
      "metadata": {
        "id": "-2A3AcBSd13Y",
        "colab": {
          "base_uri": "https://localhost:8080/",
          "height": 265,
          "referenced_widgets": [
            "a5f93653d4e947ef855a819b0780d6f7",
            "6e6e221bf6844fe7bf6678db6d56d401",
            "f35b2103937248f2a40090dc32a2020c",
            "bffd125684d34edfb5380f3d8b412fae",
            "4c486db482864806ae786d36e72c1679",
            "3f8df01a234742ca92af97aff2a1a802",
            "1effdd96ecfa4cb99f5f4b98fb25962d",
            "4f7621d08f784a4ba615122722142fd6",
            "2eda7a12fb1b419d9079aaaecd5a4292",
            "9fa41fce23f74a269e90584328aefdea",
            "0985eabea7d04084aa7439168e7d6ee4",
            "f3b4114b80a84a02bcd6cb369d22d9e2",
            "d88cb889b8864e929c91dbe4cb672795",
            "aa362a9ab9ec496195f506d961e1c9c6",
            "7615d5e64f624eb281a1e4666b2fbbf6",
            "9ad1e575ba0f40a3b6eb1d5ce5b02a13",
            "7ef2697d736145c5a506d884733cb85f",
            "c9abf8a2a271475e846d6c3c547fc549",
            "b3419198bc4e4b859cab6a6df2c942b3",
            "7955981749d542f8b9384506179c5c29",
            "dad009adaf2e45b6aa403293980de447",
            "ddecea8361cc4e3499d8552f9830cd4a",
            "3492c8179a324ea28b2fa37244e38069",
            "3249a0693b8845b29e9e69edc0dca359",
            "d1fab069a5fe4ed9a353b9d76f838740",
            "ed2eab9c230f433d979c86f3e3c0f3d5",
            "3f2d90ea05194d50982cb502c8790aa6",
            "c2a02a3c073c4a9180f9350cc701af84",
            "76b8258b48a5444ab36f0a757958d6ae",
            "d9641542dd1140dd9afddcc711f58734",
            "b8f9bcf54c37451998e7bff5f0fdf175",
            "d13ffdf2f7164e12b055bf00078ed27e",
            "41ef392e99b246eb801769f3598d5339",
            "e7dc33aca86940bd87228fa396004b0f",
            "e418f0719b334161b54944d7f7b88758",
            "eed5c6a1c9a34e428f41b6fd7dd0663e",
            "baeccf3cc65f4c90b41eb6f8bcc68876",
            "0893495594fb44e486b14bcf026fd299",
            "c4a33836a2244b6db4b79be1b852379e",
            "c1701ba98d2c410abc378b19f39d27e7"
          ]
        },
        "outputId": "29f14cd3-56b2-48db-919e-572702fa98a2"
      },
      "source": [
        "from transformers import AutoModel, BertTokenizerFast\n",
        "# import BERT-base pretrained model\n",
        "bert = AutoModel.from_pretrained('bert-base-uncased')\n",
        "\n",
        "# Load the BERT tokenizer\n",
        "tokenizer = BertTokenizerFast.from_pretrained('bert-base-uncased')"
      ],
      "id": "-2A3AcBSd13Y",
      "execution_count": 8,
      "outputs": [
        {
          "output_type": "display_data",
          "data": {
            "application/vnd.jupyter.widget-view+json": {
              "model_id": "a5f93653d4e947ef855a819b0780d6f7",
              "version_minor": 0,
              "version_major": 2
            },
            "text/plain": [
              "HBox(children=(FloatProgress(value=0.0, description='Downloading', max=570.0, style=ProgressStyle(description_…"
            ]
          },
          "metadata": {
            "tags": []
          }
        },
        {
          "output_type": "stream",
          "text": [
            "\n"
          ],
          "name": "stdout"
        },
        {
          "output_type": "display_data",
          "data": {
            "application/vnd.jupyter.widget-view+json": {
              "model_id": "2eda7a12fb1b419d9079aaaecd5a4292",
              "version_minor": 0,
              "version_major": 2
            },
            "text/plain": [
              "HBox(children=(FloatProgress(value=0.0, description='Downloading', max=440473133.0, style=ProgressStyle(descri…"
            ]
          },
          "metadata": {
            "tags": []
          }
        },
        {
          "output_type": "stream",
          "text": [
            "\n"
          ],
          "name": "stdout"
        },
        {
          "output_type": "display_data",
          "data": {
            "application/vnd.jupyter.widget-view+json": {
              "model_id": "7ef2697d736145c5a506d884733cb85f",
              "version_minor": 0,
              "version_major": 2
            },
            "text/plain": [
              "HBox(children=(FloatProgress(value=0.0, description='Downloading', max=231508.0, style=ProgressStyle(descripti…"
            ]
          },
          "metadata": {
            "tags": []
          }
        },
        {
          "output_type": "stream",
          "text": [
            "\n"
          ],
          "name": "stdout"
        },
        {
          "output_type": "display_data",
          "data": {
            "application/vnd.jupyter.widget-view+json": {
              "model_id": "d1fab069a5fe4ed9a353b9d76f838740",
              "version_minor": 0,
              "version_major": 2
            },
            "text/plain": [
              "HBox(children=(FloatProgress(value=0.0, description='Downloading', max=466062.0, style=ProgressStyle(descripti…"
            ]
          },
          "metadata": {
            "tags": []
          }
        },
        {
          "output_type": "stream",
          "text": [
            "\n"
          ],
          "name": "stdout"
        },
        {
          "output_type": "display_data",
          "data": {
            "application/vnd.jupyter.widget-view+json": {
              "model_id": "41ef392e99b246eb801769f3598d5339",
              "version_minor": 0,
              "version_major": 2
            },
            "text/plain": [
              "HBox(children=(FloatProgress(value=0.0, description='Downloading', max=28.0, style=ProgressStyle(description_w…"
            ]
          },
          "metadata": {
            "tags": []
          }
        },
        {
          "output_type": "stream",
          "text": [
            "\n"
          ],
          "name": "stdout"
        }
      ]
    },
    {
      "cell_type": "code",
      "metadata": {
        "id": "9h6xYyUggJPv"
      },
      "source": [
        "# freeze all the parameters\n",
        "for param in bert.parameters():\n",
        "    param.requires_grad = False"
      ],
      "id": "9h6xYyUggJPv",
      "execution_count": 9,
      "outputs": []
    },
    {
      "cell_type": "code",
      "metadata": {
        "colab": {
          "base_uri": "https://localhost:8080/",
          "height": 283
        },
        "id": "27n6jQ7Ad0MZ",
        "outputId": "cb46254d-7a81-4812-940b-735e4e441fb6"
      },
      "source": [
        "# get length of all the messages in the train set\n",
        "seq_len = [len(i.split()) for i in train_text]\n",
        "pd.Series(seq_len).hist(bins = 30)"
      ],
      "id": "27n6jQ7Ad0MZ",
      "execution_count": 10,
      "outputs": [
        {
          "output_type": "execute_result",
          "data": {
            "text/plain": [
              "<matplotlib.axes._subplots.AxesSubplot at 0x7fa971d70d50>"
            ]
          },
          "metadata": {
            "tags": []
          },
          "execution_count": 10
        },
        {
          "output_type": "display_data",
          "data": {
            "image/png": "[encoded data removed]",
            "text/plain": [
              "<Figure size 432x288 with 1 Axes>"
            ]
          },
          "metadata": {
            "tags": [],
            "needs_background": "light"
          }
        }
      ]
    },
    {
      "cell_type": "code",
      "metadata": {
        "colab": {
          "base_uri": "https://localhost:8080/",
          "height": 285
        },
        "id": "ThFIrJ1_eRHY",
        "outputId": "ec8ebea7-58c9-42e1-885f-750c70b5af20"
      },
      "source": [
        "# get length of all the messages in the val set\n",
        "seq_len = [len(i.split()) for i in val_text]\n",
        "pd.Series(seq_len).hist(bins = 30)"
      ],
      "id": "ThFIrJ1_eRHY",
      "execution_count": 11,
      "outputs": [
        {
          "output_type": "execute_result",
          "data": {
            "text/plain": [
              "<matplotlib.axes._subplots.AxesSubplot at 0x7fa971c80190>"
            ]
          },
          "metadata": {
            "tags": []
          },
          "execution_count": 11
        },
        {
          "output_type": "display_data",
          "data": {
            "image/png": "[encoded data removed]",
            "text/plain": [
              "<Figure size 432x288 with 1 Axes>"
            ]
          },
          "metadata": {
            "tags": [],
            "needs_background": "light"
          }
        }
      ]
    },
    {
      "cell_type": "code",
      "metadata": {
        "colab": {
          "base_uri": "https://localhost:8080/",
          "height": 283
        },
        "id": "6lDpMvoJeSDY",
        "outputId": "dd739ab2-5eab-465f-e42f-62ee0de2618b"
      },
      "source": [
        "# get length of all the messages in the test set\n",
        "seq_len = [len(i.split()) for i in test_text]\n",
        "pd.Series(seq_len).hist(bins = 30)"
      ],
      "id": "6lDpMvoJeSDY",
      "execution_count": 12,
      "outputs": [
        {
          "output_type": "execute_result",
          "data": {
            "text/plain": [
              "<matplotlib.axes._subplots.AxesSubplot at 0x7fa971c2d950>"
            ]
          },
          "metadata": {
            "tags": []
          },
          "execution_count": 12
        },
        {
          "output_type": "display_data",
          "data": {
            "image/png": "[encoded data removed]",
            "text/plain": [
              "<Figure size 432x288 with 1 Axes>"
            ]
          },
          "metadata": {
            "tags": [],
            "needs_background": "light"
          }
        }
      ]
    },
    {
      "cell_type": "code",
      "metadata": {
        "id": "k4G9gD3neNkJ"
      },
      "source": [
        "# tokenize and encode sequences in the training set\n",
        "tokens_train = tokenizer.batch_encode_plus(\n",
        "    train_text.tolist(),\n",
        "    max_length = 25,\n",
        "    padding='longest',\n",
        "    truncation=True\n",
        ")\n",
        "\n",
        "# tokenize and encode sequences in the validation set\n",
        "tokens_val = tokenizer.batch_encode_plus(\n",
        "    val_text.tolist(),\n",
        "    max_length = 25,\n",
        "    padding='longest',\n",
        "    truncation=True\n",
        ")\n",
        "\n",
        "# tokenize and encode sequences in the test set\n",
        "tokens_test = tokenizer.batch_encode_plus(\n",
        "    test_text.tolist(),\n",
        "    max_length = 25,\n",
        "    padding='longest',\n",
        "    truncation=True\n",
        ")"
      ],
      "id": "k4G9gD3neNkJ",
      "execution_count": 13,
      "outputs": []
    },
    {
      "cell_type": "code",
      "metadata": {
        "id": "ChuoX_0XfU4_"
      },
      "source": [
        "## convert lists to tensors\n",
        "\n",
        "train_seq = torch.tensor(tokens_train['input_ids'])\n",
        "train_mask = torch.tensor(tokens_train['attention_mask'])\n",
        "train_y = torch.tensor(train_labels.tolist())\n",
        "\n",
        "val_seq = torch.tensor(tokens_val['input_ids'])\n",
        "val_mask = torch.tensor(tokens_val['attention_mask'])\n",
        "val_y = torch.tensor(val_labels.tolist())\n",
        "\n",
        "test_seq = torch.tensor(tokens_test['input_ids'])\n",
        "test_mask = torch.tensor(tokens_test['attention_mask'])\n",
        "test_y = torch.tensor(test_labels.tolist())"
      ],
      "id": "ChuoX_0XfU4_",
      "execution_count": 14,
      "outputs": []
    },
    {
      "cell_type": "code",
      "metadata": {
        "id": "9oyz5bTJfVnf"
      },
      "source": [
        "#define a batch size\n",
        "batch_size = 32\n",
        "\n",
        "# wrap tensors\n",
        "train_data = TensorDataset(train_seq, train_mask, train_y)\n",
        "\n",
        "# sampler for sampling the data during training\n",
        "train_sampler = RandomSampler(train_data)\n",
        "\n",
        "# dataLoader for train set\n",
        "train_dataloader = DataLoader(train_data, sampler=train_sampler, batch_size=batch_size, drop_last=True)\n",
        "\n",
        "# wrap tensors\n",
        "val_data = TensorDataset(val_seq, val_mask, val_y)\n",
        "\n",
        "# sampler for sampling the data during training\n",
        "val_sampler = SequentialSampler(val_data)\n",
        "\n",
        "# dataLoader for validation set\n",
        "val_dataloader = DataLoader(val_data, sampler = val_sampler, batch_size=batch_size, drop_last=True)\n",
        "\n",
        "# wrap tensors\n",
        "test_data = TensorDataset(test_seq, test_mask, test_y)\n",
        "\n",
        "# sampler for sampling the data during training\n",
        "test_sampler = SequentialSampler(test_data)\n",
        "\n",
        "# dataLoader for test set\n",
        "test_dataloader = DataLoader(test_data, sampler = test_sampler, batch_size=batch_size, drop_last=True)"
      ],
      "id": "9oyz5bTJfVnf",
      "execution_count": 15,
      "outputs": []
    },
    {
      "cell_type": "code",
      "metadata": {
        "id": "MflsFK7RANpl"
      },
      "source": [
        "#print('train loader',len(train_dataloader.dataset))\n",
        "#print('val loader',len(val_dataloader.dataset))\n",
        "#print('test loader',len(test_loader))"
      ],
      "id": "MflsFK7RANpl",
      "execution_count": 16,
      "outputs": []
    },
    {
      "cell_type": "code",
      "metadata": {
        "id": "myQdGVCufxZe"
      },
      "source": [
        "#import torch.nn as nn\n",
        "#import torch.nn.functional as F\n",
        "from torch.autograd import Variable\n",
        "\n",
        "\n",
        "class AttnDPCNN(nn.Module):\n",
        "\n",
        "    def __init__(self, batch_size,seq_len,embedding_dim,output_size_linear, \n",
        "                 cnn_channel_size, cnn_kernel_size=(3,1),cnn_padding=0, cnn_stride=1, attn_nodes_per_layer = 10):\n",
        "\n",
        "        super(AttnDPCNN, self).__init__()\n",
        "        #self.bert=bert\n",
        "        self.attn_nodes_per_layer = attn_nodes_per_layer\n",
        "        self.channel_size = cnn_channel_size\n",
        "        self.output_size_linear = output_size_linear\n",
        "        self.cnn_kernel_size = cnn_kernel_size\n",
        "        self.padding = cnn_padding\n",
        "        self.stride = cnn_stride\n",
        "        #self.vocab_size = vocab_size\n",
        "        self.embed_dim = embedding_dim\n",
        "        self.seq_len = seq_len\n",
        "        self.batch_size = batch_size\n",
        "        self.maps = {}\n",
        "        self.get_maps = False\n",
        "        \n",
        "        self.collect_out_softmax = torch.zeros(1,1).to(device)\n",
        "        self.collect_out_attn = torch.zeros(self.batch_size,self.attn_nodes_per_layer).to(device)\n",
        "        \n",
        "        #self.embed = nn.Embedding(self.vocab_size, self.embed_dim)\n",
        "        self.conv1 = nn.Conv2d(1,  self.channel_size, (3,self.embed_dim), stride = 1) # embed_dim becomes 1\n",
        "        self.conv2 = nn.Conv2d(self.channel_size,  self.channel_size,  \n",
        "                                kernel_size=self.cnn_kernel_size, padding=0,\n",
        "                               stride = self.stride)\n",
        "        self.padding1 = nn.ZeroPad2d((0, 0, 1, 1))  # top bottom\n",
        "        self.padding2 = nn.ZeroPad2d((0, 0, 0, 1))  # bottom\n",
        "        self.max_pool = nn.MaxPool2d(kernel_size=(3, 1), stride=2)      \n",
        "        \n",
        "        self._repeat_block = nn.Sequential( # input [batch_size, num_filters, seq_len-3+1, 1]\n",
        "                    nn.ZeroPad2d((0, 0, 1, 1)), # [batch_size, num_filters, seq_len, 1]\n",
        "                    nn.ReLU(),\n",
        "                    nn.Conv2d(self.channel_size,  self.channel_size,   # [batch_size, num_filters, seq_len-3+1, 1]\n",
        "                                kernel_size=self.cnn_kernel_size, padding=0,\n",
        "                               stride = self.stride),\n",
        "                    nn.ZeroPad2d((0, 0, 1, 1)), # [batch_size, num_filters, seq_len, 1]\n",
        "                    nn.ReLU(),\n",
        "                    nn.Conv2d(self.channel_size,  self.channel_size,  # [batch_size, num_filters, seq_len-3+1, 1]\n",
        "                                kernel_size=self.cnn_kernel_size, padding=0,\n",
        "                               stride = self.stride),\n",
        "            )\n",
        "        \n",
        "        \n",
        "        # To get variying attention weights for 1) softmax output 2) 10 representing features\n",
        "        self.num_repeat_blocks, self.size_repeat_blocks_list = self.dividible(2)\n",
        "        # self.weight_softmax_list, self.weight_attn_list = self.getWeights_init()\n",
        "        \n",
        "        self.counter=0\n",
        "        \n",
        "        # Drop probability\n",
        "        self.dropout = nn.Dropout(p=0.2)\n",
        "        # Last linear layer (FC)\n",
        "        #self.linear1 = nn.Linear(self.num_repeat_blocks*self.attn_nodes_per_layer,self.output_size_linear)\n",
        "        self.linear1 = nn.Linear(self.channel_size,self.output_size_linear)\n",
        "          \n",
        "    def repeat_block(self, x): # input [batch_size, num_filters, seq_len-3+1, 1]\n",
        "        x = self.padding2(x) # [batch_size, num_filters, seq_len-1, 1] -> seq_len-3+1+1 = seq_len-1\n",
        "        #print('padding')\n",
        "        x1 = self.max_pool(x)  # [batch_size, num_filters, (seq_len-1) // 3, 1 //1] -> seq_len-3+1+1 = seq_len-1\n",
        "        #print('x1',x1.shape)\n",
        "        # conv block\n",
        "        x2 = self._repeat_block(x1)\n",
        "        #print('x2',x2.shape)\n",
        "        # Identity addition\n",
        "        #x = x1 + x2\n",
        "        #print('x1+x2',x.shape)\n",
        "        return x1,x2\n",
        "\n",
        "    def forward(self, x):\n",
        "        \n",
        "        self.counter =0\n",
        "\n",
        "        #embed = self.bert(sent_id, attention_mask=mask)\n",
        "        #x = embed['last_hidden_state'].unsqueeze(1) # [batch_size, 1, seq_len, embedding_dim]\n",
        "        x = self.conv1(x)  # [batch_size, num_filters, seq_len-3+1, 1]\n",
        "        #print(x.shape)\n",
        "        x = self.padding1(x)  # [batch_size, num_filters, seq_len, 1]\n",
        "        x = F.relu(x)\n",
        "        x = self.conv2(x)  # [batch_size, num_filters, seq_len-3+1, 1]\n",
        "\n",
        "        count=0\n",
        "        while x.shape[2] >= 2: # till seq_len is 1\n",
        "            #print(\"start x\",x.shape)\n",
        "            x_prev,x = self.repeat_block(x)  # [batch_size, num_filters,1,1] at the end\n",
        "            x = x+x_prev\n",
        "            #print(\"after pooling x\",x.shape)\n",
        "            seq = x.shape[2]\n",
        "\n",
        "            ## DOT PRODUCT SELF ATTENTION\n",
        "            query = x.clone().squeeze() # 32 x feature map x seq\n",
        "            #print(\"query\",query.shape)\n",
        "            key = x.clone().squeeze() # 32 x feature map x seq\n",
        "            #print(\"key\",query.shape)\n",
        "            value = x.clone().squeeze() # 32 x feature map x seq\n",
        "            #print(\"value\",value.shape)\n",
        "\n",
        "            if len(query.shape) ==2:\n",
        "              query = query.unsqueeze(2)\n",
        "            if len(key.shape) ==2:\n",
        "              key = key.unsqueeze(2)\n",
        "            if len(value.shape) ==2:\n",
        "              value = value.unsqueeze(2)\n",
        "\n",
        "            # dot product\n",
        "            dot_prod = torch.bmm(query.transpose(1,2),key)  # 32 x seq x seq\n",
        "            #print(\"dp1\",dot_prod[0,0,:])\n",
        "            dot_prod = dot_prod / query.shape[2] # 32 x seq x seq\n",
        "            #print(\"dot product\", dot_prod.shape)\n",
        "\n",
        "            softmax_out = torch.softmax(dot_prod, dim=1)\n",
        "            #print(softmax_out[0,:,0].sum()) #== 1\n",
        "            x = torch.bmm(value,softmax_out.transpose(1,2))\n",
        "\n",
        "            x = x.reshape(self.batch_size, self.channel_size, seq).unsqueeze(3)\n",
        "            \n",
        "            #print(\"end x\", x.shape)\n",
        "            #break\n",
        "            if self.get_maps:\n",
        "              self.maps.update({count : softmax_out})\n",
        "            count+=1\n",
        "\n",
        "        ## FULLY CONNECTED ##\n",
        "        # linear layer\n",
        "        # output = final_collect_out_attn.reshape(x.shape[0], -1) # [batch_size, num_filters]\n",
        "        output = x.reshape(x.shape[0], -1) # [batch_size, num_filters]\n",
        "        # x = x.squeeze()  # [batch_size, num_filters]\n",
        "        output = self.linear1(output)  # [batch_size, output size]\n",
        "        output = self.dropout(output)\n",
        "        return output\n",
        "    \n",
        "    def dividible(self,p):\n",
        "        n=self.seq_len\n",
        "        i = 0\n",
        "        out=[]\n",
        "        while n>=p:\n",
        "            if i==0:\n",
        "                n = (n-2)//2\n",
        "               #n=n-2\n",
        "               #out.append(n-1)\n",
        "            else:\n",
        "                n = n//2\n",
        "                #out.append(n)\n",
        "            i += 1\n",
        "            out.append(n)\n",
        "        return i,out\n",
        "    \n",
        "    def getWeights_init(self):\n",
        "        weights_softmax_list = []\n",
        "        weights_attn_list = []\n",
        "        for i in range(self.num_repeat_blocks):\n",
        "            # size_repeat_blocks_list contains various seq length\n",
        "            #print('batch size', self.batch_size)\n",
        "            #print('seq len', self.size_repeat_blocks_list[i])\n",
        "            #print('channel size', self.channel_size)\n",
        "            weights_softmax_list.append(Variable(torch.randn(1,self.batch_size*1*self.size_repeat_blocks_list[i]*self.channel_size)).to(device))\n",
        "            weights_attn_list.append(Variable(torch.randn(self.attn_nodes_per_layer,1*self.size_repeat_blocks_list[i]*self.channel_size)).to(device)) # fix output features as 10\n",
        "        return weights_softmax_list,weights_attn_list\n",
        "            "
      ],
      "id": "myQdGVCufxZe",
      "execution_count": 17,
      "outputs": []
    },
    {
      "cell_type": "code",
      "metadata": {
        "id": "7Sz1FnUIgDb_"
      },
      "source": [
        "dpcnn = AttnDPCNN(32,40,768, 3, 64) # batchsize, seq len, embed dim, classes, no of filters\n",
        "dpcnn = dpcnn.to(device)\n",
        "bert = bert.to(device)"
      ],
      "id": "7Sz1FnUIgDb_",
      "execution_count": 18,
      "outputs": []
    },
    {
      "cell_type": "code",
      "metadata": {
        "id": "CXRr52J0gDuf"
      },
      "source": [
        "# optimizer from hugging face transformers\n",
        "from transformers import AdamW\n",
        "\n",
        "# define the optimizer\n",
        "#optimizer_bert = AdamW(bert.parameters(), lr = 1e-5)          # lr=learning rate\n",
        "optimizer_dpcnn = AdamW(dpcnn.parameters(), lr = 0.001)\n",
        "#scheduler_bert = torch.optim.lr_scheduler.StepLR(optimizer_bert, step_size = 2, gamma=0.8)\n",
        "scheduler_dpcnn = torch.optim.lr_scheduler.StepLR(optimizer_dpcnn, step_size = 2, gamma=0.3)"
      ],
      "id": "CXRr52J0gDuf",
      "execution_count": 19,
      "outputs": []
    },
    {
      "cell_type": "code",
      "metadata": {
        "colab": {
          "base_uri": "https://localhost:8080/"
        },
        "id": "bpEEKpjWgD6P",
        "outputId": "e673ef19-b6c9-4faa-a74a-e227a66e5bb7"
      },
      "source": [
        "\n",
        "from sklearn.utils.class_weight import compute_class_weight\n",
        "\n",
        "#compute the class weights\n",
        "class_weights = compute_class_weight('balanced', np.unique(train_labels), train_labels)\n",
        "\n",
        "print(\"Class Weights:\",class_weights)"
      ],
      "id": "bpEEKpjWgD6P",
      "execution_count": 20,
      "outputs": [
        {
          "output_type": "stream",
          "text": [
            "Class Weights: [0.53167315 1.57491932 2.06529625]\n"
          ],
          "name": "stdout"
        }
      ]
    },
    {
      "cell_type": "code",
      "metadata": {
        "id": "Zd0F4yoKv9L8"
      },
      "source": [
        "# converting list of class weights to a tensor\n",
        "weights= torch.tensor(class_weights,dtype=torch.float)\n",
        "\n",
        "# push to GPU\n",
        "weights = weights.to(device)\n",
        "\n",
        "# define the loss function\n",
        "cross_entropy  = nn.CrossEntropyLoss(weight=weights) \n",
        "\n",
        "# number of training epochs\n",
        "epochs = 20"
      ],
      "id": "Zd0F4yoKv9L8",
      "execution_count": 21,
      "outputs": []
    },
    {
      "cell_type": "code",
      "metadata": {
        "id": "oo4LP4egv9xS"
      },
      "source": [
        "# function to train the model\n",
        "def train():\n",
        "  \n",
        "  bert.train()\n",
        "  dpcnn.train()\n",
        "\n",
        "  total_loss, total_accuracy = 0, 0\n",
        "  \n",
        "  # empty list to save model predictions\n",
        "  total_preds=[]\n",
        "  \n",
        "  # iterate over batches\n",
        "  for step,batch in enumerate(train_dataloader):\n",
        "    if step == len(train_dataloader)-1:\n",
        "      dpcnn.get_maps=True\n",
        "    # progress update after every 50 batches.\n",
        "    if step % 50 == 0 and not step == 0:\n",
        "      print('  Batch {:>5,}  of  {:>5,}.'.format(step, len(train_dataloader)))\n",
        "\n",
        "    # push the batch to gpu\n",
        "    batch = [r.to(device) for r in batch]\n",
        " \n",
        "    sent_id, mask, labels = batch\n",
        "\n",
        "    # clear previously calculated gradients \n",
        "\n",
        "    #optimizer_bert.zero_grad()\n",
        "    optimizer_dpcnn.zero_grad()   \n",
        "\n",
        "    # get model predictions for the current batch\n",
        "    \n",
        "    embed = bert(sent_id, attention_mask=mask)\n",
        "    x = embed['last_hidden_state'].unsqueeze(1) # [batch_size, 1, seq_len, embedding_dim]\n",
        "    preds = dpcnn(x)\n",
        "\n",
        "    # compute the loss between actual and predicted values\n",
        "    loss = cross_entropy(preds, labels)\n",
        "\n",
        "    # add on to the total loss\n",
        "    total_loss = total_loss + loss.item()\n",
        "\n",
        "    # backward pass to calculate the gradients\n",
        "    loss.backward()\n",
        "\n",
        "    # clip the the gradients to 1.0. It helps in preventing the exploding gradient problem\n",
        "    #torch.nn.utils.clip_grad_norm_(bert.parameters(), 1.0)\n",
        "    torch.nn.utils.clip_grad_norm_(dpcnn.parameters(), 1.0)\n",
        "  \n",
        "    # update parameters\n",
        "    #optimizer_bert.step()\n",
        "    optimizer_dpcnn.step() \n",
        "\n",
        "    # model predictions are stored on GPU. So, push it to CPU\n",
        "    preds=preds.detach().cpu().numpy()\n",
        "\n",
        "    # append the model predictions\n",
        "    total_preds.append(preds)\n",
        "    \n",
        "  # compute the training loss of the epoch\n",
        "  avg_loss = total_loss / len(train_dataloader)\n",
        "  \n",
        "  # predictions are in the form of (no. of batches, size of batch, no. of classes).\n",
        "  # reshape the predictions in form of (number of samples, no. of classes)\n",
        "  total_preds  = np.concatenate(total_preds, axis=0)\n",
        "\n",
        "  #returns the loss and predictions\n",
        "  return avg_loss, total_preds"
      ],
      "id": "oo4LP4egv9xS",
      "execution_count": 22,
      "outputs": []
    },
    {
      "cell_type": "code",
      "metadata": {
        "id": "1wMHjrhtv966"
      },
      "source": [
        "# function for evaluating the model\n",
        "def evaluate():\n",
        "  \n",
        "  print(\"\\nEvaluating...\")\n",
        "  t0 = time.time()\n",
        "  # deactivate dropout layers\n",
        "  #model.eval() replace below?\n",
        "  bert.eval()\n",
        "  dpcnn.eval()\n",
        "\n",
        "  total_loss, total_accuracy = 0, 0\n",
        "  \n",
        "  # empty list to save the model predictions\n",
        "  total_preds = []\n",
        "\n",
        "  # iterate over batches\n",
        "  for step,batch in enumerate(val_dataloader):\n",
        "    \n",
        "    # Progress update every 50 batches.\n",
        "    if step % 50 == 0 and not step == 0:\n",
        "      \n",
        "      # Calculate elapsed time in minutes.\n",
        "      elapsed = time.time() - t0\n",
        "            \n",
        "      # Report progress.\n",
        "      print('  Batch {:>5,}  of  {:>5,}.'.format(step, len(val_dataloader)))\n",
        "\n",
        "    # push the batch to gpu\n",
        "    batch = [t.to(device) for t in batch]\n",
        "\n",
        "    sent_id, mask, labels = batch\n",
        "\n",
        "    # deactivate autograd\n",
        "    with torch.no_grad():\n",
        "      \n",
        "      # model predictions\n",
        "      embed = bert(sent_id, attention_mask=mask)\n",
        "      x = embed['last_hidden_state'].unsqueeze(1) # [batch_size, 1, seq_len, embedding_dim]\n",
        "      preds = dpcnn(x)\n",
        "\n",
        "      # compute the validation loss between actual and predicted values\n",
        "      loss = cross_entropy(preds,labels)\n",
        "\n",
        "      total_loss = total_loss + loss.item()\n",
        "\n",
        "      preds = preds.detach().cpu().numpy()\n",
        "\n",
        "      total_preds.append(preds)\n",
        "\n",
        "  # compute the validation loss of the epoch\n",
        "  avg_loss = total_loss / len(val_dataloader) \n",
        "\n",
        "  # reshape the predictions in form of (number of samples, no. of classes)\n",
        "  total_preds  = np.concatenate(total_preds, axis=0)\n",
        "\n",
        "  return avg_loss, total_preds"
      ],
      "id": "1wMHjrhtv966",
      "execution_count": 23,
      "outputs": []
    },
    {
      "cell_type": "code",
      "metadata": {
        "id": "gNb5Sroq4Kt4"
      },
      "source": [
        "#print(model.num_repeat_blocks)\n",
        "#print(model.size_repeat_blocks_list)"
      ],
      "id": "gNb5Sroq4Kt4",
      "execution_count": 24,
      "outputs": []
    },
    {
      "cell_type": "code",
      "metadata": {
        "colab": {
          "base_uri": "https://localhost:8080/"
        },
        "id": "jMS0f0EK0uN-",
        "outputId": "ff28daf7-93e9-44b5-e626-dc1d445cd950"
      },
      "source": [
        "# set initial loss to infinite\n",
        "best_valid_loss = float('inf')\n",
        "\n",
        "# empty lists to store training and validation loss of each epoch\n",
        "train_losses=[]\n",
        "valid_losses=[]\n",
        "\n",
        "\n",
        "#for each epoch\n",
        "for epoch in range(1, epochs+1):\n",
        "\n",
        "    print('\\n Epoch {:} / {:}'.format(epoch, epochs))\n",
        "    \n",
        "    #train model\n",
        "    train_loss, _ = train()\n",
        "    \n",
        "    #evaluate model\n",
        "    valid_loss, _ = evaluate()\n",
        "\n",
        "    #scheduler_bert.step()\n",
        "    scheduler_dpcnn.step()\n",
        "    \n",
        "    #save the best model\n",
        "    #if valid_loss < best_valid_loss:\n",
        "    #    best_valid_loss = valid_loss\n",
        "    #    torch.save(bert.state_dict(), 'bert_saved_weights.pt')\n",
        "    #    torch.save(dpcnn.state_dict(), 'dpcnn_saved_weights.pt')\n",
        "    \n",
        "    # append training and validation loss\n",
        "    train_losses.append(train_loss)\n",
        "    valid_losses.append(valid_loss)\n",
        "  \n",
        "    print(f'\\nTraining Loss: {train_loss:.3f}')\n",
        "    print(f'Validation Loss: {valid_loss:.3f}')\n",
        "    #break"
      ],
      "id": "jMS0f0EK0uN-",
      "execution_count": 25,
      "outputs": [
        {
          "output_type": "stream",
          "text": [
            "\n",
            " Epoch 1 / 20\n",
            "  Batch    50  of    320.\n",
            "  Batch   100  of    320.\n",
            "  Batch   150  of    320.\n",
            "  Batch   200  of    320.\n",
            "  Batch   250  of    320.\n",
            "  Batch   300  of    320.\n",
            "\n",
            "Evaluating...\n",
            "  Batch    50  of     68.\n",
            "\n",
            "Training Loss: 0.767\n",
            "Validation Loss: 0.596\n",
            "\n",
            " Epoch 2 / 20\n",
            "  Batch    50  of    320.\n",
            "  Batch   100  of    320.\n",
            "  Batch   150  of    320.\n",
            "  Batch   200  of    320.\n",
            "  Batch   250  of    320.\n",
            "  Batch   300  of    320.\n",
            "\n",
            "Evaluating...\n",
            "  Batch    50  of     68.\n",
            "\n",
            "Training Loss: 0.650\n",
            "Validation Loss: 0.574\n",
            "\n",
            " Epoch 3 / 20\n",
            "  Batch    50  of    320.\n",
            "  Batch   100  of    320.\n",
            "  Batch   150  of    320.\n",
            "  Batch   200  of    320.\n",
            "  Batch   250  of    320.\n",
            "  Batch   300  of    320.\n",
            "\n",
            "Evaluating...\n",
            "  Batch    50  of     68.\n",
            "\n",
            "Training Loss: 0.580\n",
            "Validation Loss: 0.564\n",
            "\n",
            " Epoch 4 / 20\n",
            "  Batch    50  of    320.\n",
            "  Batch   100  of    320.\n",
            "  Batch   150  of    320.\n",
            "  Batch   200  of    320.\n",
            "  Batch   250  of    320.\n",
            "  Batch   300  of    320.\n",
            "\n",
            "Evaluating...\n",
            "  Batch    50  of     68.\n",
            "\n",
            "Training Loss: 0.575\n",
            "Validation Loss: 0.545\n",
            "\n",
            " Epoch 5 / 20\n",
            "  Batch    50  of    320.\n",
            "  Batch   100  of    320.\n",
            "  Batch   150  of    320.\n",
            "  Batch   200  of    320.\n",
            "  Batch   250  of    320.\n",
            "  Batch   300  of    320.\n",
            "\n",
            "Evaluating...\n",
            "  Batch    50  of     68.\n",
            "\n",
            "Training Loss: 0.541\n",
            "Validation Loss: 0.553\n",
            "\n",
            " Epoch 6 / 20\n",
            "  Batch    50  of    320.\n",
            "  Batch   100  of    320.\n",
            "  Batch   150  of    320.\n",
            "  Batch   200  of    320.\n",
            "  Batch   250  of    320.\n",
            "  Batch   300  of    320.\n",
            "\n",
            "Evaluating...\n",
            "  Batch    50  of     68.\n",
            "\n",
            "Training Loss: 0.544\n",
            "Validation Loss: 0.556\n",
            "\n",
            " Epoch 7 / 20\n",
            "  Batch    50  of    320.\n",
            "  Batch   100  of    320.\n",
            "  Batch   150  of    320.\n",
            "  Batch   200  of    320.\n",
            "  Batch   250  of    320.\n",
            "  Batch   300  of    320.\n",
            "\n",
            "Evaluating...\n",
            "  Batch    50  of     68.\n",
            "\n",
            "Training Loss: 0.526\n",
            "Validation Loss: 0.553\n",
            "\n",
            " Epoch 8 / 20\n",
            "  Batch    50  of    320.\n",
            "  Batch   100  of    320.\n",
            "  Batch   150  of    320.\n",
            "  Batch   200  of    320.\n",
            "  Batch   250  of    320.\n",
            "  Batch   300  of    320.\n",
            "\n",
            "Evaluating...\n",
            "  Batch    50  of     68.\n",
            "\n",
            "Training Loss: 0.527\n",
            "Validation Loss: 0.555\n",
            "\n",
            " Epoch 9 / 20\n",
            "  Batch    50  of    320.\n",
            "  Batch   100  of    320.\n",
            "  Batch   150  of    320.\n",
            "  Batch   200  of    320.\n",
            "  Batch   250  of    320.\n",
            "  Batch   300  of    320.\n",
            "\n",
            "Evaluating...\n",
            "  Batch    50  of     68.\n",
            "\n",
            "Training Loss: 0.520\n",
            "Validation Loss: 0.554\n",
            "\n",
            " Epoch 10 / 20\n",
            "  Batch    50  of    320.\n",
            "  Batch   100  of    320.\n",
            "  Batch   150  of    320.\n",
            "  Batch   200  of    320.\n",
            "  Batch   250  of    320.\n",
            "  Batch   300  of    320.\n",
            "\n",
            "Evaluating...\n",
            "  Batch    50  of     68.\n",
            "\n",
            "Training Loss: 0.520\n",
            "Validation Loss: 0.554\n",
            "\n",
            " Epoch 11 / 20\n",
            "  Batch    50  of    320.\n",
            "  Batch   100  of    320.\n",
            "  Batch   150  of    320.\n",
            "  Batch   200  of    320.\n",
            "  Batch   250  of    320.\n",
            "  Batch   300  of    320.\n",
            "\n",
            "Evaluating...\n",
            "  Batch    50  of     68.\n",
            "\n",
            "Training Loss: 0.521\n",
            "Validation Loss: 0.555\n",
            "\n",
            " Epoch 12 / 20\n",
            "  Batch    50  of    320.\n",
            "  Batch   100  of    320.\n",
            "  Batch   150  of    320.\n",
            "  Batch   200  of    320.\n",
            "  Batch   250  of    320.\n",
            "  Batch   300  of    320.\n",
            "\n",
            "Evaluating...\n",
            "  Batch    50  of     68.\n",
            "\n",
            "Training Loss: 0.521\n",
            "Validation Loss: 0.555\n",
            "\n",
            " Epoch 13 / 20\n",
            "  Batch    50  of    320.\n",
            "  Batch   100  of    320.\n",
            "  Batch   150  of    320.\n",
            "  Batch   200  of    320.\n",
            "  Batch   250  of    320.\n",
            "  Batch   300  of    320.\n",
            "\n",
            "Evaluating...\n",
            "  Batch    50  of     68.\n",
            "\n",
            "Training Loss: 0.523\n",
            "Validation Loss: 0.555\n",
            "\n",
            " Epoch 14 / 20\n",
            "  Batch    50  of    320.\n",
            "  Batch   100  of    320.\n",
            "  Batch   150  of    320.\n",
            "  Batch   200  of    320.\n",
            "  Batch   250  of    320.\n",
            "  Batch   300  of    320.\n",
            "\n",
            "Evaluating...\n",
            "  Batch    50  of     68.\n",
            "\n",
            "Training Loss: 0.522\n",
            "Validation Loss: 0.555\n",
            "\n",
            " Epoch 15 / 20\n",
            "  Batch    50  of    320.\n",
            "  Batch   100  of    320.\n",
            "  Batch   150  of    320.\n",
            "  Batch   200  of    320.\n",
            "  Batch   250  of    320.\n",
            "  Batch   300  of    320.\n",
            "\n",
            "Evaluating...\n",
            "  Batch    50  of     68.\n",
            "\n",
            "Training Loss: 0.524\n",
            "Validation Loss: 0.555\n",
            "\n",
            " Epoch 16 / 20\n",
            "  Batch    50  of    320.\n",
            "  Batch   100  of    320.\n",
            "  Batch   150  of    320.\n",
            "  Batch   200  of    320.\n",
            "  Batch   250  of    320.\n",
            "  Batch   300  of    320.\n",
            "\n",
            "Evaluating...\n",
            "  Batch    50  of     68.\n",
            "\n",
            "Training Loss: 0.515\n",
            "Validation Loss: 0.555\n",
            "\n",
            " Epoch 17 / 20\n",
            "  Batch    50  of    320.\n",
            "  Batch   100  of    320.\n",
            "  Batch   150  of    320.\n",
            "  Batch   200  of    320.\n",
            "  Batch   250  of    320.\n",
            "  Batch   300  of    320.\n",
            "\n",
            "Evaluating...\n",
            "  Batch    50  of     68.\n",
            "\n",
            "Training Loss: 0.518\n",
            "Validation Loss: 0.555\n",
            "\n",
            " Epoch 18 / 20\n",
            "  Batch    50  of    320.\n",
            "  Batch   100  of    320.\n",
            "  Batch   150  of    320.\n",
            "  Batch   200  of    320.\n",
            "  Batch   250  of    320.\n",
            "  Batch   300  of    320.\n",
            "\n",
            "Evaluating...\n",
            "  Batch    50  of     68.\n",
            "\n",
            "Training Loss: 0.517\n",
            "Validation Loss: 0.555\n",
            "\n",
            " Epoch 19 / 20\n",
            "  Batch    50  of    320.\n",
            "  Batch   100  of    320.\n",
            "  Batch   150  of    320.\n",
            "  Batch   200  of    320.\n",
            "  Batch   250  of    320.\n",
            "  Batch   300  of    320.\n",
            "\n",
            "Evaluating...\n",
            "  Batch    50  of     68.\n",
            "\n",
            "Training Loss: 0.514\n",
            "Validation Loss: 0.555\n",
            "\n",
            " Epoch 20 / 20\n",
            "  Batch    50  of    320.\n",
            "  Batch   100  of    320.\n",
            "  Batch   150  of    320.\n",
            "  Batch   200  of    320.\n",
            "  Batch   250  of    320.\n",
            "  Batch   300  of    320.\n",
            "\n",
            "Evaluating...\n",
            "  Batch    50  of     68.\n",
            "\n",
            "Training Loss: 0.513\n",
            "Validation Loss: 0.555\n"
          ],
          "name": "stdout"
        }
      ]
    },
    {
      "cell_type": "markdown",
      "metadata": {
        "id": "35jFhznsFjeE"
      },
      "source": [
        "TEST"
      ],
      "id": "35jFhznsFjeE"
    },
    {
      "cell_type": "code",
      "metadata": {
        "id": "k4H1U-OH0u4u"
      },
      "source": [
        "# function for evaluating the model\n",
        "def test():\n",
        "  \n",
        "  print(\"\\nEvaluating...\")\n",
        "  t0 = time.time()\n",
        "  # deactivate dropout layers\n",
        "  #model.eval() replace below?\n",
        "\n",
        "  #load weights of best model\n",
        "  #bpath = 'bert_saved_weights.pt'\n",
        "  #bert.load_state_dict(bert.load(bpath))\n",
        "\n",
        "  bert.eval()\n",
        "  dpcnn.eval()\n",
        "\n",
        "  total_loss, total_accuracy = 0, 0\n",
        "  \n",
        "  # empty list to save the model predictions\n",
        "  total_preds = []\n",
        "  total_targets = []\n",
        "  # iterate over batches\n",
        "  for step,batch in enumerate(test_dataloader):\n",
        "    if step == len(test_dataloader)-1:\n",
        "      dpcnn.get_maps=True \n",
        "    # Progress update every 50 batches.\n",
        "    if step % 50 == 0 and not step == 0:\n",
        "      \n",
        "      # Calculate elapsed time in minutes.\n",
        "      elapsed = time.time() - t0\n",
        "            \n",
        "      # Report progress.\n",
        "      print('  Batch {:>5,}  of  {:>5,}.'.format(step, len(test_dataloader)))\n",
        "\n",
        "    # push the batch to gpu\n",
        "    batch = [t.to(device) for t in batch]\n",
        "\n",
        "    sent_id, mask, labels = batch\n",
        "\n",
        "    # deactivate autograd\n",
        "    with torch.no_grad():\n",
        "      \n",
        "      # model predictions\n",
        "      embed = bert(sent_id, attention_mask=mask)\n",
        "      x = embed['last_hidden_state'].unsqueeze(1) # [batch_size, 1, seq_len, embedding_dim]\n",
        "      preds = dpcnn(x)\n",
        "\n",
        "      # compute the validation loss between actual and predicted values\n",
        "      loss = cross_entropy(preds,labels)\n",
        "\n",
        "      total_loss = total_loss + loss.item()\n",
        "\n",
        "      preds = preds.detach().cpu()\n",
        "      labels = labels.detach().cpu()\n",
        "\n",
        "      total_preds.append(preds.numpy())\n",
        "      total_targets.append(labels.numpy())\n",
        "  # compute the validation loss of the epoch\n",
        "  avg_loss = total_loss / len(test_dataloader) \n",
        "\n",
        "  # reshape the predictions in form of (number of samples, no. of classes)\n",
        "  total_preds  = np.concatenate(total_preds, axis=0)\n",
        "  total_targets = np.concatenate(total_targets, axis=0)\n",
        "\n",
        "  return avg_loss, total_preds, total_targets"
      ],
      "id": "k4H1U-OH0u4u",
      "execution_count": 26,
      "outputs": []
    },
    {
      "cell_type": "code",
      "metadata": {
        "id": "Lta77CwxFTzF"
      },
      "source": [
        "#load weights of best model\n",
        "#bpath = 'bert_saved_weights.pt'\n",
        "#bert.load_state_dict(bert.load(bpath))\n",
        "#load weights of best model\n",
        "#dpath = 'dpcnn_saved_weights.pt'\n",
        "#dpcnn.load_state_dict(dpcnn.load(dpath))"
      ],
      "id": "Lta77CwxFTzF",
      "execution_count": 27,
      "outputs": []
    },
    {
      "cell_type": "code",
      "metadata": {
        "id": "g2KzqQVS4Aro",
        "colab": {
          "base_uri": "https://localhost:8080/"
        },
        "outputId": "bfb42112-0e79-4a34-a0bd-e85a520a566e"
      },
      "source": [
        "test_loss, test_preds, test_targets = test()\n",
        "print(f'Test Loss: {test_loss:.3f}')"
      ],
      "id": "g2KzqQVS4Aro",
      "execution_count": 28,
      "outputs": [
        {
          "output_type": "stream",
          "text": [
            "\n",
            "Evaluating...\n",
            "  Batch    50  of     68.\n",
            "Test Loss: 0.586\n"
          ],
          "name": "stdout"
        }
      ]
    },
    {
      "cell_type": "code",
      "metadata": {
        "id": "oGeUQF3F0viG",
        "colab": {
          "base_uri": "https://localhost:8080/"
        },
        "outputId": "37878c68-f4e4-4bbb-e57f-28e88c748287"
      },
      "source": [
        "test_preds_classes = np.argmax(test_preds, axis = 1)\n",
        "print(classification_report(test_targets, test_preds_classes))"
      ],
      "id": "oGeUQF3F0viG",
      "execution_count": 29,
      "outputs": [
        {
          "output_type": "stream",
          "text": [
            "              precision    recall  f1-score   support\n",
            "\n",
            "           0       0.93      0.79      0.85      1368\n",
            "           1       0.54      0.71      0.62       457\n",
            "           2       0.69      0.81      0.75       351\n",
            "\n",
            "    accuracy                           0.78      2176\n",
            "   macro avg       0.72      0.77      0.74      2176\n",
            "weighted avg       0.81      0.78      0.79      2176\n",
            "\n"
          ],
          "name": "stdout"
        }
      ]
    },
    {
      "cell_type": "code",
      "metadata": {
        "id": "tyJMgmgJ0v_2",
        "colab": {
          "base_uri": "https://localhost:8080/"
        },
        "outputId": "bd6b762a-37f3-472b-d205-db01cba1acf3"
      },
      "source": [
        "# Get confusion matrix\n",
        "from sklearn.metrics import confusion_matrix\n",
        "cf = confusion_matrix(test_targets, test_preds_classes)\n",
        "cf #cf[actu][pred]\n",
        "# pred 0 1 2 3\n",
        "# actu\n",
        "# 0\n",
        "# 1\n",
        "# 2\n",
        "# 3"
      ],
      "id": "tyJMgmgJ0v_2",
      "execution_count": 30,
      "outputs": [
        {
          "output_type": "execute_result",
          "data": {
            "text/plain": [
              "array([[1079,  228,   61],\n",
              "       [  64,  325,   68],\n",
              "       [  20,   45,  286]])"
            ]
          },
          "metadata": {
            "tags": []
          },
          "execution_count": 30
        }
      ]
    },
    {
      "cell_type": "code",
      "metadata": {
        "id": "u2vzhlfz0wM9"
      },
      "source": [
        "import matplotlib.pyplot as plt # we only need pyplot\n",
        "import matplotlib.cm as cm\n",
        "import matplotlib\n",
        "\n",
        "# Get components of actual labels\n",
        "def getPredictionOfActualLabels(cf,actual_label,angle=45):\n",
        "    sizes = []\n",
        "    # cf[actual-1][predicted-1]\n",
        "    #pa1 = cf[actual_label-1][0]\n",
        "    #pa2 = cf[actual_label-1][1]\n",
        "    #pa3 = cf[actual_label-1][2]\n",
        "    #pa4 = cf[actual_label-1][3]\n",
        "    #pa5 = cf[actual_label-1][4]\n",
        "    \n",
        "    for i in range(3):\n",
        "        sizes.append(cf[actual_label][i])\n",
        "    \n",
        "    # Data to plot\n",
        "    labels = ['negative', 'neutral', 'positive']\n",
        "    #sizes = [p[0], p[1], p[2], p[3]]\n",
        "    colors = ['lightskyblue', 'yellowgreen', 'lightcoral']\n",
        "\n",
        "    # Plot\n",
        "    plt.pie(sizes, labels=labels, colors=colors, autopct='%1.0f%%', shadow=False, startangle=angle, textprops={'fontsize': 14})\n",
        "    plt.title(\"Predictions of Ratings with actual labels as \"+labels[actual_label],fontsize=20)\n",
        "    #matplotlib.rcParams['text.color'] = 'white'\n",
        "\n",
        "    plt.axis('equal')\n",
        "    plt.show()\n",
        "\n",
        "\n",
        "  # Get components of predictions\n",
        "def getActualLabelsOfPredictions(cf,pred_label,angle=45):\n",
        "    sizes = []\n",
        "    # cf[actual-1][predicted-1]\n",
        "    #pa1 = cf[actual_label-1][0]\n",
        "    #pa2 = cf[actual_label-1][1]\n",
        "    #pa3 = cf[actual_label-1][2]\n",
        "    #pa4 = cf[actual_label-1][3]\n",
        "    #pa5 = cf[actual_label-1][4]\n",
        "    \n",
        "    for i in range(3):\n",
        "        sizes.append(cf[i][pred_label])\n",
        "    \n",
        "    # Data to plot\n",
        "    labels = ['negative', 'neutral', 'positive']\n",
        "    #sizes = [p[0], p[1], p[2], p[3]]\n",
        "    colors = ['lightskyblue', 'yellowgreen', 'lightcoral']\n",
        "\n",
        "    # Plot\n",
        "    plt.pie(sizes, labels=labels, colors=colors, autopct='%1.0f%%', shadow=False, startangle=angle, textprops={'fontsize': 14})\n",
        "    plt.title(\"Actual Labels of Ratings predicted as \"+labels[pred_label],fontsize=20)\n",
        "    #matplotlib.rcParams['text.color'] = 'white'\n",
        "\n",
        "    plt.axis('equal')\n",
        "    plt.show()"
      ],
      "id": "u2vzhlfz0wM9",
      "execution_count": 31,
      "outputs": []
    },
    {
      "cell_type": "code",
      "metadata": {
        "id": "il77JAIsv-C4",
        "colab": {
          "base_uri": "https://localhost:8080/",
          "height": 269
        },
        "outputId": "6686aefb-7ebd-4eba-d785-44b106a4c5c9"
      },
      "source": [
        "getPredictionOfActualLabels(cf,0,angle=45)\n"
      ],
      "id": "il77JAIsv-C4",
      "execution_count": 32,
      "outputs": [
        {
          "output_type": "display_data",
          "data": {
            "image/png": "[encoded data removed]",
            "text/plain": [
              "<Figure size 432x288 with 1 Axes>"
            ]
          },
          "metadata": {
            "tags": []
          }
        }
      ]
    },
    {
      "cell_type": "code",
      "metadata": {
        "colab": {
          "base_uri": "https://localhost:8080/",
          "height": 269
        },
        "id": "FmM8Z7a7Ml8t",
        "outputId": "2a8c59bd-8717-4fea-d098-5a302d217b6c"
      },
      "source": [
        "getPredictionOfActualLabels(cf,1,angle=45)"
      ],
      "id": "FmM8Z7a7Ml8t",
      "execution_count": 33,
      "outputs": [
        {
          "output_type": "display_data",
          "data": {
            "image/png": "[encoded data removed]",
            "text/plain": [
              "<Figure size 432x288 with 1 Axes>"
            ]
          },
          "metadata": {
            "tags": []
          }
        }
      ]
    },
    {
      "cell_type": "code",
      "metadata": {
        "colab": {
          "base_uri": "https://localhost:8080/",
          "height": 274
        },
        "id": "Q-KFHb2UM_Y9",
        "outputId": "c2a1179e-0f91-43ae-dfe9-0009628044fc"
      },
      "source": [
        "getPredictionOfActualLabels(cf,2,angle=45)"
      ],
      "id": "Q-KFHb2UM_Y9",
      "execution_count": 34,
      "outputs": [
        {
          "output_type": "display_data",
          "data": {
            "image/png": "[encoded data removed]",
            "text/plain": [
              "<Figure size 432x288 with 1 Axes>"
            ]
          },
          "metadata": {
            "tags": []
          }
        }
      ]
    },
    {
      "cell_type": "code",
      "metadata": {
        "id": "-uLu9urQhZXw"
      },
      "source": [],
      "id": "-uLu9urQhZXw",
      "execution_count": 34,
      "outputs": []
    },
    {
      "cell_type": "code",
      "metadata": {
        "colab": {
          "base_uri": "https://localhost:8080/",
          "height": 269
        },
        "id": "HLR9NA_JhZM-",
        "outputId": "e1a0e515-a50c-44dc-9a15-4182239ce8bc"
      },
      "source": [
        "getActualLabelsOfPredictions(cf,0,angle=45)"
      ],
      "id": "HLR9NA_JhZM-",
      "execution_count": 35,
      "outputs": [
        {
          "output_type": "display_data",
          "data": {
            "image/png": "[encoded data removed]",
            "text/plain": [
              "<Figure size 432x288 with 1 Axes>"
            ]
          },
          "metadata": {
            "tags": []
          }
        }
      ]
    },
    {
      "cell_type": "code",
      "metadata": {
        "colab": {
          "base_uri": "https://localhost:8080/",
          "height": 274
        },
        "id": "oDDf-jH1hZCE",
        "outputId": "89220717-1636-431a-940f-2fb4b5312a6c"
      },
      "source": [
        "getActualLabelsOfPredictions(cf,1,angle=45)"
      ],
      "id": "oDDf-jH1hZCE",
      "execution_count": 36,
      "outputs": [
        {
          "output_type": "display_data",
          "data": {
            "image/png": "[encoded data removed]",
            "text/plain": [
              "<Figure size 432x288 with 1 Axes>"
            ]
          },
          "metadata": {
            "tags": []
          }
        }
      ]
    },
    {
      "cell_type": "code",
      "metadata": {
        "colab": {
          "base_uri": "https://localhost:8080/",
          "height": 273
        },
        "id": "u9uSQm55hY12",
        "outputId": "8c3cd55e-a11c-4016-ca89-20f332bd5a51"
      },
      "source": [
        "getActualLabelsOfPredictions(cf,2,angle=45)"
      ],
      "id": "u9uSQm55hY12",
      "execution_count": 37,
      "outputs": [
        {
          "output_type": "display_data",
          "data": {
            "image/png": "[encoded data removed]",
            "text/plain": [
              "<Figure size 432x288 with 1 Axes>"
            ]
          },
          "metadata": {
            "tags": []
          }
        }
      ]
    },
    {
      "cell_type": "code",
      "metadata": {
        "id": "UMXfwzbYhea0"
      },
      "source": [],
      "id": "UMXfwzbYhea0",
      "execution_count": null,
      "outputs": []
    },
    {
      "cell_type": "code",
      "metadata": {
        "id": "Af-V7xQ0NS4M"
      },
      "source": [
        "import pickle\n",
        "\n",
        "filenamedpcnn = '/content/drive/My Drive/content/BertAttnsDPCNN_selfattention_False_Tweet_Exp3dpcnn.pkl'\n",
        "filenamebert = '/content/drive/My Drive/content/BertAttnsDPCNN_selfattention_False_Tweet_Exp3bert.pkl'\n",
        "pickle.dump(bert, open(filenamebert, 'wb'))\n",
        "pickle.dump(dpcnn, open(filenamedpcnn, 'wb'))"
      ],
      "id": "Af-V7xQ0NS4M",
      "execution_count": 38,
      "outputs": []
    },
    {
      "cell_type": "code",
      "metadata": {
        "id": "oyfElblYLt37"
      },
      "source": [],
      "id": "oyfElblYLt37",
      "execution_count": null,
      "outputs": []
    },
    {
      "cell_type": "code",
      "metadata": {
        "colab": {
          "base_uri": "https://localhost:8080/"
        },
        "id": "yXqeA-_0Lved",
        "outputId": "0d686e5b-a45e-40cd-ecda-2436f0d2ab76"
      },
      "source": [
        "map = dpcnn.maps[0]\n",
        "map.shape"
      ],
      "id": "yXqeA-_0Lved",
      "execution_count": 39,
      "outputs": [
        {
          "output_type": "execute_result",
          "data": {
            "text/plain": [
              "torch.Size([32, 11, 11])"
            ]
          },
          "metadata": {
            "tags": []
          },
          "execution_count": 39
        }
      ]
    },
    {
      "cell_type": "code",
      "metadata": {
        "id": "9W4ag0EzMY8V"
      },
      "source": [],
      "id": "9W4ag0EzMY8V",
      "execution_count": null,
      "outputs": []
    }
  ]
}