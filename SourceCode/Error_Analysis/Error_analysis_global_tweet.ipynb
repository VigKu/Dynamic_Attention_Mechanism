{
  "nbformat": 4,
  "nbformat_minor": 5,
  "metadata": {
    "accelerator": "GPU",
    "colab": {
      "name": "Error_analysis_global_tweet.ipynb",
      "provenance": [],
      "collapsed_sections": []
    },
    "kernelspec": {
      "display_name": "Python 3",
      "language": "python",
      "name": "python3"
    },
    "language_info": {
      "codemirror_mode": {
        "name": "ipython",
        "version": 3
      },
      "file_extension": ".py",
      "mimetype": "text/x-python",
      "name": "python",
      "nbconvert_exporter": "python",
      "pygments_lexer": "ipython3",
      "version": "3.9.2"
    },
    "widgets": {
      "application/vnd.jupyter.widget-state+json": {
        "bb9de9edc03e42d1bb99bb02334a2efb": {
          "model_module": "@jupyter-widgets/controls",
          "model_name": "HBoxModel",
          "state": {
            "_view_name": "HBoxView",
            "_dom_classes": [],
            "_model_name": "HBoxModel",
            "_view_module": "@jupyter-widgets/controls",
            "_model_module_version": "1.5.0",
            "_view_count": null,
            "_view_module_version": "1.5.0",
            "box_style": "",
            "layout": "IPY_MODEL_c4ac2d03bf904511b4fba58f1f82abb8",
            "_model_module": "@jupyter-widgets/controls",
            "children": [
              "IPY_MODEL_d09ca2c008334b38bfea73493c2713b0",
              "IPY_MODEL_bdc39c2305ba4a18abeb0365d5c601f3"
            ]
          }
        },
        "c4ac2d03bf904511b4fba58f1f82abb8": {
          "model_module": "@jupyter-widgets/base",
          "model_name": "LayoutModel",
          "state": {
            "_view_name": "LayoutView",
            "grid_template_rows": null,
            "right": null,
            "justify_content": null,
            "_view_module": "@jupyter-widgets/base",
            "overflow": null,
            "_model_module_version": "1.2.0",
            "_view_count": null,
            "flex_flow": null,
            "width": null,
            "min_width": null,
            "border": null,
            "align_items": null,
            "bottom": null,
            "_model_module": "@jupyter-widgets/base",
            "top": null,
            "grid_column": null,
            "overflow_y": null,
            "overflow_x": null,
            "grid_auto_flow": null,
            "grid_area": null,
            "grid_template_columns": null,
            "flex": null,
            "_model_name": "LayoutModel",
            "justify_items": null,
            "grid_row": null,
            "max_height": null,
            "align_content": null,
            "visibility": null,
            "align_self": null,
            "height": null,
            "min_height": null,
            "padding": null,
            "grid_auto_rows": null,
            "grid_gap": null,
            "max_width": null,
            "order": null,
            "_view_module_version": "1.2.0",
            "grid_template_areas": null,
            "object_position": null,
            "object_fit": null,
            "grid_auto_columns": null,
            "margin": null,
            "display": null,
            "left": null
          }
        },
        "d09ca2c008334b38bfea73493c2713b0": {
          "model_module": "@jupyter-widgets/controls",
          "model_name": "FloatProgressModel",
          "state": {
            "_view_name": "ProgressView",
            "style": "IPY_MODEL_7b3e29544e7641209ec7d84c4ecb1f02",
            "_dom_classes": [],
            "description": "Downloading: 100%",
            "_model_name": "FloatProgressModel",
            "bar_style": "success",
            "max": 231508,
            "_view_module": "@jupyter-widgets/controls",
            "_model_module_version": "1.5.0",
            "value": 231508,
            "_view_count": null,
            "_view_module_version": "1.5.0",
            "orientation": "horizontal",
            "min": 0,
            "description_tooltip": null,
            "_model_module": "@jupyter-widgets/controls",
            "layout": "IPY_MODEL_d42401a449264fbfb96414dbb3ad70e9"
          }
        },
        "bdc39c2305ba4a18abeb0365d5c601f3": {
          "model_module": "@jupyter-widgets/controls",
          "model_name": "HTMLModel",
          "state": {
            "_view_name": "HTMLView",
            "style": "IPY_MODEL_3ce9e18a890e4f978fce854e63fca533",
            "_dom_classes": [],
            "description": "",
            "_model_name": "HTMLModel",
            "placeholder": "​",
            "_view_module": "@jupyter-widgets/controls",
            "_model_module_version": "1.5.0",
            "value": " 232k/232k [00:01&lt;00:00, 174kB/s]",
            "_view_count": null,
            "_view_module_version": "1.5.0",
            "description_tooltip": null,
            "_model_module": "@jupyter-widgets/controls",
            "layout": "IPY_MODEL_fc5d9ecc2a3f4387b8904ee784998bba"
          }
        },
        "7b3e29544e7641209ec7d84c4ecb1f02": {
          "model_module": "@jupyter-widgets/controls",
          "model_name": "ProgressStyleModel",
          "state": {
            "_view_name": "StyleView",
            "_model_name": "ProgressStyleModel",
            "description_width": "initial",
            "_view_module": "@jupyter-widgets/base",
            "_model_module_version": "1.5.0",
            "_view_count": null,
            "_view_module_version": "1.2.0",
            "bar_color": null,
            "_model_module": "@jupyter-widgets/controls"
          }
        },
        "d42401a449264fbfb96414dbb3ad70e9": {
          "model_module": "@jupyter-widgets/base",
          "model_name": "LayoutModel",
          "state": {
            "_view_name": "LayoutView",
            "grid_template_rows": null,
            "right": null,
            "justify_content": null,
            "_view_module": "@jupyter-widgets/base",
            "overflow": null,
            "_model_module_version": "1.2.0",
            "_view_count": null,
            "flex_flow": null,
            "width": null,
            "min_width": null,
            "border": null,
            "align_items": null,
            "bottom": null,
            "_model_module": "@jupyter-widgets/base",
            "top": null,
            "grid_column": null,
            "overflow_y": null,
            "overflow_x": null,
            "grid_auto_flow": null,
            "grid_area": null,
            "grid_template_columns": null,
            "flex": null,
            "_model_name": "LayoutModel",
            "justify_items": null,
            "grid_row": null,
            "max_height": null,
            "align_content": null,
            "visibility": null,
            "align_self": null,
            "height": null,
            "min_height": null,
            "padding": null,
            "grid_auto_rows": null,
            "grid_gap": null,
            "max_width": null,
            "order": null,
            "_view_module_version": "1.2.0",
            "grid_template_areas": null,
            "object_position": null,
            "object_fit": null,
            "grid_auto_columns": null,
            "margin": null,
            "display": null,
            "left": null
          }
        },
        "3ce9e18a890e4f978fce854e63fca533": {
          "model_module": "@jupyter-widgets/controls",
          "model_name": "DescriptionStyleModel",
          "state": {
            "_view_name": "StyleView",
            "_model_name": "DescriptionStyleModel",
            "description_width": "",
            "_view_module": "@jupyter-widgets/base",
            "_model_module_version": "1.5.0",
            "_view_count": null,
            "_view_module_version": "1.2.0",
            "_model_module": "@jupyter-widgets/controls"
          }
        },
        "fc5d9ecc2a3f4387b8904ee784998bba": {
          "model_module": "@jupyter-widgets/base",
          "model_name": "LayoutModel",
          "state": {
            "_view_name": "LayoutView",
            "grid_template_rows": null,
            "right": null,
            "justify_content": null,
            "_view_module": "@jupyter-widgets/base",
            "overflow": null,
            "_model_module_version": "1.2.0",
            "_view_count": null,
            "flex_flow": null,
            "width": null,
            "min_width": null,
            "border": null,
            "align_items": null,
            "bottom": null,
            "_model_module": "@jupyter-widgets/base",
            "top": null,
            "grid_column": null,
            "overflow_y": null,
            "overflow_x": null,
            "grid_auto_flow": null,
            "grid_area": null,
            "grid_template_columns": null,
            "flex": null,
            "_model_name": "LayoutModel",
            "justify_items": null,
            "grid_row": null,
            "max_height": null,
            "align_content": null,
            "visibility": null,
            "align_self": null,
            "height": null,
            "min_height": null,
            "padding": null,
            "grid_auto_rows": null,
            "grid_gap": null,
            "max_width": null,
            "order": null,
            "_view_module_version": "1.2.0",
            "grid_template_areas": null,
            "object_position": null,
            "object_fit": null,
            "grid_auto_columns": null,
            "margin": null,
            "display": null,
            "left": null
          }
        },
        "65154133008245a58b4285c019dd3a20": {
          "model_module": "@jupyter-widgets/controls",
          "model_name": "HBoxModel",
          "state": {
            "_view_name": "HBoxView",
            "_dom_classes": [],
            "_model_name": "HBoxModel",
            "_view_module": "@jupyter-widgets/controls",
            "_model_module_version": "1.5.0",
            "_view_count": null,
            "_view_module_version": "1.5.0",
            "box_style": "",
            "layout": "IPY_MODEL_7df44411668540af9c45f5b2b6502abd",
            "_model_module": "@jupyter-widgets/controls",
            "children": [
              "IPY_MODEL_b849611570124484973d4a9314199a81",
              "IPY_MODEL_a3477929ea994af39b29412c488ddab3"
            ]
          }
        },
        "7df44411668540af9c45f5b2b6502abd": {
          "model_module": "@jupyter-widgets/base",
          "model_name": "LayoutModel",
          "state": {
            "_view_name": "LayoutView",
            "grid_template_rows": null,
            "right": null,
            "justify_content": null,
            "_view_module": "@jupyter-widgets/base",
            "overflow": null,
            "_model_module_version": "1.2.0",
            "_view_count": null,
            "flex_flow": null,
            "width": null,
            "min_width": null,
            "border": null,
            "align_items": null,
            "bottom": null,
            "_model_module": "@jupyter-widgets/base",
            "top": null,
            "grid_column": null,
            "overflow_y": null,
            "overflow_x": null,
            "grid_auto_flow": null,
            "grid_area": null,
            "grid_template_columns": null,
            "flex": null,
            "_model_name": "LayoutModel",
            "justify_items": null,
            "grid_row": null,
            "max_height": null,
            "align_content": null,
            "visibility": null,
            "align_self": null,
            "height": null,
            "min_height": null,
            "padding": null,
            "grid_auto_rows": null,
            "grid_gap": null,
            "max_width": null,
            "order": null,
            "_view_module_version": "1.2.0",
            "grid_template_areas": null,
            "object_position": null,
            "object_fit": null,
            "grid_auto_columns": null,
            "margin": null,
            "display": null,
            "left": null
          }
        },
        "b849611570124484973d4a9314199a81": {
          "model_module": "@jupyter-widgets/controls",
          "model_name": "FloatProgressModel",
          "state": {
            "_view_name": "ProgressView",
            "style": "IPY_MODEL_25489ec9a3024526ad798f8a6e712a45",
            "_dom_classes": [],
            "description": "Downloading: 100%",
            "_model_name": "FloatProgressModel",
            "bar_style": "success",
            "max": 466062,
            "_view_module": "@jupyter-widgets/controls",
            "_model_module_version": "1.5.0",
            "value": 466062,
            "_view_count": null,
            "_view_module_version": "1.5.0",
            "orientation": "horizontal",
            "min": 0,
            "description_tooltip": null,
            "_model_module": "@jupyter-widgets/controls",
            "layout": "IPY_MODEL_7cc463f89d6c48c9911df6731dae6831"
          }
        },
        "a3477929ea994af39b29412c488ddab3": {
          "model_module": "@jupyter-widgets/controls",
          "model_name": "HTMLModel",
          "state": {
            "_view_name": "HTMLView",
            "style": "IPY_MODEL_741649eb61d5458998de2fe64fc83777",
            "_dom_classes": [],
            "description": "",
            "_model_name": "HTMLModel",
            "placeholder": "​",
            "_view_module": "@jupyter-widgets/controls",
            "_model_module_version": "1.5.0",
            "value": " 466k/466k [00:01&lt;00:00, 381kB/s]",
            "_view_count": null,
            "_view_module_version": "1.5.0",
            "description_tooltip": null,
            "_model_module": "@jupyter-widgets/controls",
            "layout": "IPY_MODEL_ce6326800a7b420b85c23111561e6902"
          }
        },
        "25489ec9a3024526ad798f8a6e712a45": {
          "model_module": "@jupyter-widgets/controls",
          "model_name": "ProgressStyleModel",
          "state": {
            "_view_name": "StyleView",
            "_model_name": "ProgressStyleModel",
            "description_width": "initial",
            "_view_module": "@jupyter-widgets/base",
            "_model_module_version": "1.5.0",
            "_view_count": null,
            "_view_module_version": "1.2.0",
            "bar_color": null,
            "_model_module": "@jupyter-widgets/controls"
          }
        },
        "7cc463f89d6c48c9911df6731dae6831": {
          "model_module": "@jupyter-widgets/base",
          "model_name": "LayoutModel",
          "state": {
            "_view_name": "LayoutView",
            "grid_template_rows": null,
            "right": null,
            "justify_content": null,
            "_view_module": "@jupyter-widgets/base",
            "overflow": null,
            "_model_module_version": "1.2.0",
            "_view_count": null,
            "flex_flow": null,
            "width": null,
            "min_width": null,
            "border": null,
            "align_items": null,
            "bottom": null,
            "_model_module": "@jupyter-widgets/base",
            "top": null,
            "grid_column": null,
            "overflow_y": null,
            "overflow_x": null,
            "grid_auto_flow": null,
            "grid_area": null,
            "grid_template_columns": null,
            "flex": null,
            "_model_name": "LayoutModel",
            "justify_items": null,
            "grid_row": null,
            "max_height": null,
            "align_content": null,
            "visibility": null,
            "align_self": null,
            "height": null,
            "min_height": null,
            "padding": null,
            "grid_auto_rows": null,
            "grid_gap": null,
            "max_width": null,
            "order": null,
            "_view_module_version": "1.2.0",
            "grid_template_areas": null,
            "object_position": null,
            "object_fit": null,
            "grid_auto_columns": null,
            "margin": null,
            "display": null,
            "left": null
          }
        },
        "741649eb61d5458998de2fe64fc83777": {
          "model_module": "@jupyter-widgets/controls",
          "model_name": "DescriptionStyleModel",
          "state": {
            "_view_name": "StyleView",
            "_model_name": "DescriptionStyleModel",
            "description_width": "",
            "_view_module": "@jupyter-widgets/base",
            "_model_module_version": "1.5.0",
            "_view_count": null,
            "_view_module_version": "1.2.0",
            "_model_module": "@jupyter-widgets/controls"
          }
        },
        "ce6326800a7b420b85c23111561e6902": {
          "model_module": "@jupyter-widgets/base",
          "model_name": "LayoutModel",
          "state": {
            "_view_name": "LayoutView",
            "grid_template_rows": null,
            "right": null,
            "justify_content": null,
            "_view_module": "@jupyter-widgets/base",
            "overflow": null,
            "_model_module_version": "1.2.0",
            "_view_count": null,
            "flex_flow": null,
            "width": null,
            "min_width": null,
            "border": null,
            "align_items": null,
            "bottom": null,
            "_model_module": "@jupyter-widgets/base",
            "top": null,
            "grid_column": null,
            "overflow_y": null,
            "overflow_x": null,
            "grid_auto_flow": null,
            "grid_area": null,
            "grid_template_columns": null,
            "flex": null,
            "_model_name": "LayoutModel",
            "justify_items": null,
            "grid_row": null,
            "max_height": null,
            "align_content": null,
            "visibility": null,
            "align_self": null,
            "height": null,
            "min_height": null,
            "padding": null,
            "grid_auto_rows": null,
            "grid_gap": null,
            "max_width": null,
            "order": null,
            "_view_module_version": "1.2.0",
            "grid_template_areas": null,
            "object_position": null,
            "object_fit": null,
            "grid_auto_columns": null,
            "margin": null,
            "display": null,
            "left": null
          }
        },
        "98c7c46cb0f34ab981dafa1839889b51": {
          "model_module": "@jupyter-widgets/controls",
          "model_name": "HBoxModel",
          "state": {
            "_view_name": "HBoxView",
            "_dom_classes": [],
            "_model_name": "HBoxModel",
            "_view_module": "@jupyter-widgets/controls",
            "_model_module_version": "1.5.0",
            "_view_count": null,
            "_view_module_version": "1.5.0",
            "box_style": "",
            "layout": "IPY_MODEL_77b82a13ef01407cbc0502b54c4a6b59",
            "_model_module": "@jupyter-widgets/controls",
            "children": [
              "IPY_MODEL_d7d5ced934834d359d915514fd26e688",
              "IPY_MODEL_03bfcf2b2a8548b6944335f8f1643170"
            ]
          }
        },
        "77b82a13ef01407cbc0502b54c4a6b59": {
          "model_module": "@jupyter-widgets/base",
          "model_name": "LayoutModel",
          "state": {
            "_view_name": "LayoutView",
            "grid_template_rows": null,
            "right": null,
            "justify_content": null,
            "_view_module": "@jupyter-widgets/base",
            "overflow": null,
            "_model_module_version": "1.2.0",
            "_view_count": null,
            "flex_flow": null,
            "width": null,
            "min_width": null,
            "border": null,
            "align_items": null,
            "bottom": null,
            "_model_module": "@jupyter-widgets/base",
            "top": null,
            "grid_column": null,
            "overflow_y": null,
            "overflow_x": null,
            "grid_auto_flow": null,
            "grid_area": null,
            "grid_template_columns": null,
            "flex": null,
            "_model_name": "LayoutModel",
            "justify_items": null,
            "grid_row": null,
            "max_height": null,
            "align_content": null,
            "visibility": null,
            "align_self": null,
            "height": null,
            "min_height": null,
            "padding": null,
            "grid_auto_rows": null,
            "grid_gap": null,
            "max_width": null,
            "order": null,
            "_view_module_version": "1.2.0",
            "grid_template_areas": null,
            "object_position": null,
            "object_fit": null,
            "grid_auto_columns": null,
            "margin": null,
            "display": null,
            "left": null
          }
        },
        "d7d5ced934834d359d915514fd26e688": {
          "model_module": "@jupyter-widgets/controls",
          "model_name": "FloatProgressModel",
          "state": {
            "_view_name": "ProgressView",
            "style": "IPY_MODEL_35b1ef1e90ce40f186a0edcb4a279ef9",
            "_dom_classes": [],
            "description": "Downloading: 100%",
            "_model_name": "FloatProgressModel",
            "bar_style": "success",
            "max": 28,
            "_view_module": "@jupyter-widgets/controls",
            "_model_module_version": "1.5.0",
            "value": 28,
            "_view_count": null,
            "_view_module_version": "1.5.0",
            "orientation": "horizontal",
            "min": 0,
            "description_tooltip": null,
            "_model_module": "@jupyter-widgets/controls",
            "layout": "IPY_MODEL_d462571ac5bc4d2e8a1dd1ab2005d97c"
          }
        },
        "03bfcf2b2a8548b6944335f8f1643170": {
          "model_module": "@jupyter-widgets/controls",
          "model_name": "HTMLModel",
          "state": {
            "_view_name": "HTMLView",
            "style": "IPY_MODEL_ed0236ec2fd2451781cb1c855b3015ce",
            "_dom_classes": [],
            "description": "",
            "_model_name": "HTMLModel",
            "placeholder": "​",
            "_view_module": "@jupyter-widgets/controls",
            "_model_module_version": "1.5.0",
            "value": " 28.0/28.0 [00:01&lt;00:00, 25.7B/s]",
            "_view_count": null,
            "_view_module_version": "1.5.0",
            "description_tooltip": null,
            "_model_module": "@jupyter-widgets/controls",
            "layout": "IPY_MODEL_c18c276ba16f4fdabf9d789c9073f9f8"
          }
        },
        "35b1ef1e90ce40f186a0edcb4a279ef9": {
          "model_module": "@jupyter-widgets/controls",
          "model_name": "ProgressStyleModel",
          "state": {
            "_view_name": "StyleView",
            "_model_name": "ProgressStyleModel",
            "description_width": "initial",
            "_view_module": "@jupyter-widgets/base",
            "_model_module_version": "1.5.0",
            "_view_count": null,
            "_view_module_version": "1.2.0",
            "bar_color": null,
            "_model_module": "@jupyter-widgets/controls"
          }
        },
        "d462571ac5bc4d2e8a1dd1ab2005d97c": {
          "model_module": "@jupyter-widgets/base",
          "model_name": "LayoutModel",
          "state": {
            "_view_name": "LayoutView",
            "grid_template_rows": null,
            "right": null,
            "justify_content": null,
            "_view_module": "@jupyter-widgets/base",
            "overflow": null,
            "_model_module_version": "1.2.0",
            "_view_count": null,
            "flex_flow": null,
            "width": null,
            "min_width": null,
            "border": null,
            "align_items": null,
            "bottom": null,
            "_model_module": "@jupyter-widgets/base",
            "top": null,
            "grid_column": null,
            "overflow_y": null,
            "overflow_x": null,
            "grid_auto_flow": null,
            "grid_area": null,
            "grid_template_columns": null,
            "flex": null,
            "_model_name": "LayoutModel",
            "justify_items": null,
            "grid_row": null,
            "max_height": null,
            "align_content": null,
            "visibility": null,
            "align_self": null,
            "height": null,
            "min_height": null,
            "padding": null,
            "grid_auto_rows": null,
            "grid_gap": null,
            "max_width": null,
            "order": null,
            "_view_module_version": "1.2.0",
            "grid_template_areas": null,
            "object_position": null,
            "object_fit": null,
            "grid_auto_columns": null,
            "margin": null,
            "display": null,
            "left": null
          }
        },
        "ed0236ec2fd2451781cb1c855b3015ce": {
          "model_module": "@jupyter-widgets/controls",
          "model_name": "DescriptionStyleModel",
          "state": {
            "_view_name": "StyleView",
            "_model_name": "DescriptionStyleModel",
            "description_width": "",
            "_view_module": "@jupyter-widgets/base",
            "_model_module_version": "1.5.0",
            "_view_count": null,
            "_view_module_version": "1.2.0",
            "_model_module": "@jupyter-widgets/controls"
          }
        },
        "c18c276ba16f4fdabf9d789c9073f9f8": {
          "model_module": "@jupyter-widgets/base",
          "model_name": "LayoutModel",
          "state": {
            "_view_name": "LayoutView",
            "grid_template_rows": null,
            "right": null,
            "justify_content": null,
            "_view_module": "@jupyter-widgets/base",
            "overflow": null,
            "_model_module_version": "1.2.0",
            "_view_count": null,
            "flex_flow": null,
            "width": null,
            "min_width": null,
            "border": null,
            "align_items": null,
            "bottom": null,
            "_model_module": "@jupyter-widgets/base",
            "top": null,
            "grid_column": null,
            "overflow_y": null,
            "overflow_x": null,
            "grid_auto_flow": null,
            "grid_area": null,
            "grid_template_columns": null,
            "flex": null,
            "_model_name": "LayoutModel",
            "justify_items": null,
            "grid_row": null,
            "max_height": null,
            "align_content": null,
            "visibility": null,
            "align_self": null,
            "height": null,
            "min_height": null,
            "padding": null,
            "grid_auto_rows": null,
            "grid_gap": null,
            "max_width": null,
            "order": null,
            "_view_module_version": "1.2.0",
            "grid_template_areas": null,
            "object_position": null,
            "object_fit": null,
            "grid_auto_columns": null,
            "margin": null,
            "display": null,
            "left": null
          }
        }
      }
    }
  },
  "cells": [
    {
      "cell_type": "code",
      "metadata": {
        "id": "8fghEE8Hnf9L"
      },
      "source": [
        "#https://github.com/bentrevett/pytorch-sentiment-analysis\n",
        "#https://github.com/bentrevett/pytorch-sentiment-analysis/blob/master/6%20-%20Transformers%20for%20Sentiment%20Analysis.ipynb"
      ],
      "id": "8fghEE8Hnf9L",
      "execution_count": null,
      "outputs": []
    },
    {
      "cell_type": "code",
      "metadata": {
        "colab": {
          "base_uri": "https://localhost:8080/"
        },
        "id": "XpYzR-xRn1pY",
        "outputId": "d8706c60-4af6-423c-8071-32a668f1a31e"
      },
      "source": [
        "pip install transformers"
      ],
      "id": "XpYzR-xRn1pY",
      "execution_count": 1,
      "outputs": [
        {
          "output_type": "stream",
          "text": [
            "Collecting transformers\n",
            "\u001b[?25l  Downloading https://files.pythonhosted.org/packages/d8/b2/57495b5309f09fa501866e225c84532d1fd89536ea62406b2181933fb418/transformers-4.5.1-py3-none-any.whl (2.1MB)\n",
            "\r\u001b[K     |▏                               | 10kB 22.2MB/s eta 0:00:01\r\u001b[K     |▎                               | 20kB 29.1MB/s eta 0:00:01\r\u001b[K     |▌                               | 30kB 20.9MB/s eta 0:00:01\r\u001b[K     |▋                               | 40kB 24.0MB/s eta 0:00:01\r\u001b[K     |▉                               | 51kB 16.1MB/s eta 0:00:01\r\u001b[K     |█                               | 61kB 15.7MB/s eta 0:00:01\r\u001b[K     |█▏                              | 71kB 17.1MB/s eta 0:00:01\r\u001b[K     |█▎                              | 81kB 16.5MB/s eta 0:00:01\r\u001b[K     |█▍                              | 92kB 15.7MB/s eta 0:00:01\r\u001b[K     |█▋                              | 102kB 16.9MB/s eta 0:00:01\r\u001b[K     |█▊                              | 112kB 16.9MB/s eta 0:00:01\r\u001b[K     |██                              | 122kB 16.9MB/s eta 0:00:01\r\u001b[K     |██                              | 133kB 16.9MB/s eta 0:00:01\r\u001b[K     |██▎                             | 143kB 16.9MB/s eta 0:00:01\r\u001b[K     |██▍                             | 153kB 16.9MB/s eta 0:00:01\r\u001b[K     |██▌                             | 163kB 16.9MB/s eta 0:00:01\r\u001b[K     |██▊                             | 174kB 16.9MB/s eta 0:00:01\r\u001b[K     |██▉                             | 184kB 16.9MB/s eta 0:00:01\r\u001b[K     |███                             | 194kB 16.9MB/s eta 0:00:01\r\u001b[K     |███▏                            | 204kB 16.9MB/s eta 0:00:01\r\u001b[K     |███▍                            | 215kB 16.9MB/s eta 0:00:01\r\u001b[K     |███▌                            | 225kB 16.9MB/s eta 0:00:01\r\u001b[K     |███▋                            | 235kB 16.9MB/s eta 0:00:01\r\u001b[K     |███▉                            | 245kB 16.9MB/s eta 0:00:01\r\u001b[K     |████                            | 256kB 16.9MB/s eta 0:00:01\r\u001b[K     |████▏                           | 266kB 16.9MB/s eta 0:00:01\r\u001b[K     |████▎                           | 276kB 16.9MB/s eta 0:00:01\r\u001b[K     |████▌                           | 286kB 16.9MB/s eta 0:00:01\r\u001b[K     |████▋                           | 296kB 16.9MB/s eta 0:00:01\r\u001b[K     |████▊                           | 307kB 16.9MB/s eta 0:00:01\r\u001b[K     |█████                           | 317kB 16.9MB/s eta 0:00:01\r\u001b[K     |█████                           | 327kB 16.9MB/s eta 0:00:01\r\u001b[K     |█████▎                          | 337kB 16.9MB/s eta 0:00:01\r\u001b[K     |█████▍                          | 348kB 16.9MB/s eta 0:00:01\r\u001b[K     |█████▋                          | 358kB 16.9MB/s eta 0:00:01\r\u001b[K     |█████▊                          | 368kB 16.9MB/s eta 0:00:01\r\u001b[K     |█████▉                          | 378kB 16.9MB/s eta 0:00:01\r\u001b[K     |██████                          | 389kB 16.9MB/s eta 0:00:01\r\u001b[K     |██████▏                         | 399kB 16.9MB/s eta 0:00:01\r\u001b[K     |██████▍                         | 409kB 16.9MB/s eta 0:00:01\r\u001b[K     |██████▌                         | 419kB 16.9MB/s eta 0:00:01\r\u001b[K     |██████▊                         | 430kB 16.9MB/s eta 0:00:01\r\u001b[K     |██████▉                         | 440kB 16.9MB/s eta 0:00:01\r\u001b[K     |███████                         | 450kB 16.9MB/s eta 0:00:01\r\u001b[K     |███████▏                        | 460kB 16.9MB/s eta 0:00:01\r\u001b[K     |███████▎                        | 471kB 16.9MB/s eta 0:00:01\r\u001b[K     |███████▌                        | 481kB 16.9MB/s eta 0:00:01\r\u001b[K     |███████▋                        | 491kB 16.9MB/s eta 0:00:01\r\u001b[K     |███████▉                        | 501kB 16.9MB/s eta 0:00:01\r\u001b[K     |████████                        | 512kB 16.9MB/s eta 0:00:01\r\u001b[K     |████████                        | 522kB 16.9MB/s eta 0:00:01\r\u001b[K     |████████▎                       | 532kB 16.9MB/s eta 0:00:01\r\u001b[K     |████████▍                       | 542kB 16.9MB/s eta 0:00:01\r\u001b[K     |████████▋                       | 552kB 16.9MB/s eta 0:00:01\r\u001b[K     |████████▊                       | 563kB 16.9MB/s eta 0:00:01\r\u001b[K     |█████████                       | 573kB 16.9MB/s eta 0:00:01\r\u001b[K     |█████████                       | 583kB 16.9MB/s eta 0:00:01\r\u001b[K     |█████████▎                      | 593kB 16.9MB/s eta 0:00:01\r\u001b[K     |█████████▍                      | 604kB 16.9MB/s eta 0:00:01\r\u001b[K     |█████████▌                      | 614kB 16.9MB/s eta 0:00:01\r\u001b[K     |█████████▊                      | 624kB 16.9MB/s eta 0:00:01\r\u001b[K     |█████████▉                      | 634kB 16.9MB/s eta 0:00:01\r\u001b[K     |██████████                      | 645kB 16.9MB/s eta 0:00:01\r\u001b[K     |██████████▏                     | 655kB 16.9MB/s eta 0:00:01\r\u001b[K     |██████████▍                     | 665kB 16.9MB/s eta 0:00:01\r\u001b[K     |██████████▌                     | 675kB 16.9MB/s eta 0:00:01\r\u001b[K     |██████████▋                     | 686kB 16.9MB/s eta 0:00:01\r\u001b[K     |██████████▉                     | 696kB 16.9MB/s eta 0:00:01\r\u001b[K     |███████████                     | 706kB 16.9MB/s eta 0:00:01\r\u001b[K     |███████████▏                    | 716kB 16.9MB/s eta 0:00:01\r\u001b[K     |███████████▎                    | 727kB 16.9MB/s eta 0:00:01\r\u001b[K     |███████████▌                    | 737kB 16.9MB/s eta 0:00:01\r\u001b[K     |███████████▋                    | 747kB 16.9MB/s eta 0:00:01\r\u001b[K     |███████████▊                    | 757kB 16.9MB/s eta 0:00:01\r\u001b[K     |████████████                    | 768kB 16.9MB/s eta 0:00:01\r\u001b[K     |████████████                    | 778kB 16.9MB/s eta 0:00:01\r\u001b[K     |████████████▎                   | 788kB 16.9MB/s eta 0:00:01\r\u001b[K     |████████████▍                   | 798kB 16.9MB/s eta 0:00:01\r\u001b[K     |████████████▋                   | 808kB 16.9MB/s eta 0:00:01\r\u001b[K     |████████████▊                   | 819kB 16.9MB/s eta 0:00:01\r\u001b[K     |████████████▉                   | 829kB 16.9MB/s eta 0:00:01\r\u001b[K     |█████████████                   | 839kB 16.9MB/s eta 0:00:01\r\u001b[K     |█████████████▏                  | 849kB 16.9MB/s eta 0:00:01\r\u001b[K     |█████████████▍                  | 860kB 16.9MB/s eta 0:00:01\r\u001b[K     |█████████████▌                  | 870kB 16.9MB/s eta 0:00:01\r\u001b[K     |█████████████▊                  | 880kB 16.9MB/s eta 0:00:01\r\u001b[K     |█████████████▉                  | 890kB 16.9MB/s eta 0:00:01\r\u001b[K     |██████████████                  | 901kB 16.9MB/s eta 0:00:01\r\u001b[K     |██████████████▏                 | 911kB 16.9MB/s eta 0:00:01\r\u001b[K     |██████████████▎                 | 921kB 16.9MB/s eta 0:00:01\r\u001b[K     |██████████████▌                 | 931kB 16.9MB/s eta 0:00:01\r\u001b[K     |██████████████▋                 | 942kB 16.9MB/s eta 0:00:01\r\u001b[K     |██████████████▉                 | 952kB 16.9MB/s eta 0:00:01\r\u001b[K     |███████████████                 | 962kB 16.9MB/s eta 0:00:01\r\u001b[K     |███████████████                 | 972kB 16.9MB/s eta 0:00:01\r\u001b[K     |███████████████▎                | 983kB 16.9MB/s eta 0:00:01\r\u001b[K     |███████████████▍                | 993kB 16.9MB/s eta 0:00:01\r\u001b[K     |███████████████▋                | 1.0MB 16.9MB/s eta 0:00:01\r\u001b[K     |███████████████▊                | 1.0MB 16.9MB/s eta 0:00:01\r\u001b[K     |████████████████                | 1.0MB 16.9MB/s eta 0:00:01\r\u001b[K     |████████████████                | 1.0MB 16.9MB/s eta 0:00:01\r\u001b[K     |████████████████▏               | 1.0MB 16.9MB/s eta 0:00:01\r\u001b[K     |████████████████▍               | 1.1MB 16.9MB/s eta 0:00:01\r\u001b[K     |████████████████▌               | 1.1MB 16.9MB/s eta 0:00:01\r\u001b[K     |████████████████▊               | 1.1MB 16.9MB/s eta 0:00:01\r\u001b[K     |████████████████▉               | 1.1MB 16.9MB/s eta 0:00:01\r\u001b[K     |█████████████████               | 1.1MB 16.9MB/s eta 0:00:01\r\u001b[K     |█████████████████▏              | 1.1MB 16.9MB/s eta 0:00:01\r\u001b[K     |█████████████████▍              | 1.1MB 16.9MB/s eta 0:00:01\r\u001b[K     |█████████████████▌              | 1.1MB 16.9MB/s eta 0:00:01\r\u001b[K     |█████████████████▋              | 1.1MB 16.9MB/s eta 0:00:01\r\u001b[K     |█████████████████▉              | 1.1MB 16.9MB/s eta 0:00:01\r\u001b[K     |██████████████████              | 1.2MB 16.9MB/s eta 0:00:01\r\u001b[K     |██████████████████▏             | 1.2MB 16.9MB/s eta 0:00:01\r\u001b[K     |██████████████████▎             | 1.2MB 16.9MB/s eta 0:00:01\r\u001b[K     |██████████████████▌             | 1.2MB 16.9MB/s eta 0:00:01\r\u001b[K     |██████████████████▋             | 1.2MB 16.9MB/s eta 0:00:01\r\u001b[K     |██████████████████▊             | 1.2MB 16.9MB/s eta 0:00:01\r\u001b[K     |███████████████████             | 1.2MB 16.9MB/s eta 0:00:01\r\u001b[K     |███████████████████             | 1.2MB 16.9MB/s eta 0:00:01\r\u001b[K     |███████████████████▎            | 1.2MB 16.9MB/s eta 0:00:01\r\u001b[K     |███████████████████▍            | 1.2MB 16.9MB/s eta 0:00:01\r\u001b[K     |███████████████████▋            | 1.3MB 16.9MB/s eta 0:00:01\r\u001b[K     |███████████████████▊            | 1.3MB 16.9MB/s eta 0:00:01\r\u001b[K     |███████████████████▉            | 1.3MB 16.9MB/s eta 0:00:01\r\u001b[K     |████████████████████            | 1.3MB 16.9MB/s eta 0:00:01\r\u001b[K     |████████████████████▏           | 1.3MB 16.9MB/s eta 0:00:01\r\u001b[K     |████████████████████▍           | 1.3MB 16.9MB/s eta 0:00:01\r\u001b[K     |████████████████████▌           | 1.3MB 16.9MB/s eta 0:00:01\r\u001b[K     |████████████████████▊           | 1.3MB 16.9MB/s eta 0:00:01\r\u001b[K     |████████████████████▉           | 1.3MB 16.9MB/s eta 0:00:01\r\u001b[K     |█████████████████████           | 1.4MB 16.9MB/s eta 0:00:01\r\u001b[K     |█████████████████████▏          | 1.4MB 16.9MB/s eta 0:00:01\r\u001b[K     |█████████████████████▎          | 1.4MB 16.9MB/s eta 0:00:01\r\u001b[K     |█████████████████████▌          | 1.4MB 16.9MB/s eta 0:00:01\r\u001b[K     |█████████████████████▋          | 1.4MB 16.9MB/s eta 0:00:01\r\u001b[K     |█████████████████████▉          | 1.4MB 16.9MB/s eta 0:00:01\r\u001b[K     |██████████████████████          | 1.4MB 16.9MB/s eta 0:00:01\r\u001b[K     |██████████████████████          | 1.4MB 16.9MB/s eta 0:00:01\r\u001b[K     |██████████████████████▎         | 1.4MB 16.9MB/s eta 0:00:01\r\u001b[K     |██████████████████████▍         | 1.4MB 16.9MB/s eta 0:00:01\r\u001b[K     |██████████████████████▋         | 1.5MB 16.9MB/s eta 0:00:01\r\u001b[K     |██████████████████████▊         | 1.5MB 16.9MB/s eta 0:00:01\r\u001b[K     |███████████████████████         | 1.5MB 16.9MB/s eta 0:00:01\r\u001b[K     |███████████████████████         | 1.5MB 16.9MB/s eta 0:00:01\r\u001b[K     |███████████████████████▏        | 1.5MB 16.9MB/s eta 0:00:01\r\u001b[K     |███████████████████████▍        | 1.5MB 16.9MB/s eta 0:00:01\r\u001b[K     |███████████████████████▌        | 1.5MB 16.9MB/s eta 0:00:01\r\u001b[K     |███████████████████████▊        | 1.5MB 16.9MB/s eta 0:00:01\r\u001b[K     |███████████████████████▉        | 1.5MB 16.9MB/s eta 0:00:01\r\u001b[K     |████████████████████████        | 1.5MB 16.9MB/s eta 0:00:01\r\u001b[K     |████████████████████████▏       | 1.6MB 16.9MB/s eta 0:00:01\r\u001b[K     |████████████████████████▎       | 1.6MB 16.9MB/s eta 0:00:01\r\u001b[K     |████████████████████████▌       | 1.6MB 16.9MB/s eta 0:00:01\r\u001b[K     |████████████████████████▋       | 1.6MB 16.9MB/s eta 0:00:01\r\u001b[K     |████████████████████████▉       | 1.6MB 16.9MB/s eta 0:00:01\r\u001b[K     |█████████████████████████       | 1.6MB 16.9MB/s eta 0:00:01\r\u001b[K     |█████████████████████████▏      | 1.6MB 16.9MB/s eta 0:00:01\r\u001b[K     |█████████████████████████▎      | 1.6MB 16.9MB/s eta 0:00:01\r\u001b[K     |█████████████████████████▍      | 1.6MB 16.9MB/s eta 0:00:01\r\u001b[K     |█████████████████████████▋      | 1.6MB 16.9MB/s eta 0:00:01\r\u001b[K     |█████████████████████████▊      | 1.7MB 16.9MB/s eta 0:00:01\r\u001b[K     |██████████████████████████      | 1.7MB 16.9MB/s eta 0:00:01\r\u001b[K     |██████████████████████████      | 1.7MB 16.9MB/s eta 0:00:01\r\u001b[K     |██████████████████████████▎     | 1.7MB 16.9MB/s eta 0:00:01\r\u001b[K     |██████████████████████████▍     | 1.7MB 16.9MB/s eta 0:00:01\r\u001b[K     |██████████████████████████▋     | 1.7MB 16.9MB/s eta 0:00:01\r\u001b[K     |██████████████████████████▊     | 1.7MB 16.9MB/s eta 0:00:01\r\u001b[K     |██████████████████████████▉     | 1.7MB 16.9MB/s eta 0:00:01\r\u001b[K     |███████████████████████████     | 1.7MB 16.9MB/s eta 0:00:01\r\u001b[K     |███████████████████████████▏    | 1.8MB 16.9MB/s eta 0:00:01\r\u001b[K     |███████████████████████████▍    | 1.8MB 16.9MB/s eta 0:00:01\r\u001b[K     |███████████████████████████▌    | 1.8MB 16.9MB/s eta 0:00:01\r\u001b[K     |███████████████████████████▊    | 1.8MB 16.9MB/s eta 0:00:01\r\u001b[K     |███████████████████████████▉    | 1.8MB 16.9MB/s eta 0:00:01\r\u001b[K     |████████████████████████████    | 1.8MB 16.9MB/s eta 0:00:01\r\u001b[K     |████████████████████████████▏   | 1.8MB 16.9MB/s eta 0:00:01\r\u001b[K     |████████████████████████████▎   | 1.8MB 16.9MB/s eta 0:00:01\r\u001b[K     |████████████████████████████▌   | 1.8MB 16.9MB/s eta 0:00:01\r\u001b[K     |████████████████████████████▋   | 1.8MB 16.9MB/s eta 0:00:01\r\u001b[K     |████████████████████████████▉   | 1.9MB 16.9MB/s eta 0:00:01\r\u001b[K     |█████████████████████████████   | 1.9MB 16.9MB/s eta 0:00:01\r\u001b[K     |█████████████████████████████   | 1.9MB 16.9MB/s eta 0:00:01\r\u001b[K     |█████████████████████████████▎  | 1.9MB 16.9MB/s eta 0:00:01\r\u001b[K     |█████████████████████████████▍  | 1.9MB 16.9MB/s eta 0:00:01\r\u001b[K     |█████████████████████████████▋  | 1.9MB 16.9MB/s eta 0:00:01\r\u001b[K     |█████████████████████████████▊  | 1.9MB 16.9MB/s eta 0:00:01\r\u001b[K     |██████████████████████████████  | 1.9MB 16.9MB/s eta 0:00:01\r\u001b[K     |██████████████████████████████  | 1.9MB 16.9MB/s eta 0:00:01\r\u001b[K     |██████████████████████████████▏ | 1.9MB 16.9MB/s eta 0:00:01\r\u001b[K     |██████████████████████████████▍ | 2.0MB 16.9MB/s eta 0:00:01\r\u001b[K     |██████████████████████████████▌ | 2.0MB 16.9MB/s eta 0:00:01\r\u001b[K     |██████████████████████████████▊ | 2.0MB 16.9MB/s eta 0:00:01\r\u001b[K     |██████████████████████████████▉ | 2.0MB 16.9MB/s eta 0:00:01\r\u001b[K     |███████████████████████████████ | 2.0MB 16.9MB/s eta 0:00:01\r\u001b[K     |███████████████████████████████▏| 2.0MB 16.9MB/s eta 0:00:01\r\u001b[K     |███████████████████████████████▎| 2.0MB 16.9MB/s eta 0:00:01\r\u001b[K     |███████████████████████████████▌| 2.0MB 16.9MB/s eta 0:00:01\r\u001b[K     |███████████████████████████████▋| 2.0MB 16.9MB/s eta 0:00:01\r\u001b[K     |███████████████████████████████▉| 2.0MB 16.9MB/s eta 0:00:01\r\u001b[K     |████████████████████████████████| 2.1MB 16.9MB/s eta 0:00:01\r\u001b[K     |████████████████████████████████| 2.1MB 16.9MB/s \n",
            "\u001b[?25hRequirement already satisfied: tqdm>=4.27 in /usr/local/lib/python3.7/dist-packages (from transformers) (4.41.1)\n",
            "Requirement already satisfied: importlib-metadata; python_version < \"3.8\" in /usr/local/lib/python3.7/dist-packages (from transformers) (3.10.1)\n",
            "Requirement already satisfied: regex!=2019.12.17 in /usr/local/lib/python3.7/dist-packages (from transformers) (2019.12.20)\n",
            "Requirement already satisfied: requests in /usr/local/lib/python3.7/dist-packages (from transformers) (2.23.0)\n",
            "Requirement already satisfied: numpy>=1.17 in /usr/local/lib/python3.7/dist-packages (from transformers) (1.19.5)\n",
            "Requirement already satisfied: filelock in /usr/local/lib/python3.7/dist-packages (from transformers) (3.0.12)\n",
            "Collecting tokenizers<0.11,>=0.10.1\n",
            "\u001b[?25l  Downloading https://files.pythonhosted.org/packages/ae/04/5b870f26a858552025a62f1649c20d29d2672c02ff3c3fb4c688ca46467a/tokenizers-0.10.2-cp37-cp37m-manylinux2010_x86_64.whl (3.3MB)\n",
            "\u001b[K     |████████████████████████████████| 3.3MB 54.3MB/s \n",
            "\u001b[?25hCollecting sacremoses\n",
            "\u001b[?25l  Downloading https://files.pythonhosted.org/packages/75/ee/67241dc87f266093c533a2d4d3d69438e57d7a90abb216fa076e7d475d4a/sacremoses-0.0.45-py3-none-any.whl (895kB)\n",
            "\u001b[K     |████████████████████████████████| 901kB 52.7MB/s \n",
            "\u001b[?25hRequirement already satisfied: packaging in /usr/local/lib/python3.7/dist-packages (from transformers) (20.9)\n",
            "Requirement already satisfied: zipp>=0.5 in /usr/local/lib/python3.7/dist-packages (from importlib-metadata; python_version < \"3.8\"->transformers) (3.4.1)\n",
            "Requirement already satisfied: typing-extensions>=3.6.4; python_version < \"3.8\" in /usr/local/lib/python3.7/dist-packages (from importlib-metadata; python_version < \"3.8\"->transformers) (3.7.4.3)\n",
            "Requirement already satisfied: idna<3,>=2.5 in /usr/local/lib/python3.7/dist-packages (from requests->transformers) (2.10)\n",
            "Requirement already satisfied: certifi>=2017.4.17 in /usr/local/lib/python3.7/dist-packages (from requests->transformers) (2020.12.5)\n",
            "Requirement already satisfied: chardet<4,>=3.0.2 in /usr/local/lib/python3.7/dist-packages (from requests->transformers) (3.0.4)\n",
            "Requirement already satisfied: urllib3!=1.25.0,!=1.25.1,<1.26,>=1.21.1 in /usr/local/lib/python3.7/dist-packages (from requests->transformers) (1.24.3)\n",
            "Requirement already satisfied: click in /usr/local/lib/python3.7/dist-packages (from sacremoses->transformers) (7.1.2)\n",
            "Requirement already satisfied: six in /usr/local/lib/python3.7/dist-packages (from sacremoses->transformers) (1.15.0)\n",
            "Requirement already satisfied: joblib in /usr/local/lib/python3.7/dist-packages (from sacremoses->transformers) (1.0.1)\n",
            "Requirement already satisfied: pyparsing>=2.0.2 in /usr/local/lib/python3.7/dist-packages (from packaging->transformers) (2.4.7)\n",
            "Installing collected packages: tokenizers, sacremoses, transformers\n",
            "Successfully installed sacremoses-0.0.45 tokenizers-0.10.2 transformers-4.5.1\n"
          ],
          "name": "stdout"
        }
      ]
    },
    {
      "cell_type": "code",
      "metadata": {
        "id": "zDP0BdP7ZsXd"
      },
      "source": [
        "#from google.colab import drive\n",
        "#drive.mount('/content/drive')"
      ],
      "id": "zDP0BdP7ZsXd",
      "execution_count": 2,
      "outputs": []
    },
    {
      "cell_type": "code",
      "metadata": {
        "id": "IUAEUPTPnf9Q"
      },
      "source": [
        "import torch\n",
        "import torch.nn as nn\n",
        "from torch.utils.data import TensorDataset, DataLoader, RandomSampler, SequentialSampler\n",
        "import random\n",
        "import numpy as np\n",
        "import pandas as pd\n",
        "import torch.nn.functional as F\n",
        "from sklearn.model_selection import train_test_split\n",
        "from sklearn.metrics import classification_report\n",
        "import transformers\n",
        "from transformers import AutoModel, BertTokenizerFast\n",
        "import time\n",
        "from sklearn.metrics import classification_report\n",
        "SEED = 1234\n",
        "\n",
        "random.seed(SEED)\n",
        "np.random.seed(SEED)\n",
        "torch.manual_seed(SEED)\n",
        "torch.backends.cudnn.deterministic = True\n",
        "\n",
        "# specify GPU\n",
        "device = torch.device('cuda' if torch.cuda.is_available() else 'cpu')"
      ],
      "id": "IUAEUPTPnf9Q",
      "execution_count": 3,
      "outputs": []
    },
    {
      "cell_type": "code",
      "metadata": {
        "colab": {
          "base_uri": "https://localhost:8080/"
        },
        "id": "DSQwK5wE6Cp7",
        "outputId": "caf4a9ed-ef87-4a4f-bd5d-4b8bca9bc539"
      },
      "source": [
        "from google.colab import drive\n",
        "drive.mount('/content/drive')"
      ],
      "id": "DSQwK5wE6Cp7",
      "execution_count": 4,
      "outputs": [
        {
          "output_type": "stream",
          "text": [
            "Mounted at /content/drive\n"
          ],
          "name": "stdout"
        }
      ]
    },
    {
      "cell_type": "code",
      "metadata": {
        "id": "ydDYRF92aDSk"
      },
      "source": [
        "#df_all = pd.read_csv('all-data.csv',encoding='latin-1')\n",
        "df_all = pd.read_csv('/content/drive/My Drive/content/Tweets.csv', encoding = 'latin-1' )\n",
        "#df_all.columns = [\"sentiment\", \"text\"]"
      ],
      "id": "ydDYRF92aDSk",
      "execution_count": 5,
      "outputs": []
    },
    {
      "cell_type": "code",
      "metadata": {
        "colab": {
          "base_uri": "https://localhost:8080/",
          "height": 446
        },
        "id": "D_SK46UW-hC-",
        "outputId": "b85198c4-4339-4707-c930-7549997e36d5"
      },
      "source": [
        "df_all.head()"
      ],
      "id": "D_SK46UW-hC-",
      "execution_count": 6,
      "outputs": [
        {
          "output_type": "execute_result",
          "data": {
            "text/html": [
              "<div>\n",
              "<style scoped>\n",
              "    .dataframe tbody tr th:only-of-type {\n",
              "        vertical-align: middle;\n",
              "    }\n",
              "\n",
              "    .dataframe tbody tr th {\n",
              "        vertical-align: top;\n",
              "    }\n",
              "\n",
              "    .dataframe thead th {\n",
              "        text-align: right;\n",
              "    }\n",
              "</style>\n",
              "<table border=\"1\" class=\"dataframe\">\n",
              "  <thead>\n",
              "    <tr style=\"text-align: right;\">\n",
              "      <th></th>\n",
              "      <th>tweet_id</th>\n",
              "      <th>airline_sentiment</th>\n",
              "      <th>airline_sentiment_confidence</th>\n",
              "      <th>negativereason</th>\n",
              "      <th>negativereason_confidence</th>\n",
              "      <th>airline</th>\n",
              "      <th>airline_sentiment_gold</th>\n",
              "      <th>name</th>\n",
              "      <th>negativereason_gold</th>\n",
              "      <th>retweet_count</th>\n",
              "      <th>text</th>\n",
              "      <th>tweet_coord</th>\n",
              "      <th>tweet_created</th>\n",
              "      <th>tweet_location</th>\n",
              "      <th>user_timezone</th>\n",
              "    </tr>\n",
              "  </thead>\n",
              "  <tbody>\n",
              "    <tr>\n",
              "      <th>0</th>\n",
              "      <td>5.703060e+17</td>\n",
              "      <td>neutral</td>\n",
              "      <td>1.0000</td>\n",
              "      <td>NaN</td>\n",
              "      <td>NaN</td>\n",
              "      <td>Virgin America</td>\n",
              "      <td>NaN</td>\n",
              "      <td>cairdin</td>\n",
              "      <td>NaN</td>\n",
              "      <td>0</td>\n",
              "      <td>@VirginAmerica What @dhepburn said.</td>\n",
              "      <td>NaN</td>\n",
              "      <td>24/2/2015 11:35</td>\n",
              "      <td>NaN</td>\n",
              "      <td>Eastern Time (US &amp; Canada)</td>\n",
              "    </tr>\n",
              "    <tr>\n",
              "      <th>1</th>\n",
              "      <td>5.703010e+17</td>\n",
              "      <td>positive</td>\n",
              "      <td>0.3486</td>\n",
              "      <td>NaN</td>\n",
              "      <td>0.0000</td>\n",
              "      <td>Virgin America</td>\n",
              "      <td>NaN</td>\n",
              "      <td>jnardino</td>\n",
              "      <td>NaN</td>\n",
              "      <td>0</td>\n",
              "      <td>@VirginAmerica plus you've added commercials t...</td>\n",
              "      <td>NaN</td>\n",
              "      <td>24/2/2015 11:15</td>\n",
              "      <td>NaN</td>\n",
              "      <td>Pacific Time (US &amp; Canada)</td>\n",
              "    </tr>\n",
              "    <tr>\n",
              "      <th>2</th>\n",
              "      <td>5.703010e+17</td>\n",
              "      <td>neutral</td>\n",
              "      <td>0.6837</td>\n",
              "      <td>NaN</td>\n",
              "      <td>NaN</td>\n",
              "      <td>Virgin America</td>\n",
              "      <td>NaN</td>\n",
              "      <td>yvonnalynn</td>\n",
              "      <td>NaN</td>\n",
              "      <td>0</td>\n",
              "      <td>@VirginAmerica I didn't today... Must mean I n...</td>\n",
              "      <td>NaN</td>\n",
              "      <td>24/2/2015 11:15</td>\n",
              "      <td>Lets Play</td>\n",
              "      <td>Central Time (US &amp; Canada)</td>\n",
              "    </tr>\n",
              "    <tr>\n",
              "      <th>3</th>\n",
              "      <td>5.703010e+17</td>\n",
              "      <td>negative</td>\n",
              "      <td>1.0000</td>\n",
              "      <td>Bad Flight</td>\n",
              "      <td>0.7033</td>\n",
              "      <td>Virgin America</td>\n",
              "      <td>NaN</td>\n",
              "      <td>jnardino</td>\n",
              "      <td>NaN</td>\n",
              "      <td>0</td>\n",
              "      <td>@VirginAmerica it's really aggressive to blast...</td>\n",
              "      <td>NaN</td>\n",
              "      <td>24/2/2015 11:15</td>\n",
              "      <td>NaN</td>\n",
              "      <td>Pacific Time (US &amp; Canada)</td>\n",
              "    </tr>\n",
              "    <tr>\n",
              "      <th>4</th>\n",
              "      <td>5.703010e+17</td>\n",
              "      <td>negative</td>\n",
              "      <td>1.0000</td>\n",
              "      <td>Can't Tell</td>\n",
              "      <td>1.0000</td>\n",
              "      <td>Virgin America</td>\n",
              "      <td>NaN</td>\n",
              "      <td>jnardino</td>\n",
              "      <td>NaN</td>\n",
              "      <td>0</td>\n",
              "      <td>@VirginAmerica and it's a really big bad thing...</td>\n",
              "      <td>NaN</td>\n",
              "      <td>24/2/2015 11:14</td>\n",
              "      <td>NaN</td>\n",
              "      <td>Pacific Time (US &amp; Canada)</td>\n",
              "    </tr>\n",
              "  </tbody>\n",
              "</table>\n",
              "</div>"
            ],
            "text/plain": [
              "       tweet_id airline_sentiment  ...  tweet_location               user_timezone\n",
              "0  5.703060e+17           neutral  ...             NaN  Eastern Time (US & Canada)\n",
              "1  5.703010e+17          positive  ...             NaN  Pacific Time (US & Canada)\n",
              "2  5.703010e+17           neutral  ...       Lets Play  Central Time (US & Canada)\n",
              "3  5.703010e+17          negative  ...             NaN  Pacific Time (US & Canada)\n",
              "4  5.703010e+17          negative  ...             NaN  Pacific Time (US & Canada)\n",
              "\n",
              "[5 rows x 15 columns]"
            ]
          },
          "metadata": {
            "tags": []
          },
          "execution_count": 6
        }
      ]
    },
    {
      "cell_type": "code",
      "metadata": {
        "colab": {
          "base_uri": "https://localhost:8080/",
          "height": 203
        },
        "id": "RdbPTwVlaTck",
        "outputId": "5506de0b-9c91-47bb-c411-42bae00121f1"
      },
      "source": [
        "df_all = df_all[['text','airline_sentiment']]\n",
        "df_all.columns = [\"text\",\"sentiment\"]\n",
        "dic = {'negative' : 0, 'neutral': 1, 'positive': 2}\n",
        "df_all['sentiment']= df_all['sentiment'].replace(dic).astype('int64')\n",
        "df_all.head()"
      ],
      "id": "RdbPTwVlaTck",
      "execution_count": 7,
      "outputs": [
        {
          "output_type": "execute_result",
          "data": {
            "text/html": [
              "<div>\n",
              "<style scoped>\n",
              "    .dataframe tbody tr th:only-of-type {\n",
              "        vertical-align: middle;\n",
              "    }\n",
              "\n",
              "    .dataframe tbody tr th {\n",
              "        vertical-align: top;\n",
              "    }\n",
              "\n",
              "    .dataframe thead th {\n",
              "        text-align: right;\n",
              "    }\n",
              "</style>\n",
              "<table border=\"1\" class=\"dataframe\">\n",
              "  <thead>\n",
              "    <tr style=\"text-align: right;\">\n",
              "      <th></th>\n",
              "      <th>text</th>\n",
              "      <th>sentiment</th>\n",
              "    </tr>\n",
              "  </thead>\n",
              "  <tbody>\n",
              "    <tr>\n",
              "      <th>0</th>\n",
              "      <td>@VirginAmerica What @dhepburn said.</td>\n",
              "      <td>1</td>\n",
              "    </tr>\n",
              "    <tr>\n",
              "      <th>1</th>\n",
              "      <td>@VirginAmerica plus you've added commercials t...</td>\n",
              "      <td>2</td>\n",
              "    </tr>\n",
              "    <tr>\n",
              "      <th>2</th>\n",
              "      <td>@VirginAmerica I didn't today... Must mean I n...</td>\n",
              "      <td>1</td>\n",
              "    </tr>\n",
              "    <tr>\n",
              "      <th>3</th>\n",
              "      <td>@VirginAmerica it's really aggressive to blast...</td>\n",
              "      <td>0</td>\n",
              "    </tr>\n",
              "    <tr>\n",
              "      <th>4</th>\n",
              "      <td>@VirginAmerica and it's a really big bad thing...</td>\n",
              "      <td>0</td>\n",
              "    </tr>\n",
              "  </tbody>\n",
              "</table>\n",
              "</div>"
            ],
            "text/plain": [
              "                                                text  sentiment\n",
              "0                @VirginAmerica What @dhepburn said.          1\n",
              "1  @VirginAmerica plus you've added commercials t...          2\n",
              "2  @VirginAmerica I didn't today... Must mean I n...          1\n",
              "3  @VirginAmerica it's really aggressive to blast...          0\n",
              "4  @VirginAmerica and it's a really big bad thing...          0"
            ]
          },
          "metadata": {
            "tags": []
          },
          "execution_count": 7
        }
      ]
    },
    {
      "cell_type": "code",
      "metadata": {
        "id": "ISP1tMtncuGq"
      },
      "source": [
        "# split train dataset into train, validation and test sets\n",
        "train_text, temp_text, train_labels, temp_labels = train_test_split(df_all['text'], df_all['sentiment'], \n",
        "                                                                    random_state=45, \n",
        "                                                                    test_size=0.3, \n",
        "                                                                    stratify=df_all['sentiment'])\n",
        "\n",
        "\n",
        "val_text, test_text, val_labels, test_labels = train_test_split(temp_text, temp_labels, \n",
        "                                                                random_state=45, \n",
        "                                                                test_size=0.5, \n",
        "                                                                stratify=temp_labels)"
      ],
      "id": "ISP1tMtncuGq",
      "execution_count": 8,
      "outputs": []
    },
    {
      "cell_type": "code",
      "metadata": {
        "id": "-2A3AcBSd13Y",
        "colab": {
          "base_uri": "https://localhost:8080/",
          "height": 166,
          "referenced_widgets": [
            "bb9de9edc03e42d1bb99bb02334a2efb",
            "c4ac2d03bf904511b4fba58f1f82abb8",
            "d09ca2c008334b38bfea73493c2713b0",
            "bdc39c2305ba4a18abeb0365d5c601f3",
            "7b3e29544e7641209ec7d84c4ecb1f02",
            "d42401a449264fbfb96414dbb3ad70e9",
            "3ce9e18a890e4f978fce854e63fca533",
            "fc5d9ecc2a3f4387b8904ee784998bba",
            "65154133008245a58b4285c019dd3a20",
            "7df44411668540af9c45f5b2b6502abd",
            "b849611570124484973d4a9314199a81",
            "a3477929ea994af39b29412c488ddab3",
            "25489ec9a3024526ad798f8a6e712a45",
            "7cc463f89d6c48c9911df6731dae6831",
            "741649eb61d5458998de2fe64fc83777",
            "ce6326800a7b420b85c23111561e6902",
            "98c7c46cb0f34ab981dafa1839889b51",
            "77b82a13ef01407cbc0502b54c4a6b59",
            "d7d5ced934834d359d915514fd26e688",
            "03bfcf2b2a8548b6944335f8f1643170",
            "35b1ef1e90ce40f186a0edcb4a279ef9",
            "d462571ac5bc4d2e8a1dd1ab2005d97c",
            "ed0236ec2fd2451781cb1c855b3015ce",
            "c18c276ba16f4fdabf9d789c9073f9f8"
          ]
        },
        "outputId": "289a0ee7-e3c3-488f-c2e3-f1072fb0f901"
      },
      "source": [
        "from transformers import AutoModel, BertTokenizerFast\n",
        "# import BERT-base pretrained model\n",
        "#bert = AutoModel.from_pretrained('bert-base-uncased')\n",
        "\n",
        "# Load the BERT tokenizer\n",
        "tokenizer = BertTokenizerFast.from_pretrained('bert-base-uncased')"
      ],
      "id": "-2A3AcBSd13Y",
      "execution_count": 9,
      "outputs": [
        {
          "output_type": "display_data",
          "data": {
            "application/vnd.jupyter.widget-view+json": {
              "model_id": "bb9de9edc03e42d1bb99bb02334a2efb",
              "version_minor": 0,
              "version_major": 2
            },
            "text/plain": [
              "HBox(children=(FloatProgress(value=0.0, description='Downloading', max=231508.0, style=ProgressStyle(descripti…"
            ]
          },
          "metadata": {
            "tags": []
          }
        },
        {
          "output_type": "stream",
          "text": [
            "\n"
          ],
          "name": "stdout"
        },
        {
          "output_type": "display_data",
          "data": {
            "application/vnd.jupyter.widget-view+json": {
              "model_id": "65154133008245a58b4285c019dd3a20",
              "version_minor": 0,
              "version_major": 2
            },
            "text/plain": [
              "HBox(children=(FloatProgress(value=0.0, description='Downloading', max=466062.0, style=ProgressStyle(descripti…"
            ]
          },
          "metadata": {
            "tags": []
          }
        },
        {
          "output_type": "stream",
          "text": [
            "\n"
          ],
          "name": "stdout"
        },
        {
          "output_type": "display_data",
          "data": {
            "application/vnd.jupyter.widget-view+json": {
              "model_id": "98c7c46cb0f34ab981dafa1839889b51",
              "version_minor": 0,
              "version_major": 2
            },
            "text/plain": [
              "HBox(children=(FloatProgress(value=0.0, description='Downloading', max=28.0, style=ProgressStyle(description_w…"
            ]
          },
          "metadata": {
            "tags": []
          }
        },
        {
          "output_type": "stream",
          "text": [
            "\n"
          ],
          "name": "stdout"
        }
      ]
    },
    {
      "cell_type": "code",
      "metadata": {
        "id": "k4G9gD3neNkJ"
      },
      "source": [
        "# t\n",
        "# tokenize and encode sequences in the test set\n",
        "tokens_test = tokenizer.batch_encode_plus(\n",
        "    test_text.tolist(),\n",
        "    max_length = 25,\n",
        "    padding='longest',\n",
        "    truncation=True\n",
        ")"
      ],
      "id": "k4G9gD3neNkJ",
      "execution_count": 30,
      "outputs": []
    },
    {
      "cell_type": "code",
      "metadata": {
        "id": "ChuoX_0XfU4_"
      },
      "source": [
        "## convert lists to tensors\n",
        "test_seq = torch.tensor(tokens_test['input_ids'])[0+32:32+32]\n",
        "test_mask = torch.tensor(tokens_test['attention_mask'])[0+32:32+32]\n",
        "test_y = torch.tensor(test_labels.tolist())[0+32:32+32]"
      ],
      "id": "ChuoX_0XfU4_",
      "execution_count": 31,
      "outputs": []
    },
    {
      "cell_type": "code",
      "metadata": {
        "id": "9oyz5bTJfVnf"
      },
      "source": [
        "#define a batch size\n",
        "batch_size = 32\n",
        "\n",
        "# wrap tensors\n",
        "test_data = TensorDataset(test_seq, test_mask, test_y)\n",
        "\n",
        "# sampler for sampling the data during training\n",
        "test_sampler = SequentialSampler(test_data)\n",
        "\n",
        "# dataLoader for test set\n",
        "test_dataloader = DataLoader(test_data, sampler = test_sampler, batch_size=batch_size, drop_last=True)"
      ],
      "id": "9oyz5bTJfVnf",
      "execution_count": 32,
      "outputs": []
    },
    {
      "cell_type": "code",
      "metadata": {
        "id": "5LUK39A-Gym9"
      },
      "source": [
        "#import torch.nn as nn\n",
        "#import torch.nn.functional as F\n",
        "from torch.autograd import Variable\n",
        "\n",
        "# reference source: https://www.programmersought.com/article/31037125394/\n",
        "class AttnDPCNN(nn.Module):\n",
        "\n",
        "    def __init__(self,batch_size,seq_len,embedding_dim,output_size_linear, \n",
        "                 cnn_channel_size, cnn_kernel_size=(3,1),cnn_padding=0, cnn_stride=1, attn_nodes_per_layer = 10):\n",
        "\n",
        "        super(AttnDPCNN, self).__init__()\n",
        "        #self.bert=bert\n",
        "        self.attn_nodes_per_layer = attn_nodes_per_layer\n",
        "        self.channel_size = cnn_channel_size\n",
        "        self.output_size_linear = output_size_linear\n",
        "        self.cnn_kernel_size = cnn_kernel_size\n",
        "        self.padding = cnn_padding\n",
        "        self.stride = cnn_stride\n",
        "        #self.vocab_size = vocab_size\n",
        "        self.embed_dim = embedding_dim\n",
        "        self.seq_len = seq_len\n",
        "        self.batch_size = batch_size\n",
        "        \n",
        "        #self.collect_out_softmax = torch.zeros(1,1).to(device)\n",
        "        #self.collect_out_attn = torch.zeros(self.batch_size,self.attn_nodes_per_layer).to(device)\n",
        "        \n",
        "        #self.embed = nn.Embedding(self.vocab_size, self.embed_dim)\n",
        "        self.conv1 = nn.Conv2d(1,  self.channel_size, (3,self.embed_dim), stride = 1) # embed_dim becomes 1\n",
        "        self.conv2 = nn.Conv2d(self.channel_size,  self.channel_size,  \n",
        "                                kernel_size=self.cnn_kernel_size, padding=0,\n",
        "                               stride = self.stride)\n",
        "        self.padding1 = nn.ZeroPad2d((0, 0, 1, 1))  # top bottom\n",
        "        self.padding2 = nn.ZeroPad2d((0, 0, 0, 1))  # bottom\n",
        "        self.max_pool = nn.MaxPool2d(kernel_size=(3, 1), stride=2)      \n",
        "        \n",
        "        self._repeat_block = nn.Sequential( # input [batch_size, num_filters, seq_len-3+1, 1]\n",
        "                    nn.ZeroPad2d((0, 0, 1, 1)), # [batch_size, num_filters, seq_len, 1]\n",
        "                    nn.ReLU(),\n",
        "                    nn.Conv2d(self.channel_size,  self.channel_size,   # [batch_size, num_filters, seq_len-3+1, 1]\n",
        "                                kernel_size=self.cnn_kernel_size, padding=0,\n",
        "                               stride = self.stride),\n",
        "                    nn.ZeroPad2d((0, 0, 1, 1)), # [batch_size, num_filters, seq_len, 1]\n",
        "                    nn.ReLU(),\n",
        "                    nn.Conv2d(self.channel_size,  self.channel_size,  # [batch_size, num_filters, seq_len-3+1, 1]\n",
        "                                kernel_size=self.cnn_kernel_size, padding=0,\n",
        "                               stride = self.stride),\n",
        "            )\n",
        "        \n",
        "        self.maps = None\n",
        "        # To get variying attention weights for 1) softmax output 2) 10 representing features\n",
        "        self.num_repeat_blocks, self.size_repeat_blocks_list = self.dividible(2)\n",
        "        self.weight_softmax_list, self.weight_attn_list = self.getWeights_init()\n",
        "        \n",
        "        self.counter=0\n",
        "        \n",
        "        # Drop probability\n",
        "        self.dropout = nn.Dropout(p=0.2)\n",
        "        # Last linear layer (FC)\n",
        "        self.linear1 = nn.Linear(self.attn_nodes_per_layer*self.num_repeat_blocks,self.output_size_linear)\n",
        "        #self.linear1 = nn.Linear(self.channel_size,self.output_size_linear)\n",
        "          \n",
        "    def repeat_block(self, x): # input [batch_size, num_filters, seq_len-3+1, 1]\n",
        "        x = self.padding2(x) # [batch_size, num_filters, seq_len-1, 1] -> seq_len-3+1+1 = seq_len-1\n",
        "        #print('padding')\n",
        "        x1 = self.max_pool(x)  # [batch_size, num_filters, (seq_len-1) // 3, 1 //1] -> seq_len-3+1+1 = seq_len-1\n",
        "        #print('x1',x1.shape)\n",
        "        # conv block\n",
        "        x2 = self._repeat_block(x1)\n",
        "        #print('x2',x2.shape)\n",
        "        # Identity addition\n",
        "        x = x1 + x2\n",
        "        #print('x1+x2',x.shape)\n",
        "        # to get attn score\n",
        "        #print(\"out softmax weights\",self.weight_softmax_list[self.counter].shape)\n",
        "        #out_softmax = F.linear(x.reshape(1,-1),self.weight_softmax_list[self.counter])\n",
        "        \n",
        "        # fix output features as 10\n",
        "        out_attn = F.linear(x.reshape(x.shape[0],-1),self.weight_attn_list[self.counter])\n",
        "\n",
        "        return x,out_attn\n",
        "\n",
        "    def forward(self, x):\n",
        "        \n",
        "        self.counter =0\n",
        "        #embed = self.bert(sent_id, attention_mask=mask)\n",
        "        #x = embed['last_hidden_state'].unsqueeze(1) # [batch_size, 1, seq_len, embedding_dim]\n",
        "        x = self.conv1(x)  # [batch_size, num_filters, seq_len-3+1, 1]\n",
        "        #print(x.shape)\n",
        "        x = self.padding1(x)  # [batch_size, num_filters, seq_len, 1]\n",
        "        x = F.relu(x)\n",
        "        x = self.conv2(x)  # [batch_size, num_filters, seq_len-3+1, 1]\n",
        "\n",
        "        while x.size()[2] >= 2: # till seq_len is 1\n",
        "            #print(x.shape)\n",
        "            x,out_attn = self.repeat_block(x)  # [batch_size, num_filters,1,1] at the end\n",
        "            #print(out_attn.shape) # 32 x 10\n",
        "            \n",
        "            if self.counter==0:\n",
        "                #self.collect_out_softmax = out_softmax\n",
        "                self.collect_out_attn = out_attn.unsqueeze(2)\n",
        "                #self.collect_out_attn = [out_attn]\n",
        "            else:\n",
        "                #self.collect_out_softmax = torch.cat((self.collect_out_softmax,out_softmax),0)\n",
        "                self.collect_out_attn = torch.cat((self.collect_out_attn,out_attn.unsqueeze(2)),2) \n",
        "                #self.collect_out_attn.append(out_attn)\n",
        "        \n",
        "            self.counter +=1\n",
        "\n",
        "\n",
        "        ## CALCULATION OF DOT PRODUCT ATTENTION ##\n",
        "        #print(\"collect out attn\",self.collect_out_attn.shape) # 32 x 10 x 5\n",
        "        final_collect_out_attn = torch.zeros_like(self.collect_out_attn)\n",
        "        key = self.collect_out_attn.clone() # 32 x 10 x 5\n",
        "        value = self.collect_out_attn.clone() # 32 x 10 x 5\n",
        "        for i in range(self.counter):\n",
        "\n",
        "            #start = i*self.attn_nodes_per_layer\n",
        "            #end = start+self.attn_nodes_per_layer\n",
        "            query = self.collect_out_attn[:,:,i].clone().unsqueeze(2) # 32 x 10 x 1\n",
        "\n",
        "            # dot product and then softmax\n",
        "            in_softmax = torch.bmm(key.transpose(1,2),query)/self.num_repeat_blocks\n",
        "            #print(\"in softmax\",in_softmax.shape) #32 x 5 x 1\n",
        "            #print(\"in soft scores sum\",in_softmax[0,:,0])\n",
        "            prob = F.softmax(in_softmax,1)\n",
        "            #print(\"prob\",prob.shape) #32x 5 x 1\n",
        "            #print(\"prob sum\",prob[0,:,0])\n",
        "            \n",
        "            final_vec = torch.bmm(value,prob) # 32 x 10 x 1\n",
        "            #print(\"final_vec\",final_vec.shape)\n",
        "\n",
        "            if i==0:\n",
        "              output = final_vec\n",
        "              maps = prob.detach().cpu()\n",
        "            else:\n",
        "              output = torch.cat((output,final_vec),2)\n",
        "              maps = torch.cat((maps,prob.detach().cpu()),2)\n",
        "        \n",
        "        #output =  output/self.num_repeat_blocks\n",
        "        #print(\"output\",output.shape) # 32 x 10 x 5\n",
        "\n",
        "\n",
        "\n",
        "        ## FULLY CONNECTED ##\n",
        "        # linear layer\n",
        "        output = self.linear1(output.reshape(x.shape[0],-1))  # [batch_size, output size]\n",
        "        output = self.dropout(output)\n",
        "        return output, maps\n",
        "    \n",
        "    def dividible(self,p):\n",
        "        n=self.seq_len\n",
        "        i = 0\n",
        "        out=[]\n",
        "        while n>=p:\n",
        "            if i==0:\n",
        "                n = (n-2)//2\n",
        "               #n=n-2\n",
        "               #out.append(n-1)\n",
        "            else:\n",
        "                n = n//2\n",
        "                #out.append(n)\n",
        "            i += 1\n",
        "            out.append(n)\n",
        "        return i,out\n",
        "    \n",
        "    def getWeights_init(self):\n",
        "        weights_softmax_list = []\n",
        "        weights_attn_list = []\n",
        "        for i in range(self.num_repeat_blocks):\n",
        "            # size_repeat_blocks_list contains various seq length\n",
        "            #print('batch size', self.batch_size)\n",
        "            #print('seq len', self.size_repeat_blocks_list[i])\n",
        "            #print('channel size', self.channel_size)\n",
        "            weights_softmax_list.append(Variable(torch.randn(1,self.batch_size*1*self.size_repeat_blocks_list[i]*self.channel_size)).to(device))\n",
        "            weights_attn_list.append(Variable(torch.randn(self.attn_nodes_per_layer,1*self.size_repeat_blocks_list[i]*self.channel_size)).to(device)) # fix output features as 10\n",
        "        return weights_softmax_list,weights_attn_list\n",
        "  "
      ],
      "id": "5LUK39A-Gym9",
      "execution_count": 33,
      "outputs": []
    },
    {
      "cell_type": "code",
      "metadata": {
        "id": "MflsFK7RANpl"
      },
      "source": [
        "import pickle\n",
        "filenamedpcnn = '/content/drive/My Drive/content/BertAttnDPCNN5_colab_attention_False_Tweet_Exp6DPCNN.pkl'\n",
        "filenamebert = '/content/drive/My Drive/content/BertAttnDPCNN5_colab_attention_False_Tweet_Exp6BERT.pkl'\n",
        "\n",
        "bert = pickle.load(open(filenamebert, 'rb'))\n",
        "dpcnn = pickle.load(open(filenamedpcnn, 'rb'))\n"
      ],
      "id": "MflsFK7RANpl",
      "execution_count": 34,
      "outputs": []
    },
    {
      "cell_type": "code",
      "metadata": {
        "id": "7Sz1FnUIgDb_"
      },
      "source": [
        "#dpcnn = AttnDPCNN(32,40,768, 3, 128) # batchsize, seq len, embed dim, classes, no of filters\n",
        "dpcnn = dpcnn.to(device)\n",
        "bert = bert.to(device)"
      ],
      "id": "7Sz1FnUIgDb_",
      "execution_count": 35,
      "outputs": []
    },
    {
      "cell_type": "markdown",
      "metadata": {
        "id": "35jFhznsFjeE"
      },
      "source": [
        "TEST"
      ],
      "id": "35jFhznsFjeE"
    },
    {
      "cell_type": "code",
      "metadata": {
        "id": "k4H1U-OH0u4u"
      },
      "source": [
        "# function for evaluating the model\n",
        "def test():\n",
        "  \n",
        "  print(\"\\nEvaluating...\")\n",
        "  t0 = time.time()\n",
        "  # deactivate dropout layers\n",
        "  #model.eval() replace below?\n",
        "\n",
        "  #load weights of best model\n",
        "  #bpath = 'bert_saved_weights.pt'\n",
        "  #bert.load_state_dict(bert.load(bpath))\n",
        "\n",
        "  bert.eval()\n",
        "  dpcnn.eval()\n",
        "\n",
        "  total_loss, total_accuracy = 0, 0\n",
        "  \n",
        "  # empty list to save the model predictions\n",
        "  total_preds = []\n",
        "  total_targets = []\n",
        "  maps_list=[]\n",
        "  # iterate over batches\n",
        "  for step,batch in enumerate(test_dataloader):\n",
        "    \n",
        "    # Progress update every 50 batches.\n",
        "    if step % 50 == 0 and not step == 0:\n",
        "      \n",
        "      # Calculate elapsed time in minutes.\n",
        "      elapsed = time.time() - t0\n",
        "            \n",
        "      # Report progress.\n",
        "      print('  Batch {:>5,}  of  {:>5,}.'.format(step, len(test_dataloader)))\n",
        "\n",
        "    # push the batch to gpu\n",
        "    batch = [t.to(device) for t in batch]\n",
        "\n",
        "    sent_id, mask, labels = batch\n",
        "\n",
        "    # deactivate autograd\n",
        "    with torch.no_grad():\n",
        "      \n",
        "      # model predictions\n",
        "      embed = bert(sent_id, attention_mask=mask)\n",
        "      x = embed['last_hidden_state'].unsqueeze(1) # [batch_size, 1, seq_len, embedding_dim]\n",
        "      preds,maps = dpcnn(x)\n",
        "      maps_list.append(maps)\n",
        "      # compute the validation loss between actual and predicted values\n",
        "      #loss = cross_entropy(preds,labels)\n",
        "\n",
        "      #total_loss = total_loss + loss.item()\n",
        "\n",
        "      preds = preds.detach().cpu()\n",
        "      labels = labels.detach().cpu()\n",
        "\n",
        "      total_preds.append(preds.numpy())\n",
        "      total_targets.append(labels.numpy())\n",
        "  # compute the validation loss of the epoch\n",
        "  #avg_loss = total_loss / len(test_dataloader) \n",
        "\n",
        "  # reshape the predictions in form of (number of samples, no. of classes)\n",
        "  total_preds  = np.concatenate(total_preds, axis=0)\n",
        "  total_targets = np.concatenate(total_targets, axis=0)\n",
        "  dpcnn.maps = maps_list\n",
        "  return total_preds, total_targets"
      ],
      "id": "k4H1U-OH0u4u",
      "execution_count": 36,
      "outputs": []
    },
    {
      "cell_type": "code",
      "metadata": {
        "colab": {
          "base_uri": "https://localhost:8080/"
        },
        "id": "xDDsaxyPG7QX",
        "outputId": "605d09b8-fccb-425d-db85-b6e2c5f2140f"
      },
      "source": [
        "test_preds, test_targets = test()\n"
      ],
      "id": "xDDsaxyPG7QX",
      "execution_count": 37,
      "outputs": [
        {
          "output_type": "stream",
          "text": [
            "\n",
            "Evaluating...\n"
          ],
          "name": "stdout"
        }
      ]
    },
    {
      "cell_type": "code",
      "metadata": {
        "colab": {
          "base_uri": "https://localhost:8080/"
        },
        "id": "UFh3HFWTHaII",
        "outputId": "50d137bf-57d1-478a-d206-f4493c792b24"
      },
      "source": [
        "test_preds2 = test_preds.argmax(axis=1)\n",
        "test_preds2.shape"
      ],
      "id": "UFh3HFWTHaII",
      "execution_count": 38,
      "outputs": [
        {
          "output_type": "execute_result",
          "data": {
            "text/plain": [
              "(32,)"
            ]
          },
          "metadata": {
            "tags": []
          },
          "execution_count": 38
        }
      ]
    },
    {
      "cell_type": "code",
      "metadata": {
        "colab": {
          "base_uri": "https://localhost:8080/"
        },
        "id": "p9D25hbWH3Oe",
        "outputId": "3981ea4e-b143-4e94-e72e-4cadece4e489"
      },
      "source": [
        "test_targets.shape"
      ],
      "id": "p9D25hbWH3Oe",
      "execution_count": 39,
      "outputs": [
        {
          "output_type": "execute_result",
          "data": {
            "text/plain": [
              "(32,)"
            ]
          },
          "metadata": {
            "tags": []
          },
          "execution_count": 39
        }
      ]
    },
    {
      "cell_type": "code",
      "metadata": {
        "id": "cR2Tk-eXD1u5"
      },
      "source": [
        "correct = []\n",
        "wrong = []\n",
        "for i,(target,pred) in enumerate(zip(test_targets,test_preds2)):\n",
        "  if target == pred:\n",
        "    correct.append(i)\n",
        "  else:\n",
        "    wrong.append(i)\n"
      ],
      "id": "cR2Tk-eXD1u5",
      "execution_count": 40,
      "outputs": []
    },
    {
      "cell_type": "code",
      "metadata": {
        "colab": {
          "base_uri": "https://localhost:8080/"
        },
        "id": "kV2RwZx8FMfx",
        "outputId": "de60db47-13cf-4cda-a8cd-5ff2325e03f4"
      },
      "source": [
        "print(len(correct))\n",
        "print(len(wrong))\n",
        "print(len(dpcnn.maps))"
      ],
      "id": "kV2RwZx8FMfx",
      "execution_count": 41,
      "outputs": [
        {
          "output_type": "stream",
          "text": [
            "28\n",
            "4\n",
            "1\n"
          ],
          "name": "stdout"
        }
      ]
    },
    {
      "cell_type": "code",
      "metadata": {
        "id": "J5fMUV06ArM1",
        "colab": {
          "base_uri": "https://localhost:8080/"
        },
        "outputId": "bbf88dd5-075a-4173-9280-04dc338f4e11"
      },
      "source": [
        "dpcnn.maps[0].shape\n"
      ],
      "id": "J5fMUV06ArM1",
      "execution_count": 42,
      "outputs": [
        {
          "output_type": "execute_result",
          "data": {
            "text/plain": [
              "torch.Size([32, 4, 4])"
            ]
          },
          "metadata": {
            "tags": []
          },
          "execution_count": 42
        }
      ]
    },
    {
      "cell_type": "code",
      "metadata": {
        "colab": {
          "base_uri": "https://localhost:8080/"
        },
        "id": "4Hj5b6zvIRCm",
        "outputId": "8b88a988-3320-4fff-b46d-5987253c3c6c"
      },
      "source": [
        "correct[0:5]"
      ],
      "id": "4Hj5b6zvIRCm",
      "execution_count": 43,
      "outputs": [
        {
          "output_type": "execute_result",
          "data": {
            "text/plain": [
              "[0, 1, 3, 4, 5]"
            ]
          },
          "metadata": {
            "tags": []
          },
          "execution_count": 43
        }
      ]
    },
    {
      "cell_type": "code",
      "metadata": {
        "colab": {
          "base_uri": "https://localhost:8080/"
        },
        "id": "eN84eYHrFWWB",
        "outputId": "6c1d3acb-dee9-4c05-fa2a-11745e7a6b61"
      },
      "source": [
        "wrong"
      ],
      "id": "eN84eYHrFWWB",
      "execution_count": 44,
      "outputs": [
        {
          "output_type": "execute_result",
          "data": {
            "text/plain": [
              "[2, 17, 21, 28]"
            ]
          },
          "metadata": {
            "tags": []
          },
          "execution_count": 44
        }
      ]
    },
    {
      "cell_type": "code",
      "metadata": {
        "id": "rjavQrJhKjfU"
      },
      "source": [
        "df1=test_labels.reset_index()\n",
        "df2=test_text.reset_index()"
      ],
      "id": "rjavQrJhKjfU",
      "execution_count": 45,
      "outputs": []
    },
    {
      "cell_type": "markdown",
      "metadata": {
        "id": "DmoRXCt7SxzN"
      },
      "source": [
        "Visualization of incorrect prediction with attention map - 1st example"
      ],
      "id": "DmoRXCt7SxzN"
    },
    {
      "cell_type": "code",
      "metadata": {
        "colab": {
          "base_uri": "https://localhost:8080/"
        },
        "id": "TH0_7dmHLA39",
        "outputId": "d14513a1-a4fc-46a0-abbb-5648273fefc8"
      },
      "source": [
        "print(df1['sentiment'][2])\n",
        "print(df2['text'][2])"
      ],
      "id": "TH0_7dmHLA39",
      "execution_count": 46,
      "outputs": [
        {
          "output_type": "stream",
          "text": [
            "0\n",
            "@united have since dropped to 2 layovers but still not acceptable.\n"
          ],
          "name": "stdout"
        }
      ]
    },
    {
      "cell_type": "code",
      "metadata": {
        "id": "CKmp9DQhFWKN"
      },
      "source": [
        "maps = dpcnn.maps[0]\n",
        "map = maps[2,:,:]"
      ],
      "id": "CKmp9DQhFWKN",
      "execution_count": 47,
      "outputs": []
    },
    {
      "cell_type": "code",
      "metadata": {
        "colab": {
          "base_uri": "https://localhost:8080/",
          "height": 269
        },
        "id": "Oh-267nuFWGq",
        "outputId": "95de2d45-7e9c-4ce8-c0a2-79b360c7fe26"
      },
      "source": [
        "import matplotlib.pyplot as plt\n",
        "plt.imshow(map)\n",
        "plt.colorbar()\n",
        "plt.show()"
      ],
      "id": "Oh-267nuFWGq",
      "execution_count": 48,
      "outputs": [
        {
          "output_type": "display_data",
          "data": {
            "image/png": "[encoded data removed]",
            "text/plain": [
              "<Figure size 432x288 with 2 Axes>"
            ]
          },
          "metadata": {
            "tags": [],
            "needs_background": "light"
          }
        }
      ]
    },
    {
      "cell_type": "markdown",
      "metadata": {
        "id": "pZIrMGOmS6Al"
      },
      "source": [
        "Visualization of incorrect prediction with attention map - 2nd example"
      ],
      "id": "pZIrMGOmS6Al"
    },
    {
      "cell_type": "code",
      "metadata": {
        "colab": {
          "base_uri": "https://localhost:8080/"
        },
        "id": "2KUxnr_TJR62",
        "outputId": "62005121-58c0-400d-9de0-486c1238a2cf"
      },
      "source": [
        "print(df1['sentiment'][17])\n",
        "print(df2['text'][17])"
      ],
      "id": "2KUxnr_TJR62",
      "execution_count": 57,
      "outputs": [
        {
          "output_type": "stream",
          "text": [
            "0\n",
            "@USAirways AND my rebooked flt isn't until Monday??  AND I don't get a voucher for a hotel?!  Never again, US airways.\n"
          ],
          "name": "stdout"
        }
      ]
    },
    {
      "cell_type": "code",
      "metadata": {
        "colab": {
          "base_uri": "https://localhost:8080/",
          "height": 269
        },
        "id": "himi8acDJeKt",
        "outputId": "ff88aba0-f817-4745-b305-646b8905d26b"
      },
      "source": [
        "maps = dpcnn.maps[0]\n",
        "map = maps[17,:,:]\n",
        "plt.imshow(map)\n",
        "plt.colorbar()\n",
        "plt.show()"
      ],
      "id": "himi8acDJeKt",
      "execution_count": 56,
      "outputs": [
        {
          "output_type": "display_data",
          "data": {
            "image/png": "[encoded data removed]",
            "text/plain": [
              "<Figure size 432x288 with 2 Axes>"
            ]
          },
          "metadata": {
            "tags": [],
            "needs_background": "light"
          }
        }
      ]
    },
    {
      "cell_type": "markdown",
      "metadata": {
        "id": "dx50cAWSdYsb"
      },
      "source": [
        "Visualization of incorrect prediction with attention map - 3rd example"
      ],
      "id": "dx50cAWSdYsb"
    },
    {
      "cell_type": "code",
      "metadata": {
        "colab": {
          "base_uri": "https://localhost:8080/",
          "height": 304
        },
        "id": "yARDrdMbcpxO",
        "outputId": "bf1a5938-1209-48df-d32d-c850125db7fa"
      },
      "source": [
        "print(df1['sentiment'][21])\n",
        "print(df2['text'][21])\n",
        "maps = dpcnn.maps[0]\n",
        "map = maps[21,:,:]\n",
        "plt.imshow(map)\n",
        "plt.colorbar()\n",
        "plt.show()"
      ],
      "id": "yARDrdMbcpxO",
      "execution_count": 58,
      "outputs": [
        {
          "output_type": "stream",
          "text": [
            "2\n",
            "@united would love help getting there today. In #EWR now. Will take any airline and connections. Thx\n"
          ],
          "name": "stdout"
        },
        {
          "output_type": "display_data",
          "data": {
            "image/png": "[encoded data removed]",
            "text/plain": [
              "<Figure size 432x288 with 2 Axes>"
            ]
          },
          "metadata": {
            "tags": [],
            "needs_background": "light"
          }
        }
      ]
    },
    {
      "cell_type": "markdown",
      "metadata": {
        "id": "80w9E_VPdaXs"
      },
      "source": [
        "Visualization of incorrect prediction with attention map - 4th example"
      ],
      "id": "80w9E_VPdaXs"
    },
    {
      "cell_type": "code",
      "metadata": {
        "colab": {
          "base_uri": "https://localhost:8080/",
          "height": 304
        },
        "id": "y0tSgBT6c4ka",
        "outputId": "fca320fc-d34f-43c3-f902-49bdf035853b"
      },
      "source": [
        "print(df1['sentiment'][28])\n",
        "print(df2['text'][28])\n",
        "maps = dpcnn.maps[0]\n",
        "map = maps[21,:,:]\n",
        "plt.imshow(map)\n",
        "plt.colorbar()\n",
        "plt.show()"
      ],
      "id": "y0tSgBT6c4ka",
      "execution_count": 59,
      "outputs": [
        {
          "output_type": "stream",
          "text": [
            "2\n",
            "@AmericanAir @dfwairport Guys, let it go. http://t.co/vOxcghciJi\n"
          ],
          "name": "stdout"
        },
        {
          "output_type": "display_data",
          "data": {
            "image/png": "[encoded data removed]",
            "text/plain": [
              "<Figure size 432x288 with 2 Axes>"
            ]
          },
          "metadata": {
            "tags": [],
            "needs_background": "light"
          }
        }
      ]
    },
    {
      "cell_type": "markdown",
      "metadata": {
        "id": "2qBa07QgSqCH"
      },
      "source": [
        "Visualization of correct prediction with attention map"
      ],
      "id": "2qBa07QgSqCH"
    },
    {
      "cell_type": "code",
      "metadata": {
        "colab": {
          "base_uri": "https://localhost:8080/"
        },
        "id": "-9LMWodVLiQF",
        "outputId": "765802d8-3e33-4fb4-d802-353d1a82ff2e"
      },
      "source": [
        "print(df1['sentiment'][0])\n",
        "print(df2['text'][0])"
      ],
      "id": "-9LMWodVLiQF",
      "execution_count": null,
      "outputs": [
        {
          "output_type": "stream",
          "text": [
            "2\n",
            "The transaction doubles Tecnomens workforse , and adds a fourth to their net sales .\n"
          ],
          "name": "stdout"
        }
      ]
    },
    {
      "cell_type": "code",
      "metadata": {
        "colab": {
          "base_uri": "https://localhost:8080/",
          "height": 269
        },
        "id": "CIZ72CMeJe4c",
        "outputId": "02a52786-74e5-4624-bcac-9cdef778bdb9"
      },
      "source": [
        "maps = dpcnn.maps[0]\n",
        "map = maps[0,:,:]\n",
        "plt.imshow(map)\n",
        "plt.colorbar()\n",
        "plt.show()"
      ],
      "id": "CIZ72CMeJe4c",
      "execution_count": 51,
      "outputs": [
        {
          "output_type": "display_data",
          "data": {
            "image/png": "[encoded data removed]",
            "text/plain": [
              "<Figure size 432x288 with 2 Axes>"
            ]
          },
          "metadata": {
            "tags": [],
            "needs_background": "light"
          }
        }
      ]
    },
    {
      "cell_type": "code",
      "metadata": {
        "id": "E0khw5aCJqT1"
      },
      "source": [
        ""
      ],
      "id": "E0khw5aCJqT1",
      "execution_count": null,
      "outputs": []
    },
    {
      "cell_type": "markdown",
      "metadata": {
        "id": "SfwIZ6bGShDT"
      },
      "source": [
        "Visualization of features and classes"
      ],
      "id": "SfwIZ6bGShDT"
    },
    {
      "cell_type": "code",
      "metadata": {
        "colab": {
          "base_uri": "https://localhost:8080/",
          "height": 576
        },
        "id": "jGDhIyfkRBTO",
        "outputId": "1632e09f-c6d4-4b41-9bea-ab84f4db3d36"
      },
      "source": [
        "import matplotlib.pyplot as plt\n",
        "map = dpcnn.linear1.weight.detach().cpu().numpy()\n",
        "plt.figure(figsize=(20,10))\n",
        "plt.imshow(map)\n",
        "plt.colorbar()\n",
        "plt.show()"
      ],
      "id": "jGDhIyfkRBTO",
      "execution_count": 52,
      "outputs": [
        {
          "output_type": "display_data",
          "data": {
            "image/png": "[encoded data removed]",
            "text/plain": [
              "<Figure size 1440x720 with 2 Axes>"
            ]
          },
          "metadata": {
            "tags": [],
            "needs_background": "light"
          }
        }
      ]
    },
    {
      "cell_type": "code",
      "metadata": {
        "id": "nupxDcukRNEe"
      },
      "source": [
        ""
      ],
      "id": "nupxDcukRNEe",
      "execution_count": null,
      "outputs": []
    }
  ]
}