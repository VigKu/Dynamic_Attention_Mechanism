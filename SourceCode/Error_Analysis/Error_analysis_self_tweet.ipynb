{
  "nbformat": 4,
  "nbformat_minor": 5,
  "metadata": {
    "accelerator": "GPU",
    "colab": {
      "name": "Error_analysis_self_tweet.ipynb",
      "provenance": [],
      "collapsed_sections": []
    },
    "kernelspec": {
      "display_name": "Python 3",
      "language": "python",
      "name": "python3"
    },
    "language_info": {
      "codemirror_mode": {
        "name": "ipython",
        "version": 3
      },
      "file_extension": ".py",
      "mimetype": "text/x-python",
      "name": "python",
      "nbconvert_exporter": "python",
      "pygments_lexer": "ipython3",
      "version": "3.9.2"
    },
    "widgets": {
      "application/vnd.jupyter.widget-state+json": {
        "3ae03dcb306f4ee089150927c964daa8": {
          "model_module": "@jupyter-widgets/controls",
          "model_name": "HBoxModel",
          "state": {
            "_view_name": "HBoxView",
            "_dom_classes": [],
            "_model_name": "HBoxModel",
            "_view_module": "@jupyter-widgets/controls",
            "_model_module_version": "1.5.0",
            "_view_count": null,
            "_view_module_version": "1.5.0",
            "box_style": "",
            "layout": "IPY_MODEL_d5c49a088e2740128c2989d770db2046",
            "_model_module": "@jupyter-widgets/controls",
            "children": [
              "IPY_MODEL_b33ca19d0aca4a319c8f0e0450e4910f",
              "IPY_MODEL_c707a1e0af8e4224ac27eb166eeedb53"
            ]
          }
        },
        "d5c49a088e2740128c2989d770db2046": {
          "model_module": "@jupyter-widgets/base",
          "model_name": "LayoutModel",
          "state": {
            "_view_name": "LayoutView",
            "grid_template_rows": null,
            "right": null,
            "justify_content": null,
            "_view_module": "@jupyter-widgets/base",
            "overflow": null,
            "_model_module_version": "1.2.0",
            "_view_count": null,
            "flex_flow": null,
            "width": null,
            "min_width": null,
            "border": null,
            "align_items": null,
            "bottom": null,
            "_model_module": "@jupyter-widgets/base",
            "top": null,
            "grid_column": null,
            "overflow_y": null,
            "overflow_x": null,
            "grid_auto_flow": null,
            "grid_area": null,
            "grid_template_columns": null,
            "flex": null,
            "_model_name": "LayoutModel",
            "justify_items": null,
            "grid_row": null,
            "max_height": null,
            "align_content": null,
            "visibility": null,
            "align_self": null,
            "height": null,
            "min_height": null,
            "padding": null,
            "grid_auto_rows": null,
            "grid_gap": null,
            "max_width": null,
            "order": null,
            "_view_module_version": "1.2.0",
            "grid_template_areas": null,
            "object_position": null,
            "object_fit": null,
            "grid_auto_columns": null,
            "margin": null,
            "display": null,
            "left": null
          }
        },
        "b33ca19d0aca4a319c8f0e0450e4910f": {
          "model_module": "@jupyter-widgets/controls",
          "model_name": "FloatProgressModel",
          "state": {
            "_view_name": "ProgressView",
            "style": "IPY_MODEL_c911d48e80174fb496c8bb6789f47d09",
            "_dom_classes": [],
            "description": "Downloading: 100%",
            "_model_name": "FloatProgressModel",
            "bar_style": "success",
            "max": 231508,
            "_view_module": "@jupyter-widgets/controls",
            "_model_module_version": "1.5.0",
            "value": 231508,
            "_view_count": null,
            "_view_module_version": "1.5.0",
            "orientation": "horizontal",
            "min": 0,
            "description_tooltip": null,
            "_model_module": "@jupyter-widgets/controls",
            "layout": "IPY_MODEL_d884f766e14040f9a4c48b213e003d50"
          }
        },
        "c707a1e0af8e4224ac27eb166eeedb53": {
          "model_module": "@jupyter-widgets/controls",
          "model_name": "HTMLModel",
          "state": {
            "_view_name": "HTMLView",
            "style": "IPY_MODEL_cdd3394f131e44e98349ceb82a01fd9e",
            "_dom_classes": [],
            "description": "",
            "_model_name": "HTMLModel",
            "placeholder": "​",
            "_view_module": "@jupyter-widgets/controls",
            "_model_module_version": "1.5.0",
            "value": " 232k/232k [00:00&lt;00:00, 1.99MB/s]",
            "_view_count": null,
            "_view_module_version": "1.5.0",
            "description_tooltip": null,
            "_model_module": "@jupyter-widgets/controls",
            "layout": "IPY_MODEL_64a3630a91784957b4bd8178cc28b184"
          }
        },
        "c911d48e80174fb496c8bb6789f47d09": {
          "model_module": "@jupyter-widgets/controls",
          "model_name": "ProgressStyleModel",
          "state": {
            "_view_name": "StyleView",
            "_model_name": "ProgressStyleModel",
            "description_width": "initial",
            "_view_module": "@jupyter-widgets/base",
            "_model_module_version": "1.5.0",
            "_view_count": null,
            "_view_module_version": "1.2.0",
            "bar_color": null,
            "_model_module": "@jupyter-widgets/controls"
          }
        },
        "d884f766e14040f9a4c48b213e003d50": {
          "model_module": "@jupyter-widgets/base",
          "model_name": "LayoutModel",
          "state": {
            "_view_name": "LayoutView",
            "grid_template_rows": null,
            "right": null,
            "justify_content": null,
            "_view_module": "@jupyter-widgets/base",
            "overflow": null,
            "_model_module_version": "1.2.0",
            "_view_count": null,
            "flex_flow": null,
            "width": null,
            "min_width": null,
            "border": null,
            "align_items": null,
            "bottom": null,
            "_model_module": "@jupyter-widgets/base",
            "top": null,
            "grid_column": null,
            "overflow_y": null,
            "overflow_x": null,
            "grid_auto_flow": null,
            "grid_area": null,
            "grid_template_columns": null,
            "flex": null,
            "_model_name": "LayoutModel",
            "justify_items": null,
            "grid_row": null,
            "max_height": null,
            "align_content": null,
            "visibility": null,
            "align_self": null,
            "height": null,
            "min_height": null,
            "padding": null,
            "grid_auto_rows": null,
            "grid_gap": null,
            "max_width": null,
            "order": null,
            "_view_module_version": "1.2.0",
            "grid_template_areas": null,
            "object_position": null,
            "object_fit": null,
            "grid_auto_columns": null,
            "margin": null,
            "display": null,
            "left": null
          }
        },
        "cdd3394f131e44e98349ceb82a01fd9e": {
          "model_module": "@jupyter-widgets/controls",
          "model_name": "DescriptionStyleModel",
          "state": {
            "_view_name": "StyleView",
            "_model_name": "DescriptionStyleModel",
            "description_width": "",
            "_view_module": "@jupyter-widgets/base",
            "_model_module_version": "1.5.0",
            "_view_count": null,
            "_view_module_version": "1.2.0",
            "_model_module": "@jupyter-widgets/controls"
          }
        },
        "64a3630a91784957b4bd8178cc28b184": {
          "model_module": "@jupyter-widgets/base",
          "model_name": "LayoutModel",
          "state": {
            "_view_name": "LayoutView",
            "grid_template_rows": null,
            "right": null,
            "justify_content": null,
            "_view_module": "@jupyter-widgets/base",
            "overflow": null,
            "_model_module_version": "1.2.0",
            "_view_count": null,
            "flex_flow": null,
            "width": null,
            "min_width": null,
            "border": null,
            "align_items": null,
            "bottom": null,
            "_model_module": "@jupyter-widgets/base",
            "top": null,
            "grid_column": null,
            "overflow_y": null,
            "overflow_x": null,
            "grid_auto_flow": null,
            "grid_area": null,
            "grid_template_columns": null,
            "flex": null,
            "_model_name": "LayoutModel",
            "justify_items": null,
            "grid_row": null,
            "max_height": null,
            "align_content": null,
            "visibility": null,
            "align_self": null,
            "height": null,
            "min_height": null,
            "padding": null,
            "grid_auto_rows": null,
            "grid_gap": null,
            "max_width": null,
            "order": null,
            "_view_module_version": "1.2.0",
            "grid_template_areas": null,
            "object_position": null,
            "object_fit": null,
            "grid_auto_columns": null,
            "margin": null,
            "display": null,
            "left": null
          }
        },
        "5ce6435bea614e27b5c4a8710ef0fc04": {
          "model_module": "@jupyter-widgets/controls",
          "model_name": "HBoxModel",
          "state": {
            "_view_name": "HBoxView",
            "_dom_classes": [],
            "_model_name": "HBoxModel",
            "_view_module": "@jupyter-widgets/controls",
            "_model_module_version": "1.5.0",
            "_view_count": null,
            "_view_module_version": "1.5.0",
            "box_style": "",
            "layout": "IPY_MODEL_f881307f33514c1f9a988a354541d331",
            "_model_module": "@jupyter-widgets/controls",
            "children": [
              "IPY_MODEL_1a584ac7c42842d8b9fc89a1e614a1d6",
              "IPY_MODEL_c2a5230018d341769e2b87a6466974ce"
            ]
          }
        },
        "f881307f33514c1f9a988a354541d331": {
          "model_module": "@jupyter-widgets/base",
          "model_name": "LayoutModel",
          "state": {
            "_view_name": "LayoutView",
            "grid_template_rows": null,
            "right": null,
            "justify_content": null,
            "_view_module": "@jupyter-widgets/base",
            "overflow": null,
            "_model_module_version": "1.2.0",
            "_view_count": null,
            "flex_flow": null,
            "width": null,
            "min_width": null,
            "border": null,
            "align_items": null,
            "bottom": null,
            "_model_module": "@jupyter-widgets/base",
            "top": null,
            "grid_column": null,
            "overflow_y": null,
            "overflow_x": null,
            "grid_auto_flow": null,
            "grid_area": null,
            "grid_template_columns": null,
            "flex": null,
            "_model_name": "LayoutModel",
            "justify_items": null,
            "grid_row": null,
            "max_height": null,
            "align_content": null,
            "visibility": null,
            "align_self": null,
            "height": null,
            "min_height": null,
            "padding": null,
            "grid_auto_rows": null,
            "grid_gap": null,
            "max_width": null,
            "order": null,
            "_view_module_version": "1.2.0",
            "grid_template_areas": null,
            "object_position": null,
            "object_fit": null,
            "grid_auto_columns": null,
            "margin": null,
            "display": null,
            "left": null
          }
        },
        "1a584ac7c42842d8b9fc89a1e614a1d6": {
          "model_module": "@jupyter-widgets/controls",
          "model_name": "FloatProgressModel",
          "state": {
            "_view_name": "ProgressView",
            "style": "IPY_MODEL_bacb2fa3073a44bc89cd402c0be6af2b",
            "_dom_classes": [],
            "description": "Downloading: 100%",
            "_model_name": "FloatProgressModel",
            "bar_style": "success",
            "max": 466062,
            "_view_module": "@jupyter-widgets/controls",
            "_model_module_version": "1.5.0",
            "value": 466062,
            "_view_count": null,
            "_view_module_version": "1.5.0",
            "orientation": "horizontal",
            "min": 0,
            "description_tooltip": null,
            "_model_module": "@jupyter-widgets/controls",
            "layout": "IPY_MODEL_1b3106b39e724ffe8b2bddfdeefccce4"
          }
        },
        "c2a5230018d341769e2b87a6466974ce": {
          "model_module": "@jupyter-widgets/controls",
          "model_name": "HTMLModel",
          "state": {
            "_view_name": "HTMLView",
            "style": "IPY_MODEL_099775d1de6a41fbb8e13e8e451ac1bc",
            "_dom_classes": [],
            "description": "",
            "_model_name": "HTMLModel",
            "placeholder": "​",
            "_view_module": "@jupyter-widgets/controls",
            "_model_module_version": "1.5.0",
            "value": " 466k/466k [00:00&lt;00:00, 1.29MB/s]",
            "_view_count": null,
            "_view_module_version": "1.5.0",
            "description_tooltip": null,
            "_model_module": "@jupyter-widgets/controls",
            "layout": "IPY_MODEL_1919b0af5efd4497bfbac3700bde935e"
          }
        },
        "bacb2fa3073a44bc89cd402c0be6af2b": {
          "model_module": "@jupyter-widgets/controls",
          "model_name": "ProgressStyleModel",
          "state": {
            "_view_name": "StyleView",
            "_model_name": "ProgressStyleModel",
            "description_width": "initial",
            "_view_module": "@jupyter-widgets/base",
            "_model_module_version": "1.5.0",
            "_view_count": null,
            "_view_module_version": "1.2.0",
            "bar_color": null,
            "_model_module": "@jupyter-widgets/controls"
          }
        },
        "1b3106b39e724ffe8b2bddfdeefccce4": {
          "model_module": "@jupyter-widgets/base",
          "model_name": "LayoutModel",
          "state": {
            "_view_name": "LayoutView",
            "grid_template_rows": null,
            "right": null,
            "justify_content": null,
            "_view_module": "@jupyter-widgets/base",
            "overflow": null,
            "_model_module_version": "1.2.0",
            "_view_count": null,
            "flex_flow": null,
            "width": null,
            "min_width": null,
            "border": null,
            "align_items": null,
            "bottom": null,
            "_model_module": "@jupyter-widgets/base",
            "top": null,
            "grid_column": null,
            "overflow_y": null,
            "overflow_x": null,
            "grid_auto_flow": null,
            "grid_area": null,
            "grid_template_columns": null,
            "flex": null,
            "_model_name": "LayoutModel",
            "justify_items": null,
            "grid_row": null,
            "max_height": null,
            "align_content": null,
            "visibility": null,
            "align_self": null,
            "height": null,
            "min_height": null,
            "padding": null,
            "grid_auto_rows": null,
            "grid_gap": null,
            "max_width": null,
            "order": null,
            "_view_module_version": "1.2.0",
            "grid_template_areas": null,
            "object_position": null,
            "object_fit": null,
            "grid_auto_columns": null,
            "margin": null,
            "display": null,
            "left": null
          }
        },
        "099775d1de6a41fbb8e13e8e451ac1bc": {
          "model_module": "@jupyter-widgets/controls",
          "model_name": "DescriptionStyleModel",
          "state": {
            "_view_name": "StyleView",
            "_model_name": "DescriptionStyleModel",
            "description_width": "",
            "_view_module": "@jupyter-widgets/base",
            "_model_module_version": "1.5.0",
            "_view_count": null,
            "_view_module_version": "1.2.0",
            "_model_module": "@jupyter-widgets/controls"
          }
        },
        "1919b0af5efd4497bfbac3700bde935e": {
          "model_module": "@jupyter-widgets/base",
          "model_name": "LayoutModel",
          "state": {
            "_view_name": "LayoutView",
            "grid_template_rows": null,
            "right": null,
            "justify_content": null,
            "_view_module": "@jupyter-widgets/base",
            "overflow": null,
            "_model_module_version": "1.2.0",
            "_view_count": null,
            "flex_flow": null,
            "width": null,
            "min_width": null,
            "border": null,
            "align_items": null,
            "bottom": null,
            "_model_module": "@jupyter-widgets/base",
            "top": null,
            "grid_column": null,
            "overflow_y": null,
            "overflow_x": null,
            "grid_auto_flow": null,
            "grid_area": null,
            "grid_template_columns": null,
            "flex": null,
            "_model_name": "LayoutModel",
            "justify_items": null,
            "grid_row": null,
            "max_height": null,
            "align_content": null,
            "visibility": null,
            "align_self": null,
            "height": null,
            "min_height": null,
            "padding": null,
            "grid_auto_rows": null,
            "grid_gap": null,
            "max_width": null,
            "order": null,
            "_view_module_version": "1.2.0",
            "grid_template_areas": null,
            "object_position": null,
            "object_fit": null,
            "grid_auto_columns": null,
            "margin": null,
            "display": null,
            "left": null
          }
        },
        "c535773cd8d2488a820f165d159837e6": {
          "model_module": "@jupyter-widgets/controls",
          "model_name": "HBoxModel",
          "state": {
            "_view_name": "HBoxView",
            "_dom_classes": [],
            "_model_name": "HBoxModel",
            "_view_module": "@jupyter-widgets/controls",
            "_model_module_version": "1.5.0",
            "_view_count": null,
            "_view_module_version": "1.5.0",
            "box_style": "",
            "layout": "IPY_MODEL_bbed3c5e63b34c6c95161d465d93b297",
            "_model_module": "@jupyter-widgets/controls",
            "children": [
              "IPY_MODEL_93b26d248c2840c2b9d060cac8a12faf",
              "IPY_MODEL_c05c3e07da9c46fabd18e27e2c48e093"
            ]
          }
        },
        "bbed3c5e63b34c6c95161d465d93b297": {
          "model_module": "@jupyter-widgets/base",
          "model_name": "LayoutModel",
          "state": {
            "_view_name": "LayoutView",
            "grid_template_rows": null,
            "right": null,
            "justify_content": null,
            "_view_module": "@jupyter-widgets/base",
            "overflow": null,
            "_model_module_version": "1.2.0",
            "_view_count": null,
            "flex_flow": null,
            "width": null,
            "min_width": null,
            "border": null,
            "align_items": null,
            "bottom": null,
            "_model_module": "@jupyter-widgets/base",
            "top": null,
            "grid_column": null,
            "overflow_y": null,
            "overflow_x": null,
            "grid_auto_flow": null,
            "grid_area": null,
            "grid_template_columns": null,
            "flex": null,
            "_model_name": "LayoutModel",
            "justify_items": null,
            "grid_row": null,
            "max_height": null,
            "align_content": null,
            "visibility": null,
            "align_self": null,
            "height": null,
            "min_height": null,
            "padding": null,
            "grid_auto_rows": null,
            "grid_gap": null,
            "max_width": null,
            "order": null,
            "_view_module_version": "1.2.0",
            "grid_template_areas": null,
            "object_position": null,
            "object_fit": null,
            "grid_auto_columns": null,
            "margin": null,
            "display": null,
            "left": null
          }
        },
        "93b26d248c2840c2b9d060cac8a12faf": {
          "model_module": "@jupyter-widgets/controls",
          "model_name": "FloatProgressModel",
          "state": {
            "_view_name": "ProgressView",
            "style": "IPY_MODEL_3b7c563621074222a86ef08597569b0f",
            "_dom_classes": [],
            "description": "Downloading: 100%",
            "_model_name": "FloatProgressModel",
            "bar_style": "success",
            "max": 28,
            "_view_module": "@jupyter-widgets/controls",
            "_model_module_version": "1.5.0",
            "value": 28,
            "_view_count": null,
            "_view_module_version": "1.5.0",
            "orientation": "horizontal",
            "min": 0,
            "description_tooltip": null,
            "_model_module": "@jupyter-widgets/controls",
            "layout": "IPY_MODEL_15eae8ec03164a55a3264b458176a61e"
          }
        },
        "c05c3e07da9c46fabd18e27e2c48e093": {
          "model_module": "@jupyter-widgets/controls",
          "model_name": "HTMLModel",
          "state": {
            "_view_name": "HTMLView",
            "style": "IPY_MODEL_d37a222050c243cbb3912b146d5e5f5d",
            "_dom_classes": [],
            "description": "",
            "_model_name": "HTMLModel",
            "placeholder": "​",
            "_view_module": "@jupyter-widgets/controls",
            "_model_module_version": "1.5.0",
            "value": " 28.0/28.0 [00:00&lt;00:00, 133B/s]",
            "_view_count": null,
            "_view_module_version": "1.5.0",
            "description_tooltip": null,
            "_model_module": "@jupyter-widgets/controls",
            "layout": "IPY_MODEL_55365afdb2094d6d9e99127d88da30a6"
          }
        },
        "3b7c563621074222a86ef08597569b0f": {
          "model_module": "@jupyter-widgets/controls",
          "model_name": "ProgressStyleModel",
          "state": {
            "_view_name": "StyleView",
            "_model_name": "ProgressStyleModel",
            "description_width": "initial",
            "_view_module": "@jupyter-widgets/base",
            "_model_module_version": "1.5.0",
            "_view_count": null,
            "_view_module_version": "1.2.0",
            "bar_color": null,
            "_model_module": "@jupyter-widgets/controls"
          }
        },
        "15eae8ec03164a55a3264b458176a61e": {
          "model_module": "@jupyter-widgets/base",
          "model_name": "LayoutModel",
          "state": {
            "_view_name": "LayoutView",
            "grid_template_rows": null,
            "right": null,
            "justify_content": null,
            "_view_module": "@jupyter-widgets/base",
            "overflow": null,
            "_model_module_version": "1.2.0",
            "_view_count": null,
            "flex_flow": null,
            "width": null,
            "min_width": null,
            "border": null,
            "align_items": null,
            "bottom": null,
            "_model_module": "@jupyter-widgets/base",
            "top": null,
            "grid_column": null,
            "overflow_y": null,
            "overflow_x": null,
            "grid_auto_flow": null,
            "grid_area": null,
            "grid_template_columns": null,
            "flex": null,
            "_model_name": "LayoutModel",
            "justify_items": null,
            "grid_row": null,
            "max_height": null,
            "align_content": null,
            "visibility": null,
            "align_self": null,
            "height": null,
            "min_height": null,
            "padding": null,
            "grid_auto_rows": null,
            "grid_gap": null,
            "max_width": null,
            "order": null,
            "_view_module_version": "1.2.0",
            "grid_template_areas": null,
            "object_position": null,
            "object_fit": null,
            "grid_auto_columns": null,
            "margin": null,
            "display": null,
            "left": null
          }
        },
        "d37a222050c243cbb3912b146d5e5f5d": {
          "model_module": "@jupyter-widgets/controls",
          "model_name": "DescriptionStyleModel",
          "state": {
            "_view_name": "StyleView",
            "_model_name": "DescriptionStyleModel",
            "description_width": "",
            "_view_module": "@jupyter-widgets/base",
            "_model_module_version": "1.5.0",
            "_view_count": null,
            "_view_module_version": "1.2.0",
            "_model_module": "@jupyter-widgets/controls"
          }
        },
        "55365afdb2094d6d9e99127d88da30a6": {
          "model_module": "@jupyter-widgets/base",
          "model_name": "LayoutModel",
          "state": {
            "_view_name": "LayoutView",
            "grid_template_rows": null,
            "right": null,
            "justify_content": null,
            "_view_module": "@jupyter-widgets/base",
            "overflow": null,
            "_model_module_version": "1.2.0",
            "_view_count": null,
            "flex_flow": null,
            "width": null,
            "min_width": null,
            "border": null,
            "align_items": null,
            "bottom": null,
            "_model_module": "@jupyter-widgets/base",
            "top": null,
            "grid_column": null,
            "overflow_y": null,
            "overflow_x": null,
            "grid_auto_flow": null,
            "grid_area": null,
            "grid_template_columns": null,
            "flex": null,
            "_model_name": "LayoutModel",
            "justify_items": null,
            "grid_row": null,
            "max_height": null,
            "align_content": null,
            "visibility": null,
            "align_self": null,
            "height": null,
            "min_height": null,
            "padding": null,
            "grid_auto_rows": null,
            "grid_gap": null,
            "max_width": null,
            "order": null,
            "_view_module_version": "1.2.0",
            "grid_template_areas": null,
            "object_position": null,
            "object_fit": null,
            "grid_auto_columns": null,
            "margin": null,
            "display": null,
            "left": null
          }
        }
      }
    }
  },
  "cells": [
    {
      "cell_type": "code",
      "metadata": {
        "id": "8fghEE8Hnf9L"
      },
      "source": [
        "#https://github.com/bentrevett/pytorch-sentiment-analysis\n",
        "#https://github.com/bentrevett/pytorch-sentiment-analysis/blob/master/6%20-%20Transformers%20for%20Sentiment%20Analysis.ipynb"
      ],
      "id": "8fghEE8Hnf9L",
      "execution_count": null,
      "outputs": []
    },
    {
      "cell_type": "code",
      "metadata": {
        "colab": {
          "base_uri": "https://localhost:8080/"
        },
        "id": "XpYzR-xRn1pY",
        "outputId": "6cc0e1cb-6190-495c-b9ee-5cd2c2c5b2f5"
      },
      "source": [
        "pip install transformers"
      ],
      "id": "XpYzR-xRn1pY",
      "execution_count": 1,
      "outputs": [
        {
          "output_type": "stream",
          "text": [
            "Collecting transformers\n",
            "\u001b[?25l  Downloading https://files.pythonhosted.org/packages/d8/b2/57495b5309f09fa501866e225c84532d1fd89536ea62406b2181933fb418/transformers-4.5.1-py3-none-any.whl (2.1MB)\n",
            "\u001b[K     |████████████████████████████████| 2.1MB 18.2MB/s \n",
            "\u001b[?25hRequirement already satisfied: tqdm>=4.27 in /usr/local/lib/python3.7/dist-packages (from transformers) (4.41.1)\n",
            "Collecting sacremoses\n",
            "\u001b[?25l  Downloading https://files.pythonhosted.org/packages/75/ee/67241dc87f266093c533a2d4d3d69438e57d7a90abb216fa076e7d475d4a/sacremoses-0.0.45-py3-none-any.whl (895kB)\n",
            "\u001b[K     |████████████████████████████████| 901kB 48.4MB/s \n",
            "\u001b[?25hRequirement already satisfied: importlib-metadata; python_version < \"3.8\" in /usr/local/lib/python3.7/dist-packages (from transformers) (3.10.1)\n",
            "Requirement already satisfied: packaging in /usr/local/lib/python3.7/dist-packages (from transformers) (20.9)\n",
            "Requirement already satisfied: regex!=2019.12.17 in /usr/local/lib/python3.7/dist-packages (from transformers) (2019.12.20)\n",
            "Requirement already satisfied: requests in /usr/local/lib/python3.7/dist-packages (from transformers) (2.23.0)\n",
            "Requirement already satisfied: numpy>=1.17 in /usr/local/lib/python3.7/dist-packages (from transformers) (1.19.5)\n",
            "Requirement already satisfied: filelock in /usr/local/lib/python3.7/dist-packages (from transformers) (3.0.12)\n",
            "Collecting tokenizers<0.11,>=0.10.1\n",
            "\u001b[?25l  Downloading https://files.pythonhosted.org/packages/ae/04/5b870f26a858552025a62f1649c20d29d2672c02ff3c3fb4c688ca46467a/tokenizers-0.10.2-cp37-cp37m-manylinux2010_x86_64.whl (3.3MB)\n",
            "\u001b[K     |████████████████████████████████| 3.3MB 49.5MB/s \n",
            "\u001b[?25hRequirement already satisfied: six in /usr/local/lib/python3.7/dist-packages (from sacremoses->transformers) (1.15.0)\n",
            "Requirement already satisfied: click in /usr/local/lib/python3.7/dist-packages (from sacremoses->transformers) (7.1.2)\n",
            "Requirement already satisfied: joblib in /usr/local/lib/python3.7/dist-packages (from sacremoses->transformers) (1.0.1)\n",
            "Requirement already satisfied: typing-extensions>=3.6.4; python_version < \"3.8\" in /usr/local/lib/python3.7/dist-packages (from importlib-metadata; python_version < \"3.8\"->transformers) (3.7.4.3)\n",
            "Requirement already satisfied: zipp>=0.5 in /usr/local/lib/python3.7/dist-packages (from importlib-metadata; python_version < \"3.8\"->transformers) (3.4.1)\n",
            "Requirement already satisfied: pyparsing>=2.0.2 in /usr/local/lib/python3.7/dist-packages (from packaging->transformers) (2.4.7)\n",
            "Requirement already satisfied: chardet<4,>=3.0.2 in /usr/local/lib/python3.7/dist-packages (from requests->transformers) (3.0.4)\n",
            "Requirement already satisfied: urllib3!=1.25.0,!=1.25.1,<1.26,>=1.21.1 in /usr/local/lib/python3.7/dist-packages (from requests->transformers) (1.24.3)\n",
            "Requirement already satisfied: certifi>=2017.4.17 in /usr/local/lib/python3.7/dist-packages (from requests->transformers) (2020.12.5)\n",
            "Requirement already satisfied: idna<3,>=2.5 in /usr/local/lib/python3.7/dist-packages (from requests->transformers) (2.10)\n",
            "Installing collected packages: sacremoses, tokenizers, transformers\n",
            "Successfully installed sacremoses-0.0.45 tokenizers-0.10.2 transformers-4.5.1\n"
          ],
          "name": "stdout"
        }
      ]
    },
    {
      "cell_type": "code",
      "metadata": {
        "id": "zDP0BdP7ZsXd"
      },
      "source": [
        "#from google.colab import drive\n",
        "#drive.mount('/content/drive')"
      ],
      "id": "zDP0BdP7ZsXd",
      "execution_count": 2,
      "outputs": []
    },
    {
      "cell_type": "code",
      "metadata": {
        "id": "IUAEUPTPnf9Q"
      },
      "source": [
        "import torch\n",
        "import torch.nn as nn\n",
        "from torch.utils.data import TensorDataset, DataLoader, RandomSampler, SequentialSampler\n",
        "import random\n",
        "import numpy as np\n",
        "import pandas as pd\n",
        "import torch.nn.functional as F\n",
        "from sklearn.model_selection import train_test_split\n",
        "from sklearn.metrics import classification_report\n",
        "import transformers\n",
        "from transformers import AutoModel, BertTokenizerFast\n",
        "import time\n",
        "from sklearn.metrics import classification_report\n",
        "SEED = 1234\n",
        "\n",
        "random.seed(SEED)\n",
        "np.random.seed(SEED)\n",
        "torch.manual_seed(SEED)\n",
        "torch.backends.cudnn.deterministic = True\n",
        "\n",
        "# specify GPU\n",
        "device = torch.device('cuda' if torch.cuda.is_available() else 'cpu')"
      ],
      "id": "IUAEUPTPnf9Q",
      "execution_count": 3,
      "outputs": []
    },
    {
      "cell_type": "code",
      "metadata": {
        "colab": {
          "base_uri": "https://localhost:8080/"
        },
        "id": "DSQwK5wE6Cp7",
        "outputId": "036afe88-1df0-4e5e-be37-2acb2a635db7"
      },
      "source": [
        "from google.colab import drive\n",
        "drive.mount('/content/drive')"
      ],
      "id": "DSQwK5wE6Cp7",
      "execution_count": 4,
      "outputs": [
        {
          "output_type": "stream",
          "text": [
            "Mounted at /content/drive\n"
          ],
          "name": "stdout"
        }
      ]
    },
    {
      "cell_type": "code",
      "metadata": {
        "id": "ydDYRF92aDSk"
      },
      "source": [
        "#df_all = pd.read_csv('all-data.csv',encoding='latin-1')\n",
        "df_all = pd.read_csv('/content/drive/My Drive/content/Tweets.csv', encoding = 'latin-1' )\n",
        "#df_all.columns = [\"sentiment\", \"text\"]"
      ],
      "id": "ydDYRF92aDSk",
      "execution_count": 5,
      "outputs": []
    },
    {
      "cell_type": "code",
      "metadata": {
        "colab": {
          "base_uri": "https://localhost:8080/",
          "height": 446
        },
        "id": "D_SK46UW-hC-",
        "outputId": "bd14ec5a-244c-414a-f781-44d13e1debd0"
      },
      "source": [
        "df_all.head()"
      ],
      "id": "D_SK46UW-hC-",
      "execution_count": 6,
      "outputs": [
        {
          "output_type": "execute_result",
          "data": {
            "text/html": [
              "<div>\n",
              "<style scoped>\n",
              "    .dataframe tbody tr th:only-of-type {\n",
              "        vertical-align: middle;\n",
              "    }\n",
              "\n",
              "    .dataframe tbody tr th {\n",
              "        vertical-align: top;\n",
              "    }\n",
              "\n",
              "    .dataframe thead th {\n",
              "        text-align: right;\n",
              "    }\n",
              "</style>\n",
              "<table border=\"1\" class=\"dataframe\">\n",
              "  <thead>\n",
              "    <tr style=\"text-align: right;\">\n",
              "      <th></th>\n",
              "      <th>tweet_id</th>\n",
              "      <th>airline_sentiment</th>\n",
              "      <th>airline_sentiment_confidence</th>\n",
              "      <th>negativereason</th>\n",
              "      <th>negativereason_confidence</th>\n",
              "      <th>airline</th>\n",
              "      <th>airline_sentiment_gold</th>\n",
              "      <th>name</th>\n",
              "      <th>negativereason_gold</th>\n",
              "      <th>retweet_count</th>\n",
              "      <th>text</th>\n",
              "      <th>tweet_coord</th>\n",
              "      <th>tweet_created</th>\n",
              "      <th>tweet_location</th>\n",
              "      <th>user_timezone</th>\n",
              "    </tr>\n",
              "  </thead>\n",
              "  <tbody>\n",
              "    <tr>\n",
              "      <th>0</th>\n",
              "      <td>5.703060e+17</td>\n",
              "      <td>neutral</td>\n",
              "      <td>1.0000</td>\n",
              "      <td>NaN</td>\n",
              "      <td>NaN</td>\n",
              "      <td>Virgin America</td>\n",
              "      <td>NaN</td>\n",
              "      <td>cairdin</td>\n",
              "      <td>NaN</td>\n",
              "      <td>0</td>\n",
              "      <td>@VirginAmerica What @dhepburn said.</td>\n",
              "      <td>NaN</td>\n",
              "      <td>24/2/2015 11:35</td>\n",
              "      <td>NaN</td>\n",
              "      <td>Eastern Time (US &amp; Canada)</td>\n",
              "    </tr>\n",
              "    <tr>\n",
              "      <th>1</th>\n",
              "      <td>5.703010e+17</td>\n",
              "      <td>positive</td>\n",
              "      <td>0.3486</td>\n",
              "      <td>NaN</td>\n",
              "      <td>0.0000</td>\n",
              "      <td>Virgin America</td>\n",
              "      <td>NaN</td>\n",
              "      <td>jnardino</td>\n",
              "      <td>NaN</td>\n",
              "      <td>0</td>\n",
              "      <td>@VirginAmerica plus you've added commercials t...</td>\n",
              "      <td>NaN</td>\n",
              "      <td>24/2/2015 11:15</td>\n",
              "      <td>NaN</td>\n",
              "      <td>Pacific Time (US &amp; Canada)</td>\n",
              "    </tr>\n",
              "    <tr>\n",
              "      <th>2</th>\n",
              "      <td>5.703010e+17</td>\n",
              "      <td>neutral</td>\n",
              "      <td>0.6837</td>\n",
              "      <td>NaN</td>\n",
              "      <td>NaN</td>\n",
              "      <td>Virgin America</td>\n",
              "      <td>NaN</td>\n",
              "      <td>yvonnalynn</td>\n",
              "      <td>NaN</td>\n",
              "      <td>0</td>\n",
              "      <td>@VirginAmerica I didn't today... Must mean I n...</td>\n",
              "      <td>NaN</td>\n",
              "      <td>24/2/2015 11:15</td>\n",
              "      <td>Lets Play</td>\n",
              "      <td>Central Time (US &amp; Canada)</td>\n",
              "    </tr>\n",
              "    <tr>\n",
              "      <th>3</th>\n",
              "      <td>5.703010e+17</td>\n",
              "      <td>negative</td>\n",
              "      <td>1.0000</td>\n",
              "      <td>Bad Flight</td>\n",
              "      <td>0.7033</td>\n",
              "      <td>Virgin America</td>\n",
              "      <td>NaN</td>\n",
              "      <td>jnardino</td>\n",
              "      <td>NaN</td>\n",
              "      <td>0</td>\n",
              "      <td>@VirginAmerica it's really aggressive to blast...</td>\n",
              "      <td>NaN</td>\n",
              "      <td>24/2/2015 11:15</td>\n",
              "      <td>NaN</td>\n",
              "      <td>Pacific Time (US &amp; Canada)</td>\n",
              "    </tr>\n",
              "    <tr>\n",
              "      <th>4</th>\n",
              "      <td>5.703010e+17</td>\n",
              "      <td>negative</td>\n",
              "      <td>1.0000</td>\n",
              "      <td>Can't Tell</td>\n",
              "      <td>1.0000</td>\n",
              "      <td>Virgin America</td>\n",
              "      <td>NaN</td>\n",
              "      <td>jnardino</td>\n",
              "      <td>NaN</td>\n",
              "      <td>0</td>\n",
              "      <td>@VirginAmerica and it's a really big bad thing...</td>\n",
              "      <td>NaN</td>\n",
              "      <td>24/2/2015 11:14</td>\n",
              "      <td>NaN</td>\n",
              "      <td>Pacific Time (US &amp; Canada)</td>\n",
              "    </tr>\n",
              "  </tbody>\n",
              "</table>\n",
              "</div>"
            ],
            "text/plain": [
              "       tweet_id airline_sentiment  ...  tweet_location               user_timezone\n",
              "0  5.703060e+17           neutral  ...             NaN  Eastern Time (US & Canada)\n",
              "1  5.703010e+17          positive  ...             NaN  Pacific Time (US & Canada)\n",
              "2  5.703010e+17           neutral  ...       Lets Play  Central Time (US & Canada)\n",
              "3  5.703010e+17          negative  ...             NaN  Pacific Time (US & Canada)\n",
              "4  5.703010e+17          negative  ...             NaN  Pacific Time (US & Canada)\n",
              "\n",
              "[5 rows x 15 columns]"
            ]
          },
          "metadata": {
            "tags": []
          },
          "execution_count": 6
        }
      ]
    },
    {
      "cell_type": "code",
      "metadata": {
        "colab": {
          "base_uri": "https://localhost:8080/",
          "height": 203
        },
        "id": "RdbPTwVlaTck",
        "outputId": "ea78de7a-3045-4d95-b90f-ccfffebc7d27"
      },
      "source": [
        "df_all = df_all[['text','airline_sentiment']]\n",
        "df_all.columns = [\"text\",\"sentiment\"]\n",
        "dic = {'negative' : 0, 'neutral': 1, 'positive': 2}\n",
        "df_all['sentiment']= df_all['sentiment'].replace(dic).astype('int64')\n",
        "df_all.head()"
      ],
      "id": "RdbPTwVlaTck",
      "execution_count": 7,
      "outputs": [
        {
          "output_type": "execute_result",
          "data": {
            "text/html": [
              "<div>\n",
              "<style scoped>\n",
              "    .dataframe tbody tr th:only-of-type {\n",
              "        vertical-align: middle;\n",
              "    }\n",
              "\n",
              "    .dataframe tbody tr th {\n",
              "        vertical-align: top;\n",
              "    }\n",
              "\n",
              "    .dataframe thead th {\n",
              "        text-align: right;\n",
              "    }\n",
              "</style>\n",
              "<table border=\"1\" class=\"dataframe\">\n",
              "  <thead>\n",
              "    <tr style=\"text-align: right;\">\n",
              "      <th></th>\n",
              "      <th>text</th>\n",
              "      <th>sentiment</th>\n",
              "    </tr>\n",
              "  </thead>\n",
              "  <tbody>\n",
              "    <tr>\n",
              "      <th>0</th>\n",
              "      <td>@VirginAmerica What @dhepburn said.</td>\n",
              "      <td>1</td>\n",
              "    </tr>\n",
              "    <tr>\n",
              "      <th>1</th>\n",
              "      <td>@VirginAmerica plus you've added commercials t...</td>\n",
              "      <td>2</td>\n",
              "    </tr>\n",
              "    <tr>\n",
              "      <th>2</th>\n",
              "      <td>@VirginAmerica I didn't today... Must mean I n...</td>\n",
              "      <td>1</td>\n",
              "    </tr>\n",
              "    <tr>\n",
              "      <th>3</th>\n",
              "      <td>@VirginAmerica it's really aggressive to blast...</td>\n",
              "      <td>0</td>\n",
              "    </tr>\n",
              "    <tr>\n",
              "      <th>4</th>\n",
              "      <td>@VirginAmerica and it's a really big bad thing...</td>\n",
              "      <td>0</td>\n",
              "    </tr>\n",
              "  </tbody>\n",
              "</table>\n",
              "</div>"
            ],
            "text/plain": [
              "                                                text  sentiment\n",
              "0                @VirginAmerica What @dhepburn said.          1\n",
              "1  @VirginAmerica plus you've added commercials t...          2\n",
              "2  @VirginAmerica I didn't today... Must mean I n...          1\n",
              "3  @VirginAmerica it's really aggressive to blast...          0\n",
              "4  @VirginAmerica and it's a really big bad thing...          0"
            ]
          },
          "metadata": {
            "tags": []
          },
          "execution_count": 7
        }
      ]
    },
    {
      "cell_type": "code",
      "metadata": {
        "id": "ISP1tMtncuGq"
      },
      "source": [
        "# split train dataset into train, validation and test sets\n",
        "train_text, temp_text, train_labels, temp_labels = train_test_split(df_all['text'], df_all['sentiment'], \n",
        "                                                                    random_state=45, \n",
        "                                                                    test_size=0.3, \n",
        "                                                                    stratify=df_all['sentiment'])\n",
        "\n",
        "\n",
        "val_text, test_text, val_labels, test_labels = train_test_split(temp_text, temp_labels, \n",
        "                                                                random_state=45, \n",
        "                                                                test_size=0.5, \n",
        "                                                                stratify=temp_labels)"
      ],
      "id": "ISP1tMtncuGq",
      "execution_count": 8,
      "outputs": []
    },
    {
      "cell_type": "code",
      "metadata": {
        "id": "-2A3AcBSd13Y",
        "colab": {
          "base_uri": "https://localhost:8080/",
          "height": 166,
          "referenced_widgets": [
            "3ae03dcb306f4ee089150927c964daa8",
            "d5c49a088e2740128c2989d770db2046",
            "b33ca19d0aca4a319c8f0e0450e4910f",
            "c707a1e0af8e4224ac27eb166eeedb53",
            "c911d48e80174fb496c8bb6789f47d09",
            "d884f766e14040f9a4c48b213e003d50",
            "cdd3394f131e44e98349ceb82a01fd9e",
            "64a3630a91784957b4bd8178cc28b184",
            "5ce6435bea614e27b5c4a8710ef0fc04",
            "f881307f33514c1f9a988a354541d331",
            "1a584ac7c42842d8b9fc89a1e614a1d6",
            "c2a5230018d341769e2b87a6466974ce",
            "bacb2fa3073a44bc89cd402c0be6af2b",
            "1b3106b39e724ffe8b2bddfdeefccce4",
            "099775d1de6a41fbb8e13e8e451ac1bc",
            "1919b0af5efd4497bfbac3700bde935e",
            "c535773cd8d2488a820f165d159837e6",
            "bbed3c5e63b34c6c95161d465d93b297",
            "93b26d248c2840c2b9d060cac8a12faf",
            "c05c3e07da9c46fabd18e27e2c48e093",
            "3b7c563621074222a86ef08597569b0f",
            "15eae8ec03164a55a3264b458176a61e",
            "d37a222050c243cbb3912b146d5e5f5d",
            "55365afdb2094d6d9e99127d88da30a6"
          ]
        },
        "outputId": "9d59c573-8120-42fa-c06f-29018e6fe6ad"
      },
      "source": [
        "from transformers import AutoModel, BertTokenizerFast\n",
        "# import BERT-base pretrained model\n",
        "#bert = AutoModel.from_pretrained('bert-base-uncased')\n",
        "\n",
        "# Load the BERT tokenizer\n",
        "tokenizer = BertTokenizerFast.from_pretrained('bert-base-uncased')"
      ],
      "id": "-2A3AcBSd13Y",
      "execution_count": 9,
      "outputs": [
        {
          "output_type": "display_data",
          "data": {
            "application/vnd.jupyter.widget-view+json": {
              "model_id": "3ae03dcb306f4ee089150927c964daa8",
              "version_minor": 0,
              "version_major": 2
            },
            "text/plain": [
              "HBox(children=(FloatProgress(value=0.0, description='Downloading', max=231508.0, style=ProgressStyle(descripti…"
            ]
          },
          "metadata": {
            "tags": []
          }
        },
        {
          "output_type": "stream",
          "text": [
            "\n"
          ],
          "name": "stdout"
        },
        {
          "output_type": "display_data",
          "data": {
            "application/vnd.jupyter.widget-view+json": {
              "model_id": "5ce6435bea614e27b5c4a8710ef0fc04",
              "version_minor": 0,
              "version_major": 2
            },
            "text/plain": [
              "HBox(children=(FloatProgress(value=0.0, description='Downloading', max=466062.0, style=ProgressStyle(descripti…"
            ]
          },
          "metadata": {
            "tags": []
          }
        },
        {
          "output_type": "stream",
          "text": [
            "\n"
          ],
          "name": "stdout"
        },
        {
          "output_type": "display_data",
          "data": {
            "application/vnd.jupyter.widget-view+json": {
              "model_id": "c535773cd8d2488a820f165d159837e6",
              "version_minor": 0,
              "version_major": 2
            },
            "text/plain": [
              "HBox(children=(FloatProgress(value=0.0, description='Downloading', max=28.0, style=ProgressStyle(description_w…"
            ]
          },
          "metadata": {
            "tags": []
          }
        },
        {
          "output_type": "stream",
          "text": [
            "\n"
          ],
          "name": "stdout"
        }
      ]
    },
    {
      "cell_type": "code",
      "metadata": {
        "id": "k4G9gD3neNkJ"
      },
      "source": [
        "# t\n",
        "# tokenize and encode sequences in the test set\n",
        "tokens_test = tokenizer.batch_encode_plus(\n",
        "    test_text.tolist(),\n",
        "    max_length = 25,\n",
        "    padding='longest',\n",
        "    truncation=True\n",
        ")"
      ],
      "id": "k4G9gD3neNkJ",
      "execution_count": 10,
      "outputs": []
    },
    {
      "cell_type": "code",
      "metadata": {
        "id": "ChuoX_0XfU4_"
      },
      "source": [
        "## convert lists to tensors\n",
        "test_seq = torch.tensor(tokens_test['input_ids'])[0+32:32+32]\n",
        "test_mask = torch.tensor(tokens_test['attention_mask'])[0+32:32+32]\n",
        "test_y = torch.tensor(test_labels.tolist())[0+32:32+32]"
      ],
      "id": "ChuoX_0XfU4_",
      "execution_count": 11,
      "outputs": []
    },
    {
      "cell_type": "code",
      "metadata": {
        "id": "9oyz5bTJfVnf"
      },
      "source": [
        "#define a batch size\n",
        "batch_size = 32\n",
        "\n",
        "# wrap tensors\n",
        "test_data = TensorDataset(test_seq, test_mask, test_y)\n",
        "\n",
        "# sampler for sampling the data during training\n",
        "test_sampler = SequentialSampler(test_data)\n",
        "\n",
        "# dataLoader for test set\n",
        "test_dataloader = DataLoader(test_data, sampler = test_sampler, batch_size=batch_size, drop_last=True)"
      ],
      "id": "9oyz5bTJfVnf",
      "execution_count": 12,
      "outputs": []
    },
    {
      "cell_type": "code",
      "metadata": {
        "id": "5LUK39A-Gym9"
      },
      "source": [
        "#import torch.nn as nn\n",
        "#import torch.nn.functional as F\n",
        "from torch.autograd import Variable\n",
        "\n",
        "# reference source: https://www.programmersought.com/article/31037125394/\n",
        "class AttnDPCNN(nn.Module):\n",
        "\n",
        "    def __init__(self, batch_size,seq_len,embedding_dim,output_size_linear, \n",
        "                 cnn_channel_size, cnn_kernel_size=(3,1),cnn_padding=0, cnn_stride=1, attn_nodes_per_layer = 10):\n",
        "\n",
        "        super(AttnDPCNN, self).__init__()\n",
        "        #self.bert=bert\n",
        "        self.attn_nodes_per_layer = attn_nodes_per_layer\n",
        "        self.channel_size = cnn_channel_size\n",
        "        self.output_size_linear = output_size_linear\n",
        "        self.cnn_kernel_size = cnn_kernel_size\n",
        "        self.padding = cnn_padding\n",
        "        self.stride = cnn_stride\n",
        "        #self.vocab_size = vocab_size\n",
        "        self.embed_dim = embedding_dim\n",
        "        self.seq_len = seq_len\n",
        "        self.batch_size = batch_size\n",
        "        self.maps = {}\n",
        "        self.get_maps = False\n",
        "        \n",
        "        self.collect_out_softmax = torch.zeros(1,1).to(device)\n",
        "        self.collect_out_attn = torch.zeros(self.batch_size,self.attn_nodes_per_layer).to(device)\n",
        "        \n",
        "        #self.embed = nn.Embedding(self.vocab_size, self.embed_dim)\n",
        "        self.conv1 = nn.Conv2d(1,  self.channel_size, (3,self.embed_dim), stride = 1) # embed_dim becomes 1\n",
        "        self.conv2 = nn.Conv2d(self.channel_size,  self.channel_size,  \n",
        "                                kernel_size=self.cnn_kernel_size, padding=0,\n",
        "                               stride = self.stride)\n",
        "        self.padding1 = nn.ZeroPad2d((0, 0, 1, 1))  # top bottom\n",
        "        self.padding2 = nn.ZeroPad2d((0, 0, 0, 1))  # bottom\n",
        "        self.max_pool = nn.MaxPool2d(kernel_size=(3, 1), stride=2)      \n",
        "        \n",
        "        self._repeat_block = nn.Sequential( # input [batch_size, num_filters, seq_len-3+1, 1]\n",
        "                    nn.ZeroPad2d((0, 0, 1, 1)), # [batch_size, num_filters, seq_len, 1]\n",
        "                    nn.ReLU(),\n",
        "                    nn.Conv2d(self.channel_size,  self.channel_size,   # [batch_size, num_filters, seq_len-3+1, 1]\n",
        "                                kernel_size=self.cnn_kernel_size, padding=0,\n",
        "                               stride = self.stride),\n",
        "                    nn.ZeroPad2d((0, 0, 1, 1)), # [batch_size, num_filters, seq_len, 1]\n",
        "                    nn.ReLU(),\n",
        "                    nn.Conv2d(self.channel_size,  self.channel_size,  # [batch_size, num_filters, seq_len-3+1, 1]\n",
        "                                kernel_size=self.cnn_kernel_size, padding=0,\n",
        "                               stride = self.stride),\n",
        "            )\n",
        "        \n",
        "        \n",
        "        # To get variying attention weights for 1) softmax output 2) 10 representing features\n",
        "        self.num_repeat_blocks, self.size_repeat_blocks_list = self.dividible(2)\n",
        "        # self.weight_softmax_list, self.weight_attn_list = self.getWeights_init()\n",
        "        \n",
        "        self.counter=0\n",
        "        \n",
        "        # Drop probability\n",
        "        self.dropout = nn.Dropout(p=0.2)\n",
        "        # Last linear layer (FC)\n",
        "        #self.linear1 = nn.Linear(self.num_repeat_blocks*self.attn_nodes_per_layer,self.output_size_linear)\n",
        "        self.linear1 = nn.Linear(self.channel_size,self.output_size_linear)\n",
        "          \n",
        "    def repeat_block(self, x): # input [batch_size, num_filters, seq_len-3+1, 1]\n",
        "        x = self.padding2(x) # [batch_size, num_filters, seq_len-1, 1] -> seq_len-3+1+1 = seq_len-1\n",
        "        #print('padding')\n",
        "        x1 = self.max_pool(x)  # [batch_size, num_filters, (seq_len-1) // 3, 1 //1] -> seq_len-3+1+1 = seq_len-1\n",
        "        #print('x1',x1.shape)\n",
        "        # conv block\n",
        "        x2 = self._repeat_block(x1)\n",
        "        #print('x2',x2.shape)\n",
        "        # Identity addition\n",
        "        #x = x1 + x2\n",
        "        #print('x1+x2',x.shape)\n",
        "        return x1,x2\n",
        "\n",
        "    def forward(self, x):\n",
        "        \n",
        "        self.counter =0\n",
        "\n",
        "        #embed = self.bert(sent_id, attention_mask=mask)\n",
        "        #x = embed['last_hidden_state'].unsqueeze(1) # [batch_size, 1, seq_len, embedding_dim]\n",
        "        x = self.conv1(x)  # [batch_size, num_filters, seq_len-3+1, 1]\n",
        "        #print(x.shape)\n",
        "        x = self.padding1(x)  # [batch_size, num_filters, seq_len, 1]\n",
        "        x = F.relu(x)\n",
        "        x = self.conv2(x)  # [batch_size, num_filters, seq_len-3+1, 1]\n",
        "\n",
        "        count=0\n",
        "        while x.shape[2] >= 2: # till seq_len is 1\n",
        "            #print(\"start x\",x.shape)\n",
        "            x_prev,x = self.repeat_block(x)  # [batch_size, num_filters,1,1] at the end\n",
        "            #print(\"after pooling x\",x.shape)\n",
        "            seq = x.shape[2]\n",
        "\n",
        "            ## DOT PRODUCT SELF ATTENTION\n",
        "            query = x.clone().squeeze() # 32 x feature map x seq\n",
        "            #print(\"query\",query.shape)\n",
        "            key = x.clone().squeeze() # 32 x feature map x seq\n",
        "            #print(\"key\",query.shape)\n",
        "            value = x.clone().squeeze() # 32 x feature map x seq\n",
        "            #print(\"value\",value.shape)\n",
        "\n",
        "            if len(query.shape) ==2:\n",
        "              query = query.unsqueeze(2)\n",
        "            if len(key.shape) ==2:\n",
        "              key = key.unsqueeze(2)\n",
        "            if len(value.shape) ==2:\n",
        "              value = value.unsqueeze(2)\n",
        "\n",
        "            # dot product\n",
        "            dot_prod = torch.bmm(query.transpose(1,2),key)  # 32 x seq x seq\n",
        "            #print(\"dp1\",dot_prod[0,0,:])\n",
        "            dot_prod = dot_prod / value.shape[1] # 32 x seq x seq\n",
        "            #print(\"dot product\", dot_prod.shape)\n",
        "\n",
        "            softmax_out = torch.softmax(dot_prod, dim=1)\n",
        "            #print(softmax_out[0,:,0].sum()) #== 1\n",
        "            x = torch.bmm(value,softmax_out.transpose(1,2))\n",
        "\n",
        "            x = x.reshape(self.batch_size, self.channel_size, seq).unsqueeze(3)\n",
        "            x = x+x_prev\n",
        "            #print(\"end x\", x.shape)\n",
        "            #break\n",
        "            if self.get_maps:\n",
        "              self.maps.update({count : softmax_out})\n",
        "            count+=1\n",
        "\n",
        "        ## FULLY CONNECTED ##\n",
        "        # linear layer\n",
        "        # output = final_collect_out_attn.reshape(x.shape[0], -1) # [batch_size, num_filters]\n",
        "        output = x.reshape(x.shape[0], -1) # [batch_size, num_filters]\n",
        "        # x = x.squeeze()  # [batch_size, num_filters]\n",
        "        output = self.linear1(output)  # [batch_size, output size]\n",
        "        output = self.dropout(output)\n",
        "        return output\n",
        "    \n",
        "    def dividible(self,p):\n",
        "        n=self.seq_len\n",
        "        i = 0\n",
        "        out=[]\n",
        "        while n>=p:\n",
        "            if i==0:\n",
        "                n = (n-2)//2\n",
        "               #n=n-2\n",
        "               #out.append(n-1)\n",
        "            else:\n",
        "                n = n//2\n",
        "                #out.append(n)\n",
        "            i += 1\n",
        "            out.append(n)\n",
        "        return i,out\n",
        "    \n",
        "    def getWeights_init(self):\n",
        "        weights_softmax_list = []\n",
        "        weights_attn_list = []\n",
        "        for i in range(self.num_repeat_blocks):\n",
        "            # size_repeat_blocks_list contains various seq length\n",
        "            #print('batch size', self.batch_size)\n",
        "            #print('seq len', self.size_repeat_blocks_list[i])\n",
        "            #print('channel size', self.channel_size)\n",
        "            weights_softmax_list.append(Variable(torch.randn(1,self.batch_size*1*self.size_repeat_blocks_list[i]*self.channel_size)).to(device))\n",
        "            weights_attn_list.append(Variable(torch.randn(self.attn_nodes_per_layer,1*self.size_repeat_blocks_list[i]*self.channel_size)).to(device)) # fix output features as 10\n",
        "        return weights_softmax_list,weights_attn_list\n",
        "            "
      ],
      "id": "5LUK39A-Gym9",
      "execution_count": 13,
      "outputs": []
    },
    {
      "cell_type": "code",
      "metadata": {
        "id": "MflsFK7RANpl"
      },
      "source": [
        "import pickle\n",
        "filenamedpcnn = '/content/drive/My Drive/content/BertAttnsDPCNN_selfattention_False_Tweet_Exp3dpcnn.pkl'\n",
        "filenamebert = '/content/drive/My Drive/content/BertAttnsDPCNN_selfattention_False_Tweet_Exp3bert.pkl'\n",
        "\n",
        "bert = pickle.load(open(filenamebert, 'rb'))\n",
        "dpcnn = pickle.load(open(filenamedpcnn, 'rb'))\n"
      ],
      "id": "MflsFK7RANpl",
      "execution_count": 14,
      "outputs": []
    },
    {
      "cell_type": "code",
      "metadata": {
        "id": "7Sz1FnUIgDb_"
      },
      "source": [
        "#dpcnn = AttnDPCNN(32,40,768, 3, 128) # batchsize, seq len, embed dim, classes, no of filters\n",
        "dpcnn = dpcnn.to(device)\n",
        "bert = bert.to(device)"
      ],
      "id": "7Sz1FnUIgDb_",
      "execution_count": 15,
      "outputs": []
    },
    {
      "cell_type": "markdown",
      "metadata": {
        "id": "35jFhznsFjeE"
      },
      "source": [
        "TEST"
      ],
      "id": "35jFhznsFjeE"
    },
    {
      "cell_type": "code",
      "metadata": {
        "id": "k4H1U-OH0u4u"
      },
      "source": [
        "# function for evaluating the model\n",
        "def test():\n",
        "  \n",
        "  print(\"\\nEvaluating...\")\n",
        "  t0 = time.time()\n",
        "  # deactivate dropout layers\n",
        "  #model.eval() replace below?\n",
        "\n",
        "  #load weights of best model\n",
        "  #bpath = 'bert_saved_weights.pt'\n",
        "  #bert.load_state_dict(bert.load(bpath))\n",
        "\n",
        "  bert.eval()\n",
        "  dpcnn.eval()\n",
        "\n",
        "  total_loss, total_accuracy = 0, 0\n",
        "  \n",
        "  # empty list to save the model predictions\n",
        "  total_preds = []\n",
        "  total_targets = []\n",
        "  # iterate over batches\n",
        "  for step,batch in enumerate(test_dataloader):\n",
        "    if step == len(test_dataloader)-1:\n",
        "      dpcnn.get_maps=True \n",
        "    # Progress update every 50 batches.\n",
        "    if step % 50 == 0 and not step == 0:\n",
        "      \n",
        "      # Calculate elapsed time in minutes.\n",
        "      elapsed = time.time() - t0\n",
        "            \n",
        "      # Report progress.\n",
        "      print('  Batch {:>5,}  of  {:>5,}.'.format(step, len(test_dataloader)))\n",
        "\n",
        "    # push the batch to gpu\n",
        "    batch = [t.to(device) for t in batch]\n",
        "\n",
        "    sent_id, mask, labels = batch\n",
        "\n",
        "    # deactivate autograd\n",
        "    with torch.no_grad():\n",
        "      \n",
        "      # model predictions\n",
        "      embed = bert(sent_id, attention_mask=mask)\n",
        "      x = embed['last_hidden_state'].unsqueeze(1) # [batch_size, 1, seq_len, embedding_dim]\n",
        "      preds = dpcnn(x)\n",
        "\n",
        "      # compute the validation loss between actual and predicted values\n",
        "      #loss = cross_entropy(preds,labels)\n",
        "\n",
        "      #total_loss = total_loss + loss.item()\n",
        "\n",
        "      preds = preds.detach().cpu()\n",
        "      labels = labels.detach().cpu()\n",
        "\n",
        "      total_preds.append(preds.numpy())\n",
        "      total_targets.append(labels.numpy())\n",
        "  # compute the validation loss of the epoch\n",
        "  #avg_loss = total_loss / len(test_dataloader) \n",
        "\n",
        "  # reshape the predictions in form of (number of samples, no. of classes)\n",
        "  total_preds  = np.concatenate(total_preds, axis=0)\n",
        "  total_targets = np.concatenate(total_targets, axis=0)\n",
        "\n",
        "  return total_preds, total_targets"
      ],
      "id": "k4H1U-OH0u4u",
      "execution_count": 16,
      "outputs": []
    },
    {
      "cell_type": "code",
      "metadata": {
        "colab": {
          "base_uri": "https://localhost:8080/"
        },
        "id": "xDDsaxyPG7QX",
        "outputId": "22c84d98-7220-47b5-c7fc-eba8f5674aec"
      },
      "source": [
        "test_preds, test_targets = test()\n"
      ],
      "id": "xDDsaxyPG7QX",
      "execution_count": 17,
      "outputs": [
        {
          "output_type": "stream",
          "text": [
            "\n",
            "Evaluating...\n"
          ],
          "name": "stdout"
        }
      ]
    },
    {
      "cell_type": "code",
      "metadata": {
        "colab": {
          "base_uri": "https://localhost:8080/"
        },
        "id": "UFh3HFWTHaII",
        "outputId": "2619230e-d31f-4c53-8b43-5ccf6596e4f4"
      },
      "source": [
        "test_preds2 = test_preds.argmax(axis=1)\n",
        "test_preds2.shape"
      ],
      "id": "UFh3HFWTHaII",
      "execution_count": 18,
      "outputs": [
        {
          "output_type": "execute_result",
          "data": {
            "text/plain": [
              "(32,)"
            ]
          },
          "metadata": {
            "tags": []
          },
          "execution_count": 18
        }
      ]
    },
    {
      "cell_type": "code",
      "metadata": {
        "colab": {
          "base_uri": "https://localhost:8080/"
        },
        "id": "p9D25hbWH3Oe",
        "outputId": "51c82224-19d3-4d15-8883-c69e8161620d"
      },
      "source": [
        "test_targets.shape"
      ],
      "id": "p9D25hbWH3Oe",
      "execution_count": 19,
      "outputs": [
        {
          "output_type": "execute_result",
          "data": {
            "text/plain": [
              "(32,)"
            ]
          },
          "metadata": {
            "tags": []
          },
          "execution_count": 19
        }
      ]
    },
    {
      "cell_type": "code",
      "metadata": {
        "id": "cR2Tk-eXD1u5"
      },
      "source": [
        "correct = []\n",
        "wrong = []\n",
        "for i,(target,pred) in enumerate(zip(test_targets,test_preds2)):\n",
        "  if target == pred:\n",
        "    correct.append(i)\n",
        "  else:\n",
        "    wrong.append(i)\n"
      ],
      "id": "cR2Tk-eXD1u5",
      "execution_count": 20,
      "outputs": []
    },
    {
      "cell_type": "code",
      "metadata": {
        "colab": {
          "base_uri": "https://localhost:8080/"
        },
        "id": "kV2RwZx8FMfx",
        "outputId": "68e8c249-b488-4b01-b17b-e82c298172de"
      },
      "source": [
        "print(len(correct))\n",
        "print(len(wrong))\n",
        "print(len(dpcnn.maps))"
      ],
      "id": "kV2RwZx8FMfx",
      "execution_count": 21,
      "outputs": [
        {
          "output_type": "stream",
          "text": [
            "24\n",
            "8\n",
            "4\n"
          ],
          "name": "stdout"
        }
      ]
    },
    {
      "cell_type": "code",
      "metadata": {
        "id": "J5fMUV06ArM1",
        "colab": {
          "base_uri": "https://localhost:8080/"
        },
        "outputId": "fa85f5d7-b99d-4708-95c9-c98501608658"
      },
      "source": [
        "dpcnn.maps[0].shape\n"
      ],
      "id": "J5fMUV06ArM1",
      "execution_count": 22,
      "outputs": [
        {
          "output_type": "execute_result",
          "data": {
            "text/plain": [
              "torch.Size([32, 11, 11])"
            ]
          },
          "metadata": {
            "tags": []
          },
          "execution_count": 22
        }
      ]
    },
    {
      "cell_type": "code",
      "metadata": {
        "colab": {
          "base_uri": "https://localhost:8080/"
        },
        "id": "4Hj5b6zvIRCm",
        "outputId": "43a3f80c-79a3-4165-f4de-1a630849f687"
      },
      "source": [
        "correct[0:5]"
      ],
      "id": "4Hj5b6zvIRCm",
      "execution_count": 23,
      "outputs": [
        {
          "output_type": "execute_result",
          "data": {
            "text/plain": [
              "[0, 1, 3, 4, 5]"
            ]
          },
          "metadata": {
            "tags": []
          },
          "execution_count": 23
        }
      ]
    },
    {
      "cell_type": "code",
      "metadata": {
        "colab": {
          "base_uri": "https://localhost:8080/"
        },
        "id": "eN84eYHrFWWB",
        "outputId": "c1564d07-f5c4-44b0-d837-5b4911d38f40"
      },
      "source": [
        "wrong"
      ],
      "id": "eN84eYHrFWWB",
      "execution_count": 24,
      "outputs": [
        {
          "output_type": "execute_result",
          "data": {
            "text/plain": [
              "[2, 6, 7, 16, 17, 21, 24, 28]"
            ]
          },
          "metadata": {
            "tags": []
          },
          "execution_count": 24
        }
      ]
    },
    {
      "cell_type": "code",
      "metadata": {
        "id": "rjavQrJhKjfU"
      },
      "source": [
        "df1=test_labels.reset_index()\n",
        "df2=test_text.reset_index()"
      ],
      "id": "rjavQrJhKjfU",
      "execution_count": 25,
      "outputs": []
    },
    {
      "cell_type": "markdown",
      "metadata": {
        "id": "DmoRXCt7SxzN"
      },
      "source": [
        "Visualization of incorrect prediction with attention map - 1st example"
      ],
      "id": "DmoRXCt7SxzN"
    },
    {
      "cell_type": "code",
      "metadata": {
        "colab": {
          "base_uri": "https://localhost:8080/"
        },
        "id": "TH0_7dmHLA39",
        "outputId": "82afeb1a-6f58-44e9-dd2a-772c13d204a1"
      },
      "source": [
        "print(df1['sentiment'][2])\n",
        "print(df2['text'][2])"
      ],
      "id": "TH0_7dmHLA39",
      "execution_count": 26,
      "outputs": [
        {
          "output_type": "stream",
          "text": [
            "0\n",
            "@united have since dropped to 2 layovers but still not acceptable.\n"
          ],
          "name": "stdout"
        }
      ]
    },
    {
      "cell_type": "code",
      "metadata": {
        "id": "CKmp9DQhFWKN",
        "colab": {
          "base_uri": "https://localhost:8080/",
          "height": 265
        },
        "outputId": "7e517d99-2a2b-48cb-bc66-ff5c079e2bd1"
      },
      "source": [
        "maps = dpcnn.maps[0].cpu()\n",
        "map = maps[2,:,:]\n",
        "\n",
        "import matplotlib.pyplot as plt\n",
        "plt.imshow(map)\n",
        "plt.show()"
      ],
      "id": "CKmp9DQhFWKN",
      "execution_count": 27,
      "outputs": [
        {
          "output_type": "display_data",
          "data": {
            "image/png": "[encoded data removed]",
            "text/plain": [
              "<Figure size 432x288 with 1 Axes>"
            ]
          },
          "metadata": {
            "tags": [],
            "needs_background": "light"
          }
        }
      ]
    },
    {
      "cell_type": "code",
      "metadata": {
        "colab": {
          "base_uri": "https://localhost:8080/",
          "height": 265
        },
        "id": "wXCxeij8p39r",
        "outputId": "5b602b07-ebfa-4f1e-907c-e9de0de8ced7"
      },
      "source": [
        "maps = dpcnn.maps[1].cpu()\n",
        "map = maps[2,:,:]\n",
        "\n",
        "import matplotlib.pyplot as plt\n",
        "plt.imshow(map)\n",
        "plt.show()"
      ],
      "id": "wXCxeij8p39r",
      "execution_count": 28,
      "outputs": [
        {
          "output_type": "display_data",
          "data": {
            "image/png": "[encoded data removed]",
            "text/plain": [
              "<Figure size 432x288 with 1 Axes>"
            ]
          },
          "metadata": {
            "tags": [],
            "needs_background": "light"
          }
        }
      ]
    },
    {
      "cell_type": "code",
      "metadata": {
        "colab": {
          "base_uri": "https://localhost:8080/",
          "height": 269
        },
        "id": "8NH_GBa1p4Px",
        "outputId": "9884b145-15ca-4ea0-c4d2-3065bb6bb10e"
      },
      "source": [
        "maps = dpcnn.maps[2].cpu()\n",
        "map = maps[2,:,:]\n",
        "\n",
        "import matplotlib.pyplot as plt\n",
        "plt.imshow(map)\n",
        "plt.show()"
      ],
      "id": "8NH_GBa1p4Px",
      "execution_count": 29,
      "outputs": [
        {
          "output_type": "display_data",
          "data": {
            "image/png": "[encoded data removed]",
            "text/plain": [
              "<Figure size 432x288 with 1 Axes>"
            ]
          },
          "metadata": {
            "tags": [],
            "needs_background": "light"
          }
        }
      ]
    },
    {
      "cell_type": "code",
      "metadata": {
        "colab": {
          "base_uri": "https://localhost:8080/",
          "height": 269
        },
        "id": "ZovMTxwfp4Y5",
        "outputId": "f928b5cd-b0b2-4204-f42d-6fa89b62c225"
      },
      "source": [
        "maps = dpcnn.maps[3].cpu()\n",
        "map = maps[2,:,:]\n",
        "\n",
        "import matplotlib.pyplot as plt\n",
        "plt.imshow(map)\n",
        "plt.colorbar()\n",
        "plt.show()"
      ],
      "id": "ZovMTxwfp4Y5",
      "execution_count": 30,
      "outputs": [
        {
          "output_type": "display_data",
          "data": {
            "image/png": "[encoded data removed]",
            "text/plain": [
              "<Figure size 432x288 with 2 Axes>"
            ]
          },
          "metadata": {
            "tags": [],
            "needs_background": "light"
          }
        }
      ]
    },
    {
      "cell_type": "code",
      "metadata": {
        "id": "4utPSvDqp4mh"
      },
      "source": [
        ""
      ],
      "id": "4utPSvDqp4mh",
      "execution_count": 30,
      "outputs": []
    },
    {
      "cell_type": "markdown",
      "metadata": {
        "id": "pZIrMGOmS6Al"
      },
      "source": [
        "Visualization of incorrect prediction with attention map - 2nd example"
      ],
      "id": "pZIrMGOmS6Al"
    },
    {
      "cell_type": "code",
      "metadata": {
        "colab": {
          "base_uri": "https://localhost:8080/"
        },
        "id": "2KUxnr_TJR62",
        "outputId": "1d84c7c5-1957-4585-8849-800d85348d4f"
      },
      "source": [
        "print(df1['sentiment'][6])\n",
        "print(df2['text'][6])"
      ],
      "id": "2KUxnr_TJR62",
      "execution_count": 31,
      "outputs": [
        {
          "output_type": "stream",
          "text": [
            "0\n",
            "@usairways Is your reservation phone number working? Called 10x in the last 3 days, and havenât gotten through.\n"
          ],
          "name": "stdout"
        }
      ]
    },
    {
      "cell_type": "code",
      "metadata": {
        "colab": {
          "base_uri": "https://localhost:8080/",
          "height": 265
        },
        "id": "himi8acDJeKt",
        "outputId": "1f740d54-7b33-4c6a-aa9b-bc0248bbf601"
      },
      "source": [
        "maps = dpcnn.maps[0].cpu()\n",
        "map = maps[6,:,:]\n",
        "\n",
        "import matplotlib.pyplot as plt\n",
        "plt.imshow(map)\n",
        "plt.show()"
      ],
      "id": "himi8acDJeKt",
      "execution_count": 32,
      "outputs": [
        {
          "output_type": "display_data",
          "data": {
            "image/png": "[encoded data removed]",
            "text/plain": [
              "<Figure size 432x288 with 1 Axes>"
            ]
          },
          "metadata": {
            "tags": [],
            "needs_background": "light"
          }
        }
      ]
    },
    {
      "cell_type": "code",
      "metadata": {
        "colab": {
          "base_uri": "https://localhost:8080/",
          "height": 265
        },
        "id": "cGbYqbntqebz",
        "outputId": "7841c50b-afcb-42aa-c4fc-0a08ce190b47"
      },
      "source": [
        "maps = dpcnn.maps[1].cpu()\n",
        "map = maps[6,:,:]\n",
        "\n",
        "import matplotlib.pyplot as plt\n",
        "plt.imshow(map)\n",
        "plt.show()"
      ],
      "id": "cGbYqbntqebz",
      "execution_count": 33,
      "outputs": [
        {
          "output_type": "display_data",
          "data": {
            "image/png": "[encoded data removed]",
            "text/plain": [
              "<Figure size 432x288 with 1 Axes>"
            ]
          },
          "metadata": {
            "tags": [],
            "needs_background": "light"
          }
        }
      ]
    },
    {
      "cell_type": "code",
      "metadata": {
        "colab": {
          "base_uri": "https://localhost:8080/",
          "height": 269
        },
        "id": "etarXoD7qeYS",
        "outputId": "7022eb95-bc70-4fa8-9831-7d131d38f0b3"
      },
      "source": [
        "maps = dpcnn.maps[2].cpu()\n",
        "map = maps[6,:,:]\n",
        "\n",
        "import matplotlib.pyplot as plt\n",
        "plt.imshow(map)\n",
        "plt.show()"
      ],
      "id": "etarXoD7qeYS",
      "execution_count": 34,
      "outputs": [
        {
          "output_type": "display_data",
          "data": {
            "image/png": "[encoded data removed]",
            "text/plain": [
              "<Figure size 432x288 with 1 Axes>"
            ]
          },
          "metadata": {
            "tags": [],
            "needs_background": "light"
          }
        }
      ]
    },
    {
      "cell_type": "code",
      "metadata": {
        "colab": {
          "base_uri": "https://localhost:8080/",
          "height": 269
        },
        "id": "oze5ogomqeV1",
        "outputId": "6938b47a-1cd2-43a6-de73-553030346424"
      },
      "source": [
        "maps = dpcnn.maps[3].cpu()\n",
        "map = maps[6,:,:]\n",
        "\n",
        "import matplotlib.pyplot as plt\n",
        "plt.imshow(map)\n",
        "plt.colorbar()\n",
        "plt.show()"
      ],
      "id": "oze5ogomqeV1",
      "execution_count": 35,
      "outputs": [
        {
          "output_type": "display_data",
          "data": {
            "image/png": "[encoded data removed]",
            "text/plain": [
              "<Figure size 432x288 with 2 Axes>"
            ]
          },
          "metadata": {
            "tags": [],
            "needs_background": "light"
          }
        }
      ]
    },
    {
      "cell_type": "code",
      "metadata": {
        "id": "yiX7ZJlWqd-n"
      },
      "source": [
        ""
      ],
      "id": "yiX7ZJlWqd-n",
      "execution_count": 35,
      "outputs": []
    },
    {
      "cell_type": "markdown",
      "metadata": {
        "id": "dx50cAWSdYsb"
      },
      "source": [
        "Visualization of incorrect prediction with attention map - 3rd example"
      ],
      "id": "dx50cAWSdYsb"
    },
    {
      "cell_type": "code",
      "metadata": {
        "colab": {
          "base_uri": "https://localhost:8080/",
          "height": 265
        },
        "id": "yARDrdMbcpxO",
        "outputId": "e3641c05-734e-40be-9bec-a32e0a6e79ae"
      },
      "source": [
        "maps = dpcnn.maps[0].cpu()\n",
        "map = maps[21,:,:]\n",
        "\n",
        "import matplotlib.pyplot as plt\n",
        "plt.imshow(map)\n",
        "plt.show()"
      ],
      "id": "yARDrdMbcpxO",
      "execution_count": 36,
      "outputs": [
        {
          "output_type": "display_data",
          "data": {
            "image/png": "[encoded data removed]",
            "text/plain": [
              "<Figure size 432x288 with 1 Axes>"
            ]
          },
          "metadata": {
            "tags": [],
            "needs_background": "light"
          }
        }
      ]
    },
    {
      "cell_type": "code",
      "metadata": {
        "colab": {
          "base_uri": "https://localhost:8080/",
          "height": 265
        },
        "id": "Xvhiln_aq32p",
        "outputId": "3f34b956-31ef-420a-ad8d-a3593762413a"
      },
      "source": [
        "maps = dpcnn.maps[1].cpu()\n",
        "map = maps[21,:,:]\n",
        "\n",
        "import matplotlib.pyplot as plt\n",
        "plt.imshow(map)\n",
        "plt.show()"
      ],
      "id": "Xvhiln_aq32p",
      "execution_count": 37,
      "outputs": [
        {
          "output_type": "display_data",
          "data": {
            "image/png": "[encoded data removed]",
            "text/plain": [
              "<Figure size 432x288 with 1 Axes>"
            ]
          },
          "metadata": {
            "tags": [],
            "needs_background": "light"
          }
        }
      ]
    },
    {
      "cell_type": "code",
      "metadata": {
        "colab": {
          "base_uri": "https://localhost:8080/",
          "height": 269
        },
        "id": "u3zear8qq3zN",
        "outputId": "f33b859f-c218-4e87-bf19-403dc7a73b49"
      },
      "source": [
        "maps = dpcnn.maps[2].cpu()\n",
        "map = maps[21,:,:]\n",
        "\n",
        "import matplotlib.pyplot as plt\n",
        "plt.imshow(map)\n",
        "plt.show()"
      ],
      "id": "u3zear8qq3zN",
      "execution_count": 38,
      "outputs": [
        {
          "output_type": "display_data",
          "data": {
            "image/png": "[encoded data removed]",
            "text/plain": [
              "<Figure size 432x288 with 1 Axes>"
            ]
          },
          "metadata": {
            "tags": [],
            "needs_background": "light"
          }
        }
      ]
    },
    {
      "cell_type": "code",
      "metadata": {
        "colab": {
          "base_uri": "https://localhost:8080/",
          "height": 269
        },
        "id": "TaXPE6VUq3wT",
        "outputId": "3c636f61-2182-4d0a-8305-7d2b47b374be"
      },
      "source": [
        "maps = dpcnn.maps[3].cpu()\n",
        "map = maps[21,:,:]\n",
        "\n",
        "import matplotlib.pyplot as plt\n",
        "plt.imshow(map)\n",
        "plt.colorbar()\n",
        "plt.show()"
      ],
      "id": "TaXPE6VUq3wT",
      "execution_count": 39,
      "outputs": [
        {
          "output_type": "display_data",
          "data": {
            "image/png": "[encoded data removed]",
            "text/plain": [
              "<Figure size 432x288 with 2 Axes>"
            ]
          },
          "metadata": {
            "tags": [],
            "needs_background": "light"
          }
        }
      ]
    },
    {
      "cell_type": "markdown",
      "metadata": {
        "id": "2qBa07QgSqCH"
      },
      "source": [
        "Visualization of correct prediction with attention map"
      ],
      "id": "2qBa07QgSqCH"
    },
    {
      "cell_type": "code",
      "metadata": {
        "colab": {
          "base_uri": "https://localhost:8080/"
        },
        "id": "-9LMWodVLiQF",
        "outputId": "b97d1738-a9cf-4e24-886e-76514da67406"
      },
      "source": [
        "print(df1['sentiment'][8])\n",
        "print(df2['text'][8])"
      ],
      "id": "-9LMWodVLiQF",
      "execution_count": 45,
      "outputs": [
        {
          "output_type": "stream",
          "text": [
            "0\n",
            "@SouthwestAir here we go again. Delayed in Chicago why offer the 630 flight if you never intend to fly it\n"
          ],
          "name": "stdout"
        }
      ]
    },
    {
      "cell_type": "code",
      "metadata": {
        "colab": {
          "base_uri": "https://localhost:8080/",
          "height": 265
        },
        "id": "CIZ72CMeJe4c",
        "outputId": "63a4388c-137e-4ea8-b1c7-2ee44cc07305"
      },
      "source": [
        "maps = dpcnn.maps[8].cpu()\n",
        "map = maps[8,:,:]\n",
        "\n",
        "import matplotlib.pyplot as plt\n",
        "plt.imshow(map)\n",
        "plt.show()"
      ],
      "id": "CIZ72CMeJe4c",
      "execution_count": 41,
      "outputs": [
        {
          "output_type": "display_data",
          "data": {
            "image/png": "[encoded data removed]",
            "text/plain": [
              "<Figure size 432x288 with 1 Axes>"
            ]
          },
          "metadata": {
            "tags": [],
            "needs_background": "light"
          }
        }
      ]
    },
    {
      "cell_type": "code",
      "metadata": {
        "colab": {
          "base_uri": "https://localhost:8080/",
          "height": 265
        },
        "id": "JUgxB6xXrKLn",
        "outputId": "b1371afb-817b-4a50-b279-11affd344d78"
      },
      "source": [
        "maps = dpcnn.maps[1].cpu()\n",
        "map = maps[8,:,:]\n",
        "\n",
        "import matplotlib.pyplot as plt\n",
        "plt.imshow(map)\n",
        "plt.show()"
      ],
      "id": "JUgxB6xXrKLn",
      "execution_count": 42,
      "outputs": [
        {
          "output_type": "display_data",
          "data": {
            "image/png": "[encoded data removed]",
            "text/plain": [
              "<Figure size 432x288 with 1 Axes>"
            ]
          },
          "metadata": {
            "tags": [],
            "needs_background": "light"
          }
        }
      ]
    },
    {
      "cell_type": "code",
      "metadata": {
        "colab": {
          "base_uri": "https://localhost:8080/",
          "height": 269
        },
        "id": "TuwS4-NXrKH_",
        "outputId": "af604c90-f796-461c-9f7c-a9832c7f53f0"
      },
      "source": [
        "maps = dpcnn.maps[2].cpu()\n",
        "map = maps[8,:,:]\n",
        "\n",
        "import matplotlib.pyplot as plt\n",
        "plt.imshow(map)\n",
        "plt.show()"
      ],
      "id": "TuwS4-NXrKH_",
      "execution_count": 43,
      "outputs": [
        {
          "output_type": "display_data",
          "data": {
            "image/png": "[encoded data removed]",
            "text/plain": [
              "<Figure size 432x288 with 1 Axes>"
            ]
          },
          "metadata": {
            "tags": [],
            "needs_background": "light"
          }
        }
      ]
    },
    {
      "cell_type": "code",
      "metadata": {
        "colab": {
          "base_uri": "https://localhost:8080/",
          "height": 269
        },
        "id": "tQEJtEBjrKFa",
        "outputId": "7ddc36aa-8a28-4bb9-dda1-8cffeabb920c"
      },
      "source": [
        "maps = dpcnn.maps[3].cpu()\n",
        "map = maps[8,:,:]\n",
        "\n",
        "import matplotlib.pyplot as plt\n",
        "plt.imshow(map)\n",
        "plt.colorbar()\n",
        "plt.show()"
      ],
      "id": "tQEJtEBjrKFa",
      "execution_count": 44,
      "outputs": [
        {
          "output_type": "display_data",
          "data": {
            "image/png": "[encoded data removed]",
            "text/plain": [
              "<Figure size 432x288 with 2 Axes>"
            ]
          },
          "metadata": {
            "tags": [],
            "needs_background": "light"
          }
        }
      ]
    },
    {
      "cell_type": "code",
      "metadata": {
        "id": "QRFT1I0WrKC2"
      },
      "source": [
        ""
      ],
      "id": "QRFT1I0WrKC2",
      "execution_count": 44,
      "outputs": []
    },
    {
      "cell_type": "code",
      "metadata": {
        "id": "dGo5AWvbrKAN"
      },
      "source": [
        ""
      ],
      "id": "dGo5AWvbrKAN",
      "execution_count": 44,
      "outputs": []
    },
    {
      "cell_type": "code",
      "metadata": {
        "id": "E0khw5aCJqT1"
      },
      "source": [
        ""
      ],
      "id": "E0khw5aCJqT1",
      "execution_count": 44,
      "outputs": []
    }
  ]
}