{
  "nbformat": 4,
  "nbformat_minor": 5,
  "metadata": {
    "accelerator": "GPU",
    "colab": {
      "name": "Error_analysis_self_finance.ipynb",
      "provenance": [],
      "collapsed_sections": []
    },
    "kernelspec": {
      "display_name": "Python 3",
      "language": "python",
      "name": "python3"
    },
    "language_info": {
      "codemirror_mode": {
        "name": "ipython",
        "version": 3
      },
      "file_extension": ".py",
      "mimetype": "text/x-python",
      "name": "python",
      "nbconvert_exporter": "python",
      "pygments_lexer": "ipython3",
      "version": "3.9.2"
    },
    "widgets": {
      "application/vnd.jupyter.widget-state+json": {
        "1ec5d2977b014d25b3f1f2ec80c9bcfd": {
          "model_module": "@jupyter-widgets/controls",
          "model_name": "HBoxModel",
          "state": {
            "_view_name": "HBoxView",
            "_dom_classes": [],
            "_model_name": "HBoxModel",
            "_view_module": "@jupyter-widgets/controls",
            "_model_module_version": "1.5.0",
            "_view_count": null,
            "_view_module_version": "1.5.0",
            "box_style": "",
            "layout": "IPY_MODEL_2c8c4685249945bf9a6aefbdf2299081",
            "_model_module": "@jupyter-widgets/controls",
            "children": [
              "IPY_MODEL_6f8aabe952f0422ca2bf0371d19dde6c",
              "IPY_MODEL_530fe8c16575404fbc7fc1825818c531"
            ]
          }
        },
        "2c8c4685249945bf9a6aefbdf2299081": {
          "model_module": "@jupyter-widgets/base",
          "model_name": "LayoutModel",
          "state": {
            "_view_name": "LayoutView",
            "grid_template_rows": null,
            "right": null,
            "justify_content": null,
            "_view_module": "@jupyter-widgets/base",
            "overflow": null,
            "_model_module_version": "1.2.0",
            "_view_count": null,
            "flex_flow": null,
            "width": null,
            "min_width": null,
            "border": null,
            "align_items": null,
            "bottom": null,
            "_model_module": "@jupyter-widgets/base",
            "top": null,
            "grid_column": null,
            "overflow_y": null,
            "overflow_x": null,
            "grid_auto_flow": null,
            "grid_area": null,
            "grid_template_columns": null,
            "flex": null,
            "_model_name": "LayoutModel",
            "justify_items": null,
            "grid_row": null,
            "max_height": null,
            "align_content": null,
            "visibility": null,
            "align_self": null,
            "height": null,
            "min_height": null,
            "padding": null,
            "grid_auto_rows": null,
            "grid_gap": null,
            "max_width": null,
            "order": null,
            "_view_module_version": "1.2.0",
            "grid_template_areas": null,
            "object_position": null,
            "object_fit": null,
            "grid_auto_columns": null,
            "margin": null,
            "display": null,
            "left": null
          }
        },
        "6f8aabe952f0422ca2bf0371d19dde6c": {
          "model_module": "@jupyter-widgets/controls",
          "model_name": "FloatProgressModel",
          "state": {
            "_view_name": "ProgressView",
            "style": "IPY_MODEL_712b8f95e34b42a48651bfea18eea7e7",
            "_dom_classes": [],
            "description": "Downloading: 100%",
            "_model_name": "FloatProgressModel",
            "bar_style": "success",
            "max": 231508,
            "_view_module": "@jupyter-widgets/controls",
            "_model_module_version": "1.5.0",
            "value": 231508,
            "_view_count": null,
            "_view_module_version": "1.5.0",
            "orientation": "horizontal",
            "min": 0,
            "description_tooltip": null,
            "_model_module": "@jupyter-widgets/controls",
            "layout": "IPY_MODEL_e0d5655dbf4343e486ff70003c923cfc"
          }
        },
        "530fe8c16575404fbc7fc1825818c531": {
          "model_module": "@jupyter-widgets/controls",
          "model_name": "HTMLModel",
          "state": {
            "_view_name": "HTMLView",
            "style": "IPY_MODEL_f154610217a64fba83f8df54a268ca54",
            "_dom_classes": [],
            "description": "",
            "_model_name": "HTMLModel",
            "placeholder": "​",
            "_view_module": "@jupyter-widgets/controls",
            "_model_module_version": "1.5.0",
            "value": " 232k/232k [00:00&lt;00:00, 606kB/s]",
            "_view_count": null,
            "_view_module_version": "1.5.0",
            "description_tooltip": null,
            "_model_module": "@jupyter-widgets/controls",
            "layout": "IPY_MODEL_c0bc0e00e4284cff856a221bf5e335cf"
          }
        },
        "712b8f95e34b42a48651bfea18eea7e7": {
          "model_module": "@jupyter-widgets/controls",
          "model_name": "ProgressStyleModel",
          "state": {
            "_view_name": "StyleView",
            "_model_name": "ProgressStyleModel",
            "description_width": "initial",
            "_view_module": "@jupyter-widgets/base",
            "_model_module_version": "1.5.0",
            "_view_count": null,
            "_view_module_version": "1.2.0",
            "bar_color": null,
            "_model_module": "@jupyter-widgets/controls"
          }
        },
        "e0d5655dbf4343e486ff70003c923cfc": {
          "model_module": "@jupyter-widgets/base",
          "model_name": "LayoutModel",
          "state": {
            "_view_name": "LayoutView",
            "grid_template_rows": null,
            "right": null,
            "justify_content": null,
            "_view_module": "@jupyter-widgets/base",
            "overflow": null,
            "_model_module_version": "1.2.0",
            "_view_count": null,
            "flex_flow": null,
            "width": null,
            "min_width": null,
            "border": null,
            "align_items": null,
            "bottom": null,
            "_model_module": "@jupyter-widgets/base",
            "top": null,
            "grid_column": null,
            "overflow_y": null,
            "overflow_x": null,
            "grid_auto_flow": null,
            "grid_area": null,
            "grid_template_columns": null,
            "flex": null,
            "_model_name": "LayoutModel",
            "justify_items": null,
            "grid_row": null,
            "max_height": null,
            "align_content": null,
            "visibility": null,
            "align_self": null,
            "height": null,
            "min_height": null,
            "padding": null,
            "grid_auto_rows": null,
            "grid_gap": null,
            "max_width": null,
            "order": null,
            "_view_module_version": "1.2.0",
            "grid_template_areas": null,
            "object_position": null,
            "object_fit": null,
            "grid_auto_columns": null,
            "margin": null,
            "display": null,
            "left": null
          }
        },
        "f154610217a64fba83f8df54a268ca54": {
          "model_module": "@jupyter-widgets/controls",
          "model_name": "DescriptionStyleModel",
          "state": {
            "_view_name": "StyleView",
            "_model_name": "DescriptionStyleModel",
            "description_width": "",
            "_view_module": "@jupyter-widgets/base",
            "_model_module_version": "1.5.0",
            "_view_count": null,
            "_view_module_version": "1.2.0",
            "_model_module": "@jupyter-widgets/controls"
          }
        },
        "c0bc0e00e4284cff856a221bf5e335cf": {
          "model_module": "@jupyter-widgets/base",
          "model_name": "LayoutModel",
          "state": {
            "_view_name": "LayoutView",
            "grid_template_rows": null,
            "right": null,
            "justify_content": null,
            "_view_module": "@jupyter-widgets/base",
            "overflow": null,
            "_model_module_version": "1.2.0",
            "_view_count": null,
            "flex_flow": null,
            "width": null,
            "min_width": null,
            "border": null,
            "align_items": null,
            "bottom": null,
            "_model_module": "@jupyter-widgets/base",
            "top": null,
            "grid_column": null,
            "overflow_y": null,
            "overflow_x": null,
            "grid_auto_flow": null,
            "grid_area": null,
            "grid_template_columns": null,
            "flex": null,
            "_model_name": "LayoutModel",
            "justify_items": null,
            "grid_row": null,
            "max_height": null,
            "align_content": null,
            "visibility": null,
            "align_self": null,
            "height": null,
            "min_height": null,
            "padding": null,
            "grid_auto_rows": null,
            "grid_gap": null,
            "max_width": null,
            "order": null,
            "_view_module_version": "1.2.0",
            "grid_template_areas": null,
            "object_position": null,
            "object_fit": null,
            "grid_auto_columns": null,
            "margin": null,
            "display": null,
            "left": null
          }
        },
        "a2cefe371e9e4bb381b8ac45922fd064": {
          "model_module": "@jupyter-widgets/controls",
          "model_name": "HBoxModel",
          "state": {
            "_view_name": "HBoxView",
            "_dom_classes": [],
            "_model_name": "HBoxModel",
            "_view_module": "@jupyter-widgets/controls",
            "_model_module_version": "1.5.0",
            "_view_count": null,
            "_view_module_version": "1.5.0",
            "box_style": "",
            "layout": "IPY_MODEL_050dce89e56b48a5a51ec2230931b7f2",
            "_model_module": "@jupyter-widgets/controls",
            "children": [
              "IPY_MODEL_4b50fce79d99418aa3ae72c13ba84de7",
              "IPY_MODEL_8a3a92a8ab67456fbe2b5f9185314a7f"
            ]
          }
        },
        "050dce89e56b48a5a51ec2230931b7f2": {
          "model_module": "@jupyter-widgets/base",
          "model_name": "LayoutModel",
          "state": {
            "_view_name": "LayoutView",
            "grid_template_rows": null,
            "right": null,
            "justify_content": null,
            "_view_module": "@jupyter-widgets/base",
            "overflow": null,
            "_model_module_version": "1.2.0",
            "_view_count": null,
            "flex_flow": null,
            "width": null,
            "min_width": null,
            "border": null,
            "align_items": null,
            "bottom": null,
            "_model_module": "@jupyter-widgets/base",
            "top": null,
            "grid_column": null,
            "overflow_y": null,
            "overflow_x": null,
            "grid_auto_flow": null,
            "grid_area": null,
            "grid_template_columns": null,
            "flex": null,
            "_model_name": "LayoutModel",
            "justify_items": null,
            "grid_row": null,
            "max_height": null,
            "align_content": null,
            "visibility": null,
            "align_self": null,
            "height": null,
            "min_height": null,
            "padding": null,
            "grid_auto_rows": null,
            "grid_gap": null,
            "max_width": null,
            "order": null,
            "_view_module_version": "1.2.0",
            "grid_template_areas": null,
            "object_position": null,
            "object_fit": null,
            "grid_auto_columns": null,
            "margin": null,
            "display": null,
            "left": null
          }
        },
        "4b50fce79d99418aa3ae72c13ba84de7": {
          "model_module": "@jupyter-widgets/controls",
          "model_name": "FloatProgressModel",
          "state": {
            "_view_name": "ProgressView",
            "style": "IPY_MODEL_9c159c878f97434b89498afe002ec6b6",
            "_dom_classes": [],
            "description": "Downloading: 100%",
            "_model_name": "FloatProgressModel",
            "bar_style": "success",
            "max": 466062,
            "_view_module": "@jupyter-widgets/controls",
            "_model_module_version": "1.5.0",
            "value": 466062,
            "_view_count": null,
            "_view_module_version": "1.5.0",
            "orientation": "horizontal",
            "min": 0,
            "description_tooltip": null,
            "_model_module": "@jupyter-widgets/controls",
            "layout": "IPY_MODEL_56b9942be25640fcb1a07439c14f87f9"
          }
        },
        "8a3a92a8ab67456fbe2b5f9185314a7f": {
          "model_module": "@jupyter-widgets/controls",
          "model_name": "HTMLModel",
          "state": {
            "_view_name": "HTMLView",
            "style": "IPY_MODEL_2100bcc587ad4cdb99b3dcad7cf1acd2",
            "_dom_classes": [],
            "description": "",
            "_model_name": "HTMLModel",
            "placeholder": "​",
            "_view_module": "@jupyter-widgets/controls",
            "_model_module_version": "1.5.0",
            "value": " 466k/466k [00:00&lt;00:00, 3.00MB/s]",
            "_view_count": null,
            "_view_module_version": "1.5.0",
            "description_tooltip": null,
            "_model_module": "@jupyter-widgets/controls",
            "layout": "IPY_MODEL_3308c97de3da488d945a3e6ceff172fd"
          }
        },
        "9c159c878f97434b89498afe002ec6b6": {
          "model_module": "@jupyter-widgets/controls",
          "model_name": "ProgressStyleModel",
          "state": {
            "_view_name": "StyleView",
            "_model_name": "ProgressStyleModel",
            "description_width": "initial",
            "_view_module": "@jupyter-widgets/base",
            "_model_module_version": "1.5.0",
            "_view_count": null,
            "_view_module_version": "1.2.0",
            "bar_color": null,
            "_model_module": "@jupyter-widgets/controls"
          }
        },
        "56b9942be25640fcb1a07439c14f87f9": {
          "model_module": "@jupyter-widgets/base",
          "model_name": "LayoutModel",
          "state": {
            "_view_name": "LayoutView",
            "grid_template_rows": null,
            "right": null,
            "justify_content": null,
            "_view_module": "@jupyter-widgets/base",
            "overflow": null,
            "_model_module_version": "1.2.0",
            "_view_count": null,
            "flex_flow": null,
            "width": null,
            "min_width": null,
            "border": null,
            "align_items": null,
            "bottom": null,
            "_model_module": "@jupyter-widgets/base",
            "top": null,
            "grid_column": null,
            "overflow_y": null,
            "overflow_x": null,
            "grid_auto_flow": null,
            "grid_area": null,
            "grid_template_columns": null,
            "flex": null,
            "_model_name": "LayoutModel",
            "justify_items": null,
            "grid_row": null,
            "max_height": null,
            "align_content": null,
            "visibility": null,
            "align_self": null,
            "height": null,
            "min_height": null,
            "padding": null,
            "grid_auto_rows": null,
            "grid_gap": null,
            "max_width": null,
            "order": null,
            "_view_module_version": "1.2.0",
            "grid_template_areas": null,
            "object_position": null,
            "object_fit": null,
            "grid_auto_columns": null,
            "margin": null,
            "display": null,
            "left": null
          }
        },
        "2100bcc587ad4cdb99b3dcad7cf1acd2": {
          "model_module": "@jupyter-widgets/controls",
          "model_name": "DescriptionStyleModel",
          "state": {
            "_view_name": "StyleView",
            "_model_name": "DescriptionStyleModel",
            "description_width": "",
            "_view_module": "@jupyter-widgets/base",
            "_model_module_version": "1.5.0",
            "_view_count": null,
            "_view_module_version": "1.2.0",
            "_model_module": "@jupyter-widgets/controls"
          }
        },
        "3308c97de3da488d945a3e6ceff172fd": {
          "model_module": "@jupyter-widgets/base",
          "model_name": "LayoutModel",
          "state": {
            "_view_name": "LayoutView",
            "grid_template_rows": null,
            "right": null,
            "justify_content": null,
            "_view_module": "@jupyter-widgets/base",
            "overflow": null,
            "_model_module_version": "1.2.0",
            "_view_count": null,
            "flex_flow": null,
            "width": null,
            "min_width": null,
            "border": null,
            "align_items": null,
            "bottom": null,
            "_model_module": "@jupyter-widgets/base",
            "top": null,
            "grid_column": null,
            "overflow_y": null,
            "overflow_x": null,
            "grid_auto_flow": null,
            "grid_area": null,
            "grid_template_columns": null,
            "flex": null,
            "_model_name": "LayoutModel",
            "justify_items": null,
            "grid_row": null,
            "max_height": null,
            "align_content": null,
            "visibility": null,
            "align_self": null,
            "height": null,
            "min_height": null,
            "padding": null,
            "grid_auto_rows": null,
            "grid_gap": null,
            "max_width": null,
            "order": null,
            "_view_module_version": "1.2.0",
            "grid_template_areas": null,
            "object_position": null,
            "object_fit": null,
            "grid_auto_columns": null,
            "margin": null,
            "display": null,
            "left": null
          }
        },
        "e0ed7056d7ea452aaba680b75d6f3ae2": {
          "model_module": "@jupyter-widgets/controls",
          "model_name": "HBoxModel",
          "state": {
            "_view_name": "HBoxView",
            "_dom_classes": [],
            "_model_name": "HBoxModel",
            "_view_module": "@jupyter-widgets/controls",
            "_model_module_version": "1.5.0",
            "_view_count": null,
            "_view_module_version": "1.5.0",
            "box_style": "",
            "layout": "IPY_MODEL_a3f12129d12e4bbc89711d974d6f43b6",
            "_model_module": "@jupyter-widgets/controls",
            "children": [
              "IPY_MODEL_8b6e24cae1884e83adfd9dfc6d726771",
              "IPY_MODEL_f3aa17f498864bce879b8793ec550490"
            ]
          }
        },
        "a3f12129d12e4bbc89711d974d6f43b6": {
          "model_module": "@jupyter-widgets/base",
          "model_name": "LayoutModel",
          "state": {
            "_view_name": "LayoutView",
            "grid_template_rows": null,
            "right": null,
            "justify_content": null,
            "_view_module": "@jupyter-widgets/base",
            "overflow": null,
            "_model_module_version": "1.2.0",
            "_view_count": null,
            "flex_flow": null,
            "width": null,
            "min_width": null,
            "border": null,
            "align_items": null,
            "bottom": null,
            "_model_module": "@jupyter-widgets/base",
            "top": null,
            "grid_column": null,
            "overflow_y": null,
            "overflow_x": null,
            "grid_auto_flow": null,
            "grid_area": null,
            "grid_template_columns": null,
            "flex": null,
            "_model_name": "LayoutModel",
            "justify_items": null,
            "grid_row": null,
            "max_height": null,
            "align_content": null,
            "visibility": null,
            "align_self": null,
            "height": null,
            "min_height": null,
            "padding": null,
            "grid_auto_rows": null,
            "grid_gap": null,
            "max_width": null,
            "order": null,
            "_view_module_version": "1.2.0",
            "grid_template_areas": null,
            "object_position": null,
            "object_fit": null,
            "grid_auto_columns": null,
            "margin": null,
            "display": null,
            "left": null
          }
        },
        "8b6e24cae1884e83adfd9dfc6d726771": {
          "model_module": "@jupyter-widgets/controls",
          "model_name": "FloatProgressModel",
          "state": {
            "_view_name": "ProgressView",
            "style": "IPY_MODEL_fe1a1d692f514bafbe80b72ea386cfc0",
            "_dom_classes": [],
            "description": "Downloading: 100%",
            "_model_name": "FloatProgressModel",
            "bar_style": "success",
            "max": 28,
            "_view_module": "@jupyter-widgets/controls",
            "_model_module_version": "1.5.0",
            "value": 28,
            "_view_count": null,
            "_view_module_version": "1.5.0",
            "orientation": "horizontal",
            "min": 0,
            "description_tooltip": null,
            "_model_module": "@jupyter-widgets/controls",
            "layout": "IPY_MODEL_a03106887705417c89aa13445a348da8"
          }
        },
        "f3aa17f498864bce879b8793ec550490": {
          "model_module": "@jupyter-widgets/controls",
          "model_name": "HTMLModel",
          "state": {
            "_view_name": "HTMLView",
            "style": "IPY_MODEL_2964d9662efb4ee68565651472128e04",
            "_dom_classes": [],
            "description": "",
            "_model_name": "HTMLModel",
            "placeholder": "​",
            "_view_module": "@jupyter-widgets/controls",
            "_model_module_version": "1.5.0",
            "value": " 28.0/28.0 [00:00&lt;00:00, 200B/s]",
            "_view_count": null,
            "_view_module_version": "1.5.0",
            "description_tooltip": null,
            "_model_module": "@jupyter-widgets/controls",
            "layout": "IPY_MODEL_af0e2421da5a458e92763cb81fd3ba68"
          }
        },
        "fe1a1d692f514bafbe80b72ea386cfc0": {
          "model_module": "@jupyter-widgets/controls",
          "model_name": "ProgressStyleModel",
          "state": {
            "_view_name": "StyleView",
            "_model_name": "ProgressStyleModel",
            "description_width": "initial",
            "_view_module": "@jupyter-widgets/base",
            "_model_module_version": "1.5.0",
            "_view_count": null,
            "_view_module_version": "1.2.0",
            "bar_color": null,
            "_model_module": "@jupyter-widgets/controls"
          }
        },
        "a03106887705417c89aa13445a348da8": {
          "model_module": "@jupyter-widgets/base",
          "model_name": "LayoutModel",
          "state": {
            "_view_name": "LayoutView",
            "grid_template_rows": null,
            "right": null,
            "justify_content": null,
            "_view_module": "@jupyter-widgets/base",
            "overflow": null,
            "_model_module_version": "1.2.0",
            "_view_count": null,
            "flex_flow": null,
            "width": null,
            "min_width": null,
            "border": null,
            "align_items": null,
            "bottom": null,
            "_model_module": "@jupyter-widgets/base",
            "top": null,
            "grid_column": null,
            "overflow_y": null,
            "overflow_x": null,
            "grid_auto_flow": null,
            "grid_area": null,
            "grid_template_columns": null,
            "flex": null,
            "_model_name": "LayoutModel",
            "justify_items": null,
            "grid_row": null,
            "max_height": null,
            "align_content": null,
            "visibility": null,
            "align_self": null,
            "height": null,
            "min_height": null,
            "padding": null,
            "grid_auto_rows": null,
            "grid_gap": null,
            "max_width": null,
            "order": null,
            "_view_module_version": "1.2.0",
            "grid_template_areas": null,
            "object_position": null,
            "object_fit": null,
            "grid_auto_columns": null,
            "margin": null,
            "display": null,
            "left": null
          }
        },
        "2964d9662efb4ee68565651472128e04": {
          "model_module": "@jupyter-widgets/controls",
          "model_name": "DescriptionStyleModel",
          "state": {
            "_view_name": "StyleView",
            "_model_name": "DescriptionStyleModel",
            "description_width": "",
            "_view_module": "@jupyter-widgets/base",
            "_model_module_version": "1.5.0",
            "_view_count": null,
            "_view_module_version": "1.2.0",
            "_model_module": "@jupyter-widgets/controls"
          }
        },
        "af0e2421da5a458e92763cb81fd3ba68": {
          "model_module": "@jupyter-widgets/base",
          "model_name": "LayoutModel",
          "state": {
            "_view_name": "LayoutView",
            "grid_template_rows": null,
            "right": null,
            "justify_content": null,
            "_view_module": "@jupyter-widgets/base",
            "overflow": null,
            "_model_module_version": "1.2.0",
            "_view_count": null,
            "flex_flow": null,
            "width": null,
            "min_width": null,
            "border": null,
            "align_items": null,
            "bottom": null,
            "_model_module": "@jupyter-widgets/base",
            "top": null,
            "grid_column": null,
            "overflow_y": null,
            "overflow_x": null,
            "grid_auto_flow": null,
            "grid_area": null,
            "grid_template_columns": null,
            "flex": null,
            "_model_name": "LayoutModel",
            "justify_items": null,
            "grid_row": null,
            "max_height": null,
            "align_content": null,
            "visibility": null,
            "align_self": null,
            "height": null,
            "min_height": null,
            "padding": null,
            "grid_auto_rows": null,
            "grid_gap": null,
            "max_width": null,
            "order": null,
            "_view_module_version": "1.2.0",
            "grid_template_areas": null,
            "object_position": null,
            "object_fit": null,
            "grid_auto_columns": null,
            "margin": null,
            "display": null,
            "left": null
          }
        }
      }
    }
  },
  "cells": [
    {
      "cell_type": "code",
      "execution_count": null,
      "source": [
        "#https://github.com/bentrevett/pytorch-sentiment-analysis\r\n",
        "#https://github.com/bentrevett/pytorch-sentiment-analysis/blob/master/6%20-%20Transformers%20for%20Sentiment%20Analysis.ipynb"
      ],
      "outputs": [],
      "metadata": {
        "id": "8fghEE8Hnf9L"
      }
    },
    {
      "cell_type": "code",
      "execution_count": null,
      "source": [
        "pip install transformers"
      ],
      "outputs": [],
      "metadata": {
        "colab": {
          "base_uri": "https://localhost:8080/"
        },
        "id": "XpYzR-xRn1pY",
        "outputId": "4b792c05-903f-4ff4-f1be-aa75aa2d039a"
      }
    },
    {
      "cell_type": "code",
      "execution_count": null,
      "source": [
        "#from google.colab import drive\r\n",
        "#drive.mount('/content/drive')"
      ],
      "outputs": [],
      "metadata": {
        "id": "zDP0BdP7ZsXd"
      }
    },
    {
      "cell_type": "code",
      "execution_count": null,
      "source": [
        "import torch\r\n",
        "import torch.nn as nn\r\n",
        "from torch.utils.data import TensorDataset, DataLoader, RandomSampler, SequentialSampler\r\n",
        "import random\r\n",
        "import numpy as np\r\n",
        "import pandas as pd\r\n",
        "import torch.nn.functional as F\r\n",
        "from sklearn.model_selection import train_test_split\r\n",
        "from sklearn.metrics import classification_report\r\n",
        "import transformers\r\n",
        "from transformers import AutoModel, BertTokenizerFast\r\n",
        "import time\r\n",
        "from sklearn.metrics import classification_report\r\n",
        "SEED = 1234\r\n",
        "\r\n",
        "random.seed(SEED)\r\n",
        "np.random.seed(SEED)\r\n",
        "torch.manual_seed(SEED)\r\n",
        "torch.backends.cudnn.deterministic = True\r\n",
        "\r\n",
        "# specify GPU\r\n",
        "device = torch.device('cuda' if torch.cuda.is_available() else 'cpu')"
      ],
      "outputs": [],
      "metadata": {
        "id": "IUAEUPTPnf9Q"
      }
    },
    {
      "cell_type": "code",
      "execution_count": null,
      "source": [
        "from google.colab import drive\n",
        "drive.mount('/content/drive')"
      ],
      "outputs": [],
      "metadata": {
        "colab": {
          "base_uri": "https://localhost:8080/"
        },
        "id": "DSQwK5wE6Cp7",
        "outputId": "dd05e8d4-b814-47e5-f9e6-a68a119ced88"
      }
    },
    {
      "cell_type": "code",
      "execution_count": null,
      "source": [
        "#df_all = pd.read_csv('all-data.csv',encoding='latin-1')\n",
        "df_all = pd.read_csv('/content/drive/My Drive/content/all-data.csv', encoding = 'latin-1', header=None )\n",
        "df_all.columns = [\"sentiment\", \"text\"]"
      ],
      "outputs": [],
      "metadata": {
        "id": "ydDYRF92aDSk"
      }
    },
    {
      "cell_type": "code",
      "execution_count": null,
      "source": [
        "df_all.head()"
      ],
      "outputs": [],
      "metadata": {
        "colab": {
          "base_uri": "https://localhost:8080/",
          "height": 203
        },
        "id": "D_SK46UW-hC-",
        "outputId": "4f34f2c1-6276-42b7-bb50-0deb70f1fb84"
      }
    },
    {
      "cell_type": "code",
      "execution_count": null,
      "source": [
        "#df_all = df_all[['text','sentiment']]\n",
        "dic = {'negative' : 0, 'neutral': 1, 'positive': 2}\n",
        "df_all['sentiment']= df_all['sentiment'].replace(dic).astype('int64')\n",
        "df_all.head()"
      ],
      "outputs": [],
      "metadata": {
        "colab": {
          "base_uri": "https://localhost:8080/",
          "height": 203
        },
        "id": "RdbPTwVlaTck",
        "outputId": "fcdde8d1-c61b-4bcf-9736-69ca53338959"
      }
    },
    {
      "cell_type": "code",
      "execution_count": null,
      "source": [
        "# split train dataset into train, validation and test sets\n",
        "train_text, temp_text, train_labels, temp_labels = train_test_split(df_all['text'], df_all['sentiment'], \n",
        "                                                                    random_state=45, \n",
        "                                                                    test_size=0.3, \n",
        "                                                                    stratify=df_all['sentiment'])\n",
        "\n",
        "\n",
        "val_text, test_text, val_labels, test_labels = train_test_split(temp_text, temp_labels, \n",
        "                                                                random_state=45, \n",
        "                                                                test_size=0.5, \n",
        "                                                                stratify=temp_labels)"
      ],
      "outputs": [],
      "metadata": {
        "id": "ISP1tMtncuGq"
      }
    },
    {
      "cell_type": "code",
      "execution_count": null,
      "source": [
        "from transformers import AutoModel, BertTokenizerFast\n",
        "# import BERT-base pretrained model\n",
        "#bert = AutoModel.from_pretrained('bert-base-uncased')\n",
        "\n",
        "# Load the BERT tokenizer\n",
        "tokenizer = BertTokenizerFast.from_pretrained('bert-base-uncased')"
      ],
      "outputs": [],
      "metadata": {
        "id": "-2A3AcBSd13Y",
        "colab": {
          "base_uri": "https://localhost:8080/",
          "height": 166,
          "referenced_widgets": [
            "1ec5d2977b014d25b3f1f2ec80c9bcfd",
            "2c8c4685249945bf9a6aefbdf2299081",
            "6f8aabe952f0422ca2bf0371d19dde6c",
            "530fe8c16575404fbc7fc1825818c531",
            "712b8f95e34b42a48651bfea18eea7e7",
            "e0d5655dbf4343e486ff70003c923cfc",
            "f154610217a64fba83f8df54a268ca54",
            "c0bc0e00e4284cff856a221bf5e335cf",
            "a2cefe371e9e4bb381b8ac45922fd064",
            "050dce89e56b48a5a51ec2230931b7f2",
            "4b50fce79d99418aa3ae72c13ba84de7",
            "8a3a92a8ab67456fbe2b5f9185314a7f",
            "9c159c878f97434b89498afe002ec6b6",
            "56b9942be25640fcb1a07439c14f87f9",
            "2100bcc587ad4cdb99b3dcad7cf1acd2",
            "3308c97de3da488d945a3e6ceff172fd",
            "e0ed7056d7ea452aaba680b75d6f3ae2",
            "a3f12129d12e4bbc89711d974d6f43b6",
            "8b6e24cae1884e83adfd9dfc6d726771",
            "f3aa17f498864bce879b8793ec550490",
            "fe1a1d692f514bafbe80b72ea386cfc0",
            "a03106887705417c89aa13445a348da8",
            "2964d9662efb4ee68565651472128e04",
            "af0e2421da5a458e92763cb81fd3ba68"
          ]
        },
        "outputId": "003ce83d-958f-4a48-b0eb-6ea4802946c5"
      }
    },
    {
      "cell_type": "code",
      "execution_count": null,
      "source": [
        "# t\n",
        "# tokenize and encode sequences in the test set\n",
        "tokens_test = tokenizer.batch_encode_plus(\n",
        "    test_text.tolist(),\n",
        "    max_length = 40,\n",
        "    padding='longest',\n",
        "    truncation=True\n",
        ")"
      ],
      "outputs": [],
      "metadata": {
        "id": "k4G9gD3neNkJ"
      }
    },
    {
      "cell_type": "code",
      "execution_count": null,
      "source": [
        "## convert lists to tensors\n",
        "test_seq = torch.tensor(tokens_test['input_ids'])[:32]\n",
        "test_mask = torch.tensor(tokens_test['attention_mask'])[:32]\n",
        "test_y = torch.tensor(test_labels.tolist())[:32]"
      ],
      "outputs": [],
      "metadata": {
        "id": "ChuoX_0XfU4_"
      }
    },
    {
      "cell_type": "code",
      "execution_count": null,
      "source": [
        "#define a batch size\n",
        "batch_size = 32\n",
        "\n",
        "# wrap tensors\n",
        "test_data = TensorDataset(test_seq, test_mask, test_y)\n",
        "\n",
        "# sampler for sampling the data during training\n",
        "test_sampler = SequentialSampler(test_data)\n",
        "\n",
        "# dataLoader for test set\n",
        "test_dataloader = DataLoader(test_data, sampler = test_sampler, batch_size=batch_size, drop_last=True)"
      ],
      "outputs": [],
      "metadata": {
        "id": "9oyz5bTJfVnf"
      }
    },
    {
      "cell_type": "code",
      "execution_count": null,
      "source": [
        "#import torch.nn as nn\n",
        "#import torch.nn.functional as F\n",
        "from torch.autograd import Variable\n",
        "\n",
        "# reference source: https://www.programmersought.com/article/31037125394/\n",
        "class AttnDPCNN(nn.Module):\n",
        "\n",
        "    def __init__(self, batch_size,seq_len,embedding_dim,output_size_linear, \n",
        "                 cnn_channel_size, cnn_kernel_size=(3,1),cnn_padding=0, cnn_stride=1, attn_nodes_per_layer = 10):\n",
        "\n",
        "        super(AttnDPCNN, self).__init__()\n",
        "        #self.bert=bert\n",
        "        self.attn_nodes_per_layer = attn_nodes_per_layer\n",
        "        self.channel_size = cnn_channel_size\n",
        "        self.output_size_linear = output_size_linear\n",
        "        self.cnn_kernel_size = cnn_kernel_size\n",
        "        self.padding = cnn_padding\n",
        "        self.stride = cnn_stride\n",
        "        #self.vocab_size = vocab_size\n",
        "        self.embed_dim = embedding_dim\n",
        "        self.seq_len = seq_len\n",
        "        self.batch_size = batch_size\n",
        "        self.maps = {}\n",
        "        self.get_maps = False\n",
        "        \n",
        "        self.collect_out_softmax = torch.zeros(1,1).to(device)\n",
        "        self.collect_out_attn = torch.zeros(self.batch_size,self.attn_nodes_per_layer).to(device)\n",
        "        \n",
        "        #self.embed = nn.Embedding(self.vocab_size, self.embed_dim)\n",
        "        self.conv1 = nn.Conv2d(1,  self.channel_size, (3,self.embed_dim), stride = 1) # embed_dim becomes 1\n",
        "        self.conv2 = nn.Conv2d(self.channel_size,  self.channel_size,  \n",
        "                                kernel_size=self.cnn_kernel_size, padding=0,\n",
        "                               stride = self.stride)\n",
        "        self.padding1 = nn.ZeroPad2d((0, 0, 1, 1))  # top bottom\n",
        "        self.padding2 = nn.ZeroPad2d((0, 0, 0, 1))  # bottom\n",
        "        self.max_pool = nn.MaxPool2d(kernel_size=(3, 1), stride=2)      \n",
        "        \n",
        "        self._repeat_block = nn.Sequential( # input [batch_size, num_filters, seq_len-3+1, 1]\n",
        "                    nn.ZeroPad2d((0, 0, 1, 1)), # [batch_size, num_filters, seq_len, 1]\n",
        "                    nn.ReLU(),\n",
        "                    nn.Conv2d(self.channel_size,  self.channel_size,   # [batch_size, num_filters, seq_len-3+1, 1]\n",
        "                                kernel_size=self.cnn_kernel_size, padding=0,\n",
        "                               stride = self.stride),\n",
        "                    nn.ZeroPad2d((0, 0, 1, 1)), # [batch_size, num_filters, seq_len, 1]\n",
        "                    nn.ReLU(),\n",
        "                    nn.Conv2d(self.channel_size,  self.channel_size,  # [batch_size, num_filters, seq_len-3+1, 1]\n",
        "                                kernel_size=self.cnn_kernel_size, padding=0,\n",
        "                               stride = self.stride),\n",
        "            )\n",
        "        \n",
        "        \n",
        "        # To get variying attention weights for 1) softmax output 2) 10 representing features\n",
        "        self.num_repeat_blocks, self.size_repeat_blocks_list = self.dividible(2)\n",
        "        # self.weight_softmax_list, self.weight_attn_list = self.getWeights_init()\n",
        "        \n",
        "        self.counter=0\n",
        "        \n",
        "        # Drop probability\n",
        "        self.dropout = nn.Dropout(p=0.2)\n",
        "        # Last linear layer (FC)\n",
        "        #self.linear1 = nn.Linear(self.num_repeat_blocks*self.attn_nodes_per_layer,self.output_size_linear)\n",
        "        self.linear1 = nn.Linear(self.channel_size,self.output_size_linear)\n",
        "          \n",
        "    def repeat_block(self, x): # input [batch_size, num_filters, seq_len-3+1, 1]\n",
        "        x = self.padding2(x) # [batch_size, num_filters, seq_len-1, 1] -> seq_len-3+1+1 = seq_len-1\n",
        "        #print('padding')\n",
        "        x1 = self.max_pool(x)  # [batch_size, num_filters, (seq_len-1) // 3, 1 //1] -> seq_len-3+1+1 = seq_len-1\n",
        "        #print('x1',x1.shape)\n",
        "        # conv block\n",
        "        x2 = self._repeat_block(x1)\n",
        "        #print('x2',x2.shape)\n",
        "        # Identity addition\n",
        "        #x = x1 + x2\n",
        "        #print('x1+x2',x.shape)\n",
        "        return x1,x2\n",
        "\n",
        "    def forward(self, x):\n",
        "        \n",
        "        self.counter =0\n",
        "\n",
        "        #embed = self.bert(sent_id, attention_mask=mask)\n",
        "        #x = embed['last_hidden_state'].unsqueeze(1) # [batch_size, 1, seq_len, embedding_dim]\n",
        "        x = self.conv1(x)  # [batch_size, num_filters, seq_len-3+1, 1]\n",
        "        #print(x.shape)\n",
        "        x = self.padding1(x)  # [batch_size, num_filters, seq_len, 1]\n",
        "        x = F.relu(x)\n",
        "        x = self.conv2(x)  # [batch_size, num_filters, seq_len-3+1, 1]\n",
        "\n",
        "        count=0\n",
        "        while x.shape[2] >= 2: # till seq_len is 1\n",
        "            #print(\"start x\",x.shape)\n",
        "            x_prev,x = self.repeat_block(x)  # [batch_size, num_filters,1,1] at the end\n",
        "            #print(\"after pooling x\",x.shape)\n",
        "            seq = x.shape[2]\n",
        "\n",
        "            ## DOT PRODUCT SELF ATTENTION\n",
        "            query = x.clone().squeeze() # 32 x feature map x seq\n",
        "            #print(\"query\",query.shape)\n",
        "            key = x.clone().squeeze() # 32 x feature map x seq\n",
        "            #print(\"key\",query.shape)\n",
        "            value = x.clone().squeeze() # 32 x feature map x seq\n",
        "            #print(\"value\",value.shape)\n",
        "\n",
        "            if len(query.shape) ==2:\n",
        "              query = query.unsqueeze(2)\n",
        "            if len(key.shape) ==2:\n",
        "              key = key.unsqueeze(2)\n",
        "            if len(value.shape) ==2:\n",
        "              value = value.unsqueeze(2)\n",
        "\n",
        "            # dot product\n",
        "            dot_prod = torch.bmm(query.transpose(1,2),key)  # 32 x seq x seq\n",
        "            #print(\"dp1\",dot_prod[0,0,:])\n",
        "            dot_prod = dot_prod / value.shape[1] # 32 x seq x seq\n",
        "            #print(\"dot product\", dot_prod.shape)\n",
        "\n",
        "            softmax_out = torch.softmax(dot_prod, dim=1)\n",
        "            #print(softmax_out[0,:,0].sum()) #== 1\n",
        "            x = torch.bmm(value,softmax_out.transpose(1,2))\n",
        "\n",
        "            x = x.reshape(self.batch_size, self.channel_size, seq).unsqueeze(3)\n",
        "            x = x+x_prev\n",
        "            #print(\"end x\", x.shape)\n",
        "            #break\n",
        "            if self.get_maps:\n",
        "              self.maps.update({count : softmax_out})\n",
        "            count+=1\n",
        "\n",
        "        ## FULLY CONNECTED ##\n",
        "        # linear layer\n",
        "        # output = final_collect_out_attn.reshape(x.shape[0], -1) # [batch_size, num_filters]\n",
        "        output = x.reshape(x.shape[0], -1) # [batch_size, num_filters]\n",
        "        # x = x.squeeze()  # [batch_size, num_filters]\n",
        "        output = self.linear1(output)  # [batch_size, output size]\n",
        "        output = self.dropout(output)\n",
        "        return output\n",
        "    \n",
        "    def dividible(self,p):\n",
        "        n=self.seq_len\n",
        "        i = 0\n",
        "        out=[]\n",
        "        while n>=p:\n",
        "            if i==0:\n",
        "                n = (n-2)//2\n",
        "               #n=n-2\n",
        "               #out.append(n-1)\n",
        "            else:\n",
        "                n = n//2\n",
        "                #out.append(n)\n",
        "            i += 1\n",
        "            out.append(n)\n",
        "        return i,out\n",
        "    \n",
        "    def getWeights_init(self):\n",
        "        weights_softmax_list = []\n",
        "        weights_attn_list = []\n",
        "        for i in range(self.num_repeat_blocks):\n",
        "            # size_repeat_blocks_list contains various seq length\n",
        "            #print('batch size', self.batch_size)\n",
        "            #print('seq len', self.size_repeat_blocks_list[i])\n",
        "            #print('channel size', self.channel_size)\n",
        "            weights_softmax_list.append(Variable(torch.randn(1,self.batch_size*1*self.size_repeat_blocks_list[i]*self.channel_size)).to(device))\n",
        "            weights_attn_list.append(Variable(torch.randn(self.attn_nodes_per_layer,1*self.size_repeat_blocks_list[i]*self.channel_size)).to(device)) # fix output features as 10\n",
        "        return weights_softmax_list,weights_attn_list\n",
        "            "
      ],
      "outputs": [],
      "metadata": {
        "id": "5LUK39A-Gym9"
      }
    },
    {
      "cell_type": "code",
      "execution_count": null,
      "source": [
        "import pickle\n",
        "filenamedpcnn = '/content/drive/My Drive/content/BertAttnsDPCNN_selfattention_False_finance_Exp5dpcnn.pkl'\n",
        "filenamebert = '/content/drive/My Drive/content/BertAttnsDPCNN_selfattention_False_finance_Exp5bert.pkl'\n",
        "\n",
        "bert = pickle.load(open(filenamebert, 'rb'))\n",
        "dpcnn = pickle.load(open(filenamedpcnn, 'rb'))\n"
      ],
      "outputs": [],
      "metadata": {
        "id": "MflsFK7RANpl"
      }
    },
    {
      "cell_type": "code",
      "execution_count": null,
      "source": [
        "#dpcnn = AttnDPCNN(32,40,768, 3, 128) # batchsize, seq len, embed dim, classes, no of filters\n",
        "dpcnn = dpcnn.to(device)\n",
        "bert = bert.to(device)"
      ],
      "outputs": [],
      "metadata": {
        "id": "7Sz1FnUIgDb_"
      }
    },
    {
      "cell_type": "markdown",
      "source": [
        "TEST"
      ],
      "metadata": {
        "id": "35jFhznsFjeE"
      }
    },
    {
      "cell_type": "code",
      "execution_count": null,
      "source": [
        "# function for evaluating the model\n",
        "def test():\n",
        "  \n",
        "  print(\"\\nEvaluating...\")\n",
        "  t0 = time.time()\n",
        "  # deactivate dropout layers\n",
        "  #model.eval() replace below?\n",
        "\n",
        "  #load weights of best model\n",
        "  #bpath = 'bert_saved_weights.pt'\n",
        "  #bert.load_state_dict(bert.load(bpath))\n",
        "\n",
        "  bert.eval()\n",
        "  dpcnn.eval()\n",
        "\n",
        "  total_loss, total_accuracy = 0, 0\n",
        "  \n",
        "  # empty list to save the model predictions\n",
        "  total_preds = []\n",
        "  total_targets = []\n",
        "  # iterate over batches\n",
        "  for step,batch in enumerate(test_dataloader):\n",
        "    if step == len(test_dataloader)-1:\n",
        "      dpcnn.get_maps=True \n",
        "    # Progress update every 50 batches.\n",
        "    if step % 50 == 0 and not step == 0:\n",
        "      \n",
        "      # Calculate elapsed time in minutes.\n",
        "      elapsed = time.time() - t0\n",
        "            \n",
        "      # Report progress.\n",
        "      print('  Batch {:>5,}  of  {:>5,}.'.format(step, len(test_dataloader)))\n",
        "\n",
        "    # push the batch to gpu\n",
        "    batch = [t.to(device) for t in batch]\n",
        "\n",
        "    sent_id, mask, labels = batch\n",
        "\n",
        "    # deactivate autograd\n",
        "    with torch.no_grad():\n",
        "      \n",
        "      # model predictions\n",
        "      embed = bert(sent_id, attention_mask=mask)\n",
        "      x = embed['last_hidden_state'].unsqueeze(1) # [batch_size, 1, seq_len, embedding_dim]\n",
        "      preds = dpcnn(x)\n",
        "\n",
        "      # compute the validation loss between actual and predicted values\n",
        "      #loss = cross_entropy(preds,labels)\n",
        "\n",
        "      #total_loss = total_loss + loss.item()\n",
        "\n",
        "      preds = preds.detach().cpu()\n",
        "      labels = labels.detach().cpu()\n",
        "\n",
        "      total_preds.append(preds.numpy())\n",
        "      total_targets.append(labels.numpy())\n",
        "  # compute the validation loss of the epoch\n",
        "  #avg_loss = total_loss / len(test_dataloader) \n",
        "\n",
        "  # reshape the predictions in form of (number of samples, no. of classes)\n",
        "  total_preds  = np.concatenate(total_preds, axis=0)\n",
        "  total_targets = np.concatenate(total_targets, axis=0)\n",
        "\n",
        "  return total_preds, total_targets"
      ],
      "outputs": [],
      "metadata": {
        "id": "k4H1U-OH0u4u"
      }
    },
    {
      "cell_type": "code",
      "execution_count": null,
      "source": [
        "test_preds, test_targets = test()\n"
      ],
      "outputs": [],
      "metadata": {
        "colab": {
          "base_uri": "https://localhost:8080/"
        },
        "id": "xDDsaxyPG7QX",
        "outputId": "b2a178ec-a144-4459-c387-646415ff865c"
      }
    },
    {
      "cell_type": "code",
      "execution_count": null,
      "source": [
        "test_preds2 = test_preds.argmax(axis=1)\n",
        "test_preds2.shape"
      ],
      "outputs": [],
      "metadata": {
        "colab": {
          "base_uri": "https://localhost:8080/"
        },
        "id": "UFh3HFWTHaII",
        "outputId": "fbfbf071-934c-424b-c735-8f32a55a671f"
      }
    },
    {
      "cell_type": "code",
      "execution_count": null,
      "source": [
        "test_targets.shape"
      ],
      "outputs": [],
      "metadata": {
        "colab": {
          "base_uri": "https://localhost:8080/"
        },
        "id": "p9D25hbWH3Oe",
        "outputId": "905666e8-614c-4efa-9dfe-c764c9154256"
      }
    },
    {
      "cell_type": "code",
      "execution_count": null,
      "source": [
        "correct = []\n",
        "wrong = []\n",
        "for i,(target,pred) in enumerate(zip(test_targets,test_preds2)):\n",
        "  if target == pred:\n",
        "    correct.append(i)\n",
        "  else:\n",
        "    wrong.append(i)\n"
      ],
      "outputs": [],
      "metadata": {
        "id": "cR2Tk-eXD1u5"
      }
    },
    {
      "cell_type": "code",
      "execution_count": null,
      "source": [
        "print(len(correct))\n",
        "print(len(wrong))\n",
        "print(len(dpcnn.maps))"
      ],
      "outputs": [],
      "metadata": {
        "colab": {
          "base_uri": "https://localhost:8080/"
        },
        "id": "kV2RwZx8FMfx",
        "outputId": "9160d6cc-fd2a-4e06-bf49-eefd3df9d542"
      }
    },
    {
      "cell_type": "code",
      "execution_count": null,
      "source": [
        "dpcnn.maps[0].shape\n"
      ],
      "outputs": [],
      "metadata": {
        "id": "J5fMUV06ArM1",
        "colab": {
          "base_uri": "https://localhost:8080/"
        },
        "outputId": "b6600277-85f2-45fb-ab38-7bb6aa757069"
      }
    },
    {
      "cell_type": "code",
      "execution_count": null,
      "source": [
        "correct[0:5]"
      ],
      "outputs": [],
      "metadata": {
        "colab": {
          "base_uri": "https://localhost:8080/"
        },
        "id": "4Hj5b6zvIRCm",
        "outputId": "0b544c53-5371-47d1-d422-0a5fcdc0518d"
      }
    },
    {
      "cell_type": "code",
      "execution_count": null,
      "source": [
        "wrong"
      ],
      "outputs": [],
      "metadata": {
        "colab": {
          "base_uri": "https://localhost:8080/"
        },
        "id": "eN84eYHrFWWB",
        "outputId": "0613e4a7-3ca5-4b58-c0fd-75824f6be716"
      }
    },
    {
      "cell_type": "code",
      "execution_count": null,
      "source": [
        "df1=test_labels.reset_index()\n",
        "df2=test_text.reset_index()"
      ],
      "outputs": [],
      "metadata": {
        "id": "rjavQrJhKjfU"
      }
    },
    {
      "cell_type": "markdown",
      "source": [
        "Visualization of incorrect prediction with attention map - 1st example"
      ],
      "metadata": {
        "id": "DmoRXCt7SxzN"
      }
    },
    {
      "cell_type": "code",
      "execution_count": null,
      "source": [
        "print(df1['sentiment'][13])\n",
        "print(df2['text'][13])"
      ],
      "outputs": [],
      "metadata": {
        "colab": {
          "base_uri": "https://localhost:8080/"
        },
        "id": "TH0_7dmHLA39",
        "outputId": "a78590e2-06db-4f1a-f348-2b71076246af"
      }
    },
    {
      "cell_type": "code",
      "execution_count": null,
      "source": [
        "maps = dpcnn.maps[0].cpu()\n",
        "map = maps[13,:,:]\n",
        "\n",
        "import matplotlib.pyplot as plt\n",
        "plt.imshow(map)\n",
        "#plt.colorbar()\n",
        "plt.show()"
      ],
      "outputs": [],
      "metadata": {
        "id": "CKmp9DQhFWKN",
        "colab": {
          "base_uri": "https://localhost:8080/",
          "height": 265
        },
        "outputId": "e08849c6-4908-42e8-bc39-796402aafe77"
      }
    },
    {
      "cell_type": "code",
      "execution_count": null,
      "source": [
        "maps = dpcnn.maps[1].cpu()\n",
        "map = maps[13,:,:]\n",
        "\n",
        "import matplotlib.pyplot as plt\n",
        "plt.imshow(map)\n",
        "plt.show()"
      ],
      "outputs": [],
      "metadata": {
        "colab": {
          "base_uri": "https://localhost:8080/",
          "height": 265
        },
        "id": "j8dNSo7Rsw_6",
        "outputId": "8def4bb1-ac6d-41e1-9780-a438e17547b8"
      }
    },
    {
      "cell_type": "code",
      "execution_count": null,
      "source": [
        "maps = dpcnn.maps[2].cpu()\n",
        "map = maps[13,:,:]\n",
        "\n",
        "import matplotlib.pyplot as plt\n",
        "plt.imshow(map)\n",
        "plt.show()"
      ],
      "outputs": [],
      "metadata": {
        "colab": {
          "base_uri": "https://localhost:8080/",
          "height": 269
        },
        "id": "J64NcSn5sw8T",
        "outputId": "56d0111d-53b4-49c1-c2e0-bd76855441cd"
      }
    },
    {
      "cell_type": "code",
      "execution_count": null,
      "source": [
        "maps = dpcnn.maps[3].cpu()\n",
        "map = maps[13,:,:]\n",
        "\n",
        "import matplotlib.pyplot as plt\n",
        "plt.imshow(map)\n",
        "plt.show()"
      ],
      "outputs": [],
      "metadata": {
        "colab": {
          "base_uri": "https://localhost:8080/",
          "height": 269
        },
        "id": "DXbg3jCUsy52",
        "outputId": "60689abe-654c-47d0-bc7f-c7edd3d2d2ae"
      }
    },
    {
      "cell_type": "code",
      "execution_count": null,
      "source": [
        "maps = dpcnn.maps[4].cpu()\n",
        "map = maps[13,:,:]\n",
        "\n",
        "import matplotlib.pyplot as plt\n",
        "plt.imshow(map)\n",
        "plt.colorbar()\n",
        "plt.show()"
      ],
      "outputs": [],
      "metadata": {
        "colab": {
          "base_uri": "https://localhost:8080/",
          "height": 269
        },
        "id": "uulDZk9Eswxz",
        "outputId": "6ccec62a-6eb0-4d28-a351-3d023f380b63"
      }
    },
    {
      "cell_type": "markdown",
      "source": [
        "Visualization of correct prediction with attention map"
      ],
      "metadata": {
        "id": "2qBa07QgSqCH"
      }
    },
    {
      "cell_type": "code",
      "execution_count": null,
      "source": [
        "print(df1['sentiment'][1])\n",
        "print(df2['text'][1])"
      ],
      "outputs": [],
      "metadata": {
        "colab": {
          "base_uri": "https://localhost:8080/"
        },
        "id": "-9LMWodVLiQF",
        "outputId": "ae661029-e98c-4cb5-dc40-816b3951f54c"
      }
    },
    {
      "cell_type": "code",
      "execution_count": null,
      "source": [
        "maps = dpcnn.maps[0].cpu()\n",
        "map = maps[1,:,:]\n",
        "\n",
        "import matplotlib.pyplot as plt\n",
        "plt.imshow(map)\n",
        "plt.show()"
      ],
      "outputs": [],
      "metadata": {
        "colab": {
          "base_uri": "https://localhost:8080/",
          "height": 265
        },
        "id": "eAyEPN1EuGB_",
        "outputId": "ec6b0fb8-9f4d-43cb-ef51-0fa025a99cfc"
      }
    },
    {
      "cell_type": "code",
      "execution_count": null,
      "source": [
        "maps = dpcnn.maps[1].cpu()\n",
        "map = maps[1,:,:]\n",
        "\n",
        "import matplotlib.pyplot as plt\n",
        "plt.imshow(map)\n",
        "plt.show()"
      ],
      "outputs": [],
      "metadata": {
        "colab": {
          "base_uri": "https://localhost:8080/",
          "height": 265
        },
        "id": "944aPf3es-vB",
        "outputId": "260c3c77-4f99-4aef-fd13-dc6a6a4d0769"
      }
    },
    {
      "cell_type": "code",
      "execution_count": null,
      "source": [
        "maps = dpcnn.maps[2].cpu()\n",
        "map = maps[1,:,:]\n",
        "\n",
        "import matplotlib.pyplot as plt\n",
        "plt.imshow(map)\n",
        "plt.show()"
      ],
      "outputs": [],
      "metadata": {
        "colab": {
          "base_uri": "https://localhost:8080/",
          "height": 269
        },
        "id": "ndseMpEfs-ro",
        "outputId": "8c6ca4fd-0d53-48d9-8a8d-2ab14f0acdde"
      }
    },
    {
      "cell_type": "code",
      "execution_count": null,
      "source": [
        "maps = dpcnn.maps[3].cpu()\n",
        "map = maps[1,:,:]\n",
        "\n",
        "import matplotlib.pyplot as plt\n",
        "plt.imshow(map)\n",
        "plt.show()"
      ],
      "outputs": [],
      "metadata": {
        "colab": {
          "base_uri": "https://localhost:8080/",
          "height": 269
        },
        "id": "PJ_-Ah-ss-pX",
        "outputId": "3111b84c-4877-4626-994d-ed4a73abcefd"
      }
    },
    {
      "cell_type": "code",
      "execution_count": null,
      "source": [
        "maps = dpcnn.maps[4].cpu()\n",
        "map = maps[1,:,:]\n",
        "\n",
        "import matplotlib.pyplot as plt\n",
        "plt.imshow(map)\n",
        "plt.colorbar()\n",
        "plt.show()"
      ],
      "outputs": [],
      "metadata": {
        "colab": {
          "base_uri": "https://localhost:8080/",
          "height": 269
        },
        "id": "N4waRhAfs-m0",
        "outputId": "632cad89-30f8-4797-a1dd-642305d95b17"
      }
    },
    {
      "cell_type": "code",
      "execution_count": null,
      "source": [],
      "outputs": [],
      "metadata": {
        "id": "nupxDcukRNEe"
      }
    }
  ]
}